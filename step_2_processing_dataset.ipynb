{
 "cells": [
  {
   "cell_type": "markdown",
   "metadata": {},
   "source": [
    "# setup"
   ]
  },
  {
   "cell_type": "code",
   "execution_count": 1,
   "metadata": {},
   "outputs": [],
   "source": [
    "import os\n",
    "import time\n",
    "import pandas as pd"
   ]
  },
  {
   "cell_type": "code",
   "execution_count": null,
   "metadata": {},
   "outputs": [],
   "source": [
    "START_TIME = time.time()\n",
    "\n",
    "BASE_URL = \"https://datasets.imdbws.com/\"\n",
    "\n",
    "FILES_IMDB = {\n",
    "    \"tit_bas\": \"title.basics.tsv\",\n",
    "    \"tit_rate\": \"title.ratings.tsv\",\n",
    "    \"name_bas\": \"name.basics.tsv\",\n",
    "    \"cast_crew\": \"title.principals.tsv\",\n",
    "}\n",
    "\n",
    "FILES_HAND = {\n",
    "    \"add_seen\": \"add_movies_seen.txt\",\n",
    "    \"add_unseen\": \"add_movies_unseen.txt\",\n",
    "    \"add_secop\": \"add_movies_second_opinion.txt\",\n",
    "    \"raw_status\": \"raw_status.xlsx\"\n",
    "}\n",
    "\n",
    "FILES_GENERATED = {\n",
    "    \"films_raw\": os.path.join(\"data\", \"generated\", \"films_raw.pkl\")\n",
    "}"
   ]
  },
  {
   "attachments": {},
   "cell_type": "markdown",
   "metadata": {},
   "source": [
    "## Get film data"
   ]
  },
  {
   "cell_type": "code",
   "execution_count": null,
   "metadata": {},
   "outputs": [],
   "source": [
    "raw_film_data = pd.read_pickle(FILES_GENERATED[\"films_raw\"])\n",
    "\n",
    "#view DataFrame\n",
    "print(raw_film_data)"
   ]
  }
 ],
 "metadata": {
  "kernelspec": {
   "display_name": "ML",
   "language": "python",
   "name": "python3"
  },
  "language_info": {
   "codemirror_mode": {
    "name": "ipython",
    "version": 3
   },
   "file_extension": ".py",
   "mimetype": "text/x-python",
   "name": "python",
   "nbconvert_exporter": "python",
   "pygments_lexer": "ipython3",
   "version": "3.10.6"
  },
  "orig_nbformat": 4,
  "vscode": {
   "interpreter": {
    "hash": "c39b4c85bc2d9a02d0946a1a847d4c6ff09d2707df1e17d9736f60b3fc78dc0f"
   }
  }
 },
 "nbformat": 4,
 "nbformat_minor": 2
}

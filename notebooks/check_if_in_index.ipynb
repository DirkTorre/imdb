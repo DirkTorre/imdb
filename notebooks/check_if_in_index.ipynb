{
 "cells": [
  {
   "cell_type": "code",
   "execution_count": 2,
   "metadata": {},
   "outputs": [],
   "source": [
    "import pandas as pd"
   ]
  },
  {
   "cell_type": "code",
   "execution_count": 3,
   "metadata": {},
   "outputs": [],
   "source": [
    "file_path = '/media/user/files/code/imdb/data/downloads/title.ratings.tsv.gz'\n",
    "dtypes = {\"averageRating\": pd.Float32Dtype(), \"numVotes\": pd.Int32Dtype()}\n",
    "\n",
    "title_ratings = pd.read_csv(\n",
    "        file_path,\n",
    "        sep=\"\\t\",\n",
    "        quotechar=\"\\t\",\n",
    "        low_memory=False,\n",
    "        dtype_backend=\"pyarrow\",\n",
    "        index_col=\"tconst\",\n",
    "        dtype=dtypes,\n",
    "        na_values=\"\\\\N\",\n",
    "    )"
   ]
  },
  {
   "cell_type": "code",
   "execution_count": null,
   "metadata": {},
   "outputs": [
    {
     "data": {
      "text/plain": [
       "{'tt10057012'}"
      ]
     },
     "execution_count": 34,
     "metadata": {},
     "output_type": "execute_result"
    }
   ],
   "source": [
    "index = pd.Index(['tt0120737', 'tt0057012', \"tt10057012\"], dtype='string[pyarrow]', name='tconst')\n",
    "\n",
    "index_indices = set(index)\n",
    "title_ratings_indices = set(title_ratings.index)\n",
    "\n",
    "# get indices that are missing\n",
    "not_in_title_ratings = index_indices.difference(title_ratings_indices)\n",
    "\n",
    "# get dataframe subset with indices that exist\n",
    "index_indices -= not_in_title_ratings\n",
    "title_ratings_subset = title_ratings.loc[list(index_indices)]\n"
   ]
  },
  {
   "cell_type": "code",
   "execution_count": 29,
   "metadata": {},
   "outputs": [
    {
     "data": {
      "text/plain": [
       "{'b'}"
      ]
     },
     "execution_count": 29,
     "metadata": {},
     "output_type": "execute_result"
    }
   ],
   "source": [
    "{\"a\",\"b\",\"c\"} - {\"a\",\"c\"}"
   ]
  }
 ],
 "metadata": {
  "kernelspec": {
   "display_name": ".venv",
   "language": "python",
   "name": "python3"
  },
  "language_info": {
   "codemirror_mode": {
    "name": "ipython",
    "version": 3
   },
   "file_extension": ".py",
   "mimetype": "text/x-python",
   "name": "python",
   "nbconvert_exporter": "python",
   "pygments_lexer": "ipython3",
   "version": "3.12.9"
  }
 },
 "nbformat": 4,
 "nbformat_minor": 2
}

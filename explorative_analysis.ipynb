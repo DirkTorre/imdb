{
 "cells": [
  {
   "cell_type": "code",
   "execution_count": 1,
   "metadata": {},
   "outputs": [],
   "source": [
    "import os\n",
    "import sys\n",
    "import time\n",
    "import numpy as np\n",
    "import pandas as pd\n",
    "from datetime import date\n",
    "from datetime import timedelta\n",
    "import matplotlib.pyplot as plt\n",
    "import seaborn as sns"
   ]
  },
  {
   "cell_type": "code",
   "execution_count": 2,
   "metadata": {
    "tags": [
     "parameters"
    ]
   },
   "outputs": [],
   "source": [
    "PARQ_PATH = \"data/imdb/parquet/\"\n",
    "\n",
    "FILES_IMDB_PARQ = {\n",
    "    \"tit_bas\" : \"title_basics.parquet\",\n",
    "    \"genres\" : \"genres.parquet\",\n",
    "    \"tit_rate\" : \"title_ratings.parquet\",\n",
    "    'directors' : 'directors.parquet',\n",
    "    'writers' : 'writers.parquet',\n",
    "    'prim_prof' : 'primary_profession.parquet',\n",
    "    'known_for' : 'known_for_titles.parquet',\n",
    "    'name_bas' : 'name_basics.parquet',\n",
    "    'const' : 'ids.parquet',\n",
    "    'ordering' : 'ordering.parquet',\n",
    "    'character' : 'character.parquet',\n",
    "    'job' : 'job.parquet',\n",
    "}\n",
    "\n",
    "FILES_HAND = {\n",
    "    \"add_seen\": \"add_movies_seen.txt\", # old\n",
    "    \"add_unseen\": \"add_movies_unseen.txt\", # old\n",
    "    \"add_secop\": \"add_movies_second_opinion.txt\", # old\n",
    "    \"raw_status\": \"raw_status.xlsx\",\n",
    "    \"to_add\" : \"to_add.xlsx\"\n",
    "}\n",
    "\n",
    "FILES_GENERATED = {\n",
    "    \"films_raw\": \"films_raw.pkl\",\n",
    "    \"films_reading\": \"films_reading.xlsx\"\n",
    "}"
   ]
  },
  {
   "attachments": {},
   "cell_type": "markdown",
   "metadata": {},
   "source": [
    "# Training set"
   ]
  },
  {
   "attachments": {},
   "cell_type": "markdown",
   "metadata": {},
   "source": [
    "We will take the training set and look at how we will clean it.\n",
    "Then we will look at the test set"
   ]
  },
  {
   "cell_type": "code",
   "execution_count": 3,
   "metadata": {},
   "outputs": [],
   "source": [
    "def setAttr(frame):\n",
    "    # setting column types\n",
    "    frame['watched_date'] = pd.to_datetime(frame['watched_date'])\n",
    "    frame['enjoyment'] = frame['enjoyment'].astype(float)\n",
    "    frame['watched'] = frame['watched'].astype(\"Int64\").replace(0,np.nan)\n",
    "    frame[['netflix','prime','priority']] = frame[['netflix','prime','priority']].astype(\"Int64\")\n",
    "    frame = frame.drop_duplicates()\n",
    "    return frame\n",
    "\n",
    "# loading and preparing film list\n",
    "raw_stat_link = os.path.join(\"data\", \"handcrafted\", FILES_HAND[\"raw_status\"])\n",
    "raw_stat = pd.read_excel(raw_stat_link)\n",
    "raw_stat = setAttr(raw_stat)\n",
    "raw_stat = raw_stat.set_index(\"tconst\")"
   ]
  },
  {
   "cell_type": "code",
   "execution_count": 4,
   "metadata": {},
   "outputs": [],
   "source": [
    "# get constants\n",
    "const_url = os.path.join(PARQ_PATH, FILES_IMDB_PARQ[\"const\"])\n",
    "const = pd.read_parquet(const_url)\n",
    "\n",
    "# get id's of personal scores\n",
    "enjoyment = scores = raw_stat[~raw_stat['enjoyment'].isna()]['enjoyment']\n",
    "intids = const[const.index.isin(enjoyment.index)][\"intid\"]\n",
    "enjoyment = pd.merge(intids, enjoyment, left_index=True, right_index=True, how=\"inner\")"
   ]
  },
  {
   "cell_type": "code",
   "execution_count": 5,
   "metadata": {},
   "outputs": [],
   "source": [
    "del const\n",
    "del raw_stat"
   ]
  },
  {
   "attachments": {},
   "cell_type": "markdown",
   "metadata": {},
   "source": [
    "# 1) title basics"
   ]
  },
  {
   "cell_type": "code",
   "execution_count": 5,
   "metadata": {},
   "outputs": [],
   "source": [
    "# get title basics\n",
    "tit_bas_url = os.path.join(PARQ_PATH, FILES_IMDB_PARQ[\"tit_bas\"])\n",
    "tit_bas = pd.read_parquet(tit_bas_url)\n",
    "\n",
    "# filter\n",
    "enjoyment_tit_bas = tit_bas[tit_bas.index.isin(enjoyment['intid'])]"
   ]
  },
  {
   "cell_type": "code",
   "execution_count": 6,
   "metadata": {},
   "outputs": [
    {
     "data": {
      "text/plain": [
       "titleType           0\n",
       "primaryTitle        0\n",
       "originalTitle       0\n",
       "isAdult             0\n",
       "startYear           0\n",
       "endYear           214\n",
       "runtimeMinutes      1\n",
       "dtype: int64"
      ]
     },
     "execution_count": 6,
     "metadata": {},
     "output_type": "execute_result"
    }
   ],
   "source": [
    "enjoyment_tit_bas.isna().sum()"
   ]
  },
  {
   "attachments": {},
   "cell_type": "markdown",
   "metadata": {},
   "source": [
    "the endYear column can be removed."
   ]
  },
  {
   "attachments": {},
   "cell_type": "markdown",
   "metadata": {},
   "source": [
    "## 1.1) titleType"
   ]
  },
  {
   "cell_type": "code",
   "execution_count": 7,
   "metadata": {},
   "outputs": [
    {
     "data": {
      "text/plain": [
       "<AxesSubplot:>"
      ]
     },
     "execution_count": 7,
     "metadata": {},
     "output_type": "execute_result"
    },
    {
     "data": {
      "image/png": "[encoded data removed]",
      "text/plain": [
       "<Figure size 640x480 with 1 Axes>"
      ]
     },
     "metadata": {},
     "output_type": "display_data"
    }
   ],
   "source": [
    "enjoyment_tit_bas['titleType'].value_counts().plot.bar()"
   ]
  },
  {
   "attachments": {},
   "cell_type": "markdown",
   "metadata": {},
   "source": [
    "TitleType doesn't realy matter, but that's mostly bias because i didn't put tv shows in the dataset. But I also don't really care about the type of media. I will remove it and can always filter results later."
   ]
  },
  {
   "attachments": {},
   "cell_type": "markdown",
   "metadata": {},
   "source": [
    "## 1.2) PrimaryTitle and originalTitle\n",
    "we will just drop these columns, because they are way too annoying to analyze."
   ]
  },
  {
   "attachments": {},
   "cell_type": "markdown",
   "metadata": {},
   "source": [
    "## 1.3) isAdult\n",
    "I will remove every media that is adult, i'm not interested in this."
   ]
  },
  {
   "cell_type": "code",
   "execution_count": 8,
   "metadata": {},
   "outputs": [
    {
     "data": {
      "text/html": [
       "<div>\n",
       "<style scoped>\n",
       "    .dataframe tbody tr th:only-of-type {\n",
       "        vertical-align: middle;\n",
       "    }\n",
       "\n",
       "    .dataframe tbody tr th {\n",
       "        vertical-align: top;\n",
       "    }\n",
       "\n",
       "    .dataframe thead th {\n",
       "        text-align: right;\n",
       "    }\n",
       "</style>\n",
       "<table border=\"1\" class=\"dataframe\">\n",
       "  <thead>\n",
       "    <tr style=\"text-align: right;\">\n",
       "      <th></th>\n",
       "      <th>titleType</th>\n",
       "      <th>primaryTitle</th>\n",
       "      <th>originalTitle</th>\n",
       "      <th>isAdult</th>\n",
       "      <th>startYear</th>\n",
       "      <th>endYear</th>\n",
       "      <th>runtimeMinutes</th>\n",
       "    </tr>\n",
       "    <tr>\n",
       "      <th>tconst</th>\n",
       "      <th></th>\n",
       "      <th></th>\n",
       "      <th></th>\n",
       "      <th></th>\n",
       "      <th></th>\n",
       "      <th></th>\n",
       "      <th></th>\n",
       "    </tr>\n",
       "  </thead>\n",
       "  <tbody>\n",
       "  </tbody>\n",
       "</table>\n",
       "</div>"
      ],
      "text/plain": [
       "Empty DataFrame\n",
       "Columns: [titleType, primaryTitle, originalTitle, isAdult, startYear, endYear, runtimeMinutes]\n",
       "Index: []"
      ]
     },
     "execution_count": 8,
     "metadata": {},
     "output_type": "execute_result"
    }
   ],
   "source": [
    "enjoyment_tit_bas[enjoyment_tit_bas['isAdult']]"
   ]
  },
  {
   "attachments": {},
   "cell_type": "markdown",
   "metadata": {},
   "source": [
    "## 1.4) startyear and endyear"
   ]
  },
  {
   "cell_type": "code",
   "execution_count": 9,
   "metadata": {},
   "outputs": [
    {
     "data": {
      "text/plain": [
       "<AxesSubplot:ylabel='Frequency'>"
      ]
     },
     "execution_count": 9,
     "metadata": {},
     "output_type": "execute_result"
    },
    {
     "data": {
      "image/png": "[encoded data removed]",
      "text/plain": [
       "<Figure size 640x480 with 1 Axes>"
      ]
     },
     "metadata": {},
     "output_type": "display_data"
    }
   ],
   "source": [
    "enjoyment_tit_bas[['startYear','endYear']].plot.hist()"
   ]
  },
  {
   "attachments": {},
   "cell_type": "markdown",
   "metadata": {},
   "source": [
    "## 1.6) runtimeMinutes"
   ]
  },
  {
   "cell_type": "code",
   "execution_count": 10,
   "metadata": {},
   "outputs": [
    {
     "data": {
      "text/plain": [
       "<AxesSubplot:ylabel='Frequency'>"
      ]
     },
     "execution_count": 10,
     "metadata": {},
     "output_type": "execute_result"
    },
    {
     "data": {
      "image/png": "[encoded data removed]",
      "text/plain": [
       "<Figure size 640x480 with 1 Axes>"
      ]
     },
     "metadata": {},
     "output_type": "display_data"
    }
   ],
   "source": [
    "enjoyment_tit_bas['runtimeMinutes'].plot.hist(bins=20)"
   ]
  },
  {
   "attachments": {},
   "cell_type": "markdown",
   "metadata": {},
   "source": [
    "this looks like a poisson distribution, but could also be two distributions mixed together. I also have a feeling this correlates with genre or startYear."
   ]
  },
  {
   "attachments": {},
   "cell_type": "markdown",
   "metadata": {},
   "source": [
    "# 2) genres"
   ]
  },
  {
   "cell_type": "code",
   "execution_count": 16,
   "metadata": {},
   "outputs": [],
   "source": [
    "# get genres data\n",
    "genres_url = os.path.join(PARQ_PATH, FILES_IMDB_PARQ[\"genres\"])\n",
    "genres = pd.read_parquet(genres_url)\n",
    "\n",
    "# # filter\n",
    "genres_watched = genres[genres.index.isin(enjoyment['intid'])]"
   ]
  },
  {
   "cell_type": "code",
   "execution_count": 22,
   "metadata": {},
   "outputs": [
    {
     "data": {
      "text/plain": [
       "<AxesSubplot:xlabel='genre'>"
      ]
     },
     "execution_count": 22,
     "metadata": {},
     "output_type": "execute_result"
    },
    {
     "data": {
      "image/png": "[encoded data removed]",
      "text/plain": [
       "<Figure size 640x480 with 1 Axes>"
      ]
     },
     "metadata": {},
     "output_type": "display_data"
    }
   ],
   "source": [
    "genres_watched.value_counts().plot.bar()"
   ]
  },
  {
   "attachments": {},
   "cell_type": "markdown",
   "metadata": {},
   "source": [
    "* maybe remove all genres with less counts than animation."
   ]
  },
  {
   "attachments": {},
   "cell_type": "markdown",
   "metadata": {},
   "source": [
    "## 3) title rate"
   ]
  },
  {
   "cell_type": "code",
   "execution_count": 36,
   "metadata": {},
   "outputs": [
    {
     "data": {
      "text/plain": [
       "<AxesSubplot:>"
      ]
     },
     "execution_count": 36,
     "metadata": {},
     "output_type": "execute_result"
    },
    {
     "data": {
      "image/png": "[encoded data removed]",
      "text/plain": [
       "<Figure size 640x480 with 1 Axes>"
      ]
     },
     "metadata": {},
     "output_type": "display_data"
    }
   ],
   "source": [
    "# get title rate data\n",
    "tit_rate_url = os.path.join(PARQ_PATH, FILES_IMDB_PARQ[\"tit_rate\"])\n",
    "tit_rate = pd.read_parquet(tit_rate_url)\n",
    "\n",
    "# filter\n",
    "tit_rate_watched = tit_rate[tit_rate.index.isin(enjoyment['intid'])]\n",
    "\n",
    "# plot\n",
    "tit_rate_watched['averageRating'].plot.box()"
   ]
  },
  {
   "cell_type": "code",
   "execution_count": 35,
   "metadata": {},
   "outputs": [
    {
     "data": {
      "text/plain": [
       "<AxesSubplot:>"
      ]
     },
     "execution_count": 35,
     "metadata": {},
     "output_type": "execute_result"
    },
    {
     "data": {
      "image/png": "[encoded data removed]",
      "text/plain": [
       "<Figure size 640x480 with 1 Axes>"
      ]
     },
     "metadata": {},
     "output_type": "display_data"
    }
   ],
   "source": [
    "tit_rate_watched['numVotes'].plot.box()"
   ]
  },
  {
   "attachments": {},
   "cell_type": "markdown",
   "metadata": {},
   "source": [
    "## 4) Directors"
   ]
  },
  {
   "cell_type": "code",
   "execution_count": 73,
   "metadata": {},
   "outputs": [
    {
     "data": {
      "text/plain": [
       "0    749919\n",
       "1       162\n",
       "2        16\n",
       "3         8\n",
       "4         5\n",
       "Name: directors, dtype: int64"
      ]
     },
     "execution_count": 73,
     "metadata": {},
     "output_type": "execute_result"
    }
   ],
   "source": [
    "# get title rate data\n",
    "directors_url = os.path.join(PARQ_PATH, FILES_IMDB_PARQ[\"directors\"])\n",
    "directors = pd.read_parquet(directors_url)\n",
    "\n",
    "# convert\n",
    "directors = directors.astype('category')\n",
    "\n",
    "# count\n",
    "list_directors = directors[directors.index.isin(enjoyment['intid'])]\n",
    "counts = list_directors['directors'].value_counts()\n",
    "counts.value_counts()"
   ]
  },
  {
   "attachments": {},
   "cell_type": "markdown",
   "metadata": {},
   "source": [
    "There aren't that many directors that occur multiple times, so we just take all directors."
   ]
  },
  {
   "attachments": {},
   "cell_type": "markdown",
   "metadata": {},
   "source": [
    "## 5) Writers"
   ]
  },
  {
   "cell_type": "code",
   "execution_count": 85,
   "metadata": {},
   "outputs": [
    {
     "data": {
      "text/plain": [
       "0    956358\n",
       "1       412\n",
       "2        61\n",
       "3        11\n",
       "4         8\n",
       "6         2\n",
       "Name: writers, dtype: int64"
      ]
     },
     "execution_count": 85,
     "metadata": {},
     "output_type": "execute_result"
    }
   ],
   "source": [
    "# get title rate data\n",
    "writers_url = os.path.join(PARQ_PATH, FILES_IMDB_PARQ[\"writers\"])\n",
    "writers = pd.read_parquet(writers_url)\n",
    "\n",
    "# convert\n",
    "writers = writers.astype('category')\n",
    "\n",
    "# count\n",
    "list_writers = writers[writers.index.isin(enjoyment['intid'])]\n",
    "counts = list_writers['writers'].value_counts()\n",
    "counts.value_counts()"
   ]
  },
  {
   "attachments": {},
   "cell_type": "markdown",
   "metadata": {},
   "source": [
    "again, we take all writers"
   ]
  },
  {
   "attachments": {},
   "cell_type": "markdown",
   "metadata": {},
   "source": [
    "## 6) ordering"
   ]
  },
  {
   "cell_type": "code",
   "execution_count": 8,
   "metadata": {},
   "outputs": [],
   "source": [
    "# get oredering data\n",
    "ordering_url = os.path.join(PARQ_PATH, FILES_IMDB_PARQ[\"ordering\"])\n",
    "ordering = pd.read_parquet(ordering_url)\n",
    "\n",
    "list_ordering = ordering[ordering.index.isin(enjoyment['intid'])]"
   ]
  },
  {
   "cell_type": "code",
   "execution_count": 19,
   "metadata": {},
   "outputs": [
    {
     "data": {
      "text/plain": [
       "<AxesSubplot:>"
      ]
     },
     "execution_count": 19,
     "metadata": {},
     "output_type": "execute_result"
    },
    {
     "data": {
      "image/png": "[encoded data removed]",
      "text/plain": [
       "<Figure size 640x480 with 1 Axes>"
      ]
     },
     "metadata": {},
     "output_type": "display_data"
    }
   ],
   "source": [
    "list_ordering.category.value_counts().plot()"
   ]
  },
  {
   "attachments": {},
   "cell_type": "markdown",
   "metadata": {},
   "source": [
    "let's remove everything with less occurances than director"
   ]
  },
  {
   "cell_type": "code",
   "execution_count": 20,
   "metadata": {},
   "outputs": [
    {
     "data": {
      "text/plain": [
       "actor                  604\n",
       "producer               411\n",
       "writer                 393\n",
       "actress                248\n",
       "director               226\n",
       "composer               114\n",
       "cinematographer         80\n",
       "editor                  44\n",
       "production_designer     13\n",
       "self                    12\n",
       "archive_footage          0\n",
       "archive_sound            0\n",
       "Name: category, dtype: int64"
      ]
     },
     "execution_count": 20,
     "metadata": {},
     "output_type": "execute_result"
    }
   ],
   "source": [
    "list_ordering.category.value_counts()"
   ]
  },
  {
   "attachments": {},
   "cell_type": "markdown",
   "metadata": {},
   "source": [
    "Keep: actor, producer, writer, actress, director"
   ]
  },
  {
   "attachments": {},
   "cell_type": "markdown",
   "metadata": {},
   "source": [
    "Let's see what are the top 3 categories, accoriding to the ordering."
   ]
  },
  {
   "cell_type": "code",
   "execution_count": 25,
   "metadata": {},
   "outputs": [
    {
     "data": {
      "text/plain": [
       "actor                  445\n",
       "actress                191\n",
       "self                     9\n",
       "archive_footage          0\n",
       "archive_sound            0\n",
       "cinematographer          0\n",
       "composer                 0\n",
       "director                 0\n",
       "editor                   0\n",
       "producer                 0\n",
       "production_designer      0\n",
       "writer                   0\n",
       "Name: category, dtype: int64"
      ]
     },
     "execution_count": 25,
     "metadata": {},
     "output_type": "execute_result"
    }
   ],
   "source": [
    "list_ordering[list_ordering.ordering < 4].category.value_counts()"
   ]
  },
  {
   "attachments": {},
   "cell_type": "markdown",
   "metadata": {},
   "source": [
    "So it's mostly about the actors and actresses.\n",
    "We could give all the actors and actresses a score an basis of the ordering."
   ]
  },
  {
   "attachments": {},
   "cell_type": "markdown",
   "metadata": {},
   "source": [
    "Who appear the most?"
   ]
  },
  {
   "cell_type": "code",
   "execution_count": 28,
   "metadata": {},
   "outputs": [
    {
     "data": {
      "text/plain": [
       "206        12\n",
       "5351        8\n",
       "748784      6\n",
       "1116660     6\n",
       "1165110     6\n",
       "           ..\n",
       "2538611     1\n",
       "8752173     1\n",
       "9827373     1\n",
       "1443502     1\n",
       "1928263     1\n",
       "Name: nconst, Length: 1740, dtype: Int64"
      ]
     },
     "execution_count": 28,
     "metadata": {},
     "output_type": "execute_result"
    }
   ],
   "source": [
    "list_ordering['nconst'].value_counts()"
   ]
  },
  {
   "cell_type": "code",
   "execution_count": 31,
   "metadata": {},
   "outputs": [
    {
     "data": {
      "text/plain": [
       "primaryName    Keanu Reeves\n",
       "birthYear              1964\n",
       "deathYear              <NA>\n",
       "Name: 206, dtype: object"
      ]
     },
     "execution_count": 31,
     "metadata": {},
     "output_type": "execute_result"
    }
   ],
   "source": [
    "# get name basics data\n",
    "name_bas_url = os.path.join(PARQ_PATH, FILES_IMDB_PARQ[\"name_bas\"])\n",
    "name_bas = pd.read_parquet(name_bas_url)\n",
    "\n",
    "name_bas.loc[206]"
   ]
  },
  {
   "attachments": {},
   "cell_type": "markdown",
   "metadata": {},
   "source": [
    "that explains a lot"
   ]
  },
  {
   "cell_type": "code",
   "execution_count": 37,
   "metadata": {},
   "outputs": [
    {
     "data": {
      "text/html": [
       "<div>\n",
       "<style scoped>\n",
       "    .dataframe tbody tr th:only-of-type {\n",
       "        vertical-align: middle;\n",
       "    }\n",
       "\n",
       "    .dataframe tbody tr th {\n",
       "        vertical-align: top;\n",
       "    }\n",
       "\n",
       "    .dataframe thead th {\n",
       "        text-align: right;\n",
       "    }\n",
       "</style>\n",
       "<table border=\"1\" class=\"dataframe\">\n",
       "  <thead>\n",
       "    <tr style=\"text-align: right;\">\n",
       "      <th></th>\n",
       "      <th>primaryName</th>\n",
       "      <th>birthYear</th>\n",
       "      <th>deathYear</th>\n",
       "    </tr>\n",
       "    <tr>\n",
       "      <th>nconst</th>\n",
       "      <th></th>\n",
       "      <th></th>\n",
       "      <th></th>\n",
       "    </tr>\n",
       "  </thead>\n",
       "  <tbody>\n",
       "    <tr>\n",
       "      <th>168</th>\n",
       "      <td>Samuel L. Jackson</td>\n",
       "      <td>1948</td>\n",
       "      <td>&lt;NA&gt;</td>\n",
       "    </tr>\n",
       "    <tr>\n",
       "      <th>206</th>\n",
       "      <td>Keanu Reeves</td>\n",
       "      <td>1964</td>\n",
       "      <td>&lt;NA&gt;</td>\n",
       "    </tr>\n",
       "    <tr>\n",
       "      <th>437</th>\n",
       "      <td>Woody Harrelson</td>\n",
       "      <td>1961</td>\n",
       "      <td>&lt;NA&gt;</td>\n",
       "    </tr>\n",
       "    <tr>\n",
       "      <th>5351</th>\n",
       "      <td>Ryan Reynolds</td>\n",
       "      <td>1976</td>\n",
       "      <td>&lt;NA&gt;</td>\n",
       "    </tr>\n",
       "    <tr>\n",
       "      <th>412588</th>\n",
       "      <td>Basil Iwanyk</td>\n",
       "      <td>1970</td>\n",
       "      <td>&lt;NA&gt;</td>\n",
       "    </tr>\n",
       "    <tr>\n",
       "      <th>748784</th>\n",
       "      <td>Scott Rudin</td>\n",
       "      <td>1958</td>\n",
       "      <td>&lt;NA&gt;</td>\n",
       "    </tr>\n",
       "    <tr>\n",
       "      <th>1014201</th>\n",
       "      <td>Rhett Reese</td>\n",
       "      <td>&lt;NA&gt;</td>\n",
       "      <td>&lt;NA&gt;</td>\n",
       "    </tr>\n",
       "    <tr>\n",
       "      <th>1116660</th>\n",
       "      <td>Paul Wernick</td>\n",
       "      <td>&lt;NA&gt;</td>\n",
       "      <td>&lt;NA&gt;</td>\n",
       "    </tr>\n",
       "    <tr>\n",
       "      <th>1165110</th>\n",
       "      <td>Chris Hemsworth</td>\n",
       "      <td>1983</td>\n",
       "      <td>&lt;NA&gt;</td>\n",
       "    </tr>\n",
       "  </tbody>\n",
       "</table>\n",
       "</div>"
      ],
      "text/plain": [
       "               primaryName  birthYear  deathYear\n",
       "nconst                                          \n",
       "168      Samuel L. Jackson       1948       <NA>\n",
       "206           Keanu Reeves       1964       <NA>\n",
       "437        Woody Harrelson       1961       <NA>\n",
       "5351         Ryan Reynolds       1976       <NA>\n",
       "412588        Basil Iwanyk       1970       <NA>\n",
       "748784         Scott Rudin       1958       <NA>\n",
       "1014201        Rhett Reese       <NA>       <NA>\n",
       "1116660       Paul Wernick       <NA>       <NA>\n",
       "1165110    Chris Hemsworth       1983       <NA>"
      ]
     },
     "execution_count": 37,
     "metadata": {},
     "output_type": "execute_result"
    }
   ],
   "source": [
    "counts = list_ordering['nconst'].value_counts()\n",
    "name_bas[name_bas.index.isin(counts[counts > 5].index)]"
   ]
  },
  {
   "cell_type": "code",
   "execution_count": 40,
   "metadata": {},
   "outputs": [
    {
     "data": {
      "text/plain": [
       "1     1477\n",
       "2      177\n",
       "3       59\n",
       "4       15\n",
       "6        7\n",
       "5        3\n",
       "12       1\n",
       "8        1\n",
       "Name: nconst, dtype: Int64"
      ]
     },
     "execution_count": 40,
     "metadata": {},
     "output_type": "execute_result"
    }
   ],
   "source": [
    "list_ordering['nconst'].value_counts().value_counts()"
   ]
  },
  {
   "cell_type": "code",
   "execution_count": 41,
   "metadata": {},
   "outputs": [
    {
     "data": {
      "text/html": [
       "<div>\n",
       "<style scoped>\n",
       "    .dataframe tbody tr th:only-of-type {\n",
       "        vertical-align: middle;\n",
       "    }\n",
       "\n",
       "    .dataframe tbody tr th {\n",
       "        vertical-align: top;\n",
       "    }\n",
       "\n",
       "    .dataframe thead th {\n",
       "        text-align: right;\n",
       "    }\n",
       "</style>\n",
       "<table border=\"1\" class=\"dataframe\">\n",
       "  <thead>\n",
       "    <tr style=\"text-align: right;\">\n",
       "      <th></th>\n",
       "      <th>nconst</th>\n",
       "      <th>ordering</th>\n",
       "      <th>category</th>\n",
       "    </tr>\n",
       "    <tr>\n",
       "      <th>tconst</th>\n",
       "      <th></th>\n",
       "      <th></th>\n",
       "      <th></th>\n",
       "    </tr>\n",
       "  </thead>\n",
       "  <tbody>\n",
       "    <tr>\n",
       "      <th>1</th>\n",
       "      <td>1588970</td>\n",
       "      <td>1</td>\n",
       "      <td>self</td>\n",
       "    </tr>\n",
       "    <tr>\n",
       "      <th>1</th>\n",
       "      <td>5690</td>\n",
       "      <td>2</td>\n",
       "      <td>director</td>\n",
       "    </tr>\n",
       "    <tr>\n",
       "      <th>1</th>\n",
       "      <td>374658</td>\n",
       "      <td>3</td>\n",
       "      <td>cinematographer</td>\n",
       "    </tr>\n",
       "    <tr>\n",
       "      <th>2</th>\n",
       "      <td>721526</td>\n",
       "      <td>1</td>\n",
       "      <td>director</td>\n",
       "    </tr>\n",
       "    <tr>\n",
       "      <th>2</th>\n",
       "      <td>1335271</td>\n",
       "      <td>2</td>\n",
       "      <td>composer</td>\n",
       "    </tr>\n",
       "    <tr>\n",
       "      <th>...</th>\n",
       "      <td>...</td>\n",
       "      <td>...</td>\n",
       "      <td>...</td>\n",
       "    </tr>\n",
       "    <tr>\n",
       "      <th>9916880</th>\n",
       "      <td>996406</td>\n",
       "      <td>5</td>\n",
       "      <td>director</td>\n",
       "    </tr>\n",
       "    <tr>\n",
       "      <th>9916880</th>\n",
       "      <td>584014</td>\n",
       "      <td>6</td>\n",
       "      <td>director</td>\n",
       "    </tr>\n",
       "    <tr>\n",
       "      <th>9916880</th>\n",
       "      <td>1482639</td>\n",
       "      <td>7</td>\n",
       "      <td>writer</td>\n",
       "    </tr>\n",
       "    <tr>\n",
       "      <th>9916880</th>\n",
       "      <td>2586970</td>\n",
       "      <td>8</td>\n",
       "      <td>writer</td>\n",
       "    </tr>\n",
       "    <tr>\n",
       "      <th>9916880</th>\n",
       "      <td>1594058</td>\n",
       "      <td>9</td>\n",
       "      <td>producer</td>\n",
       "    </tr>\n",
       "  </tbody>\n",
       "</table>\n",
       "<p>56202141 rows × 3 columns</p>\n",
       "</div>"
      ],
      "text/plain": [
       "          nconst  ordering         category\n",
       "tconst                                     \n",
       "1        1588970         1             self\n",
       "1           5690         2         director\n",
       "1         374658         3  cinematographer\n",
       "2         721526         1         director\n",
       "2        1335271         2         composer\n",
       "...          ...       ...              ...\n",
       "9916880   996406         5         director\n",
       "9916880   584014         6         director\n",
       "9916880  1482639         7           writer\n",
       "9916880  2586970         8           writer\n",
       "9916880  1594058         9         producer\n",
       "\n",
       "[56202141 rows x 3 columns]"
      ]
     },
     "execution_count": 41,
     "metadata": {},
     "output_type": "execute_result"
    }
   ],
   "source": [
    "ordering"
   ]
  },
  {
   "attachments": {},
   "cell_type": "markdown",
   "metadata": {},
   "source": [
    "## 7) name basics"
   ]
  },
  {
   "cell_type": "code",
   "execution_count": 6,
   "metadata": {},
   "outputs": [],
   "source": [
    "# load names and birth / death year\n",
    "name_bas_url = os.path.join(PARQ_PATH, FILES_IMDB_PARQ[\"name_bas\"])\n",
    "name_bas = pd.read_parquet(name_bas_url)\n",
    "\n",
    "# get needed data\n",
    "list_name_bas = name_bas[name_bas.index.isin(list_ordering['nconst'])]"
   ]
  },
  {
   "cell_type": "code",
   "execution_count": 21,
   "metadata": {},
   "outputs": [
    {
     "data": {
      "text/plain": [
       "<AxesSubplot:>"
      ]
     },
     "execution_count": 21,
     "metadata": {},
     "output_type": "execute_result"
    },
    {
     "data": {
      "image/png": "[encoded data removed]",
      "text/plain": [
       "<Figure size 640x480 with 1 Axes>"
      ]
     },
     "metadata": {},
     "output_type": "display_data"
    }
   ],
   "source": [
    "list_name_bas[['birthYear','deathYear']].plot.box()"
   ]
  },
  {
   "attachments": {},
   "cell_type": "markdown",
   "metadata": {},
   "source": [
    "\n",
    "missing birthyear will be replaced with \n",
    "We must replace outliers and missing values with the median."
   ]
  },
  {
   "cell_type": "code",
   "execution_count": 39,
   "metadata": {},
   "outputs": [
    {
     "data": {
      "text/html": [
       "<div>\n",
       "<style scoped>\n",
       "    .dataframe tbody tr th:only-of-type {\n",
       "        vertical-align: middle;\n",
       "    }\n",
       "\n",
       "    .dataframe tbody tr th {\n",
       "        vertical-align: top;\n",
       "    }\n",
       "\n",
       "    .dataframe thead th {\n",
       "        text-align: right;\n",
       "    }\n",
       "</style>\n",
       "<table border=\"1\" class=\"dataframe\">\n",
       "  <thead>\n",
       "    <tr style=\"text-align: right;\">\n",
       "      <th>deathYear</th>\n",
       "      <th>False</th>\n",
       "      <th>True</th>\n",
       "    </tr>\n",
       "    <tr>\n",
       "      <th>birthYear</th>\n",
       "      <th></th>\n",
       "      <th></th>\n",
       "    </tr>\n",
       "  </thead>\n",
       "  <tbody>\n",
       "    <tr>\n",
       "      <th>False</th>\n",
       "      <td>122</td>\n",
       "      <td>1048</td>\n",
       "    </tr>\n",
       "    <tr>\n",
       "      <th>True</th>\n",
       "      <td>2</td>\n",
       "      <td>568</td>\n",
       "    </tr>\n",
       "  </tbody>\n",
       "</table>\n",
       "</div>"
      ],
      "text/plain": [
       "deathYear  False  True \n",
       "birthYear              \n",
       "False        122   1048\n",
       "True           2    568"
      ]
     },
     "execution_count": 39,
     "metadata": {},
     "output_type": "execute_result"
    }
   ],
   "source": [
    "list_name_bas[['birthYear', 'deathYear']].isna().value_counts().unstack()"
   ]
  },
  {
   "attachments": {},
   "cell_type": "markdown",
   "metadata": {},
   "source": [
    "We must remove values that don't have a birthyear or deathyear (568).\n",
    "we remove the values that have no birthyear but have a deathyear, because there are only 2.\n",
    "There are a lot of values that don't have a deathyear.\n",
    "we can replace deathyear with an 'is alive column' and an age at filming column."
   ]
  },
  {
   "attachments": {},
   "cell_type": "markdown",
   "metadata": {},
   "source": [
    "## 8) primaryProfession"
   ]
  },
  {
   "cell_type": "code",
   "execution_count": 22,
   "metadata": {},
   "outputs": [],
   "source": [
    "# get title basics\n",
    "ordering_url = os.path.join(PARQ_PATH, FILES_IMDB_PARQ[\"ordering\"])\n",
    "ordering = pd.read_parquet(ordering_url)\n",
    "\n",
    "# filter\n",
    "list_personnel = ordering[ordering.index.isin(enjoyment['intid'])]['nconst']\n",
    "\n",
    "# get primary profession\n",
    "prim_prof_url = os.path.join(PARQ_PATH, FILES_IMDB_PARQ[\"prim_prof\"])\n",
    "prim_prof = pd.read_parquet(prim_prof_url)\n",
    "\n",
    "# get needed professions\n",
    "list_professions = prim_prof[prim_prof.index.isin(list_personnel.unique())]\n",
    "\n",
    "del prim_prof\n",
    "del ordering\n",
    "del list_personnel"
   ]
  },
  {
   "cell_type": "code",
   "execution_count": 26,
   "metadata": {},
   "outputs": [
    {
     "data": {
      "text/plain": [
       "<AxesSubplot:xlabel='primaryProfession'>"
      ]
     },
     "execution_count": 26,
     "metadata": {},
     "output_type": "execute_result"
    },
    {
     "data": {
      "image/png": "[encoded data removed]",
      "text/plain": [
       "<Figure size 640x480 with 1 Axes>"
      ]
     },
     "metadata": {},
     "output_type": "display_data"
    }
   ],
   "source": [
    "list_professions.value_counts().plot()"
   ]
  },
  {
   "attachments": {},
   "cell_type": "markdown",
   "metadata": {},
   "source": [
    "we remove everything less than 100"
   ]
  },
  {
   "cell_type": "code",
   "execution_count": 29,
   "metadata": {},
   "outputs": [
    {
     "data": {
      "text/plain": [
       "primaryProfession\n",
       "producer             1041\n",
       "writer                675\n",
       "actor                 668\n",
       "soundtrack            426\n",
       "director              416\n",
       "miscellaneous         261\n",
       "actress               237\n",
       "music_department      122\n",
       "composer              119\n",
       "dtype: int64"
      ]
     },
     "execution_count": 29,
     "metadata": {},
     "output_type": "execute_result"
    }
   ],
   "source": [
    "counts = list_professions.value_counts()\n",
    "counts = counts[counts > 100]\n",
    "counts"
   ]
  },
  {
   "attachments": {},
   "cell_type": "markdown",
   "metadata": {},
   "source": [
    "## 9) known for titles"
   ]
  },
  {
   "cell_type": "code",
   "execution_count": 10,
   "metadata": {},
   "outputs": [],
   "source": [
    "# get title basics\n",
    "ordering_url = os.path.join(PARQ_PATH, FILES_IMDB_PARQ[\"ordering\"])\n",
    "ordering = pd.read_parquet(ordering_url)\n",
    "\n",
    "# filter\n",
    "enjoyment_ordering = ordering[ordering.index.isin(enjoyment['intid'])]"
   ]
  },
  {
   "cell_type": "code",
   "execution_count": 11,
   "metadata": {},
   "outputs": [
    {
     "data": {
      "text/html": [
       "<div>\n",
       "<style scoped>\n",
       "    .dataframe tbody tr th:only-of-type {\n",
       "        vertical-align: middle;\n",
       "    }\n",
       "\n",
       "    .dataframe tbody tr th {\n",
       "        vertical-align: top;\n",
       "    }\n",
       "\n",
       "    .dataframe thead th {\n",
       "        text-align: right;\n",
       "    }\n",
       "</style>\n",
       "<table border=\"1\" class=\"dataframe\">\n",
       "  <thead>\n",
       "    <tr style=\"text-align: right;\">\n",
       "      <th></th>\n",
       "      <th>nconst</th>\n",
       "      <th>ordering</th>\n",
       "      <th>category</th>\n",
       "    </tr>\n",
       "    <tr>\n",
       "      <th>tconst</th>\n",
       "      <th></th>\n",
       "      <th></th>\n",
       "      <th></th>\n",
       "    </tr>\n",
       "  </thead>\n",
       "  <tbody>\n",
       "    <tr>\n",
       "      <th>17136</th>\n",
       "      <td>2111404</td>\n",
       "      <td>10</td>\n",
       "      <td>composer</td>\n",
       "    </tr>\n",
       "    <tr>\n",
       "      <th>17136</th>\n",
       "      <td>375609</td>\n",
       "      <td>1</td>\n",
       "      <td>actress</td>\n",
       "    </tr>\n",
       "    <tr>\n",
       "      <th>17136</th>\n",
       "      <td>2154</td>\n",
       "      <td>2</td>\n",
       "      <td>actor</td>\n",
       "    </tr>\n",
       "    <tr>\n",
       "      <th>17136</th>\n",
       "      <td>297054</td>\n",
       "      <td>3</td>\n",
       "      <td>actor</td>\n",
       "    </tr>\n",
       "    <tr>\n",
       "      <th>17136</th>\n",
       "      <td>459030</td>\n",
       "      <td>4</td>\n",
       "      <td>actor</td>\n",
       "    </tr>\n",
       "    <tr>\n",
       "      <th>...</th>\n",
       "      <td>...</td>\n",
       "      <td>...</td>\n",
       "      <td>...</td>\n",
       "    </tr>\n",
       "    <tr>\n",
       "      <th>9806192</th>\n",
       "      <td>3021346</td>\n",
       "      <td>5</td>\n",
       "      <td>director</td>\n",
       "    </tr>\n",
       "    <tr>\n",
       "      <th>9806192</th>\n",
       "      <td>491011</td>\n",
       "      <td>6</td>\n",
       "      <td>writer</td>\n",
       "    </tr>\n",
       "    <tr>\n",
       "      <th>9806192</th>\n",
       "      <td>238941</td>\n",
       "      <td>7</td>\n",
       "      <td>producer</td>\n",
       "    </tr>\n",
       "    <tr>\n",
       "      <th>9806192</th>\n",
       "      <td>1776887</td>\n",
       "      <td>8</td>\n",
       "      <td>composer</td>\n",
       "    </tr>\n",
       "    <tr>\n",
       "      <th>9806192</th>\n",
       "      <td>1928263</td>\n",
       "      <td>9</td>\n",
       "      <td>editor</td>\n",
       "    </tr>\n",
       "  </tbody>\n",
       "</table>\n",
       "<p>2145 rows × 3 columns</p>\n",
       "</div>"
      ],
      "text/plain": [
       "          nconst  ordering  category\n",
       "tconst                              \n",
       "17136    2111404        10  composer\n",
       "17136     375609         1   actress\n",
       "17136       2154         2     actor\n",
       "17136     297054         3     actor\n",
       "17136     459030         4     actor\n",
       "...          ...       ...       ...\n",
       "9806192  3021346         5  director\n",
       "9806192   491011         6    writer\n",
       "9806192   238941         7  producer\n",
       "9806192  1776887         8  composer\n",
       "9806192  1928263         9    editor\n",
       "\n",
       "[2145 rows x 3 columns]"
      ]
     },
     "execution_count": 11,
     "metadata": {},
     "output_type": "execute_result"
    }
   ],
   "source": [
    "enjoyment_ordering"
   ]
  },
  {
   "cell_type": "code",
   "execution_count": 12,
   "metadata": {},
   "outputs": [],
   "source": [
    "# get known_for\n",
    "known_for_url = os.path.join(PARQ_PATH, FILES_IMDB_PARQ[\"known_for\"])\n",
    "known_for = pd.read_parquet(known_for_url)\n",
    "\n",
    "# filter\n",
    "list_known_for = known_for[known_for.index.isin(enjoyment_ordering['nconst'])]"
   ]
  },
  {
   "cell_type": "code",
   "execution_count": 13,
   "metadata": {},
   "outputs": [
    {
     "data": {
      "text/html": [
       "<div>\n",
       "<style scoped>\n",
       "    .dataframe tbody tr th:only-of-type {\n",
       "        vertical-align: middle;\n",
       "    }\n",
       "\n",
       "    .dataframe tbody tr th {\n",
       "        vertical-align: top;\n",
       "    }\n",
       "\n",
       "    .dataframe thead th {\n",
       "        text-align: right;\n",
       "    }\n",
       "</style>\n",
       "<table border=\"1\" class=\"dataframe\">\n",
       "  <thead>\n",
       "    <tr style=\"text-align: right;\">\n",
       "      <th></th>\n",
       "      <th>knownForTitles</th>\n",
       "    </tr>\n",
       "    <tr>\n",
       "      <th>nconst</th>\n",
       "      <th></th>\n",
       "    </tr>\n",
       "  </thead>\n",
       "  <tbody>\n",
       "    <tr>\n",
       "      <th>4</th>\n",
       "      <td>80455</td>\n",
       "    </tr>\n",
       "    <tr>\n",
       "      <th>4</th>\n",
       "      <td>72562</td>\n",
       "    </tr>\n",
       "    <tr>\n",
       "      <th>4</th>\n",
       "      <td>77975</td>\n",
       "    </tr>\n",
       "    <tr>\n",
       "      <th>4</th>\n",
       "      <td>78723</td>\n",
       "    </tr>\n",
       "    <tr>\n",
       "      <th>20</th>\n",
       "      <td>82846</td>\n",
       "    </tr>\n",
       "    <tr>\n",
       "      <th>...</th>\n",
       "      <td>...</td>\n",
       "    </tr>\n",
       "    <tr>\n",
       "      <th>9946633</th>\n",
       "      <td>9506474</td>\n",
       "    </tr>\n",
       "    <tr>\n",
       "      <th>9946633</th>\n",
       "      <td>8680242</td>\n",
       "    </tr>\n",
       "    <tr>\n",
       "      <th>9946633</th>\n",
       "      <td>12879304</td>\n",
       "    </tr>\n",
       "    <tr>\n",
       "      <th>9946672</th>\n",
       "      <td>9814116</td>\n",
       "    </tr>\n",
       "    <tr>\n",
       "      <th>9946672</th>\n",
       "      <td>13640670</td>\n",
       "    </tr>\n",
       "  </tbody>\n",
       "</table>\n",
       "<p>6827 rows × 1 columns</p>\n",
       "</div>"
      ],
      "text/plain": [
       "         knownForTitles\n",
       "nconst                 \n",
       "4                 80455\n",
       "4                 72562\n",
       "4                 77975\n",
       "4                 78723\n",
       "20                82846\n",
       "...                 ...\n",
       "9946633         9506474\n",
       "9946633         8680242\n",
       "9946633        12879304\n",
       "9946672         9814116\n",
       "9946672        13640670\n",
       "\n",
       "[6827 rows x 1 columns]"
      ]
     },
     "execution_count": 13,
     "metadata": {},
     "output_type": "execute_result"
    }
   ],
   "source": [
    "list_known_for"
   ]
  },
  {
   "cell_type": "code",
   "execution_count": 14,
   "metadata": {},
   "outputs": [
    {
     "data": {
      "text/plain": [
       "knownForTitles\n",
       "4154796           17\n",
       "2015381           16\n",
       "5323662           14\n",
       "1375666           13\n",
       "3896198           13\n",
       "                  ..\n",
       "758774             1\n",
       "762073             1\n",
       "765010             1\n",
       "765120             1\n",
       "27789824           1\n",
       "Length: 3865, dtype: int64"
      ]
     },
     "execution_count": 14,
     "metadata": {},
     "output_type": "execute_result"
    }
   ],
   "source": [
    "list_known_for.value_counts()"
   ]
  },
  {
   "attachments": {},
   "cell_type": "markdown",
   "metadata": {},
   "source": [
    "most are known from avengers: endgame, guardians of the galaxy, a silent voice.<br>\n",
    "WE CAN USE THIS FILE TO INCREASE THE ACTORS PER MOVIE!!!"
   ]
  },
  {
   "attachments": {},
   "cell_type": "markdown",
   "metadata": {},
   "source": [
    "## 11) directors"
   ]
  },
  {
   "attachments": {},
   "cell_type": "markdown",
   "metadata": {},
   "source": [
    "the files have different information about the directors.\n",
    "<br><b>title basics:</b>"
   ]
  },
  {
   "cell_type": "code",
   "execution_count": 15,
   "metadata": {},
   "outputs": [],
   "source": [
    "# get title basics\n",
    "directors_url = os.path.join(PARQ_PATH, FILES_IMDB_PARQ[\"directors\"])\n",
    "directors = pd.read_parquet(directors_url)\n",
    "\n",
    "# filter\n",
    "enjoyment_directors = directors[directors.index.isin(enjoyment['intid'])]"
   ]
  },
  {
   "cell_type": "code",
   "execution_count": 16,
   "metadata": {},
   "outputs": [
    {
     "data": {
      "text/plain": [
       "238"
      ]
     },
     "execution_count": 16,
     "metadata": {},
     "output_type": "execute_result"
    }
   ],
   "source": [
    "len(enjoyment_directors)"
   ]
  },
  {
   "cell_type": "code",
   "execution_count": 34,
   "metadata": {},
   "outputs": [
    {
     "data": {
      "text/html": [
       "<div>\n",
       "<style scoped>\n",
       "    .dataframe tbody tr th:only-of-type {\n",
       "        vertical-align: middle;\n",
       "    }\n",
       "\n",
       "    .dataframe tbody tr th {\n",
       "        vertical-align: top;\n",
       "    }\n",
       "\n",
       "    .dataframe thead th {\n",
       "        text-align: right;\n",
       "    }\n",
       "</style>\n",
       "<table border=\"1\" class=\"dataframe\">\n",
       "  <thead>\n",
       "    <tr style=\"text-align: right;\">\n",
       "      <th></th>\n",
       "      <th>directors</th>\n",
       "    </tr>\n",
       "    <tr>\n",
       "      <th>tconst</th>\n",
       "      <th></th>\n",
       "    </tr>\n",
       "  </thead>\n",
       "  <tbody>\n",
       "    <tr>\n",
       "      <th>17136</th>\n",
       "      <td>485</td>\n",
       "    </tr>\n",
       "    <tr>\n",
       "      <th>50083</th>\n",
       "      <td>1486</td>\n",
       "    </tr>\n",
       "    <tr>\n",
       "      <th>52357</th>\n",
       "      <td>33</td>\n",
       "    </tr>\n",
       "    <tr>\n",
       "      <th>66434</th>\n",
       "      <td>184</td>\n",
       "    </tr>\n",
       "    <tr>\n",
       "      <th>73195</th>\n",
       "      <td>229</td>\n",
       "    </tr>\n",
       "    <tr>\n",
       "      <th>...</th>\n",
       "      <td>...</td>\n",
       "    </tr>\n",
       "    <tr>\n",
       "      <th>9506474</th>\n",
       "      <td>1717924</td>\n",
       "    </tr>\n",
       "    <tr>\n",
       "      <th>9686708</th>\n",
       "      <td>31976</td>\n",
       "    </tr>\n",
       "    <tr>\n",
       "      <th>9764362</th>\n",
       "      <td>617042</td>\n",
       "    </tr>\n",
       "    <tr>\n",
       "      <th>9783600</th>\n",
       "      <td>2676052</td>\n",
       "    </tr>\n",
       "    <tr>\n",
       "      <th>9806192</th>\n",
       "      <td>3021346</td>\n",
       "    </tr>\n",
       "  </tbody>\n",
       "</table>\n",
       "<p>238 rows × 1 columns</p>\n",
       "</div>"
      ],
      "text/plain": [
       "         directors\n",
       "tconst            \n",
       "17136          485\n",
       "50083         1486\n",
       "52357           33\n",
       "66434          184\n",
       "73195          229\n",
       "...            ...\n",
       "9506474    1717924\n",
       "9686708      31976\n",
       "9764362     617042\n",
       "9783600    2676052\n",
       "9806192    3021346\n",
       "\n",
       "[238 rows x 1 columns]"
      ]
     },
     "execution_count": 34,
     "metadata": {},
     "output_type": "execute_result"
    }
   ],
   "source": [
    "enjoyment_directors"
   ]
  },
  {
   "attachments": {},
   "cell_type": "markdown",
   "metadata": {},
   "source": [
    "<b>ordering:</b>"
   ]
  },
  {
   "cell_type": "code",
   "execution_count": 17,
   "metadata": {},
   "outputs": [],
   "source": [
    "# get oredering data\n",
    "ordering_url = os.path.join(PARQ_PATH, FILES_IMDB_PARQ[\"ordering\"])\n",
    "ordering = pd.read_parquet(ordering_url)\n",
    "\n",
    "list_ordering = ordering[ordering.index.isin(enjoyment['intid'])]"
   ]
  },
  {
   "cell_type": "code",
   "execution_count": 18,
   "metadata": {},
   "outputs": [
    {
     "data": {
      "text/plain": [
       "226"
      ]
     },
     "execution_count": 18,
     "metadata": {},
     "output_type": "execute_result"
    }
   ],
   "source": [
    "list_ordering = list_ordering[list_ordering['category'] == 'director']\n",
    "len(list_ordering)"
   ]
  },
  {
   "attachments": {},
   "cell_type": "markdown",
   "metadata": {},
   "source": [
    "<b>job:</b>"
   ]
  },
  {
   "cell_type": "code",
   "execution_count": 19,
   "metadata": {},
   "outputs": [],
   "source": [
    "# get job data\n",
    "job_url = os.path.join(PARQ_PATH, FILES_IMDB_PARQ[\"job\"])\n",
    "job = pd.read_parquet(job_url)"
   ]
  },
  {
   "cell_type": "code",
   "execution_count": 20,
   "metadata": {},
   "outputs": [
    {
     "data": {
      "text/plain": [
       "['director of photography',\n",
       " 'co-director',\n",
       " 'film director',\n",
       " 'collaborating director',\n",
       " 'director: 1916 shooting',\n",
       " 'director: 1914 shooting',\n",
       " 'co-director: 1916 shooting',\n",
       " 'editorial director',\n",
       " 'animation director',\n",
       " 'director: retakes',\n",
       " 'supervising director',\n",
       " 'Interview with director',\n",
       " 'additional director',\n",
       " 'replacement director',\n",
       " 'dialogue director',\n",
       " 'second director',\n",
       " 'animation director: earlier cartoon clips',\n",
       " 'director: Megaphone',\n",
       " 'fill-in director',\n",
       " 'director: African exteriors',\n",
       " 'director: some scenes',\n",
       " 'producing director',\n",
       " 'sequence director',\n",
       " 'original director',\n",
       " 'also music director',\n",
       " 'co-director: alpine scenes',\n",
       " 'segment director',\n",
       " 'director: Kansas scenes',\n",
       " 'director of photography: exteriors',\n",
       " 'director: additional scenes',\n",
       " 'series director',\n",
       " 'edit director',\n",
       " 'director: medical footage',\n",
       " 'consultant to the director',\n",
       " 'main director',\n",
       " 'creative director',\n",
       " 'director: \"Shine\" sequence',\n",
       " 'sequence director: animation',\n",
       " 'the director of photography',\n",
       " 'coordinating director',\n",
       " 'photoplay director',\n",
       " 'cartoon director',\n",
       " 'live action director',\n",
       " 'director of cinematography',\n",
       " 'general director',\n",
       " 'completion director',\n",
       " 'associate director',\n",
       " 'sketch director',\n",
       " 'chief director',\n",
       " 'director: Vienna',\n",
       " 'director: Hong Kong',\n",
       " 'director of photography: VistaVision',\n",
       " 'director of photography: US sequences',\n",
       " 'consulting director',\n",
       " 'lead director',\n",
       " 'television director',\n",
       " 'theatre director',\n",
       " 'director: English version',\n",
       " 'director',\n",
       " 'one day director',\n",
       " 'three or four days director',\n",
       " 'five days director',\n",
       " 'stage director',\n",
       " 'director: U.S.A.',\n",
       " 'director: archive footage',\n",
       " 'temporarily replaced director',\n",
       " 'english adaptation, english voice director',\n",
       " 'director: Original Royal Shakespeare Company stage production',\n",
       " 'director: for the Royal Shakespeare Company',\n",
       " 'director: for the BBC',\n",
       " 'director: jungle sequence',\n",
       " 'music director',\n",
       " 'director: Paris sequence',\n",
       " 'reshoot director',\n",
       " 'director: US scenes',\n",
       " 'theatrical director',\n",
       " 'associate director: for Prospect Theatre Company',\n",
       " 'director: for Prospect Theatre Company and the BBC',\n",
       " 'director: for Prospect Theatre Company',\n",
       " 'director: for BBC',\n",
       " 'director of photography: avec la participation de',\n",
       " 'director: The Forresters segment',\n",
       " 'director: The Andreson segment',\n",
       " 'director of photography: concert',\n",
       " 'director of photography: live action',\n",
       " 'director of photography: international television and theatrical release sequences',\n",
       " 'post director',\n",
       " 'director of photography: United States',\n",
       " 'director of photography: United Kingdom',\n",
       " 'co-director: classic cartoons',\n",
       " 'co director',\n",
       " 'director of photography: in Spain',\n",
       " 'director of photography: in USA',\n",
       " 'co-director: Germany',\n",
       " 'principal director of photography',\n",
       " 'co-director of photography',\n",
       " 'director of photography: hostage interiors',\n",
       " 'second unit director',\n",
       " 'studio director',\n",
       " 'ghost director',\n",
       " 'director: WWN news segment',\n",
       " 'director: Little Chocolate Donuts',\n",
       " 'co-director: pre-production',\n",
       " 'executive director',\n",
       " 'director: original Stratford production',\n",
       " 'director of photography: first unit',\n",
       " 'consultant director',\n",
       " 'episode director: archive footage',\n",
       " 'movie director',\n",
       " 'director: USA',\n",
       " 'arrangements/music producer/musical director',\n",
       " 'artistic director',\n",
       " 'director of photography: for three weeks in Perugia',\n",
       " 'principal director',\n",
       " 'musical director',\n",
       " 'director of photography: second unit',\n",
       " 'casting director',\n",
       " 'episode director',\n",
       " 'director of photography: Jane Fonda sequences',\n",
       " 'director of photography: Toronto',\n",
       " 'director of photography: Lebanon',\n",
       " 'director:  ',\n",
       " 'director: television',\n",
       " 'director of photography: tournage Séville',\n",
       " 'asisstant director',\n",
       " 'film segment director',\n",
       " 'director of photography: Tunisia',\n",
       " 'documentary director',\n",
       " \"director's cut\",\n",
       " 'aerial director of photography',\n",
       " 'director: \"The Land Before Time II, III, & IV\" footage',\n",
       " 'action director',\n",
       " 'actor director',\n",
       " 'director: 3DO & SEGA CD',\n",
       " 'director of photography: PVR',\n",
       " 'technical director',\n",
       " 'senior director',\n",
       " 'director of photography: U.K. crew',\n",
       " 'director: documentary sequence',\n",
       " 'host director',\n",
       " 'segment director of photography',\n",
       " 'head director',\n",
       " 'revision director',\n",
       " 'video director',\n",
       " 'co-director: animation sequences',\n",
       " 'director: Planet Patrol and Lord Doom sequences only',\n",
       " 'director: 3DO',\n",
       " 'tv director',\n",
       " 'managing director',\n",
       " 'voice over director',\n",
       " 'director of photography: part 1',\n",
       " 'senior director: segment \"Magokoro o, kimi ni\"',\n",
       " 'voice director',\n",
       " 'director: Amiga',\n",
       " '3D system director',\n",
       " 'script director',\n",
       " 'unit director',\n",
       " 'televison director',\n",
       " 'guest director',\n",
       " 'director: Swedish segment',\n",
       " 'director: French segment',\n",
       " 'director: Japanese Segment',\n",
       " 'director: Italian segment',\n",
       " 'dance director',\n",
       " 'recording director',\n",
       " 'assistent director',\n",
       " 'play and television director',\n",
       " 'first director',\n",
       " 'play director',\n",
       " 'game director',\n",
       " 'FMV director',\n",
       " 'director: battle plan',\n",
       " 'co-director: map-plan',\n",
       " 'director of photography: Performance',\n",
       " 'timing and sheet director',\n",
       " 'assistant director',\n",
       " 'director: special equipment',\n",
       " 'director: PlayStation version',\n",
       " 'director: Dream Factory staff',\n",
       " 'event & movie director: CG movie crew',\n",
       " 'co-director: CG movie crew',\n",
       " 'scenario director',\n",
       " 'director of photography: Simex Digital Studios',\n",
       " 'director: interstitials',\n",
       " 'location director',\n",
       " 'director: stage production',\n",
       " 'director: characters',\n",
       " 'director: Brazil',\n",
       " 'director: Canada',\n",
       " 'director: Nigeria',\n",
       " 'director: Nigeria, Canada',\n",
       " 'play director: \"Paper Wheat\"',\n",
       " 'co-director: period scenes',\n",
       " 'director: actuality',\n",
       " 'executive creative director',\n",
       " 'director: live broadcast',\n",
       " 'director: SEGA Saturn',\n",
       " 'concept director',\n",
       " 'director: Mr. McInnis',\n",
       " 'new material and series director',\n",
       " 'special guest director',\n",
       " 'chief ass. director',\n",
       " \"director: Yuke's\",\n",
       " 'co director: original material',\n",
       " 'lighting director',\n",
       " 'set director',\n",
       " 'co-director: original material',\n",
       " 'chief director of photography',\n",
       " 'sex director',\n",
       " 'director: Game Boy Color version',\n",
       " 'Music director',\n",
       " 'director: Western segment',\n",
       " 'segment director: Le lapin de Noël',\n",
       " 'opening director',\n",
       " 'director: ABC',\n",
       " 'game creative director',\n",
       " 'director of photography: celebrity interviews',\n",
       " 'director: American dialogue',\n",
       " 'director: Light Weight',\n",
       " 'interview director',\n",
       " 'creative director: Sony Computer Entertainment Europe: Cambridge Studio',\n",
       " '3D art director',\n",
       " 'director: live television',\n",
       " 'director: sub scenario',\n",
       " 'director: adult scenes',\n",
       " 'co-creative director',\n",
       " 'director: Imagineer',\n",
       " 'director: \"Oh Santa\"',\n",
       " 'director: Sony Computer Entertainment Inc.',\n",
       " 'project director',\n",
       " 'director: PC-98',\n",
       " 'video director: tour',\n",
       " 'video director: Veneno',\n",
       " 'performance director',\n",
       " 'system director',\n",
       " 'programming director',\n",
       " 'director: conversions',\n",
       " 'director: Japanese version',\n",
       " 'director: Thirteen WNET',\n",
       " 'director of photography: berlin unit',\n",
       " 'multicamera director',\n",
       " 'director of photography: U.K.',\n",
       " 'director: development staff',\n",
       " 'chief assistant director',\n",
       " 'director of photography: Doris Day Interview II',\n",
       " 'director: Doris Day Interview I',\n",
       " 'director of photography: Doris Day Interview I',\n",
       " 'trainee director',\n",
       " 'director of photography: Paris',\n",
       " 'director of photography: New York',\n",
       " 'director of photography: Los Angeles',\n",
       " 'director: video production',\n",
       " 'director: London',\n",
       " 'director: Hollywood',\n",
       " 'director: New York',\n",
       " 'live show director',\n",
       " 'director: NBC',\n",
       " 'director: US',\n",
       " 'director: link segments',\n",
       " 'director: green screen',\n",
       " 'director: Evening at Pops',\n",
       " 'timing director',\n",
       " 'manging director: Sega Benelux',\n",
       " 'director: development team, Sega of China',\n",
       " 'live director',\n",
       " 'director: original staff',\n",
       " 'cinematique segment director',\n",
       " 'director: Nude Maker',\n",
       " 'director: A&E documentary programming',\n",
       " 'director: Dimps Corporation',\n",
       " 'director: arcade mode',\n",
       " 'game director: Treasure',\n",
       " 'director: Genesis',\n",
       " 'director: JVC Victor Entertainment',\n",
       " 'co-director: JVC Victor Entertainment',\n",
       " 'director: Mexico',\n",
       " 'scenario director: Decisions, Decisions',\n",
       " 'scenario director: Hellfire',\n",
       " 'scenario director: The Hive',\n",
       " 'scenario director: Below Freezing Point',\n",
       " 'sketch pre-tape director',\n",
       " 'development director',\n",
       " 'director: Rescue Mission',\n",
       " 'cinematic director',\n",
       " 'director: game design',\n",
       " 'cinematics director',\n",
       " 'director: PSC',\n",
       " 'director: game design team',\n",
       " 'live-action director',\n",
       " 'assitant director',\n",
       " 'director: second unit',\n",
       " 'director: original University stage show',\n",
       " 'co-director: final scenes',\n",
       " 'US director',\n",
       " 'Palestinian story director',\n",
       " 'Dominican story director',\n",
       " 'Nigerian story director',\n",
       " 'Indian story director',\n",
       " 'drama director',\n",
       " 'segment director: Nicktoons',\n",
       " 'sequence director: for \"Tosca\"',\n",
       " 'director: in-game cinematics',\n",
       " 'director: Namco Tales Studio',\n",
       " 'director: Capcom Co. Ltd.',\n",
       " 'director: Amuze',\n",
       " 'co-director: Amuze',\n",
       " 'story director: segment \"Christmas Maximus\"',\n",
       " 'story director: segment \"Donald\\'s Gift\"',\n",
       " 'story director: segment \"Belles on Ice\"',\n",
       " 'story director: segments \"Christmas: Impossible\" and \"Mickey\\'s Dog-Gone Christmas\"',\n",
       " 'director: conversion team',\n",
       " 'director: tri-Crescendo',\n",
       " 'director: monolithsoft',\n",
       " 'director: Robot',\n",
       " 'director: menu system',\n",
       " 'director: game system',\n",
       " 'mystery director',\n",
       " 'english voice director',\n",
       " \"director: Yuke's Co. Ltd.\",\n",
       " 'director: mini-game',\n",
       " 'co-director: UK',\n",
       " 'lead director of photography',\n",
       " 'director: Racjin Co. Ltd.',\n",
       " 'director: China',\n",
       " 'original show director',\n",
       " 'senior segment director',\n",
       " 'director of photography: cinematics',\n",
       " 'director: cinematics',\n",
       " 'director: planning part',\n",
       " 'design director',\n",
       " 'director: documentary segments',\n",
       " 'director: live concert',\n",
       " 'visual director',\n",
       " 'segment director: \"Monster in the Mirror\", \"The Word is \\'No\\'\"',\n",
       " 'motion capture director',\n",
       " 'supervising director: Dongwoo Co., Ltd.',\n",
       " 'supervising director: D.R. Movie Co., Ltd.',\n",
       " 'scenario director: Underbelly',\n",
       " 'scenario director Desperate Times',\n",
       " 'scenario director: End of the Road/Flashback',\n",
       " 'scenario director: Flashback/Wild Things',\n",
       " 'scenario director: Desperate Times',\n",
       " 're-creation director',\n",
       " 'segment director: Pre Game Features',\n",
       " 'content director',\n",
       " 'segmant director',\n",
       " 'live segments director',\n",
       " 'director: game development',\n",
       " 'scenario & event planning director',\n",
       " 'director of photography: Riverview Hospital',\n",
       " 'director of photography: Pender Harbor',\n",
       " 'director: SNES',\n",
       " 'field director',\n",
       " 'host wraps director of photography',\n",
       " 'host wraps director',\n",
       " 'writing director',\n",
       " 'voice director: New Generation Pictures',\n",
       " 'director: Cavia inc.',\n",
       " 'director: \"The Adventures of Elmo in Grouchland\" footage',\n",
       " 'director: documentary',\n",
       " 'episodic director',\n",
       " 'replay director',\n",
       " 'O.B. director',\n",
       " 'director: UK',\n",
       " 'director: Australia',\n",
       " 'outside broadcast director',\n",
       " 'director: studio',\n",
       " 'story director',\n",
       " 'co-supervising director',\n",
       " 'multicam director',\n",
       " 'director: interviews',\n",
       " 'vt director',\n",
       " 'director of photography: opening sequence',\n",
       " 'director de producción',\n",
       " 'director: links',\n",
       " \"director: Ann's story\",\n",
       " 'senior field director',\n",
       " 'director: teleplay',\n",
       " 'director: surgery scenes',\n",
       " 'contributing director',\n",
       " 'series director of photography',\n",
       " 'director: Sydney location scenes',\n",
       " 'lead director: opening/closing sequences',\n",
       " 'director of photography:  ',\n",
       " 'supervising director: overseas',\n",
       " 'director: commercial parodies',\n",
       " 'director: film commercial parodies',\n",
       " 'director: comercial parodies',\n",
       " 'director of photography: Columbia Color',\n",
       " 'core director',\n",
       " 'director: Paul McCartney - Songsmith',\n",
       " 'on-location director of photography',\n",
       " 'director: Mathnet',\n",
       " 'director: original stage production',\n",
       " 'senior director: segment \"Me-Yowww!\"',\n",
       " 'senior director: segment \"Scrappy\\'s Field Day\"',\n",
       " 'creative supervising director',\n",
       " 'co-director: IDDH',\n",
       " 'director: \"Erie Canal\" and \"My Day\"',\n",
       " 'director: \"There\\'s a Hole in the Bottom of the Sea\", \"Zacchaeus\", and \"Lunch\"',\n",
       " 'director: \"Modern Major General\" and \"You are My Sunshine\"',\n",
       " 'overseas animation director',\n",
       " 'director: film',\n",
       " 'story director/writer',\n",
       " 'director: Namco Bandai Games Inc.',\n",
       " 'general director: Namco Tales Studio Ltd.',\n",
       " 'table director',\n",
       " 'senior table director',\n",
       " 'a film by/director',\n",
       " 'director: Eurovision events',\n",
       " 'director: press conference hall',\n",
       " 'supervising director: Digital eMation',\n",
       " 'director: ocean sequences',\n",
       " 'reconstruction director',\n",
       " 'producer director',\n",
       " 'invited director',\n",
       " 'director: Cathedral Films',\n",
       " 'completion director: credited on DVD',\n",
       " 'director: Dalek fight film sequence',\n",
       " 'director: ending sequence',\n",
       " 'creative director: Discovery Channel',\n",
       " 'director: location shoot',\n",
       " 'director: 2020 version',\n",
       " 'supervising chief director',\n",
       " 'director: Minigames',\n",
       " 'feature director',\n",
       " 'director: Paon Corporation',\n",
       " 'director: Project Zero',\n",
       " 'director: Xbox Live Arcade team',\n",
       " 'director of photography: Berlin',\n",
       " 'DVD director',\n",
       " 'director: Rave Master \"Fighting Live\" original work team',\n",
       " 'director: Konami Computer Entertainment Japan',\n",
       " 'director: drama',\n",
       " 'open director',\n",
       " 'director of photography: Evergreen Films',\n",
       " 'director: BBC',\n",
       " 'director: Evergreen Films',\n",
       " 'series co-director',\n",
       " 'franchise development director: Electronic Arts Canada Team',\n",
       " 'development director: Electronic Arts Canada Team',\n",
       " 'production head director: Cyber Connect 2 Co. Ltd.',\n",
       " 'recreations director',\n",
       " 'shooting director',\n",
       " 'screens director',\n",
       " 'dv director',\n",
       " 'director of photography: interview',\n",
       " 'director: cinematics department',\n",
       " 'reenactment director',\n",
       " 'director: Sega Creative Center CG Team',\n",
       " 'director: \"Hero Guy\"',\n",
       " 'director: English voices: New Generation Pictures',\n",
       " 'director: PlayStation 3 version: Namco Bandai Games Inc. production staff',\n",
       " 'director: PlayStation 3 version: Nex Entertainment production staff',\n",
       " 'director: english voices, Cup of Tea Productions',\n",
       " 'Willing And Able, \"Money Don\\'t Matter 2 Night\" co-director',\n",
       " 'series lead director',\n",
       " 'software director',\n",
       " 'director: The Elizabethan Image',\n",
       " 'director: A Future for Fiction?',\n",
       " 'marketing director',\n",
       " 'audio director',\n",
       " 'additional director of photography',\n",
       " 'director: 4 camera shoot',\n",
       " 'director: original Saturn team',\n",
       " 'creative director: Sega of America',\n",
       " 'film director: opening sequences',\n",
       " 'director: Treasure Co. Ltd.',\n",
       " 'development director: Sega of America',\n",
       " 'technical director: Sega of America',\n",
       " 'also segment director',\n",
       " 'field segment director',\n",
       " 'series unit director',\n",
       " 'director: Waterski Rescue',\n",
       " 'director: Explosion Rescue/Parachute Rescue',\n",
       " 'segment director: live action segments',\n",
       " \"director: Andrew's story\",\n",
       " \"director: Gerald's story\",\n",
       " 'title sequence director',\n",
       " 'segment director: \"C is for Cookie\"',\n",
       " 'director: international',\n",
       " 'co-director: cinematics',\n",
       " 'assistant voice director: FUNimation',\n",
       " 'voice director: FUNimation',\n",
       " 'transitions co-director',\n",
       " 'overall director',\n",
       " 'director of photography: Host Segment',\n",
       " 'original director: Samurai Warriors 2 original staff',\n",
       " 'director: game staff',\n",
       " 'director: reconstruction',\n",
       " 'multi camera director',\n",
       " 'director: opening animation',\n",
       " 'episode director: OLM, Inc.',\n",
       " 'Film director',\n",
       " 'concert director',\n",
       " 'vocal director',\n",
       " 'actors director',\n",
       " 'director: elimination',\n",
       " 'director of photography: drama',\n",
       " 'conceptual director',\n",
       " 'vt director: series',\n",
       " 'director: self-shooting',\n",
       " 'house director',\n",
       " 'global event director',\n",
       " 'b-unit director',\n",
       " 'episode director: OLM',\n",
       " 'scene director',\n",
       " 'co-director: India',\n",
       " 'series director: Case Closed',\n",
       " 'director: Alphadream Development Team',\n",
       " 'floor director',\n",
       " 'interview director of photography',\n",
       " 'director of photography: Deadliest Catch Season 14 Crew',\n",
       " 'director of photography: Brenna A',\n",
       " 'director of photography: Northwestern',\n",
       " 'director of photography: Saga',\n",
       " 'director of photography: Southern Wind',\n",
       " 'third unit director',\n",
       " 'forth unit director',\n",
       " 'judges director',\n",
       " \"director: Cerro Torre A Snowball's Chance in Hell\",\n",
       " 'creative team: director',\n",
       " 'director: dv',\n",
       " 'co-director: video installation',\n",
       " 'director: Hong Ying Animation Inc.',\n",
       " 'director of photography: C-Cam',\n",
       " 'director: colour-blind segment',\n",
       " 'director: waxwork segment',\n",
       " 'director: Studio B',\n",
       " 'director: live action',\n",
       " 'director: studio B',\n",
       " 'head director of photography',\n",
       " 'director: of reconstruction',\n",
       " 'drama director of photography',\n",
       " 'Main director',\n",
       " 'first assistent director',\n",
       " 'director of photography: B-Cam',\n",
       " 'director of photography: Cornelia Marie',\n",
       " 'director of photography: Summer Bay',\n",
       " 'director of photography: interviews',\n",
       " 'creative director: KRO',\n",
       " 'director: consumer game soft',\n",
       " 'suites director',\n",
       " 'nucleus director',\n",
       " 'director of photography: Wizard',\n",
       " 'director: International',\n",
       " 'doc director',\n",
       " 'director of photography: recreations',\n",
       " 'director: Goldtooth',\n",
       " 'screen director',\n",
       " 'director: diagram',\n",
       " 'director: Robin Pop Show',\n",
       " 'MAIN and ONLY director',\n",
       " 'game content director',\n",
       " 'narrative director',\n",
       " 'scenario director: DeNA Co., Ltd.',\n",
       " 'senior director: DeNA Co., Ltd.',\n",
       " 'director: DeNA Co., Ltd.',\n",
       " 'original director: Pokémon',\n",
       " 'producer/director',\n",
       " 'TV director',\n",
       " 'director of photography: Amatuli Chase Boat',\n",
       " 'series drama director',\n",
       " 'fan director',\n",
       " 'recon director',\n",
       " 'game design director',\n",
       " 'documentary segments, edit director',\n",
       " 'fictional segments director',\n",
       " 'director of photography: in Marrakech',\n",
       " 'director: game software development, CyberConnect2',\n",
       " 'director: Creative Capers Entertainment',\n",
       " 'series vt director',\n",
       " 'trailer director',\n",
       " 'content director:  ',\n",
       " 'director: Spike Chunsoft Co., Ltd.',\n",
       " 'ob director',\n",
       " 'segment director: wanda museum tour',\n",
       " 'reality director',\n",
       " 'director of photography: Europe',\n",
       " \"additional writing: the director's cut\",\n",
       " 'first assistant director',\n",
       " 'director of editor',\n",
       " 'compilation director',\n",
       " 'supervising director: Korea',\n",
       " 'director: Sendak',\n",
       " 'director: Cole',\n",
       " 'director: Rosenquist',\n",
       " 'director: Memorial',\n",
       " 'b director',\n",
       " 'director of photography: Diesel Brothers',\n",
       " 'opening sequence director',\n",
       " 'remote segment director',\n",
       " 'director: Ratina',\n",
       " 'director: Tavastia',\n",
       " 'director: 1982 National Theatre Production',\n",
       " \"film director: extract from 'Venice Preserved'\",\n",
       " 'co-director: reenactment unit',\n",
       " 'post supervising director',\n",
       " 'film director: The Night Mare',\n",
       " 'director: Knots',\n",
       " 'creative producer/associate creative director',\n",
       " 'program director',\n",
       " 'director: launch',\n",
       " 'Second unit director',\n",
       " 'film director: Keeping the Crafts Alive',\n",
       " 'film director: The Sculptor in the Market Place',\n",
       " 'film director: Games',\n",
       " 'film director: The Wall Painters',\n",
       " \"actor's director\",\n",
       " 'field director of photography',\n",
       " 'Australian director',\n",
       " 'english voice director: New Generation Pictures',\n",
       " 'director of photography: main title',\n",
       " 'director of photography: headquarters segment',\n",
       " 'underwater director of photography',\n",
       " 'series director: off-rig',\n",
       " 'profile segment director',\n",
       " 'chief episode director',\n",
       " 'animation director: Powerhouse Animation Studios',\n",
       " '2nd unit director',\n",
       " 'director: Cambodia, Ukraine',\n",
       " 'director: Morocco, Cambodia',\n",
       " 'director of photography: documentary #1',\n",
       " 'director: footage',\n",
       " 'creative director: segment \"Boat Smarts\"',\n",
       " 'director of photography: Vulcan Productions',\n",
       " 'director: candid cam',\n",
       " 'filming director',\n",
       " 'director of photography: vt',\n",
       " 'studio director: series',\n",
       " 'animated film director',\n",
       " 'VR director',\n",
       " 'junior director',\n",
       " 'director of photography: Canada',\n",
       " 'director of photography: Mexico',\n",
       " 'boston segment director',\n",
       " 'cutscene director',\n",
       " 'director: of Belgian TV',\n",
       " 'director: Arc System Works',\n",
       " 'technicial director',\n",
       " 'director: movies',\n",
       " 'director: production',\n",
       " \"director: Christine's story\",\n",
       " \"director: David's story\",\n",
       " \"director: Julian's story\",\n",
       " \"director: Louise's story\",\n",
       " \"director: Mary's story\",\n",
       " \"director: Mick's story\",\n",
       " 'director: Rihaayi De Promotional Music Video',\n",
       " 'Second assistent director',\n",
       " 'director of photography: France',\n",
       " 'director: Sega',\n",
       " 'director: Neilo',\n",
       " 'director of photography: Coast Guard',\n",
       " 'sound director',\n",
       " 'development director: Koei Tecmo Games',\n",
       " 'profile director',\n",
       " 'english voice director: ADV Films dub',\n",
       " '1st assistant director',\n",
       " 'director: Satelight Inc.',\n",
       " 'on-set director',\n",
       " 'supervising director of photography',\n",
       " 'date director',\n",
       " 'conceptualizing director',\n",
       " 'development director: Adia Entertainment Lt.',\n",
       " \"director: Sammy's High Tide Beach Party\",\n",
       " 'writer&director',\n",
       " 'codirector',\n",
       " 'director: Magic Bus',\n",
       " 'stop-motion director',\n",
       " 'director: October Films Studios',\n",
       " 'director of photography: October Films Studios',\n",
       " 'voice-over director',\n",
       " 'segments director',\n",
       " 'Shooting producer/director',\n",
       " 'director of photography: pub sequence',\n",
       " 'director of photography: wall sequence',\n",
       " 'documentary director of photography',\n",
       " 'director: TCCI Animation',\n",
       " 'soul cypher segment director',\n",
       " 'assistant animation director',\n",
       " 'director: red carpet show',\n",
       " 'links director',\n",
       " 'director: The Man Who Married a French Wife',\n",
       " 'director: The Monument/The Girls in Their Summer Dresses',\n",
       " 'conceptualizing director of photography',\n",
       " 'supervising director: production reve',\n",
       " 'director of photography: National Geographic Studios',\n",
       " 'challenge series director',\n",
       " 'walk in director',\n",
       " 'supervising director: Maven Image Platform',\n",
       " 'director: recipe',\n",
       " 'director: Locker Room Z',\n",
       " 'director: We Together',\n",
       " 'director: Serial Dater',\n",
       " 'director: Space',\n",
       " 'director: Prey',\n",
       " 'director: No Monsters Allowed',\n",
       " 'director: Bad Eggs',\n",
       " 'director: Jung Frankenstein/The Great Corben',\n",
       " 'director: Spike',\n",
       " 'director: Mr. Hendrix',\n",
       " 'director: Rattle',\n",
       " 'director: Happy Birthday',\n",
       " 'director: Epilogue',\n",
       " 'director: What Metal Girls Are Into',\n",
       " 'director: Abhorrent',\n",
       " 'director: BBC Nations & Regions',\n",
       " 'supervising director: Cartoon Network',\n",
       " 'director: bike unit',\n",
       " 'Assistant director of photography',\n",
       " 'director: GraphicResearch Inc.',\n",
       " 'director: Shirogumi Inc.',\n",
       " 'director: Digital Zero Inc.',\n",
       " 'She is the student director',\n",
       " 'director: dance sequences',\n",
       " 'director: Love, the Magician and Apollo',\n",
       " 'director of photography: first shooting phase',\n",
       " 'director: London Studio, Sony Computer Entertainment Europe',\n",
       " 'director: product development/first quality assurance, Sony Computer Entertainment America',\n",
       " 'director of photography: csc',\n",
       " 'senior creative director',\n",
       " 'senior director: post production',\n",
       " 'associate creative director',\n",
       " 'writer/director',\n",
       " 'french version director',\n",
       " 'series director: V-Force',\n",
       " 'music video director',\n",
       " 'family story director',\n",
       " 'series director: G-Revolution',\n",
       " 'realization director',\n",
       " 'arrangements, music producer, musical director',\n",
       " 'director: recreations',\n",
       " 'game director: Next Level Games',\n",
       " 'director: Il Palazzo Zoologico',\n",
       " 'director of photography: behind the scenes footage',\n",
       " 'director of photography: studio',\n",
       " 'studio director of photography',\n",
       " 'magic director',\n",
       " 'segement director',\n",
       " 'update director',\n",
       " 'theater director',\n",
       " 'ballet director',\n",
       " 'executive general director',\n",
       " 'show director',\n",
       " 'director: Dimps',\n",
       " 'director: Sonic Team',\n",
       " 'director: host sequence',\n",
       " 'video director: CSNY Tour',\n",
       " 'director: for Nex Entertainment',\n",
       " 'director: for Namco Bandai',\n",
       " 'opening titles director',\n",
       " 'director: Access Games Inc.',\n",
       " 'director: Digital Media Lab. Inc. staff',\n",
       " 'Best newface director',\n",
       " 'assignment director',\n",
       " 'writer/director/producer',\n",
       " 'director: Re-enactments',\n",
       " 'location director: remote',\n",
       " 'segment director: Play It Again, Norm',\n",
       " 'RJ is the main director',\n",
       " 'director: La Cathédrale Engloutie',\n",
       " 'director: Symphony in C',\n",
       " 'director: Le Loup',\n",
       " 'director of photography: India Burning',\n",
       " \"director of photography: Russia's Fight Factory\",\n",
       " 'director of photography: \"Battle For Idlib\"',\n",
       " 'director of photography: \"Seeking Solitude',\n",
       " 'director of photography: \"Undocumented\"',\n",
       " 'director of photography: \"The Last Responders\"',\n",
       " 'director of photography: \"Crackdown In Cambodia\"',\n",
       " 'short film director of photography',\n",
       " 'director of photography: drama shoot',\n",
       " 'challenge director',\n",
       " 'vfx director',\n",
       " 'director: House Reality',\n",
       " 'director: of French TV',\n",
       " 'director: of Swiss TV',\n",
       " 'comercial director',\n",
       " 'director: Rainmaker',\n",
       " 'director: Footlights',\n",
       " 'director: of Spanish TV',\n",
       " 'intimacy director',\n",
       " 'director: \"Old Reliable Edward\"/\"Not So Slow Coaches\"/\"Flatbeds of Fear\"/\"Disappearing Diesels\"',\n",
       " 'director: \"Signals Crossed\"/\"Toad\\'s Adventure\"/\"Duck in the Water\"/\"Duck and the Slip Coaches\"',\n",
       " 'director: \"Duncan the Humbug\"/\"Duncan and the Grumpy Passenger\"',\n",
       " 'director: \"Thomas the Quarry Engine\"/\"Thomas and the Emergency Cable\"',\n",
       " 'director: \"Marion and the Pipe\"/\"The Perfect Gift\"/\"Last Train for Christmas\"/\"Missing Gator\"',\n",
       " 'director: Dutch voices: ',\n",
       " 'director: \"No Steam Without Coal\"/\"Spencer\\'s VIP\"/\"Long Lost Friend\"/\"Toad\\'s Bright Idea\"',\n",
       " 'director: \"Emily Saves the World\"/\"Timothy and the Rainbow Car\"/\"Samson Sent for Scrap\"/\"Marion and the Dinosaurs\"',\n",
       " 'director: for Dutch TV',\n",
       " 'director: \"Samson at Your Service\"/\"Millie and the Volcano\"',\n",
       " 'director: \"Old Reliable Edward\"/\"Not So Slow Coaches\"',\n",
       " 'director: \"Who\\'s Geoffrey?\"/\"Slow Stephen\"/\"Wild Water Rescue\"/\"Two Wheels Good\"',\n",
       " 'director: \"Henry Spots Trouble\"/\"Toad and the Whale\"/\"Very Important Sheep\"/\"Helping Hiro\"',\n",
       " 'director: \"The Beast of Sodor\"/\"Reds vs Blues\"/\"Salty All at Sea\"/\"Diesel\\'s Ghostly Christmas - Part One\"',\n",
       " 'co-director: \"Diesel\\'s Ghostly Christmas - Part One\"',\n",
       " 'voice director: PCB Productions',\n",
       " 'director: \"The Phantom Express\"/\"The Smelly Kipper\"',\n",
       " 'director: \"Counting on Nia\"',\n",
       " 'director: \"Toby and the Whistling Woods\"',\n",
       " 'director: \"Henry in the Dark\"/\"All in Vain\"',\n",
       " 'director: \"Flatbeds of Fear\"',\n",
       " 'director: \"Percy and the Monster of Brendam\"',\n",
       " 'tech director',\n",
       " 'opening credits sequence director',\n",
       " 'director: YLE',\n",
       " 'director: UIT',\n",
       " 'cinematic director:  ',\n",
       " 'director: \"All in Vain\"/\"What Rebecca Does\"/\"Counting on Nia\"/\"Unscheduled Stops\"/\"Apology Impossible\"',\n",
       " 'director: \"Missing Gator\"/\"Wild Water Rescue\"',\n",
       " 'director: SCEA Product Development, FPQA',\n",
       " 'director: \"Bill or Ben?\"',\n",
       " 'director: \"Unscheduled Stops\"/\"Philip to the Rescue\"/\"Samson and the Fireworks\"',\n",
       " 'director: \"The Beast of Sodor\"/\"Snow Place Like Home\"',\n",
       " 'director: \"Ho Ho Snowman\"/\"Emily\\'s Winter Party Special\"/\"Tree Trouble\"/\"The Christmas Tree Express\"',\n",
       " 'co-director: \"Philip to the Rescue\"',\n",
       " 'director: \"No Snow for Thomas\"/\"The Frozen Turntable\"',\n",
       " 'director: \"Daisy\\'s Perfect Christmas\"/\"The Christmas Coffeepot\"/\"Hunt the Car\"',\n",
       " 'director: \"The Beast of Sodor\"/\"A Cranky Christmas\"/\"Snow Place Like Home\"',\n",
       " 'director: \"Tree Trouble\"/\"Ho Ho Snowman\"',\n",
       " 'director: TV crew',\n",
       " 'vingette director',\n",
       " 'director: \"The Afternoon Tea Express\"',\n",
       " 'director: \"Kangaroo Christmas\"/\"Emily in the Middle\"/\"Letters to Santa\"/\"Hunt the Car\"',\n",
       " 'director: \"A Cranky Christmas\"/\"Duncan the Humbug\"/\"Last Train for Christmas\"',\n",
       " 'director: \"Whiff\\'s Wish\"',\n",
       " 'executive chief director',\n",
       " 'director: \"No Snow for Thomas\"',\n",
       " 'director: \"Last Train for Christmas\"/\"The Perfect Gift\"/\"Duncan the Humbug\"/\"Snow Place Like Home\"/\"A Cranky Christmas\"',\n",
       " 'director: \"Emily\\'s Winter Party Special\"/\"Ho Ho Snowman\"/\"Let it Snow\"/\"The Christmas Tree Express\"',\n",
       " 'director: \"Hunt the Car\"/\"Kangaroo Christmas\"',\n",
       " 'director: \"The Missing Christmas Decorations\"',\n",
       " 'director: \"The Perfect Gift\"/\"Diesel\\'s Ghostly Christmas - Part One\"/\"Diesel\\'s Ghostly Christmas - Part Two\"/\"A Cranky Christmas\"/\"Last Train for Christmas\"',\n",
       " 'director: \"The Christmas Tree Express\"/\"Emily\\'s Winter Party Special\"',\n",
       " 'director: \"Emily in the Middle\"/\"Den and Dart\"',\n",
       " 'director: \"Snow Place Like Home\"/\"The Beast of Sodor\"',\n",
       " 'director: \"Ho Ho Snowman\"/\"Percy the Snowman\"/\"Let it Snow\"',\n",
       " 'director: \"Samson and the Fireworks\"',\n",
       " 'director: \"The Frozen Turntable\"',\n",
       " 'director: \"Ho Ho Snowman\"/\"Whiff\\'s Wish\"',\n",
       " 'co-director: \"Den and Dart\"/\"Philip to the Rescue\"',\n",
       " 'director: \"Apology Impossible\"',\n",
       " 'director: \"No Snow for Thomas\"/\"No More Mr Nice Engine\"',\n",
       " 'director: \"Percy the Snowman\"/\"Percy and the Monster of Brendam\"',\n",
       " 'director: \"Den and Dart\"/\"Best Engine Ever\"/\"The Little Engine Who Raced Ahead\"',\n",
       " 'co-director: \"Den and Dart\"/\"Best Engine Ever\"/\"The Little Engine Who Raced Ahead\"',\n",
       " 'co-director: \"Best Engine Ever\"/\"The Little Engine Who Raced Ahead\"',\n",
       " 'director: \"The Big Freeze\"/\"Den and Dart\"/\"The Fastest Red Engine on Sodor\"/\"Henry Gets the Express\"/\"Emily in the Middle\"',\n",
       " 'director: \"The Truth About Toby\"',\n",
       " 'director: \"Happy Birthday Sir!\"/\"Percy and the Calliope\"',\n",
       " 'director: \"Den and Dart\"',\n",
       " 'director: \"Diesel\\'s Ghostly Christmas - Part One\"/\"Diesel\\'s Ghostly Christmas - Part Two\"/\"Helping Hiro\"',\n",
       " 'guest segment director',\n",
       " 'format director',\n",
       " 'director: original production',\n",
       " 'director: \"Calm Down Caitlin\"',\n",
       " 'director: \"Apology Impossible\"/\"Terence Breaks the Ice\"',\n",
       " 'director: \"Henry Spots Trouble\"/\"Spencer\\'s VIP\"',\n",
       " 'director: \"Old Reliable Edward\"',\n",
       " 'director: \"Percy and the Monster of Brendam\"/\"Toby and the Whistling Woods\"/\"Whiff\\'s Wish\"',\n",
       " 'reality director: senior',\n",
       " 'director: Cliff Richard sequence',\n",
       " 'Green screen director',\n",
       " 'director: Game Boy',\n",
       " 'director: \"Philip to the Rescue\"/\"Unscheduled Stops\"',\n",
       " 'director: \"Wild Water Rescue\"/\"Duncan and the Grumpy Passenger\"',\n",
       " 'director: \"Percy and the Calliope\"/\"Ho Ho Snowman\"/\"Ol\\' Wheezy Wobbles\"/\"Henry\\'s Happy Coal\"',\n",
       " 'director: \"Duncan the Humbug\"/\"Duncan and the Grumpy Passenger\"/\"Last Train for Christmas\"',\n",
       " 'director: \"Thomas and the Emergency Cable\"',\n",
       " 'director: Go Back Home',\n",
       " 'director: Dirty Laundry',\n",
       " 'director: REC - Last Days',\n",
       " 'director: Till The End Of The World',\n",
       " 'director: A Moment',\n",
       " 'director: The Last Show',\n",
       " 'director: \"The Afternoon Tea Express\"/\"The Thomas Way\"',\n",
       " 'director: \"Henry Gets the Express\"/\"All in Vain\"/\"Den and Dart\"',\n",
       " 'director: \"Helping Hiro\"',\n",
       " 'director: \"Percy the Snowman\"',\n",
       " 'director: \"What Rebecca Does\"/\"Emily in the Middle\"',\n",
       " 'director: \"Snow Place Like Home\"',\n",
       " 'director: \"Flash Bang Wallop!\"/\"Percy and the Calliope\"/\"Kevin the Steamie\"/\"James to the Rescue\"',\n",
       " 'director: \"The Water Wheel\"',\n",
       " 'director: \"Henry\\'s Hero\"',\n",
       " 'director: \"Henry Spots Trouble\"/\"Slow Stephen\"/\"Who\\'s Geoffrey?\"/\"The Truth About Toby\"',\n",
       " 'director: \"Not Now, Charlie!\"/\"The Phantom Express\"/\"Steamie Stafford\"/\"The Switch\"',\n",
       " 'director: \"Last Train for Christmas\"/\"Duncan the Humbug\"/\"Duncan and the Grumpy Passenger\"',\n",
       " 'collaborative guest director',\n",
       " 'director: \"Thomas\\' Shortcut\"',\n",
       " 'director: \"The Fastest Red Engine on Sodor\"/\"The Big Freeze\"/\"Terence Breaks the Ice\"',\n",
       " 'director: \"Wild Water Rescue\"',\n",
       " 'director: \"Kevin the Steamie\"/\"Henry\\'s Happy Coal\"',\n",
       " 'director: \"What Rebecca Does\"/\"Philip to the Rescue\"/\"The Missing Breakdown Train\"/\"Counting on Nia\"',\n",
       " 'director: \"Lost Property\"/\"Duncan and the Grumpy Passenger\"/\"No Steam Without Coal\"',\n",
       " 'director: \"Up, Up and Away!\"',\n",
       " 'director: \"The Switch\"/\"The Phantom Express\"/\"Steamie Stafford\"/\"Not Now, Charlie!\"',\n",
       " 'director: \"Last Train for Christmas\"/\"Duncan and the Grumpy Passenger\"/\"Duncan the Humbug\"',\n",
       " 'director: \"The Smelly Kipper\"',\n",
       " 'director: \"Henry Gets the Express\"/\"Samson and the Fireworks\"/\"Mucking About\"',\n",
       " 'director: \"Slow Stephen\"',\n",
       " 'director: \"Let it Snow\"/\"Emily and Dash\"/\"Wonky Whistle\"',\n",
       " 'director: for Austrian TV',\n",
       " 'director: revisit',\n",
       " 'director: outside broadcast',\n",
       " 'director: \"The Frozen Turntable\"/\"Scruff\\'s Makeover\"',\n",
       " 'director: \"Lost Property\"/\"Reds vs Blues\"',\n",
       " 'director: \"Signals Crossed\"',\n",
       " 'director: \"Henry\\'s Happy Coal\"/\"Wonky Whistle\"',\n",
       " 'senior director of photography',\n",
       " 'director: \"Gordon Runs Dry\"/\"Bill or Ben?\"/\"The Thomas Way\"',\n",
       " 'director: \"The Big Freeze\"',\n",
       " 'director: \"Spencer\\'s VIP\"',\n",
       " 'director: \"Duck and the Slip Coaches\"',\n",
       " 'director: \"Kevin the Steamie\"/\"Thomas and the Sounds of Sodor\"',\n",
       " 'reenacted director',\n",
       " 'director: \"No More Mr Nice Engine\"/\"Wayward Winston\"',\n",
       " 'director: \"Toby\\'s New Friend\"/\"The Fastest Red Engine on Sodor\"',\n",
       " 'director: \"Samson at Your Service\"',\n",
       " 'director: \"Edward the Hero\"/\"Flash Bang Wallop!\"/\"Ol\\' Wheezy Wobbles\"',\n",
       " 'game director: Santa Monica Studio',\n",
       " 'second director of photography',\n",
       " 'director: \"Marion and the Pipe\"/\"Reds vs Blues\"/\"Slow Stephen\"/\"Duncan and the Grumpy Passenger\"/\"The Beast of Sodor\"',\n",
       " 'director: \"Thomas Toots the Crows\"/\"Thomas and the Sounds of Sodor\"',\n",
       " 'national director: Sky',\n",
       " 'national director: Telecinco',\n",
       " 'programme director',\n",
       " 'chief series director',\n",
       " 'director: of the American Broadcasting Company',\n",
       " 'director: \"Scruff\\'s Makeover\"/\"Henry\\'s Hero\"',\n",
       " 'director: \"Who\\'s Geoffrey?\"',\n",
       " 'director: \"Duck and the Slip Coaches\"/\"Old Reliable Edward\"',\n",
       " 'director: \"Pop Goes Thomas\"/\"Up, Up and Away!\"',\n",
       " 'audio post director',\n",
       " 'director: \"Gordon Runs Dry\"/\"Bill or Ben?\"/\"Not Now, Charlie!\"/\"The Switch\"',\n",
       " 'director: \"Samson at Your Service\"/\"Spencer\\'s VIP\"',\n",
       " 'director: \"Henry\\'s Happy Coal\"',\n",
       " 'field segments director',\n",
       " 'director: OB',\n",
       " 'director: \"Rosie is Red\"/\"Samson and the Fireworks\"',\n",
       " 'director: \"Reds vs Blues\"',\n",
       " 'director: \"Flash Bang Wallop!\"/\"Bust My Buffers!\"/\"Wonky Whistle\"/\"Percy and the Monster of Brendam\"/\"Don\\'t Bother Victor!\"',\n",
       " 'technicolor director of photography',\n",
       " 'Animator and director',\n",
       " 'director: Catherine Bailey: The Lady is a Tramp',\n",
       " 'director: Roger Ballen',\n",
       " 'director of photography: Montréal',\n",
       " 'director: re-enactment',\n",
       " 'creative & art director',\n",
       " 'debate director',\n",
       " 'virtual director',\n",
       " 'tv-director',\n",
       " 'fiction director',\n",
       " 'director: history',\n",
       " 'short film director',\n",
       " 'director of photography: Seabrooke',\n",
       " 'director of photography: end credits',\n",
       " 'director: villa',\n",
       " 'vlog director',\n",
       " 'VT director',\n",
       " 'co-director: ballett',\n",
       " 'director: high altitude',\n",
       " 'co director:  ',\n",
       " 'series director: ABTV',\n",
       " 'director of photography: fsf',\n",
       " 'director: Rocket Studio Inc.',\n",
       " 'english voice director: Skylark Sound Studios',\n",
       " 'director: Joe Down Studio',\n",
       " 'director: G-Style Co. Ltd.',\n",
       " 'director: Kai Graphics Inc.',\n",
       " 'general director: OmiyaSoft Co. Ltd.',\n",
       " 'director: Eighting Co. Ltd.',\n",
       " 'director: party games',\n",
       " 'co-director: motion capture',\n",
       " 'first assistant director/Producer and FAD',\n",
       " 'director of culinary',\n",
       " 'outside director',\n",
       " 'creative director: Goldtooth',\n",
       " 'director: Success Corporation',\n",
       " 'director: Point Pictures Co. Ltd.',\n",
       " 'livestream director',\n",
       " 'series director: Return To The Wild',\n",
       " 'executive director: Factual Programs',\n",
       " 'co-director of photography:  ',\n",
       " 'supervising director: Digital eMation, Inc.',\n",
       " 'director: Globe Education',\n",
       " 'director: \"Gorilla in Our Midst\"',\n",
       " 'director de produccion',\n",
       " 'shop director',\n",
       " 'director: VR',\n",
       " 'director of photography: Lady Alaska',\n",
       " 'cinematic director: vertical slice',\n",
       " 'original game director',\n",
       " 'director: stage',\n",
       " 'director: screen',\n",
       " 'director: Bildregie',\n",
       " 'dialogue director/german translation',\n",
       " 'director: live show',\n",
       " 'chief live director',\n",
       " ...]"
      ]
     },
     "execution_count": 20,
     "metadata": {},
     "output_type": "execute_result"
    }
   ],
   "source": [
    "jobs = job['job'].unique().tolist()\n",
    "[s for s in jobs if \"director\" in s]"
   ]
  },
  {
   "attachments": {},
   "cell_type": "markdown",
   "metadata": {},
   "source": [
    "This is a mess.\n",
    "There is a lot of information that can be used, but the job categories need to be cleaned first."
   ]
  },
  {
   "cell_type": "code",
   "execution_count": 23,
   "metadata": {},
   "outputs": [
    {
     "data": {
      "text/html": [
       "<div>\n",
       "<style scoped>\n",
       "    .dataframe tbody tr th:only-of-type {\n",
       "        vertical-align: middle;\n",
       "    }\n",
       "\n",
       "    .dataframe tbody tr th {\n",
       "        vertical-align: top;\n",
       "    }\n",
       "\n",
       "    .dataframe thead th {\n",
       "        text-align: right;\n",
       "    }\n",
       "</style>\n",
       "<table border=\"1\" class=\"dataframe\">\n",
       "  <thead>\n",
       "    <tr style=\"text-align: right;\">\n",
       "      <th></th>\n",
       "      <th>nconst</th>\n",
       "      <th>job</th>\n",
       "    </tr>\n",
       "    <tr>\n",
       "      <th>tconst</th>\n",
       "      <th></th>\n",
       "      <th></th>\n",
       "    </tr>\n",
       "  </thead>\n",
       "  <tbody>\n",
       "  </tbody>\n",
       "</table>\n",
       "</div>"
      ],
      "text/plain": [
       "Empty DataFrame\n",
       "Columns: [nconst, job]\n",
       "Index: []"
      ]
     },
     "execution_count": 23,
     "metadata": {},
     "output_type": "execute_result"
    }
   ],
   "source": [
    "list_job = job[job.index.isin(enjoyment['intid'])]\n",
    "list_job[list_job['job']=='director']"
   ]
  },
  {
   "attachments": {},
   "cell_type": "markdown",
   "metadata": {},
   "source": [
    "let's look at the ordering and title basics directors"
   ]
  },
  {
   "cell_type": "code",
   "execution_count": 24,
   "metadata": {},
   "outputs": [
    {
     "data": {
      "text/html": [
       "<div>\n",
       "<style scoped>\n",
       "    .dataframe tbody tr th:only-of-type {\n",
       "        vertical-align: middle;\n",
       "    }\n",
       "\n",
       "    .dataframe tbody tr th {\n",
       "        vertical-align: top;\n",
       "    }\n",
       "\n",
       "    .dataframe thead th {\n",
       "        text-align: right;\n",
       "    }\n",
       "</style>\n",
       "<table border=\"1\" class=\"dataframe\">\n",
       "  <thead>\n",
       "    <tr style=\"text-align: right;\">\n",
       "      <th></th>\n",
       "      <th>directors</th>\n",
       "    </tr>\n",
       "    <tr>\n",
       "      <th>tconst</th>\n",
       "      <th></th>\n",
       "    </tr>\n",
       "  </thead>\n",
       "  <tbody>\n",
       "    <tr>\n",
       "      <th>17136</th>\n",
       "      <td>485</td>\n",
       "    </tr>\n",
       "    <tr>\n",
       "      <th>50083</th>\n",
       "      <td>1486</td>\n",
       "    </tr>\n",
       "    <tr>\n",
       "      <th>52357</th>\n",
       "      <td>33</td>\n",
       "    </tr>\n",
       "    <tr>\n",
       "      <th>66434</th>\n",
       "      <td>184</td>\n",
       "    </tr>\n",
       "    <tr>\n",
       "      <th>73195</th>\n",
       "      <td>229</td>\n",
       "    </tr>\n",
       "    <tr>\n",
       "      <th>...</th>\n",
       "      <td>...</td>\n",
       "    </tr>\n",
       "    <tr>\n",
       "      <th>9506474</th>\n",
       "      <td>1717924</td>\n",
       "    </tr>\n",
       "    <tr>\n",
       "      <th>9686708</th>\n",
       "      <td>31976</td>\n",
       "    </tr>\n",
       "    <tr>\n",
       "      <th>9764362</th>\n",
       "      <td>617042</td>\n",
       "    </tr>\n",
       "    <tr>\n",
       "      <th>9783600</th>\n",
       "      <td>2676052</td>\n",
       "    </tr>\n",
       "    <tr>\n",
       "      <th>9806192</th>\n",
       "      <td>3021346</td>\n",
       "    </tr>\n",
       "  </tbody>\n",
       "</table>\n",
       "<p>191 rows × 1 columns</p>\n",
       "</div>"
      ],
      "text/plain": [
       "         directors\n",
       "tconst            \n",
       "17136          485\n",
       "50083         1486\n",
       "52357           33\n",
       "66434          184\n",
       "73195          229\n",
       "...            ...\n",
       "9506474    1717924\n",
       "9686708      31976\n",
       "9764362     617042\n",
       "9783600    2676052\n",
       "9806192    3021346\n",
       "\n",
       "[191 rows x 1 columns]"
      ]
     },
     "execution_count": 24,
     "metadata": {},
     "output_type": "execute_result"
    }
   ],
   "source": [
    "enjoyment_directors.drop_duplicates()"
   ]
  },
  {
   "cell_type": "code",
   "execution_count": 25,
   "metadata": {},
   "outputs": [
    {
     "data": {
      "text/html": [
       "<div>\n",
       "<style scoped>\n",
       "    .dataframe tbody tr th:only-of-type {\n",
       "        vertical-align: middle;\n",
       "    }\n",
       "\n",
       "    .dataframe tbody tr th {\n",
       "        vertical-align: top;\n",
       "    }\n",
       "\n",
       "    .dataframe thead th {\n",
       "        text-align: right;\n",
       "    }\n",
       "</style>\n",
       "<table border=\"1\" class=\"dataframe\">\n",
       "  <thead>\n",
       "    <tr style=\"text-align: right;\">\n",
       "      <th></th>\n",
       "      <th>directors</th>\n",
       "    </tr>\n",
       "    <tr>\n",
       "      <th>tconst</th>\n",
       "      <th></th>\n",
       "    </tr>\n",
       "  </thead>\n",
       "  <tbody>\n",
       "    <tr>\n",
       "      <th>17136</th>\n",
       "      <td>485</td>\n",
       "    </tr>\n",
       "    <tr>\n",
       "      <th>50083</th>\n",
       "      <td>1486</td>\n",
       "    </tr>\n",
       "    <tr>\n",
       "      <th>52357</th>\n",
       "      <td>33</td>\n",
       "    </tr>\n",
       "    <tr>\n",
       "      <th>66434</th>\n",
       "      <td>184</td>\n",
       "    </tr>\n",
       "    <tr>\n",
       "      <th>73195</th>\n",
       "      <td>229</td>\n",
       "    </tr>\n",
       "    <tr>\n",
       "      <th>...</th>\n",
       "      <td>...</td>\n",
       "    </tr>\n",
       "    <tr>\n",
       "      <th>9506474</th>\n",
       "      <td>1717924</td>\n",
       "    </tr>\n",
       "    <tr>\n",
       "      <th>9686708</th>\n",
       "      <td>31976</td>\n",
       "    </tr>\n",
       "    <tr>\n",
       "      <th>9764362</th>\n",
       "      <td>617042</td>\n",
       "    </tr>\n",
       "    <tr>\n",
       "      <th>9783600</th>\n",
       "      <td>2676052</td>\n",
       "    </tr>\n",
       "    <tr>\n",
       "      <th>9806192</th>\n",
       "      <td>3021346</td>\n",
       "    </tr>\n",
       "  </tbody>\n",
       "</table>\n",
       "<p>181 rows × 1 columns</p>\n",
       "</div>"
      ],
      "text/plain": [
       "         directors\n",
       "tconst            \n",
       "17136          485\n",
       "50083         1486\n",
       "52357           33\n",
       "66434          184\n",
       "73195          229\n",
       "...            ...\n",
       "9506474    1717924\n",
       "9686708      31976\n",
       "9764362     617042\n",
       "9783600    2676052\n",
       "9806192    3021346\n",
       "\n",
       "[181 rows x 1 columns]"
      ]
     },
     "execution_count": 25,
     "metadata": {},
     "output_type": "execute_result"
    }
   ],
   "source": [
    "ordering_directors = list_ordering[list_ordering['category'] == 'director']['nconst']\n",
    "ordering_directors = ordering_directors.to_frame().rename(columns={\"nconst\":\"directors\"})\n",
    "ordering_directors.drop_duplicates()"
   ]
  },
  {
   "cell_type": "code",
   "execution_count": 26,
   "metadata": {},
   "outputs": [
    {
     "data": {
      "text/html": [
       "<div>\n",
       "<style scoped>\n",
       "    .dataframe tbody tr th:only-of-type {\n",
       "        vertical-align: middle;\n",
       "    }\n",
       "\n",
       "    .dataframe tbody tr th {\n",
       "        vertical-align: top;\n",
       "    }\n",
       "\n",
       "    .dataframe thead th {\n",
       "        text-align: right;\n",
       "    }\n",
       "</style>\n",
       "<table border=\"1\" class=\"dataframe\">\n",
       "  <thead>\n",
       "    <tr style=\"text-align: right;\">\n",
       "      <th></th>\n",
       "      <th>directors</th>\n",
       "    </tr>\n",
       "    <tr>\n",
       "      <th>tconst</th>\n",
       "      <th></th>\n",
       "    </tr>\n",
       "  </thead>\n",
       "  <tbody>\n",
       "    <tr>\n",
       "      <th>17136</th>\n",
       "      <td>485</td>\n",
       "    </tr>\n",
       "    <tr>\n",
       "      <th>50083</th>\n",
       "      <td>1486</td>\n",
       "    </tr>\n",
       "    <tr>\n",
       "      <th>52357</th>\n",
       "      <td>33</td>\n",
       "    </tr>\n",
       "    <tr>\n",
       "      <th>66434</th>\n",
       "      <td>184</td>\n",
       "    </tr>\n",
       "    <tr>\n",
       "      <th>73195</th>\n",
       "      <td>229</td>\n",
       "    </tr>\n",
       "    <tr>\n",
       "      <th>...</th>\n",
       "      <td>...</td>\n",
       "    </tr>\n",
       "    <tr>\n",
       "      <th>9506474</th>\n",
       "      <td>1717924</td>\n",
       "    </tr>\n",
       "    <tr>\n",
       "      <th>9686708</th>\n",
       "      <td>31976</td>\n",
       "    </tr>\n",
       "    <tr>\n",
       "      <th>9764362</th>\n",
       "      <td>617042</td>\n",
       "    </tr>\n",
       "    <tr>\n",
       "      <th>9783600</th>\n",
       "      <td>2676052</td>\n",
       "    </tr>\n",
       "    <tr>\n",
       "      <th>9806192</th>\n",
       "      <td>3021346</td>\n",
       "    </tr>\n",
       "  </tbody>\n",
       "</table>\n",
       "<p>191 rows × 1 columns</p>\n",
       "</div>"
      ],
      "text/plain": [
       "         directors\n",
       "tconst            \n",
       "17136          485\n",
       "50083         1486\n",
       "52357           33\n",
       "66434          184\n",
       "73195          229\n",
       "...            ...\n",
       "9506474    1717924\n",
       "9686708      31976\n",
       "9764362     617042\n",
       "9783600    2676052\n",
       "9806192    3021346\n",
       "\n",
       "[191 rows x 1 columns]"
      ]
     },
     "execution_count": 26,
     "metadata": {},
     "output_type": "execute_result"
    }
   ],
   "source": [
    "pd.concat([enjoyment_directors.drop_duplicates(), ordering_directors.drop_duplicates()]).drop_duplicates()"
   ]
  },
  {
   "cell_type": "code",
   "execution_count": 33,
   "metadata": {},
   "outputs": [
    {
     "data": {
      "text/plain": [
       "directors\n",
       "33           1\n",
       "815204       1\n",
       "822582       1\n",
       "844301       1\n",
       "851930       1\n",
       "            ..\n",
       "307497       1\n",
       "315117       1\n",
       "318916       1\n",
       "319659       1\n",
       "7743299      1\n",
       "Length: 181, dtype: int64"
      ]
     },
     "execution_count": 33,
     "metadata": {},
     "output_type": "execute_result"
    }
   ],
   "source": [
    "ordering_directors.drop_duplicates().value_counts()"
   ]
  },
  {
   "attachments": {},
   "cell_type": "markdown",
   "metadata": {},
   "source": [
    "So the ordering file does not contain all the info.\n",
    "We will just use the directors file for the directors."
   ]
  },
  {
   "cell_type": "code",
   "execution_count": 37,
   "metadata": {},
   "outputs": [
    {
     "data": {
      "text/plain": [
       "directors\n",
       "33           1\n",
       "386          1\n",
       "116          1\n",
       "154          1\n",
       "165          1\n",
       "            ..\n",
       "4170048      1\n",
       "4186854      1\n",
       "5165413      1\n",
       "3230448      1\n",
       "7743299      1\n",
       "Length: 191, dtype: int64"
      ]
     },
     "execution_count": 37,
     "metadata": {},
     "output_type": "execute_result"
    }
   ],
   "source": [
    "enjoyment_directors.drop_duplicates().value_counts().sort_values()"
   ]
  },
  {
   "attachments": {},
   "cell_type": "markdown",
   "metadata": {},
   "source": [
    "so far there haven't been any directors that appeared two times in the rated watch list"
   ]
  },
  {
   "attachments": {},
   "cell_type": "markdown",
   "metadata": {},
   "source": [
    "## 12) writers"
   ]
  },
  {
   "cell_type": "code",
   "execution_count": 11,
   "metadata": {},
   "outputs": [],
   "source": [
    "# get title basics\n",
    "writers_url = os.path.join(PARQ_PATH, FILES_IMDB_PARQ[\"writers\"])\n",
    "writers = pd.read_parquet(writers_url)\n",
    "\n",
    "# filter\n",
    "enjoyment_writers = writers[writers.index.isin(enjoyment['intid'])]"
   ]
  },
  {
   "cell_type": "code",
   "execution_count": 12,
   "metadata": {},
   "outputs": [
    {
     "data": {
      "text/html": [
       "<div>\n",
       "<style scoped>\n",
       "    .dataframe tbody tr th:only-of-type {\n",
       "        vertical-align: middle;\n",
       "    }\n",
       "\n",
       "    .dataframe tbody tr th {\n",
       "        vertical-align: top;\n",
       "    }\n",
       "\n",
       "    .dataframe thead th {\n",
       "        text-align: right;\n",
       "    }\n",
       "</style>\n",
       "<table border=\"1\" class=\"dataframe\">\n",
       "  <thead>\n",
       "    <tr style=\"text-align: right;\">\n",
       "      <th></th>\n",
       "      <th>writers</th>\n",
       "    </tr>\n",
       "    <tr>\n",
       "      <th>tconst</th>\n",
       "      <th></th>\n",
       "    </tr>\n",
       "  </thead>\n",
       "  <tbody>\n",
       "    <tr>\n",
       "      <th>17136</th>\n",
       "      <td>902376</td>\n",
       "    </tr>\n",
       "    <tr>\n",
       "      <th>17136</th>\n",
       "      <td>485</td>\n",
       "    </tr>\n",
       "    <tr>\n",
       "      <th>50083</th>\n",
       "      <td>741627</td>\n",
       "    </tr>\n",
       "    <tr>\n",
       "      <th>52357</th>\n",
       "      <td>178785</td>\n",
       "    </tr>\n",
       "    <tr>\n",
       "      <th>52357</th>\n",
       "      <td>853138</td>\n",
       "    </tr>\n",
       "    <tr>\n",
       "      <th>...</th>\n",
       "      <td>...</td>\n",
       "    </tr>\n",
       "    <tr>\n",
       "      <th>9764362</th>\n",
       "      <td>2219721</td>\n",
       "    </tr>\n",
       "    <tr>\n",
       "      <th>9764362</th>\n",
       "      <td>4301557</td>\n",
       "    </tr>\n",
       "    <tr>\n",
       "      <th>9783600</th>\n",
       "      <td>2808422</td>\n",
       "    </tr>\n",
       "    <tr>\n",
       "      <th>9806192</th>\n",
       "      <td>3021346</td>\n",
       "    </tr>\n",
       "    <tr>\n",
       "      <th>9806192</th>\n",
       "      <td>491011</td>\n",
       "    </tr>\n",
       "  </tbody>\n",
       "</table>\n",
       "<p>494 rows × 1 columns</p>\n",
       "</div>"
      ],
      "text/plain": [
       "         writers\n",
       "tconst          \n",
       "17136     902376\n",
       "17136        485\n",
       "50083     741627\n",
       "52357     178785\n",
       "52357     853138\n",
       "...          ...\n",
       "9764362  2219721\n",
       "9764362  4301557\n",
       "9783600  2808422\n",
       "9806192  3021346\n",
       "9806192   491011\n",
       "\n",
       "[494 rows x 1 columns]"
      ]
     },
     "execution_count": 12,
     "metadata": {},
     "output_type": "execute_result"
    }
   ],
   "source": [
    "enjoyment_writers.drop_duplicates()"
   ]
  },
  {
   "cell_type": "code",
   "execution_count": 13,
   "metadata": {},
   "outputs": [
    {
     "data": {
      "text/plain": [
       "393"
      ]
     },
     "execution_count": 13,
     "metadata": {},
     "output_type": "execute_result"
    }
   ],
   "source": [
    "# get oredering data\n",
    "ordering_url = os.path.join(PARQ_PATH, FILES_IMDB_PARQ[\"ordering\"])\n",
    "ordering = pd.read_parquet(ordering_url)\n",
    "\n",
    "list_ordering = ordering[ordering.index.isin(enjoyment['intid'])]\n",
    "\n",
    "list_ordering = list_ordering[list_ordering['category'] == 'writer']\n",
    "len(list_ordering)"
   ]
  },
  {
   "cell_type": "code",
   "execution_count": 14,
   "metadata": {},
   "outputs": [
    {
     "data": {
      "text/html": [
       "<div>\n",
       "<style scoped>\n",
       "    .dataframe tbody tr th:only-of-type {\n",
       "        vertical-align: middle;\n",
       "    }\n",
       "\n",
       "    .dataframe tbody tr th {\n",
       "        vertical-align: top;\n",
       "    }\n",
       "\n",
       "    .dataframe thead th {\n",
       "        text-align: right;\n",
       "    }\n",
       "</style>\n",
       "<table border=\"1\" class=\"dataframe\">\n",
       "  <thead>\n",
       "    <tr style=\"text-align: right;\">\n",
       "      <th></th>\n",
       "      <th>writers</th>\n",
       "    </tr>\n",
       "    <tr>\n",
       "      <th>tconst</th>\n",
       "      <th></th>\n",
       "    </tr>\n",
       "  </thead>\n",
       "  <tbody>\n",
       "    <tr>\n",
       "      <th>17136</th>\n",
       "      <td>902376</td>\n",
       "    </tr>\n",
       "    <tr>\n",
       "      <th>50083</th>\n",
       "      <td>741627</td>\n",
       "    </tr>\n",
       "    <tr>\n",
       "      <th>52357</th>\n",
       "      <td>27173</td>\n",
       "    </tr>\n",
       "    <tr>\n",
       "      <th>52357</th>\n",
       "      <td>178785</td>\n",
       "    </tr>\n",
       "    <tr>\n",
       "      <th>52357</th>\n",
       "      <td>853138</td>\n",
       "    </tr>\n",
       "    <tr>\n",
       "      <th>...</th>\n",
       "      <td>...</td>\n",
       "    </tr>\n",
       "    <tr>\n",
       "      <th>9686708</th>\n",
       "      <td>3461468</td>\n",
       "    </tr>\n",
       "    <tr>\n",
       "      <th>9764362</th>\n",
       "      <td>2219721</td>\n",
       "    </tr>\n",
       "    <tr>\n",
       "      <th>9764362</th>\n",
       "      <td>4301557</td>\n",
       "    </tr>\n",
       "    <tr>\n",
       "      <th>9783600</th>\n",
       "      <td>2808422</td>\n",
       "    </tr>\n",
       "    <tr>\n",
       "      <th>9806192</th>\n",
       "      <td>491011</td>\n",
       "    </tr>\n",
       "  </tbody>\n",
       "</table>\n",
       "<p>342 rows × 1 columns</p>\n",
       "</div>"
      ],
      "text/plain": [
       "         writers\n",
       "tconst          \n",
       "17136     902376\n",
       "50083     741627\n",
       "52357      27173\n",
       "52357     178785\n",
       "52357     853138\n",
       "...          ...\n",
       "9686708  3461468\n",
       "9764362  2219721\n",
       "9764362  4301557\n",
       "9783600  2808422\n",
       "9806192   491011\n",
       "\n",
       "[342 rows x 1 columns]"
      ]
     },
     "execution_count": 14,
     "metadata": {},
     "output_type": "execute_result"
    }
   ],
   "source": [
    "ordering_writers = list_ordering[list_ordering['category'] == 'writer']['nconst']\n",
    "ordering_writers = ordering_writers.to_frame().rename(columns={\"nconst\":\"writers\"})\n",
    "ordering_writers.drop_duplicates()"
   ]
  },
  {
   "cell_type": "code",
   "execution_count": 15,
   "metadata": {},
   "outputs": [
    {
     "data": {
      "text/html": [
       "<div>\n",
       "<style scoped>\n",
       "    .dataframe tbody tr th:only-of-type {\n",
       "        vertical-align: middle;\n",
       "    }\n",
       "\n",
       "    .dataframe tbody tr th {\n",
       "        vertical-align: top;\n",
       "    }\n",
       "\n",
       "    .dataframe thead th {\n",
       "        text-align: right;\n",
       "    }\n",
       "</style>\n",
       "<table border=\"1\" class=\"dataframe\">\n",
       "  <thead>\n",
       "    <tr style=\"text-align: right;\">\n",
       "      <th></th>\n",
       "      <th>writers</th>\n",
       "    </tr>\n",
       "    <tr>\n",
       "      <th>tconst</th>\n",
       "      <th></th>\n",
       "    </tr>\n",
       "  </thead>\n",
       "  <tbody>\n",
       "    <tr>\n",
       "      <th>17136</th>\n",
       "      <td>902376</td>\n",
       "    </tr>\n",
       "    <tr>\n",
       "      <th>17136</th>\n",
       "      <td>485</td>\n",
       "    </tr>\n",
       "    <tr>\n",
       "      <th>50083</th>\n",
       "      <td>741627</td>\n",
       "    </tr>\n",
       "    <tr>\n",
       "      <th>52357</th>\n",
       "      <td>178785</td>\n",
       "    </tr>\n",
       "    <tr>\n",
       "      <th>52357</th>\n",
       "      <td>853138</td>\n",
       "    </tr>\n",
       "    <tr>\n",
       "      <th>...</th>\n",
       "      <td>...</td>\n",
       "    </tr>\n",
       "    <tr>\n",
       "      <th>9764362</th>\n",
       "      <td>2219721</td>\n",
       "    </tr>\n",
       "    <tr>\n",
       "      <th>9764362</th>\n",
       "      <td>4301557</td>\n",
       "    </tr>\n",
       "    <tr>\n",
       "      <th>9783600</th>\n",
       "      <td>2808422</td>\n",
       "    </tr>\n",
       "    <tr>\n",
       "      <th>9806192</th>\n",
       "      <td>3021346</td>\n",
       "    </tr>\n",
       "    <tr>\n",
       "      <th>9806192</th>\n",
       "      <td>491011</td>\n",
       "    </tr>\n",
       "  </tbody>\n",
       "</table>\n",
       "<p>494 rows × 1 columns</p>\n",
       "</div>"
      ],
      "text/plain": [
       "         writers\n",
       "tconst          \n",
       "17136     902376\n",
       "17136        485\n",
       "50083     741627\n",
       "52357     178785\n",
       "52357     853138\n",
       "...          ...\n",
       "9764362  2219721\n",
       "9764362  4301557\n",
       "9783600  2808422\n",
       "9806192  3021346\n",
       "9806192   491011\n",
       "\n",
       "[494 rows x 1 columns]"
      ]
     },
     "execution_count": 15,
     "metadata": {},
     "output_type": "execute_result"
    }
   ],
   "source": [
    "pd.concat([enjoyment_writers.drop_duplicates(), ordering_writers.drop_duplicates()]).drop_duplicates()"
   ]
  },
  {
   "attachments": {},
   "cell_type": "markdown",
   "metadata": {},
   "source": [
    "We are better of using the writers file, for the same reason wit the directors file."
   ]
  },
  {
   "cell_type": "code",
   "execution_count": 16,
   "metadata": {},
   "outputs": [
    {
     "data": {
      "text/plain": [
       "writers \n",
       "233         1\n",
       "1709264     1\n",
       "1894782     1\n",
       "1854069     1\n",
       "1843538     1\n",
       "           ..\n",
       "569199      1\n",
       "568825      1\n",
       "568313      1\n",
       "565068      1\n",
       "12470578    1\n",
       "Length: 342, dtype: int64"
      ]
     },
     "execution_count": 16,
     "metadata": {},
     "output_type": "execute_result"
    }
   ],
   "source": [
    "ordering_writers.drop_duplicates().value_counts()"
   ]
  },
  {
   "attachments": {},
   "cell_type": "markdown",
   "metadata": {},
   "source": [
    "## 10) characters"
   ]
  },
  {
   "cell_type": "code",
   "execution_count": 6,
   "metadata": {},
   "outputs": [],
   "source": [
    "# get nconst\n",
    "ordering_url = os.path.join(PARQ_PATH, FILES_IMDB_PARQ[\"ordering\"])\n",
    "ordering = pd.read_parquet(ordering_url)\n",
    "list_ordering = ordering[ordering.index.isin(enjoyment['intid'])][\"nconst\"].to_frame()\n",
    "list_ordering = list_ordering.reset_index(level=0)\n",
    "del ordering"
   ]
  },
  {
   "cell_type": "code",
   "execution_count": 13,
   "metadata": {},
   "outputs": [
    {
     "data": {
      "text/html": [
       "<div>\n",
       "<style scoped>\n",
       "    .dataframe tbody tr th:only-of-type {\n",
       "        vertical-align: middle;\n",
       "    }\n",
       "\n",
       "    .dataframe tbody tr th {\n",
       "        vertical-align: top;\n",
       "    }\n",
       "\n",
       "    .dataframe thead th {\n",
       "        text-align: right;\n",
       "    }\n",
       "</style>\n",
       "<table border=\"1\" class=\"dataframe\">\n",
       "  <thead>\n",
       "    <tr style=\"text-align: right;\">\n",
       "      <th></th>\n",
       "      <th>tconst</th>\n",
       "      <th>nconst</th>\n",
       "    </tr>\n",
       "  </thead>\n",
       "  <tbody>\n",
       "    <tr>\n",
       "      <th>0</th>\n",
       "      <td>17136</td>\n",
       "      <td>2111404</td>\n",
       "    </tr>\n",
       "    <tr>\n",
       "      <th>1</th>\n",
       "      <td>17136</td>\n",
       "      <td>375609</td>\n",
       "    </tr>\n",
       "    <tr>\n",
       "      <th>2</th>\n",
       "      <td>17136</td>\n",
       "      <td>2154</td>\n",
       "    </tr>\n",
       "    <tr>\n",
       "      <th>3</th>\n",
       "      <td>17136</td>\n",
       "      <td>297054</td>\n",
       "    </tr>\n",
       "    <tr>\n",
       "      <th>4</th>\n",
       "      <td>17136</td>\n",
       "      <td>459030</td>\n",
       "    </tr>\n",
       "    <tr>\n",
       "      <th>...</th>\n",
       "      <td>...</td>\n",
       "      <td>...</td>\n",
       "    </tr>\n",
       "    <tr>\n",
       "      <th>2140</th>\n",
       "      <td>9806192</td>\n",
       "      <td>3021346</td>\n",
       "    </tr>\n",
       "    <tr>\n",
       "      <th>2141</th>\n",
       "      <td>9806192</td>\n",
       "      <td>491011</td>\n",
       "    </tr>\n",
       "    <tr>\n",
       "      <th>2142</th>\n",
       "      <td>9806192</td>\n",
       "      <td>238941</td>\n",
       "    </tr>\n",
       "    <tr>\n",
       "      <th>2143</th>\n",
       "      <td>9806192</td>\n",
       "      <td>1776887</td>\n",
       "    </tr>\n",
       "    <tr>\n",
       "      <th>2144</th>\n",
       "      <td>9806192</td>\n",
       "      <td>1928263</td>\n",
       "    </tr>\n",
       "  </tbody>\n",
       "</table>\n",
       "<p>2145 rows × 2 columns</p>\n",
       "</div>"
      ],
      "text/plain": [
       "       tconst   nconst\n",
       "0       17136  2111404\n",
       "1       17136   375609\n",
       "2       17136     2154\n",
       "3       17136   297054\n",
       "4       17136   459030\n",
       "...       ...      ...\n",
       "2140  9806192  3021346\n",
       "2141  9806192   491011\n",
       "2142  9806192   238941\n",
       "2143  9806192  1776887\n",
       "2144  9806192  1928263\n",
       "\n",
       "[2145 rows x 2 columns]"
      ]
     },
     "execution_count": 13,
     "metadata": {},
     "output_type": "execute_result"
    }
   ],
   "source": [
    "list_ordering"
   ]
  },
  {
   "cell_type": "code",
   "execution_count": 8,
   "metadata": {},
   "outputs": [
    {
     "data": {
      "text/html": [
       "<div>\n",
       "<style scoped>\n",
       "    .dataframe tbody tr th:only-of-type {\n",
       "        vertical-align: middle;\n",
       "    }\n",
       "\n",
       "    .dataframe tbody tr th {\n",
       "        vertical-align: top;\n",
       "    }\n",
       "\n",
       "    .dataframe thead th {\n",
       "        text-align: right;\n",
       "    }\n",
       "</style>\n",
       "<table border=\"1\" class=\"dataframe\">\n",
       "  <thead>\n",
       "    <tr style=\"text-align: right;\">\n",
       "      <th></th>\n",
       "      <th>tconst</th>\n",
       "      <th>nconst</th>\n",
       "      <th>characters</th>\n",
       "    </tr>\n",
       "  </thead>\n",
       "  <tbody>\n",
       "    <tr>\n",
       "      <th>0</th>\n",
       "      <td>1</td>\n",
       "      <td>1588970</td>\n",
       "      <td>Self</td>\n",
       "    </tr>\n",
       "    <tr>\n",
       "      <th>1</th>\n",
       "      <td>5</td>\n",
       "      <td>443482</td>\n",
       "      <td>Blacksmith</td>\n",
       "    </tr>\n",
       "    <tr>\n",
       "      <th>2</th>\n",
       "      <td>5</td>\n",
       "      <td>653042</td>\n",
       "      <td>Assistant</td>\n",
       "    </tr>\n",
       "    <tr>\n",
       "      <th>3</th>\n",
       "      <td>8</td>\n",
       "      <td>653028</td>\n",
       "      <td>Sneezing Man</td>\n",
       "    </tr>\n",
       "    <tr>\n",
       "      <th>4</th>\n",
       "      <td>9</td>\n",
       "      <td>63086</td>\n",
       "      <td>Miss Geraldine Holbrook (Miss Jerry)</td>\n",
       "    </tr>\n",
       "    <tr>\n",
       "      <th>...</th>\n",
       "      <td>...</td>\n",
       "      <td>...</td>\n",
       "      <td>...</td>\n",
       "    </tr>\n",
       "    <tr>\n",
       "      <th>28224963</th>\n",
       "      <td>9916880</td>\n",
       "      <td>254176</td>\n",
       "      <td>Moody Margaret</td>\n",
       "    </tr>\n",
       "    <tr>\n",
       "      <th>28224964</th>\n",
       "      <td>9916880</td>\n",
       "      <td>286175</td>\n",
       "      <td>Dad</td>\n",
       "    </tr>\n",
       "    <tr>\n",
       "      <th>28224965</th>\n",
       "      <td>9916880</td>\n",
       "      <td>286175</td>\n",
       "      <td>Aerobic Al</td>\n",
       "    </tr>\n",
       "    <tr>\n",
       "      <th>28224966</th>\n",
       "      <td>9916880</td>\n",
       "      <td>286175</td>\n",
       "      <td>Nasty Nicola</td>\n",
       "    </tr>\n",
       "    <tr>\n",
       "      <th>28224967</th>\n",
       "      <td>9916880</td>\n",
       "      <td>10535738</td>\n",
       "      <td>Horrid Henry</td>\n",
       "    </tr>\n",
       "  </tbody>\n",
       "</table>\n",
       "<p>28224968 rows × 3 columns</p>\n",
       "</div>"
      ],
      "text/plain": [
       "           tconst    nconst                            characters\n",
       "0               1   1588970                                  Self\n",
       "1               5    443482                            Blacksmith\n",
       "2               5    653042                             Assistant\n",
       "3               8    653028                          Sneezing Man\n",
       "4               9     63086  Miss Geraldine Holbrook (Miss Jerry)\n",
       "...           ...       ...                                   ...\n",
       "28224963  9916880    254176                        Moody Margaret\n",
       "28224964  9916880    286175                                   Dad\n",
       "28224965  9916880    286175                            Aerobic Al\n",
       "28224966  9916880    286175                          Nasty Nicola\n",
       "28224967  9916880  10535738                          Horrid Henry\n",
       "\n",
       "[28224968 rows x 3 columns]"
      ]
     },
     "execution_count": 8,
     "metadata": {},
     "output_type": "execute_result"
    }
   ],
   "source": [
    "# get characters data\n",
    "characters_url = os.path.join(PARQ_PATH, FILES_IMDB_PARQ[\"character\"])\n",
    "characters = pd.read_parquet(characters_url).reset_index(level=0)\n",
    "characters"
   ]
  },
  {
   "cell_type": "code",
   "execution_count": 19,
   "metadata": {},
   "outputs": [
    {
     "data": {
      "text/html": [
       "<div>\n",
       "<style scoped>\n",
       "    .dataframe tbody tr th:only-of-type {\n",
       "        vertical-align: middle;\n",
       "    }\n",
       "\n",
       "    .dataframe tbody tr th {\n",
       "        vertical-align: top;\n",
       "    }\n",
       "\n",
       "    .dataframe thead th {\n",
       "        text-align: right;\n",
       "    }\n",
       "</style>\n",
       "<table border=\"1\" class=\"dataframe\">\n",
       "  <thead>\n",
       "    <tr style=\"text-align: right;\">\n",
       "      <th></th>\n",
       "      <th>tconst</th>\n",
       "      <th>nconst</th>\n",
       "      <th>characters</th>\n",
       "    </tr>\n",
       "  </thead>\n",
       "  <tbody>\n",
       "    <tr>\n",
       "      <th>0</th>\n",
       "      <td>17136</td>\n",
       "      <td>2111404</td>\n",
       "      <td>NaN</td>\n",
       "    </tr>\n",
       "    <tr>\n",
       "      <th>1</th>\n",
       "      <td>17136</td>\n",
       "      <td>375609</td>\n",
       "      <td>Maria</td>\n",
       "    </tr>\n",
       "    <tr>\n",
       "      <th>2</th>\n",
       "      <td>17136</td>\n",
       "      <td>375609</td>\n",
       "      <td>Maschinenmensch</td>\n",
       "    </tr>\n",
       "    <tr>\n",
       "      <th>3</th>\n",
       "      <td>17136</td>\n",
       "      <td>375609</td>\n",
       "      <td>The Machine Man</td>\n",
       "    </tr>\n",
       "    <tr>\n",
       "      <th>4</th>\n",
       "      <td>17136</td>\n",
       "      <td>2154</td>\n",
       "      <td>Johann (Joh) Fredersen</td>\n",
       "    </tr>\n",
       "    <tr>\n",
       "      <th>...</th>\n",
       "      <td>...</td>\n",
       "      <td>...</td>\n",
       "      <td>...</td>\n",
       "    </tr>\n",
       "    <tr>\n",
       "      <th>2205</th>\n",
       "      <td>9806192</td>\n",
       "      <td>3021346</td>\n",
       "      <td>NaN</td>\n",
       "    </tr>\n",
       "    <tr>\n",
       "      <th>2206</th>\n",
       "      <td>9806192</td>\n",
       "      <td>491011</td>\n",
       "      <td>NaN</td>\n",
       "    </tr>\n",
       "    <tr>\n",
       "      <th>2207</th>\n",
       "      <td>9806192</td>\n",
       "      <td>238941</td>\n",
       "      <td>NaN</td>\n",
       "    </tr>\n",
       "    <tr>\n",
       "      <th>2208</th>\n",
       "      <td>9806192</td>\n",
       "      <td>1776887</td>\n",
       "      <td>NaN</td>\n",
       "    </tr>\n",
       "    <tr>\n",
       "      <th>2209</th>\n",
       "      <td>9806192</td>\n",
       "      <td>1928263</td>\n",
       "      <td>NaN</td>\n",
       "    </tr>\n",
       "  </tbody>\n",
       "</table>\n",
       "<p>2210 rows × 3 columns</p>\n",
       "</div>"
      ],
      "text/plain": [
       "       tconst   nconst              characters\n",
       "0       17136  2111404                     NaN\n",
       "1       17136   375609                   Maria\n",
       "2       17136   375609         Maschinenmensch\n",
       "3       17136   375609         The Machine Man\n",
       "4       17136     2154  Johann (Joh) Fredersen\n",
       "...       ...      ...                     ...\n",
       "2205  9806192  3021346                     NaN\n",
       "2206  9806192   491011                     NaN\n",
       "2207  9806192   238941                     NaN\n",
       "2208  9806192  1776887                     NaN\n",
       "2209  9806192  1928263                     NaN\n",
       "\n",
       "[2210 rows x 3 columns]"
      ]
     },
     "execution_count": 19,
     "metadata": {},
     "output_type": "execute_result"
    }
   ],
   "source": [
    "pd.merge(list_ordering, characters, how=\"left\", left_on=[\"tconst\",\"nconst\"],right_on=[\"tconst\",\"nconst\"])"
   ]
  },
  {
   "attachments": {},
   "cell_type": "markdown",
   "metadata": {},
   "source": [
    "without removing null values, you get 2210 results out off 2145 queries. which is weird."
   ]
  },
  {
   "cell_type": "code",
   "execution_count": null,
   "metadata": {},
   "outputs": [],
   "source": []
  },
  {
   "attachments": {},
   "cell_type": "markdown",
   "metadata": {},
   "source": [
    "# Correlations"
   ]
  },
  {
   "attachments": {},
   "cell_type": "markdown",
   "metadata": {},
   "source": [
    "## 1) startYear and runtimeMinutes"
   ]
  },
  {
   "cell_type": "code",
   "execution_count": 67,
   "metadata": {},
   "outputs": [
    {
     "ename": "TypeError",
     "evalue": "ufunc 'isfinite' not supported for the input types, and the inputs could not be safely coerced to any supported types according to the casting rule ''safe''",
     "output_type": "error",
     "traceback": [
      "\u001b[0;31m---------------------------------------------------------------------------\u001b[0m",
      "\u001b[0;31mTypeError\u001b[0m                                 Traceback (most recent call last)",
      "\u001b[1;32m/media/user/data1/Documents/vrijetijd/programmeren/NormaleProjecten/imdb/explorative_analysis.ipynb Cell 22\u001b[0m in \u001b[0;36m<cell line: 1>\u001b[0;34m()\u001b[0m\n\u001b[0;32m----> <a href='vscode-notebook-cell:/media/user/data1/Documents/vrijetijd/programmeren/NormaleProjecten/imdb/explorative_analysis.ipynb#X52sZmlsZQ%3D%3D?line=0'>1</a>\u001b[0m sns\u001b[39m.\u001b[39;49mjointplot(x\u001b[39m=\u001b[39;49menjoyment_tit_bas\u001b[39m.\u001b[39;49mstartYear\u001b[39m.\u001b[39;49mto_list(), y\u001b[39m=\u001b[39;49menjoyment_tit_bas\u001b[39m.\u001b[39;49mruntimeMinutes\u001b[39m.\u001b[39;49mto_list(), kind\u001b[39m=\u001b[39;49m\u001b[39m'\u001b[39;49m\u001b[39mreg\u001b[39;49m\u001b[39m'\u001b[39;49m, dropna\u001b[39m=\u001b[39;49m\u001b[39mTrue\u001b[39;49;00m)\n\u001b[1;32m      <a href='vscode-notebook-cell:/media/user/data1/Documents/vrijetijd/programmeren/NormaleProjecten/imdb/explorative_analysis.ipynb#X52sZmlsZQ%3D%3D?line=1'>2</a>\u001b[0m plt\u001b[39m.\u001b[39mshow()\n",
      "File \u001b[0;32m~/ManualInstalls/anaconda3/envs/ML/lib/python3.10/site-packages/seaborn/axisgrid.py:2324\u001b[0m, in \u001b[0;36mjointplot\u001b[0;34m(data, x, y, hue, kind, height, ratio, space, dropna, xlim, ylim, color, palette, hue_order, hue_norm, marginal_ticks, joint_kws, marginal_kws, **kwargs)\u001b[0m\n\u001b[1;32m   2321\u001b[0m     grid\u001b[39m.\u001b[39mplot_marginals(histplot, \u001b[39m*\u001b[39m\u001b[39m*\u001b[39mmarginal_kws)\n\u001b[1;32m   2323\u001b[0m     joint_kws\u001b[39m.\u001b[39msetdefault(\u001b[39m\"\u001b[39m\u001b[39mcolor\u001b[39m\u001b[39m\"\u001b[39m, color)\n\u001b[0;32m-> 2324\u001b[0m     grid\u001b[39m.\u001b[39;49mplot_joint(regplot, \u001b[39m*\u001b[39;49m\u001b[39m*\u001b[39;49mjoint_kws)\n\u001b[1;32m   2326\u001b[0m \u001b[39melif\u001b[39;00m kind\u001b[39m.\u001b[39mstartswith(\u001b[39m\"\u001b[39m\u001b[39mresid\u001b[39m\u001b[39m\"\u001b[39m):\n\u001b[1;32m   2328\u001b[0m     joint_kws\u001b[39m.\u001b[39msetdefault(\u001b[39m\"\u001b[39m\u001b[39mcolor\u001b[39m\u001b[39m\"\u001b[39m, color)\n",
      "File \u001b[0;32m~/ManualInstalls/anaconda3/envs/ML/lib/python3.10/site-packages/seaborn/axisgrid.py:1826\u001b[0m, in \u001b[0;36mJointGrid.plot_joint\u001b[0;34m(self, func, **kwargs)\u001b[0m\n\u001b[1;32m   1823\u001b[0m     \u001b[39mself\u001b[39m\u001b[39m.\u001b[39m_inject_kwargs(func, kwargs, \u001b[39mself\u001b[39m\u001b[39m.\u001b[39m_hue_params)\n\u001b[1;32m   1825\u001b[0m \u001b[39mif\u001b[39;00m \u001b[39mstr\u001b[39m(func\u001b[39m.\u001b[39m\u001b[39m__module__\u001b[39m)\u001b[39m.\u001b[39mstartswith(\u001b[39m\"\u001b[39m\u001b[39mseaborn\u001b[39m\u001b[39m\"\u001b[39m):\n\u001b[0;32m-> 1826\u001b[0m     func(x\u001b[39m=\u001b[39;49m\u001b[39mself\u001b[39;49m\u001b[39m.\u001b[39;49mx, y\u001b[39m=\u001b[39;49m\u001b[39mself\u001b[39;49m\u001b[39m.\u001b[39;49my, \u001b[39m*\u001b[39;49m\u001b[39m*\u001b[39;49mkwargs)\n\u001b[1;32m   1827\u001b[0m \u001b[39melse\u001b[39;00m:\n\u001b[1;32m   1828\u001b[0m     func(\u001b[39mself\u001b[39m\u001b[39m.\u001b[39mx, \u001b[39mself\u001b[39m\u001b[39m.\u001b[39my, \u001b[39m*\u001b[39m\u001b[39m*\u001b[39mkwargs)\n",
      "File \u001b[0;32m~/ManualInstalls/anaconda3/envs/ML/lib/python3.10/site-packages/seaborn/regression.py:759\u001b[0m, in \u001b[0;36mregplot\u001b[0;34m(data, x, y, x_estimator, x_bins, x_ci, scatter, fit_reg, ci, n_boot, units, seed, order, logistic, lowess, robust, logx, x_partial, y_partial, truncate, dropna, x_jitter, y_jitter, label, color, marker, scatter_kws, line_kws, ax)\u001b[0m\n\u001b[1;32m    757\u001b[0m scatter_kws[\u001b[39m\"\u001b[39m\u001b[39mmarker\u001b[39m\u001b[39m\"\u001b[39m] \u001b[39m=\u001b[39m marker\n\u001b[1;32m    758\u001b[0m line_kws \u001b[39m=\u001b[39m {} \u001b[39mif\u001b[39;00m line_kws \u001b[39mis\u001b[39;00m \u001b[39mNone\u001b[39;00m \u001b[39melse\u001b[39;00m copy\u001b[39m.\u001b[39mcopy(line_kws)\n\u001b[0;32m--> 759\u001b[0m plotter\u001b[39m.\u001b[39;49mplot(ax, scatter_kws, line_kws)\n\u001b[1;32m    760\u001b[0m \u001b[39mreturn\u001b[39;00m ax\n",
      "File \u001b[0;32m~/ManualInstalls/anaconda3/envs/ML/lib/python3.10/site-packages/seaborn/regression.py:368\u001b[0m, in \u001b[0;36m_RegressionPlotter.plot\u001b[0;34m(self, ax, scatter_kws, line_kws)\u001b[0m\n\u001b[1;32m    365\u001b[0m     \u001b[39mself\u001b[39m\u001b[39m.\u001b[39mscatterplot(ax, scatter_kws)\n\u001b[1;32m    367\u001b[0m \u001b[39mif\u001b[39;00m \u001b[39mself\u001b[39m\u001b[39m.\u001b[39mfit_reg:\n\u001b[0;32m--> 368\u001b[0m     \u001b[39mself\u001b[39;49m\u001b[39m.\u001b[39;49mlineplot(ax, line_kws)\n\u001b[1;32m    370\u001b[0m \u001b[39m# Label the axes\u001b[39;00m\n\u001b[1;32m    371\u001b[0m \u001b[39mif\u001b[39;00m \u001b[39mhasattr\u001b[39m(\u001b[39mself\u001b[39m\u001b[39m.\u001b[39mx, \u001b[39m\"\u001b[39m\u001b[39mname\u001b[39m\u001b[39m\"\u001b[39m):\n",
      "File \u001b[0;32m~/ManualInstalls/anaconda3/envs/ML/lib/python3.10/site-packages/seaborn/regression.py:426\u001b[0m, in \u001b[0;36m_RegressionPlotter.lineplot\u001b[0;34m(self, ax, kws)\u001b[0m\n\u001b[1;32m    424\u001b[0m     line\u001b[39m.\u001b[39msticky_edges\u001b[39m.\u001b[39mx[:] \u001b[39m=\u001b[39m edges  \u001b[39m# Prevent mpl from adding margin\u001b[39;00m\n\u001b[1;32m    425\u001b[0m \u001b[39mif\u001b[39;00m err_bands \u001b[39mis\u001b[39;00m \u001b[39mnot\u001b[39;00m \u001b[39mNone\u001b[39;00m:\n\u001b[0;32m--> 426\u001b[0m     ax\u001b[39m.\u001b[39;49mfill_between(grid, \u001b[39m*\u001b[39;49merr_bands, facecolor\u001b[39m=\u001b[39;49mfill_color, alpha\u001b[39m=\u001b[39;49m\u001b[39m.15\u001b[39;49m)\n",
      "File \u001b[0;32m~/ManualInstalls/anaconda3/envs/ML/lib/python3.10/site-packages/matplotlib/__init__.py:1412\u001b[0m, in \u001b[0;36m_preprocess_data.<locals>.inner\u001b[0;34m(ax, data, *args, **kwargs)\u001b[0m\n\u001b[1;32m   1409\u001b[0m \u001b[39m@functools\u001b[39m\u001b[39m.\u001b[39mwraps(func)\n\u001b[1;32m   1410\u001b[0m \u001b[39mdef\u001b[39;00m \u001b[39minner\u001b[39m(ax, \u001b[39m*\u001b[39margs, data\u001b[39m=\u001b[39m\u001b[39mNone\u001b[39;00m, \u001b[39m*\u001b[39m\u001b[39m*\u001b[39mkwargs):\n\u001b[1;32m   1411\u001b[0m     \u001b[39mif\u001b[39;00m data \u001b[39mis\u001b[39;00m \u001b[39mNone\u001b[39;00m:\n\u001b[0;32m-> 1412\u001b[0m         \u001b[39mreturn\u001b[39;00m func(ax, \u001b[39m*\u001b[39;49m\u001b[39mmap\u001b[39;49m(sanitize_sequence, args), \u001b[39m*\u001b[39;49m\u001b[39m*\u001b[39;49mkwargs)\n\u001b[1;32m   1414\u001b[0m     bound \u001b[39m=\u001b[39m new_sig\u001b[39m.\u001b[39mbind(ax, \u001b[39m*\u001b[39margs, \u001b[39m*\u001b[39m\u001b[39m*\u001b[39mkwargs)\n\u001b[1;32m   1415\u001b[0m     auto_label \u001b[39m=\u001b[39m (bound\u001b[39m.\u001b[39marguments\u001b[39m.\u001b[39mget(label_namer)\n\u001b[1;32m   1416\u001b[0m                   \u001b[39mor\u001b[39;00m bound\u001b[39m.\u001b[39mkwargs\u001b[39m.\u001b[39mget(label_namer))\n",
      "File \u001b[0;32m~/ManualInstalls/anaconda3/envs/ML/lib/python3.10/site-packages/matplotlib/axes/_axes.py:5245\u001b[0m, in \u001b[0;36mAxes.fill_between\u001b[0;34m(self, x, y1, y2, where, interpolate, step, **kwargs)\u001b[0m\n\u001b[1;32m   5243\u001b[0m \u001b[39mdef\u001b[39;00m \u001b[39mfill_between\u001b[39m(\u001b[39mself\u001b[39m, x, y1, y2\u001b[39m=\u001b[39m\u001b[39m0\u001b[39m, where\u001b[39m=\u001b[39m\u001b[39mNone\u001b[39;00m, interpolate\u001b[39m=\u001b[39m\u001b[39mFalse\u001b[39;00m,\n\u001b[1;32m   5244\u001b[0m                  step\u001b[39m=\u001b[39m\u001b[39mNone\u001b[39;00m, \u001b[39m*\u001b[39m\u001b[39m*\u001b[39mkwargs):\n\u001b[0;32m-> 5245\u001b[0m     \u001b[39mreturn\u001b[39;00m \u001b[39mself\u001b[39;49m\u001b[39m.\u001b[39;49m_fill_between_x_or_y(\n\u001b[1;32m   5246\u001b[0m         \u001b[39m\"\u001b[39;49m\u001b[39mx\u001b[39;49m\u001b[39m\"\u001b[39;49m, x, y1, y2,\n\u001b[1;32m   5247\u001b[0m         where\u001b[39m=\u001b[39;49mwhere, interpolate\u001b[39m=\u001b[39;49minterpolate, step\u001b[39m=\u001b[39;49mstep, \u001b[39m*\u001b[39;49m\u001b[39m*\u001b[39;49mkwargs)\n",
      "File \u001b[0;32m~/ManualInstalls/anaconda3/envs/ML/lib/python3.10/site-packages/matplotlib/axes/_axes.py:5150\u001b[0m, in \u001b[0;36mAxes._fill_between_x_or_y\u001b[0;34m(self, ind_dir, ind, dep1, dep2, where, interpolate, step, **kwargs)\u001b[0m\n\u001b[1;32m   5146\u001b[0m         kwargs[\u001b[39m\"\u001b[39m\u001b[39mfacecolor\u001b[39m\u001b[39m\"\u001b[39m] \u001b[39m=\u001b[39m \\\n\u001b[1;32m   5147\u001b[0m             \u001b[39mself\u001b[39m\u001b[39m.\u001b[39m_get_patches_for_fill\u001b[39m.\u001b[39mget_next_color()\n\u001b[1;32m   5149\u001b[0m \u001b[39m# Handle united data, such as dates\u001b[39;00m\n\u001b[0;32m-> 5150\u001b[0m ind, dep1, dep2 \u001b[39m=\u001b[39m \u001b[39mmap\u001b[39m(\n\u001b[1;32m   5151\u001b[0m     ma\u001b[39m.\u001b[39mmasked_invalid, \u001b[39mself\u001b[39m\u001b[39m.\u001b[39m_process_unit_info(\n\u001b[1;32m   5152\u001b[0m         [(ind_dir, ind), (dep_dir, dep1), (dep_dir, dep2)], kwargs))\n\u001b[1;32m   5154\u001b[0m \u001b[39mfor\u001b[39;00m name, array \u001b[39min\u001b[39;00m [\n\u001b[1;32m   5155\u001b[0m         (ind_dir, ind), (\u001b[39mf\u001b[39m\u001b[39m\"\u001b[39m\u001b[39m{\u001b[39;00mdep_dir\u001b[39m}\u001b[39;00m\u001b[39m1\u001b[39m\u001b[39m\"\u001b[39m, dep1), (\u001b[39mf\u001b[39m\u001b[39m\"\u001b[39m\u001b[39m{\u001b[39;00mdep_dir\u001b[39m}\u001b[39;00m\u001b[39m2\u001b[39m\u001b[39m\"\u001b[39m, dep2)]:\n\u001b[1;32m   5156\u001b[0m     \u001b[39mif\u001b[39;00m array\u001b[39m.\u001b[39mndim \u001b[39m>\u001b[39m \u001b[39m1\u001b[39m:\n",
      "File \u001b[0;32m~/ManualInstalls/anaconda3/envs/ML/lib/python3.10/site-packages/numpy/ma/core.py:2366\u001b[0m, in \u001b[0;36mmasked_invalid\u001b[0;34m(a, copy)\u001b[0m\n\u001b[1;32m   2364\u001b[0m     \u001b[39mcls\u001b[39m \u001b[39m=\u001b[39m \u001b[39mtype\u001b[39m(a)\n\u001b[1;32m   2365\u001b[0m \u001b[39melse\u001b[39;00m:\n\u001b[0;32m-> 2366\u001b[0m     condition \u001b[39m=\u001b[39m \u001b[39m~\u001b[39m(np\u001b[39m.\u001b[39;49misfinite(a))\n\u001b[1;32m   2367\u001b[0m     \u001b[39mcls\u001b[39m \u001b[39m=\u001b[39m MaskedArray\n\u001b[1;32m   2368\u001b[0m result \u001b[39m=\u001b[39m a\u001b[39m.\u001b[39mview(\u001b[39mcls\u001b[39m)\n",
      "\u001b[0;31mTypeError\u001b[0m: ufunc 'isfinite' not supported for the input types, and the inputs could not be safely coerced to any supported types according to the casting rule ''safe''"
     ]
    },
    {
     "data": {
      "image/png": "[encoded data removed]",
      "text/plain": [
       "<Figure size 600x600 with 3 Axes>"
      ]
     },
     "metadata": {},
     "output_type": "display_data"
    }
   ],
   "source": [
    "sns.jointplot(x=enjoyment_tit_bas.startYear.to_list(), y=enjoyment_tit_bas.runtimeMinutes.to_list(), kind='reg', dropna=True)\n",
    "plt.show()"
   ]
  },
  {
   "attachments": {},
   "cell_type": "markdown",
   "metadata": {},
   "source": [
    "There is not much of a relation. Let's try the cluster plot."
   ]
  },
  {
   "cell_type": "code",
   "execution_count": 68,
   "metadata": {},
   "outputs": [
    {
     "name": "stderr",
     "output_type": "stream",
     "text": [
      "/home/user/ManualInstalls/anaconda3/envs/ML/lib/python3.10/site-packages/seaborn/distributions.py:499: FutureWarning: In a future version, the Index constructor will not infer numeric dtypes when passed object-dtype sequences (matching Series behavior)\n",
      "  pd.Index(edges, name=\"edges\"),\n",
      "/home/user/ManualInstalls/anaconda3/envs/ML/lib/python3.10/site-packages/seaborn/distributions.py:500: FutureWarning: In a future version, the Index constructor will not infer numeric dtypes when passed object-dtype sequences (matching Series behavior)\n",
      "  pd.Index(widths, name=\"widths\"),\n",
      "/home/user/ManualInstalls/anaconda3/envs/ML/lib/python3.10/site-packages/seaborn/distributions.py:499: FutureWarning: In a future version, the Index constructor will not infer numeric dtypes when passed object-dtype sequences (matching Series behavior)\n",
      "  pd.Index(edges, name=\"edges\"),\n",
      "/home/user/ManualInstalls/anaconda3/envs/ML/lib/python3.10/site-packages/seaborn/distributions.py:500: FutureWarning: In a future version, the Index constructor will not infer numeric dtypes when passed object-dtype sequences (matching Series behavior)\n",
      "  pd.Index(widths, name=\"widths\"),\n"
     ]
    },
    {
     "data": {
      "image/png": "[encoded data removed]",
      "text/plain": [
       "<Figure size 600x600 with 3 Axes>"
      ]
     },
     "metadata": {},
     "output_type": "display_data"
    }
   ],
   "source": [
    "sns.jointplot(data=enjoyment_tit_bas, x='startYear', y='runtimeMinutes', kind='hex', dropna=True)\n",
    "plt.show()"
   ]
  },
  {
   "attachments": {},
   "cell_type": "markdown",
   "metadata": {},
   "source": [
    "There is a cluster around 130 and 110 minutes. Let's remove outlying startYears and runtime minutes."
   ]
  },
  {
   "attachments": {},
   "cell_type": "markdown",
   "metadata": {},
   "source": [
    "## 2) genre and X"
   ]
  },
  {
   "attachments": {},
   "cell_type": "markdown",
   "metadata": {},
   "source": [
    "Maybe there is a realtion between runtimeMinutes, startYear and genre, let's look into that later."
   ]
  },
  {
   "attachments": {},
   "cell_type": "markdown",
   "metadata": {},
   "source": [
    "## Let's look at missing values"
   ]
  },
  {
   "cell_type": "code",
   "execution_count": 12,
   "metadata": {},
   "outputs": [
    {
     "data": {
      "text/plain": [
       "titleType               0\n",
       "primaryTitle           11\n",
       "originalTitle          11\n",
       "isAdult                 0\n",
       "startYear         1331622\n",
       "endYear           9757636\n",
       "runtimeMinutes    6954967\n",
       "dtype: int64"
      ]
     },
     "execution_count": 12,
     "metadata": {},
     "output_type": "execute_result"
    }
   ],
   "source": [
    "tit_bas.isna().sum()"
   ]
  },
  {
   "cell_type": "code",
   "execution_count": 15,
   "metadata": {},
   "outputs": [
    {
     "data": {
      "text/plain": [
       "<AxesSubplot:title={'center':'missing values for title_basics'}>"
      ]
     },
     "execution_count": 15,
     "metadata": {},
     "output_type": "execute_result"
    },
    {
     "data": {
      "image/png": "[encoded data removed]",
      "text/plain": [
       "<Figure size 640x480 with 1 Axes>"
      ]
     },
     "metadata": {},
     "output_type": "display_data"
    }
   ],
   "source": [
    "tit_bas.isna().sum().plot.bar(title=\"missing values for title_basics\")"
   ]
  },
  {
   "attachments": {},
   "cell_type": "markdown",
   "metadata": {},
   "source": [
    "let's look at the missing titles"
   ]
  },
  {
   "cell_type": "code",
   "execution_count": 24,
   "metadata": {},
   "outputs": [
    {
     "data": {
      "text/html": [
       "<div>\n",
       "<style scoped>\n",
       "    .dataframe tbody tr th:only-of-type {\n",
       "        vertical-align: middle;\n",
       "    }\n",
       "\n",
       "    .dataframe tbody tr th {\n",
       "        vertical-align: top;\n",
       "    }\n",
       "\n",
       "    .dataframe thead th {\n",
       "        text-align: right;\n",
       "    }\n",
       "</style>\n",
       "<table border=\"1\" class=\"dataframe\">\n",
       "  <thead>\n",
       "    <tr style=\"text-align: right;\">\n",
       "      <th></th>\n",
       "      <th>titleType</th>\n",
       "      <th>primaryTitle</th>\n",
       "      <th>originalTitle</th>\n",
       "      <th>isAdult</th>\n",
       "      <th>startYear</th>\n",
       "      <th>endYear</th>\n",
       "      <th>runtimeMinutes</th>\n",
       "    </tr>\n",
       "    <tr>\n",
       "      <th>tconst</th>\n",
       "      <th></th>\n",
       "      <th></th>\n",
       "      <th></th>\n",
       "      <th></th>\n",
       "      <th></th>\n",
       "      <th></th>\n",
       "      <th></th>\n",
       "    </tr>\n",
       "  </thead>\n",
       "  <tbody>\n",
       "    <tr>\n",
       "      <th>14510930</th>\n",
       "      <td>tvEpisode</td>\n",
       "      <td>&lt;NA&gt;</td>\n",
       "      <td>&lt;NA&gt;</td>\n",
       "      <td>False</td>\n",
       "      <td>&lt;NA&gt;</td>\n",
       "      <td>&lt;NA&gt;</td>\n",
       "      <td>&lt;NA&gt;</td>\n",
       "    </tr>\n",
       "    <tr>\n",
       "      <th>15700278</th>\n",
       "      <td>tvEpisode</td>\n",
       "      <td>&lt;NA&gt;</td>\n",
       "      <td>&lt;NA&gt;</td>\n",
       "      <td>False</td>\n",
       "      <td>2021</td>\n",
       "      <td>&lt;NA&gt;</td>\n",
       "      <td>&lt;NA&gt;</td>\n",
       "    </tr>\n",
       "    <tr>\n",
       "      <th>1971246</th>\n",
       "      <td>tvEpisode</td>\n",
       "      <td>&lt;NA&gt;</td>\n",
       "      <td>&lt;NA&gt;</td>\n",
       "      <td>False</td>\n",
       "      <td>2011</td>\n",
       "      <td>&lt;NA&gt;</td>\n",
       "      <td>&lt;NA&gt;</td>\n",
       "    </tr>\n",
       "    <tr>\n",
       "      <th>2067043</th>\n",
       "      <td>tvEpisode</td>\n",
       "      <td>&lt;NA&gt;</td>\n",
       "      <td>&lt;NA&gt;</td>\n",
       "      <td>False</td>\n",
       "      <td>1965</td>\n",
       "      <td>&lt;NA&gt;</td>\n",
       "      <td>&lt;NA&gt;</td>\n",
       "    </tr>\n",
       "    <tr>\n",
       "      <th>21883066</th>\n",
       "      <td>tvEpisode</td>\n",
       "      <td>&lt;NA&gt;</td>\n",
       "      <td>&lt;NA&gt;</td>\n",
       "      <td>False</td>\n",
       "      <td>2022</td>\n",
       "      <td>&lt;NA&gt;</td>\n",
       "      <td>&lt;NA&gt;</td>\n",
       "    </tr>\n",
       "    <tr>\n",
       "      <th>2305914</th>\n",
       "      <td>tvEpisode</td>\n",
       "      <td>&lt;NA&gt;</td>\n",
       "      <td>&lt;NA&gt;</td>\n",
       "      <td>False</td>\n",
       "      <td>&lt;NA&gt;</td>\n",
       "      <td>&lt;NA&gt;</td>\n",
       "      <td>&lt;NA&gt;</td>\n",
       "    </tr>\n",
       "    <tr>\n",
       "      <th>2305918</th>\n",
       "      <td>tvEpisode</td>\n",
       "      <td>&lt;NA&gt;</td>\n",
       "      <td>&lt;NA&gt;</td>\n",
       "      <td>False</td>\n",
       "      <td>&lt;NA&gt;</td>\n",
       "      <td>&lt;NA&gt;</td>\n",
       "      <td>&lt;NA&gt;</td>\n",
       "    </tr>\n",
       "    <tr>\n",
       "      <th>5773048</th>\n",
       "      <td>tvEpisode</td>\n",
       "      <td>&lt;NA&gt;</td>\n",
       "      <td>&lt;NA&gt;</td>\n",
       "      <td>False</td>\n",
       "      <td>2015</td>\n",
       "      <td>&lt;NA&gt;</td>\n",
       "      <td>&lt;NA&gt;</td>\n",
       "    </tr>\n",
       "    <tr>\n",
       "      <th>8473688</th>\n",
       "      <td>tvEpisode</td>\n",
       "      <td>&lt;NA&gt;</td>\n",
       "      <td>&lt;NA&gt;</td>\n",
       "      <td>False</td>\n",
       "      <td>1987</td>\n",
       "      <td>&lt;NA&gt;</td>\n",
       "      <td>&lt;NA&gt;</td>\n",
       "    </tr>\n",
       "    <tr>\n",
       "      <th>8541336</th>\n",
       "      <td>tvEpisode</td>\n",
       "      <td>&lt;NA&gt;</td>\n",
       "      <td>&lt;NA&gt;</td>\n",
       "      <td>False</td>\n",
       "      <td>2018</td>\n",
       "      <td>&lt;NA&gt;</td>\n",
       "      <td>30</td>\n",
       "    </tr>\n",
       "    <tr>\n",
       "      <th>9824302</th>\n",
       "      <td>tvEpisode</td>\n",
       "      <td>&lt;NA&gt;</td>\n",
       "      <td>&lt;NA&gt;</td>\n",
       "      <td>False</td>\n",
       "      <td>2016</td>\n",
       "      <td>&lt;NA&gt;</td>\n",
       "      <td>&lt;NA&gt;</td>\n",
       "    </tr>\n",
       "  </tbody>\n",
       "</table>\n",
       "</div>"
      ],
      "text/plain": [
       "          titleType primaryTitle originalTitle  isAdult  startYear  endYear  \\\n",
       "tconst                                                                        \n",
       "14510930  tvEpisode         <NA>          <NA>    False       <NA>     <NA>   \n",
       "15700278  tvEpisode         <NA>          <NA>    False       2021     <NA>   \n",
       "1971246   tvEpisode         <NA>          <NA>    False       2011     <NA>   \n",
       "2067043   tvEpisode         <NA>          <NA>    False       1965     <NA>   \n",
       "21883066  tvEpisode         <NA>          <NA>    False       2022     <NA>   \n",
       "2305914   tvEpisode         <NA>          <NA>    False       <NA>     <NA>   \n",
       "2305918   tvEpisode         <NA>          <NA>    False       <NA>     <NA>   \n",
       "5773048   tvEpisode         <NA>          <NA>    False       2015     <NA>   \n",
       "8473688   tvEpisode         <NA>          <NA>    False       1987     <NA>   \n",
       "8541336   tvEpisode         <NA>          <NA>    False       2018     <NA>   \n",
       "9824302   tvEpisode         <NA>          <NA>    False       2016     <NA>   \n",
       "\n",
       "          runtimeMinutes  \n",
       "tconst                    \n",
       "14510930            <NA>  \n",
       "15700278            <NA>  \n",
       "1971246             <NA>  \n",
       "2067043             <NA>  \n",
       "21883066            <NA>  \n",
       "2305914             <NA>  \n",
       "2305918             <NA>  \n",
       "5773048             <NA>  \n",
       "8473688             <NA>  \n",
       "8541336               30  \n",
       "9824302             <NA>  "
      ]
     },
     "execution_count": 24,
     "metadata": {},
     "output_type": "execute_result"
    }
   ],
   "source": [
    "tit_bas[tit_bas[\"primaryTitle\"].isna() | tit_bas[\"originalTitle\"].isna()]"
   ]
  },
  {
   "attachments": {},
   "cell_type": "markdown",
   "metadata": {},
   "source": [
    "<li>We will remove rows with missing primaryTitle and missing OriginalTitle </li>"
   ]
  }
 ],
 "metadata": {
  "kernelspec": {
   "display_name": "ML",
   "language": "python",
   "name": "python3"
  },
  "language_info": {
   "codemirror_mode": {
    "name": "ipython",
    "version": 3
   },
   "file_extension": ".py",
   "mimetype": "text/x-python",
   "name": "python",
   "nbconvert_exporter": "python",
   "pygments_lexer": "ipython3",
   "version": "3.10.6"
  },
  "orig_nbformat": 4
 },
 "nbformat": 4,
 "nbformat_minor": 2
}

{
 "cells": [
  {
   "cell_type": "code",
   "execution_count": null,
   "metadata": {},
   "outputs": [],
   "source": []
  },
  {
   "cell_type": "code",
   "execution_count": 39,
   "metadata": {},
   "outputs": [],
   "source": [
    "import pandas as pd\n",
    "file_path = '/media/user/files/code/imdb/data/downloads/title.ratings.tsv.gz'\n",
    "dtypes = {\"averageRating\": pd.Float32Dtype(), \"numVotes\": pd.Int32Dtype()}\n",
    "\n",
    "title_ratings = pd.read_csv(\n",
    "        file_path,\n",
    "        sep=\"\\t\",\n",
    "        quotechar=\"\\t\",\n",
    "        low_memory=False,\n",
    "        dtype_backend=\"pyarrow\",\n",
    "        index_col=\"tconst\",\n",
    "        dtype=dtypes,\n",
    "        na_values=\"\\\\N\",\n",
    "    )\n",
    "index = pd.Index(['tt0120737', 'tt0057012', \"tt10057012\"], dtype='string[pyarrow]', name='tconst')\n",
    "\n",
    "index_indices = set(index)\n",
    "title_ratings_indices = set(title_ratings.index)\n",
    "\n",
    "# get indices that are missing\n",
    "not_in_title_ratings = index_indices.difference(title_ratings_indices)\n",
    "\n",
    "# get dataframe subset with indices that exist\n",
    "index_indices -= not_in_title_ratings\n",
    "title_ratings_subset = title_ratings.loc[list(index_indices)]"
   ]
  },
  {
   "cell_type": "code",
   "execution_count": 40,
   "metadata": {},
   "outputs": [
    {
     "data": {
      "text/plain": [
       "{'tt10057012'}"
      ]
     },
     "execution_count": 40,
     "metadata": {},
     "output_type": "execute_result"
    }
   ],
   "source": [
    "not_in_title_ratings"
   ]
  },
  {
   "cell_type": "code",
   "execution_count": 41,
   "metadata": {},
   "outputs": [
    {
     "data": {
      "application/vnd.microsoft.datawrangler.viewer.v0+json": {
       "columns": [
        {
         "name": "tconst",
         "rawType": "string[pyarrow]",
         "type": "unknown"
        },
        {
         "name": "averageRating",
         "rawType": "Float32",
         "type": "float"
        },
        {
         "name": "numVotes",
         "rawType": "Int32",
         "type": "integer"
        }
       ],
       "conversionMethod": "pd.DataFrame",
       "ref": "ed61751c-2550-403a-bc23-9ff284a41d16",
       "rows": [
        [
         "tt0057012",
         "8.3",
         "537593"
        ],
        [
         "tt0120737",
         "8.9",
         "2107297"
        ]
       ],
       "shape": {
        "columns": 2,
        "rows": 2
       }
      },
      "text/html": [
       "<div>\n",
       "<style scoped>\n",
       "    .dataframe tbody tr th:only-of-type {\n",
       "        vertical-align: middle;\n",
       "    }\n",
       "\n",
       "    .dataframe tbody tr th {\n",
       "        vertical-align: top;\n",
       "    }\n",
       "\n",
       "    .dataframe thead th {\n",
       "        text-align: right;\n",
       "    }\n",
       "</style>\n",
       "<table border=\"1\" class=\"dataframe\">\n",
       "  <thead>\n",
       "    <tr style=\"text-align: right;\">\n",
       "      <th></th>\n",
       "      <th>averageRating</th>\n",
       "      <th>numVotes</th>\n",
       "    </tr>\n",
       "    <tr>\n",
       "      <th>tconst</th>\n",
       "      <th></th>\n",
       "      <th></th>\n",
       "    </tr>\n",
       "  </thead>\n",
       "  <tbody>\n",
       "    <tr>\n",
       "      <th>tt0057012</th>\n",
       "      <td>8.3</td>\n",
       "      <td>537593</td>\n",
       "    </tr>\n",
       "    <tr>\n",
       "      <th>tt0120737</th>\n",
       "      <td>8.9</td>\n",
       "      <td>2107297</td>\n",
       "    </tr>\n",
       "  </tbody>\n",
       "</table>\n",
       "</div>"
      ],
      "text/plain": [
       "           averageRating  numVotes\n",
       "tconst                            \n",
       "tt0057012            8.3    537593\n",
       "tt0120737            8.9   2107297"
      ]
     },
     "execution_count": 41,
     "metadata": {},
     "output_type": "execute_result"
    }
   ],
   "source": [
    "title_ratings_subset"
   ]
  },
  {
   "cell_type": "code",
   "execution_count": 42,
   "metadata": {},
   "outputs": [],
   "source": [
    "import pandas as pd\n",
    "\n",
    "file_path = '/media/user/files/code/imdb/data/downloads/title.ratings.tsv.gz'\n",
    "dtypes = {\"averageRating\": pd.Float32Dtype(), \"numVotes\": pd.Int32Dtype()}\n",
    "\n",
    "# Load data\n",
    "title_ratings = pd.read_csv(\n",
    "    file_path,\n",
    "    sep=\"\\t\",\n",
    "    quotechar=\"\\t\",\n",
    "    low_memory=False,\n",
    "    dtype_backend=\"pyarrow\",\n",
    "    index_col=\"tconst\",\n",
    "    dtype=dtypes,\n",
    "    na_values=\"\\\\N\",\n",
    ")\n",
    "\n",
    "# Define index\n",
    "index = pd.Index(['tt0120737', 'tt0057012', 'tt10057012'], dtype='string[pyarrow]', name='tconst')\n",
    "\n",
    "# Get missing indices\n",
    "not_in_title_ratings = index.difference(title_ratings.index)\n",
    "\n",
    "# Get subset with existing indices\n",
    "title_ratings_subset = title_ratings.loc[index.intersection(title_ratings.index)]\n"
   ]
  },
  {
   "cell_type": "code",
   "execution_count": 43,
   "metadata": {},
   "outputs": [
    {
     "data": {
      "text/plain": [
       "Index(['tt10057012'], dtype='string', name='tconst')"
      ]
     },
     "execution_count": 43,
     "metadata": {},
     "output_type": "execute_result"
    }
   ],
   "source": [
    "not_in_title_ratings"
   ]
  },
  {
   "cell_type": "code",
   "execution_count": 44,
   "metadata": {},
   "outputs": [
    {
     "data": {
      "application/vnd.microsoft.datawrangler.viewer.v0+json": {
       "columns": [
        {
         "name": "tconst",
         "rawType": "string[pyarrow]",
         "type": "unknown"
        },
        {
         "name": "averageRating",
         "rawType": "Float32",
         "type": "float"
        },
        {
         "name": "numVotes",
         "rawType": "Int32",
         "type": "integer"
        }
       ],
       "conversionMethod": "pd.DataFrame",
       "ref": "c280e411-02aa-45a4-91f1-cbfce87b1cd9",
       "rows": [
        [
         "tt0120737",
         "8.9",
         "2107297"
        ],
        [
         "tt0057012",
         "8.3",
         "537593"
        ]
       ],
       "shape": {
        "columns": 2,
        "rows": 2
       }
      },
      "text/html": [
       "<div>\n",
       "<style scoped>\n",
       "    .dataframe tbody tr th:only-of-type {\n",
       "        vertical-align: middle;\n",
       "    }\n",
       "\n",
       "    .dataframe tbody tr th {\n",
       "        vertical-align: top;\n",
       "    }\n",
       "\n",
       "    .dataframe thead th {\n",
       "        text-align: right;\n",
       "    }\n",
       "</style>\n",
       "<table border=\"1\" class=\"dataframe\">\n",
       "  <thead>\n",
       "    <tr style=\"text-align: right;\">\n",
       "      <th></th>\n",
       "      <th>averageRating</th>\n",
       "      <th>numVotes</th>\n",
       "    </tr>\n",
       "    <tr>\n",
       "      <th>tconst</th>\n",
       "      <th></th>\n",
       "      <th></th>\n",
       "    </tr>\n",
       "  </thead>\n",
       "  <tbody>\n",
       "    <tr>\n",
       "      <th>tt0120737</th>\n",
       "      <td>8.9</td>\n",
       "      <td>2107297</td>\n",
       "    </tr>\n",
       "    <tr>\n",
       "      <th>tt0057012</th>\n",
       "      <td>8.3</td>\n",
       "      <td>537593</td>\n",
       "    </tr>\n",
       "  </tbody>\n",
       "</table>\n",
       "</div>"
      ],
      "text/plain": [
       "           averageRating  numVotes\n",
       "tconst                            \n",
       "tt0120737            8.9   2107297\n",
       "tt0057012            8.3    537593"
      ]
     },
     "execution_count": 44,
     "metadata": {},
     "output_type": "execute_result"
    }
   ],
   "source": [
    "title_ratings_subset"
   ]
  },
  {
   "cell_type": "code",
   "execution_count": null,
   "metadata": {},
   "outputs": [],
   "source": [
    "title_ratings_subset"
   ]
  },
  {
   "cell_type": "code",
   "execution_count": 60,
   "metadata": {},
   "outputs": [
    {
     "name": "stdout",
     "output_type": "stream",
     "text": [
      "['tt0120737', 'tt0057012']\n"
     ]
    }
   ],
   "source": [
    "dups = pd.concat([title_ratings_subset, title_ratings_subset])\n",
    "# str(list(dups[dups.index.duplicated()].index))\n",
    "if dups.index.duplicated().any():\n",
    "    print(str(list(dups[dups.index.duplicated()].index)))"
   ]
  }
 ],
 "metadata": {
  "kernelspec": {
   "display_name": ".venv",
   "language": "python",
   "name": "python3"
  },
  "language_info": {
   "codemirror_mode": {
    "name": "ipython",
    "version": 3
   },
   "file_extension": ".py",
   "mimetype": "text/x-python",
   "name": "python",
   "nbconvert_exporter": "python",
   "pygments_lexer": "ipython3",
   "version": "3.12.9"
  }
 },
 "nbformat": 4,
 "nbformat_minor": 2
}

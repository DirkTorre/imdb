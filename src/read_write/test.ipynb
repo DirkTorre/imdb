{
 "cells": [
  {
   "cell_type": "code",
   "execution_count": 2,
   "metadata": {},
   "outputs": [],
   "source": [
    "import pandas as pd\n",
    "from pathlib import Path\n",
    "from datetime import datetime"
   ]
  },
  {
   "cell_type": "code",
   "execution_count": 3,
   "metadata": {},
   "outputs": [],
   "source": [
    "sheets_path = Path(\"/media/user/files/code/imdb/data/sheets\")\n",
    "status_path = sheets_path / \"status.csv\"\n",
    "dtypes = {\n",
    "    \"tconst\": pd.StringDtype(),\n",
    "    \"watched\": pd.BooleanDtype(),\n",
    "    \"priority\": pd.BooleanDtype(),\n",
    "    \"netflix\": pd.BooleanDtype(),\n",
    "    \"prime\": pd.BooleanDtype()}\n",
    "status = pd.read_csv(status_path, dtype=dtypes,index_col=\"tconst\")"
   ]
  },
  {
   "cell_type": "code",
   "execution_count": 9,
   "metadata": {},
   "outputs": [
    {
     "data": {
      "application/vnd.microsoft.datawrangler.viewer.v0+json": {
       "columns": [
        {
         "name": "tconst",
         "rawType": "string",
         "type": "string"
        },
        {
         "name": "date",
         "rawType": "datetime64[ns]",
         "type": "datetime"
        },
        {
         "name": "enjoyment_score",
         "rawType": "Float32",
         "type": "float"
        },
        {
         "name": "quality_score",
         "rawType": "Float32",
         "type": "float"
        }
       ],
       "conversionMethod": "pd.DataFrame",
       "ref": "5ab6dc65-1018-4dbe-a9d7-5f37403ddb8d",
       "rows": [
        [
         "tt0015324",
         "2021-10-25 00:00:00",
         null,
         null
        ],
        [
         "tt0022100",
         "2023-01-05 00:00:00",
         "3.0",
         "3.0"
        ],
        [
         "tt0081505",
         "2024-04-13 00:00:00",
         null,
         null
        ],
        [
         "tt2005151",
         "2023-06-12 00:00:00",
         "5.0",
         "3.0"
        ],
        [
         "tt21113540",
         "2025-03-05 00:00:00",
         "3.0",
         "3.0"
        ]
       ],
       "shape": {
        "columns": 3,
        "rows": 5
       }
      },
      "text/html": [
       "<div>\n",
       "<style scoped>\n",
       "    .dataframe tbody tr th:only-of-type {\n",
       "        vertical-align: middle;\n",
       "    }\n",
       "\n",
       "    .dataframe tbody tr th {\n",
       "        vertical-align: top;\n",
       "    }\n",
       "\n",
       "    .dataframe thead th {\n",
       "        text-align: right;\n",
       "    }\n",
       "</style>\n",
       "<table border=\"1\" class=\"dataframe\">\n",
       "  <thead>\n",
       "    <tr style=\"text-align: right;\">\n",
       "      <th></th>\n",
       "      <th>date</th>\n",
       "      <th>enjoyment_score</th>\n",
       "      <th>quality_score</th>\n",
       "    </tr>\n",
       "    <tr>\n",
       "      <th>tconst</th>\n",
       "      <th></th>\n",
       "      <th></th>\n",
       "      <th></th>\n",
       "    </tr>\n",
       "  </thead>\n",
       "  <tbody>\n",
       "    <tr>\n",
       "      <th>tt0015324</th>\n",
       "      <td>2021-10-25</td>\n",
       "      <td>&lt;NA&gt;</td>\n",
       "      <td>&lt;NA&gt;</td>\n",
       "    </tr>\n",
       "    <tr>\n",
       "      <th>tt0022100</th>\n",
       "      <td>2023-01-05</td>\n",
       "      <td>3.0</td>\n",
       "      <td>3.0</td>\n",
       "    </tr>\n",
       "    <tr>\n",
       "      <th>tt0081505</th>\n",
       "      <td>2024-04-13</td>\n",
       "      <td>&lt;NA&gt;</td>\n",
       "      <td>&lt;NA&gt;</td>\n",
       "    </tr>\n",
       "    <tr>\n",
       "      <th>tt2005151</th>\n",
       "      <td>2023-06-12</td>\n",
       "      <td>5.0</td>\n",
       "      <td>3.0</td>\n",
       "    </tr>\n",
       "    <tr>\n",
       "      <th>tt21113540</th>\n",
       "      <td>2025-03-05</td>\n",
       "      <td>3.0</td>\n",
       "      <td>3.0</td>\n",
       "    </tr>\n",
       "  </tbody>\n",
       "</table>\n",
       "</div>"
      ],
      "text/plain": [
       "                 date  enjoyment_score  quality_score\n",
       "tconst                                               \n",
       "tt0015324  2021-10-25             <NA>           <NA>\n",
       "tt0022100  2023-01-05              3.0            3.0\n",
       "tt0081505  2024-04-13             <NA>           <NA>\n",
       "tt2005151  2023-06-12              5.0            3.0\n",
       "tt21113540 2025-03-05              3.0            3.0"
      ]
     },
     "execution_count": 9,
     "metadata": {},
     "output_type": "execute_result"
    }
   ],
   "source": [
    "date_scores_path = sheets_path / \"date_scores.csv\"\n",
    "dtypes = {\n",
    "    \"tconst\": pd.StringDtype(),\n",
    "    \"enjoyment_score\": pd.Float32Dtype(),\n",
    "    \"quality_score\": pd.Float32Dtype()\n",
    "    }\n",
    "date_scores = pd.read_csv(date_scores_path, dtype=dtypes, index_col=\"tconst\", parse_dates=['date'], date_format=\"%Y-%m-%d\")\n",
    "date_scores"
   ]
  },
  {
   "cell_type": "code",
   "execution_count": 47,
   "metadata": {},
   "outputs": [
    {
     "data": {
      "application/vnd.microsoft.datawrangler.viewer.v0+json": {
       "columns": [
        {
         "name": "tconst",
         "rawType": "string",
         "type": "string"
        },
        {
         "name": "date",
         "rawType": "datetime64[ns]",
         "type": "datetime"
        },
        {
         "name": "enjoyment_score",
         "rawType": "Float32",
         "type": "float"
        },
        {
         "name": "quality_score",
         "rawType": "Float32",
         "type": "float"
        }
       ],
       "conversionMethod": "pd.DataFrame",
       "ref": "3f947058-f6a0-4bff-8d57-f6f4a652a511",
       "rows": [
        [
         "tt0081505",
         "2021-10-25 00:00:00",
         "4.0",
         "4.0"
        ],
        [
         "tt2005151",
         "2023-01-05 00:00:00",
         "3.0",
         "3.0"
        ],
        [
         "tt21113540",
         "2023-12-09 00:00:00",
         null,
         null
        ]
       ],
       "shape": {
        "columns": 3,
        "rows": 3
       }
      },
      "text/html": [
       "<div>\n",
       "<style scoped>\n",
       "    .dataframe tbody tr th:only-of-type {\n",
       "        vertical-align: middle;\n",
       "    }\n",
       "\n",
       "    .dataframe tbody tr th {\n",
       "        vertical-align: top;\n",
       "    }\n",
       "\n",
       "    .dataframe thead th {\n",
       "        text-align: right;\n",
       "    }\n",
       "</style>\n",
       "<table border=\"1\" class=\"dataframe\">\n",
       "  <thead>\n",
       "    <tr style=\"text-align: right;\">\n",
       "      <th></th>\n",
       "      <th>date</th>\n",
       "      <th>enjoyment_score</th>\n",
       "      <th>quality_score</th>\n",
       "    </tr>\n",
       "    <tr>\n",
       "      <th>tconst</th>\n",
       "      <th></th>\n",
       "      <th></th>\n",
       "      <th></th>\n",
       "    </tr>\n",
       "  </thead>\n",
       "  <tbody>\n",
       "    <tr>\n",
       "      <th>tt0081505</th>\n",
       "      <td>2021-10-25</td>\n",
       "      <td>4.0</td>\n",
       "      <td>4.0</td>\n",
       "    </tr>\n",
       "    <tr>\n",
       "      <th>tt2005151</th>\n",
       "      <td>2023-01-05</td>\n",
       "      <td>3.0</td>\n",
       "      <td>3.0</td>\n",
       "    </tr>\n",
       "    <tr>\n",
       "      <th>tt21113540</th>\n",
       "      <td>2023-12-09</td>\n",
       "      <td>&lt;NA&gt;</td>\n",
       "      <td>&lt;NA&gt;</td>\n",
       "    </tr>\n",
       "  </tbody>\n",
       "</table>\n",
       "</div>"
      ],
      "text/plain": [
       "                 date  enjoyment_score  quality_score\n",
       "tconst                                               \n",
       "tt0081505  2021-10-25              4.0            4.0\n",
       "tt2005151  2023-01-05              3.0            3.0\n",
       "tt21113540 2023-12-09             <NA>           <NA>"
      ]
     },
     "execution_count": 47,
     "metadata": {},
     "output_type": "execute_result"
    }
   ],
   "source": [
    "status"
   ]
  },
  {
   "cell_type": "markdown",
   "metadata": {},
   "source": [
    "## date scores"
   ]
  },
  {
   "cell_type": "code",
   "execution_count": null,
   "metadata": {},
   "outputs": [],
   "source": [
    "\"primaryTitle\"\n",
    "\"originalTitle\"\n",
    "\"startYear\""
   ]
  }
 ],
 "metadata": {
  "kernelspec": {
   "display_name": ".venv",
   "language": "python",
   "name": "python3"
  },
  "language_info": {
   "codemirror_mode": {
    "name": "ipython",
    "version": 3
   },
   "file_extension": ".py",
   "mimetype": "text/x-python",
   "name": "python",
   "nbconvert_exporter": "python",
   "pygments_lexer": "ipython3",
   "version": "3.12.9"
  }
 },
 "nbformat": 4,
 "nbformat_minor": 2
}

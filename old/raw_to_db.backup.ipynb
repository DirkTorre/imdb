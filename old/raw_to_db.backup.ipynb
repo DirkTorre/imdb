{
 "cells": [
  {
   "attachments": {},
   "cell_type": "markdown",
   "metadata": {},
   "source": [
    "# todo list\n",
    "- directors en writers must get column names\n",
    "- optimize\n",
    "- check todo's\n",
    "- remove redundancy by making functions\n",
    "- sqlite vs parquet\n",
    "\n",
    "## there is redundancy in functions:\n",
    "- createGenreTables\n",
    "- createTitleType\n",
    "- createNameBasicsTables\n",
    "- makeLinkTableAndCatTable\n",
    "\n",
    "The following code must be made into a function"
   ]
  },
  {
   "cell_type": "code",
   "execution_count": 14,
   "metadata": {},
   "outputs": [],
   "source": [
    "# # getting ready to convert to numbers\n",
    "# genre_converter = title_basics_genres.loc[:,'genre'].factorize()\n",
    "# nummerized = genre_converter[0]\n",
    "# converter = genre_converter[1].codes\n",
    "# cats = genre_converter[1].categories\n",
    "\n",
    "# # convert genres in link table to numbers/categories\n",
    "# title_basics_genres.loc[:,'genre'] = nummerized\n",
    "# title_basics_genres.loc[:,'genre'] = title_basics_genres.loc[:,'genre'].astype('Int64')\n",
    "\n",
    "# # create genres table\n",
    "# # todo: maybe convert to datatype category\n",
    "# genres = pd.DataFrame({\"genre\": [ cats[converter[x]] for x in range(len(converter))]})\n",
    "# genres.index.name = \"index\""
   ]
  },
  {
   "cell_type": "code",
   "execution_count": 1,
   "metadata": {},
   "outputs": [],
   "source": [
    "import os\n",
    "import re\n",
    "import sys\n",
    "import time\n",
    "import gzip\n",
    "import shutil\n",
    "import requests\n",
    "import numpy as np\n",
    "import pandas as pd\n",
    "from datetime import date\n",
    "\n",
    "START_TIME = time.time()\n",
    "\n",
    "BASE_URL = \"https://datasets.imdbws.com/\"\n",
    "\n",
    "FILES_IMDB = {\n",
    "    \"tit_bas\": \"title.basics.tsv\",\n",
    "    \"tit_rate\": \"title.ratings.tsv\",\n",
    "    \"name_bas\": \"name.basics.tsv\",\n",
    "    \"tit_prin\": \"title.principals.tsv\",\n",
    "    \"cast_crew\": \"title.crew.tsv\",\n",
    "}\n",
    "\n",
    "FILES_HAND = {\n",
    "    \"add_seen\": \"add_movies_seen.txt\",\n",
    "    \"add_unseen\": \"add_movies_unseen.txt\",\n",
    "    \"add_secop\": \"add_movies_second_opinion.txt\",\n",
    "    \"raw_status\": \"raw_status.xlsx\"\n",
    "}\n",
    "\n",
    "FILES_GENERATED = {\n",
    "    \"films_raw\": \"films_raw.pkl\",\n",
    "    \"films_reading\": \"films_reading.xlsx\"\n",
    "}"
   ]
  },
  {
   "attachments": {},
   "cell_type": "markdown",
   "metadata": {},
   "source": [
    "# functions"
   ]
  },
  {
   "cell_type": "code",
   "execution_count": 2,
   "metadata": {},
   "outputs": [],
   "source": [
    "def setTNconst(df, key, set_index, drop_col):\n",
    "    # tconst\n",
    "    # We remove the first two tt and convert it to int.\n",
    "    # Commands are not chained, baecause this can cause memory issues with big files.\n",
    "    df.loc[:,key] = df.loc[:,key].str.slice(2)\n",
    "    df.loc[:,key] = df.loc[:,key].astype('Int64')\n",
    "    if set_index:\n",
    "        df = df.set_index(key, drop=drop_col)\n",
    "    return df"
   ]
  },
  {
   "attachments": {},
   "cell_type": "markdown",
   "metadata": {},
   "source": [
    "# convert title.basics"
   ]
  },
  {
   "cell_type": "code",
   "execution_count": 3,
   "metadata": {},
   "outputs": [],
   "source": [
    "def cleanTitlesBasic(tit_bas):\n",
    "    tit_bas = setTNconst(tit_bas, 'tconst', set_index=True, drop_col=True)\n",
    "\n",
    "    # titleType\n",
    "    # There are a few null values (np.nan)\n",
    "    # convert to category\n",
    "    tit_bas.loc[:,\"titleType\"] = tit_bas.loc[:,\"titleType\"].astype('category')\n",
    "\n",
    "    # primaryTitle & originalTitle\n",
    "    # Is already either string or np.nan\n",
    "\n",
    "    # isAdult\n",
    "    # todo: don't drop this\n",
    "    tit_bas = tit_bas.drop(columns='isAdult')\n",
    "    # # Those movies are checked, and were not adult movies.\n",
    "    # # movies that are not an 1 or '1' aren't adult movies\n",
    "    # tit_bas.loc[:,\"isAdult\"] = tit_bas.loc[:,\"isAdult\"].fillna(0).astype('str')\n",
    "    # tit_bas.loc[tit_bas.loc[:,'isAdult'] != '1', 'isAdult'] = '0'\n",
    "    # tit_bas.loc[:,\"isAdult\"] = tit_bas.loc[:,\"isAdult\"].map({'1': True, '0': False})\n",
    "\n",
    "    # startYear & endYear & runtimeMinutes\n",
    "    # both contain a lot of np.nan\n",
    "    tit_bas.loc[:,\"startYear\"] = tit_bas.loc[:,\"startYear\"].astype('Int64')\n",
    "    tit_bas.loc[:,\"endYear\"] = tit_bas.loc[:,\"endYear\"].astype('Int64')\n",
    "    tit_bas.loc[:,\"runtimeMinutes\"] = tit_bas.loc[:,\"runtimeMinutes\"].astype('Int64')\n",
    "\n",
    "    # genres\n",
    "    # will be split elsewere\n",
    "\n",
    "    return tit_bas"
   ]
  },
  {
   "cell_type": "code",
   "execution_count": 4,
   "metadata": {},
   "outputs": [],
   "source": [
    "def createGenreTables(title_basics):\n",
    "    genres_raw = title_basics.loc[:,'genres'].copy()\n",
    "    title_basics = title_basics.drop(columns='genres')\n",
    "    genres_raw = genres_raw.str.split(\",\", expand=True)\n",
    "\n",
    "    # create link table \n",
    "    title_basics_genres = (genres_raw\n",
    "        .stack()\n",
    "        .reset_index()\n",
    "        .rename(columns={\"level_0\":'tconst', 0:\"genre\"})\n",
    "        .set_index(\"tconst\")\n",
    "        .drop(columns='level_1'))\n",
    "    title_basics_genres.loc[:,'genre'] = title_basics_genres.loc[:,'genre'].astype('category')\n",
    "\n",
    "    # getting ready to convert to numbers\n",
    "    genre_converter = title_basics_genres.loc[:,'genre'].factorize()\n",
    "    nummerized = genre_converter[0]\n",
    "    converter = genre_converter[1].codes\n",
    "    cats = genre_converter[1].categories\n",
    "\n",
    "    # convert genres in link table to numbers/categories\n",
    "    title_basics_genres.loc[:,'genre'] = nummerized\n",
    "    title_basics_genres.loc[:,'genre'] = title_basics_genres.loc[:,'genre'].astype('Int64')\n",
    "\n",
    "    # create genres table\n",
    "    # todo: maybe convert to datatype category\n",
    "    genres = pd.DataFrame({\"genre\": [ cats[converter[x]] for x in range(len(converter))]})\n",
    "    genres.index.name = \"index\"\n",
    "\n",
    "    return title_basics, title_basics_genres, genres"
   ]
  },
  {
   "cell_type": "code",
   "execution_count": 5,
   "metadata": {},
   "outputs": [],
   "source": [
    "def createTitleType(title_basics):\n",
    "    # getting ready to convert to numbers\n",
    "    titleType_converter = title_basics.loc[:,'titleType'].factorize()\n",
    "    nummerized = titleType_converter[0]\n",
    "    converter = titleType_converter[1].codes\n",
    "    cats = titleType_converter[1].categories\n",
    "\n",
    "    # convert to numbers\n",
    "    title_basics.loc[:,'titleType'] = nummerized\n",
    "    title_basics.loc[:,'titleType'] = title_basics.loc[:,'titleType'].astype('Int64')\n",
    "\n",
    "    # create titleType table\n",
    "    # todo: maybe convert to datatype category\n",
    "    title_type = pd.DataFrame({\"genre\": [ cats[converter[x]] for x in range(len(converter))]})\n",
    "    title_type.index.name = \"index\"\n",
    "\n",
    "    return title_basics, title_type"
   ]
  },
  {
   "cell_type": "code",
   "execution_count": 6,
   "metadata": {},
   "outputs": [],
   "source": [
    "title_basics_path = os.path.join(\"data/imdb/\",FILES_IMDB['tit_bas'])\n",
    "title_basics = pd.read_csv(title_basics_path,sep='\\t', quotechar='\\t', low_memory=False)\n",
    "title_basics = title_basics.replace(to_replace = \"\\\\N\", value = np.nan)\n",
    "\n",
    "title_basics = cleanTitlesBasic(title_basics)\n",
    "title_basics, title_basics_genres, genres = createGenreTables(title_basics)\n",
    "title_basics, title_type = createTitleType(title_basics)"
   ]
  },
  {
   "attachments": {},
   "cell_type": "markdown",
   "metadata": {},
   "source": [
    "# convert title rate"
   ]
  },
  {
   "cell_type": "code",
   "execution_count": 11,
   "metadata": {},
   "outputs": [],
   "source": [
    "def convertTitleRate(title_rate):\n",
    "    title_rate = setTNconst(title_rate, 'tconst', set_index=True, drop_col=True)\n",
    "\n",
    "    # convert averageRating\n",
    "    title_rate.loc[:,'averageRating'] = title_rate.loc[:,'averageRating'].astype('float')\n",
    "\n",
    "    # convert numVotes\n",
    "    title_rate.loc[:,'numVotes'] = title_rate.loc[:,'numVotes'].astype('int')\n",
    "\n",
    "    return title_rate"
   ]
  },
  {
   "cell_type": "code",
   "execution_count": 12,
   "metadata": {},
   "outputs": [],
   "source": [
    "title_rate_path = os.path.join(\"data/imdb/\",FILES_IMDB['tit_rate'])\n",
    "title_rate = pd.read_csv(title_rate_path,sep='\\t', quotechar='\\t', low_memory=False)\n",
    "title_rate = title_rate.replace(to_replace = \"\\\\N\", value = np.nan)\n",
    "\n",
    "title_rate = convertTitleRate(title_rate)"
   ]
  },
  {
   "attachments": {},
   "cell_type": "markdown",
   "metadata": {},
   "source": [
    "# convert title.crew"
   ]
  },
  {
   "cell_type": "code",
   "execution_count": 14,
   "metadata": {},
   "outputs": [],
   "source": [
    "def convertDirectorsAndWriters(title_crew):\n",
    "    title_crew = setTNconst(title_crew, 'tconst', set_index=True, drop_col=True)\n",
    "\n",
    "    # todo: make function\n",
    "    # directors\n",
    "    # turn this into an table on it's own\n",
    "    directors = title_crew.loc[:,'directors'].copy()\n",
    "    directors = directors.str.replace(\"nm\",\"\")\n",
    "    directors = directors.str.split(',')\n",
    "    directors = directors.loc[~directors.isna()].explode().astype(\"Int64\").copy()\n",
    "\n",
    "    # writers\n",
    "    # turn this into an table on it's own\n",
    "    writers = title_crew.loc[:,'writers'].copy()\n",
    "    writers = writers.str.replace(\"nm\",\"\")\n",
    "    writers = writers.str.split(',')\n",
    "    writers = writers.loc[~writers.isna()].explode().astype(\"Int64\").copy()\n",
    "\n",
    "    return directors, writers"
   ]
  },
  {
   "cell_type": "code",
   "execution_count": 15,
   "metadata": {},
   "outputs": [],
   "source": [
    "title_crew_path = os.path.join(\"data/imdb/\",FILES_IMDB['cast_crew'])\n",
    "title_crew = pd.read_csv(title_crew_path,sep='\\t', quotechar='\\t', low_memory=True)\n",
    "title_crew = title_crew.replace(to_replace = \"\\\\N\", value = np.nan)\n",
    "\n",
    "directors, writers = convertDirectorsAndWriters(title_crew)"
   ]
  },
  {
   "attachments": {},
   "cell_type": "markdown",
   "metadata": {},
   "source": [
    "# convert name basics"
   ]
  },
  {
   "cell_type": "code",
   "execution_count": 2,
   "metadata": {},
   "outputs": [],
   "source": [
    "def createNameBasicsTables(name_bas):\n",
    "    name_bas = setTNconst(name_bas, 'nconst', set_index=True, drop_col=True)\n",
    "\n",
    "    # primaryName\n",
    "    ## Some names have quotes, and some names are missing.\n",
    "    ## We don't have to modify them.\n",
    "\n",
    "    # birthYear & deathYear has a lot of missing values\n",
    "    # some are year 4, or 12. those are greek writers like nm0653992 (Ovid) \n",
    "    # which play was used for the movie.\n",
    "    name_bas.loc[:,\"birthYear\"] = name_bas.loc[:,\"birthYear\"].astype('Int64')\n",
    "    name_bas.loc[:,\"deathYear\"] = name_bas.loc[:,\"deathYear\"].astype('Int64')\n",
    "\n",
    "    # knownForTitles\n",
    "    # turn this into an table on it's own\n",
    "    knownfor = name_bas.loc[:,\"knownForTitles\"].copy()\n",
    "    name_bas = name_bas.drop(columns=\"knownForTitles\")\n",
    "    knownfor = knownfor.str.replace(\"tt\",\"\")\n",
    "    knownfor = knownfor.str.split(',')\n",
    "    knownfor = knownfor.loc[~knownfor.isna()].explode().astype(\"Int64\").copy()\n",
    "\n",
    "    prim_prof_raw = name_bas.loc[:,\"primaryProfession\"].copy()\n",
    "    name_bas = name_bas.drop(columns=\"primaryProfession\")\n",
    "    prim_prof_raw = prim_prof_raw.str.replace(\"nm\",\"\")\n",
    "    prim_prof_raw = prim_prof_raw.str.split(\",\", expand=True)\n",
    "\n",
    "    # create link table\n",
    "    name_bas_prim_prof = (prim_prof_raw\n",
    "        .stack()\n",
    "        .reset_index()\n",
    "        .rename(columns={\"level_0\":'nconst', 0:\"profession\"})\n",
    "        .set_index(\"nconst\")\n",
    "        .drop(columns='level_1'))\n",
    "    name_bas_prim_prof.loc[:,'profession'] = name_bas_prim_prof.loc[:,'profession'].astype('category')\n",
    "\n",
    "    # getting ready to convert to numbers\n",
    "    profession_converter = name_bas_prim_prof.loc[:,'profession'].factorize()\n",
    "    nummerized = profession_converter[0]\n",
    "    converter = profession_converter[1].codes\n",
    "    cats = profession_converter[1].categories\n",
    "\n",
    "    # convert genres in link table to numbers/categories\n",
    "    name_bas_prim_prof.loc[:,'profession'] = nummerized\n",
    "    name_bas_prim_prof.loc[:,'profession'] = name_bas_prim_prof.loc[:,'profession'].astype('Int64')\n",
    "\n",
    "    # create genres table\n",
    "    # todo: maybe convert to datatype category\n",
    "    professions = pd.DataFrame({\"profession\": [ cats[converter[x]] for x in range(len(converter))]})\n",
    "    professions.index.name = \"index\"\n",
    "    professions.loc[:,'profession'] = professions.loc[:,'profession'].astype('category')\n",
    "\n",
    "    return name_bas, name_bas_prim_prof, professions, knownfor"
   ]
  },
  {
   "cell_type": "code",
   "execution_count": 5,
   "metadata": {},
   "outputs": [],
   "source": [
    "name_bas_path = os.path.join(\"data/imdb/\",FILES_IMDB['name_bas'])\n",
    "name_bas = pd.read_csv(name_bas_path,sep='\\t', low_memory=True)\n",
    "name_bas = name_bas.replace(to_replace = \"\\\\N\", value = np.nan)\n",
    "\n",
    "name_bas, name_bas_prim_prof, professions, knownfor = createNameBasicsTables(name_bas)"
   ]
  },
  {
   "attachments": {},
   "cell_type": "markdown",
   "metadata": {},
   "source": [
    "# convert title.principals"
   ]
  },
  {
   "cell_type": "code",
   "execution_count": 3,
   "metadata": {},
   "outputs": [],
   "source": [
    "def makeLinkTableAndCatTable(single_attribute_df):\n",
    "    # universal function for category, characters and job\n",
    "    # takes in dataframe with 1 key\n",
    "\n",
    "    # remove null values\n",
    "    key = list(single_attribute_df.columns.values)[0]\n",
    "    has_category = ~single_attribute_df[key].isna()\n",
    "    single_attribute_df = single_attribute_df[has_category].copy()\n",
    "\n",
    "    # getting ready to convert to numbers\n",
    "    category_converter = single_attribute_df.loc[:,key].astype('category').factorize()\n",
    "    nummerized = category_converter[0]\n",
    "    converter = category_converter[1].codes\n",
    "    cats = category_converter[1].categories\n",
    "\n",
    "    # convert table to link table with nummerized categories\n",
    "    single_attribute_df.loc[:,key] = nummerized\n",
    "    # category_link.loc[:,key] = category_link.loc[:,key].astype('Int64') # not sure if this is needed\n",
    "\n",
    "    # create value table for the numerized categories\n",
    "    # todo: maybe convert to datatype category\n",
    "    categories = pd.DataFrame({key: [ cats[converter[x]] for x in range(len(converter))]})\n",
    "    categories.index.name = \"index\"\n",
    "    categories.loc[:,key] = categories.loc[:,key].astype('category')\n",
    "\n",
    "    return single_attribute_df, categories"
   ]
  },
  {
   "cell_type": "code",
   "execution_count": 4,
   "metadata": {},
   "outputs": [],
   "source": [
    "def prepareTitlePrin(tit_prin):\n",
    "    tit_prin = setTNconst(tit_prin, 'tconst', set_index=False, drop_col=False)\n",
    "    tit_prin = setTNconst(tit_prin, 'nconst', set_index=False, drop_col=False)\n",
    "\n",
    "    # set index\n",
    "    tit_prin = tit_prin.set_index(['tconst', 'nconst'], drop=True)\n",
    "\n",
    "    return tit_prin\n",
    "\n",
    "\n",
    "def makeTitlePrimTables(tit_prin):\n",
    "    # prepare data\n",
    "    characters_link = tit_prin.loc[:,\"characters\"].to_frame()\n",
    "    characters_link.loc[:,'characters'] = tit_prin.loc[:,'characters'].str.replace(\"\\\",\\\"\",\"@\").replace(r'[\\[\\]\\\"]',\"\", regex=True)\n",
    "    characters_link.loc[:,'characters'] = tit_prin.loc[:,'characters'].str.split('@')\n",
    "    characters_link = characters_link.explode('characters')\n",
    "    categories_link = tit_prin.loc[:,\"category\"].to_frame()\n",
    "    jobs_link = tit_prin.loc[:,\"job\"].to_frame()\n",
    "\n",
    "    # make new tables\n",
    "    characters_link, characters_category = makeLinkTableAndCatTable(characters_link)\n",
    "    categories_link, categories_category = makeLinkTableAndCatTable(categories_link)\n",
    "    jobs_link, jobs_category = makeLinkTableAndCatTable(jobs_link)\n",
    "\n",
    "    return characters_link, characters_category, categories_link, categories_category, jobs_link, jobs_category  "
   ]
  },
  {
   "cell_type": "code",
   "execution_count": 5,
   "metadata": {},
   "outputs": [],
   "source": [
    "tit_prin_path = os.path.join(\"data/imdb/\",FILES_IMDB['tit_prin'])\n",
    "tit_prin = pd.read_csv(tit_prin_path, sep='\\t', low_memory=True)\n",
    "tit_prin = tit_prin.replace(to_replace = \"\\\\N\", value = np.nan)"
   ]
  },
  {
   "cell_type": "code",
   "execution_count": 6,
   "metadata": {},
   "outputs": [],
   "source": [
    "tit_prin =  prepareTitlePrin(tit_prin)\n",
    "\n",
    "characters_link, characters_category, categories_link, categories_category, jobs_link, jobs_category = makeTitlePrimTables(tit_prin)\n",
    "\n",
    "# remove columns\n",
    "tit_prin = tit_prin.drop(columns=['characters','category','job'])"
   ]
  }
 ],
 "metadata": {
  "kernelspec": {
   "display_name": "ML",
   "language": "python",
   "name": "python3"
  },
  "language_info": {
   "codemirror_mode": {
    "name": "ipython",
    "version": 3
   },
   "file_extension": ".py",
   "mimetype": "text/x-python",
   "name": "python",
   "nbconvert_exporter": "python",
   "pygments_lexer": "ipython3",
   "version": "3.10.6"
  },
  "orig_nbformat": 4
 },
 "nbformat": 4,
 "nbformat_minor": 2
}

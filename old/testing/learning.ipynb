{
 "cells": [
  {
   "cell_type": "code",
   "execution_count": 1,
   "metadata": {},
   "outputs": [],
   "source": [
    "import pandas as pd\n",
    "import numpy as np"
   ]
  },
  {
   "attachments": {},
   "cell_type": "markdown",
   "metadata": {},
   "source": [
    "# Unnecessary index column when writing file"
   ]
  },
  {
   "attachments": {},
   "cell_type": "markdown",
   "metadata": {},
   "source": [
    "wrong way of saving"
   ]
  },
  {
   "cell_type": "code",
   "execution_count": 2,
   "metadata": {},
   "outputs": [
    {
     "data": {
      "text/html": [
       "<div>\n",
       "<style scoped>\n",
       "    .dataframe tbody tr th:only-of-type {\n",
       "        vertical-align: middle;\n",
       "    }\n",
       "\n",
       "    .dataframe tbody tr th {\n",
       "        vertical-align: top;\n",
       "    }\n",
       "\n",
       "    .dataframe thead th {\n",
       "        text-align: right;\n",
       "    }\n",
       "</style>\n",
       "<table border=\"1\" class=\"dataframe\">\n",
       "  <thead>\n",
       "    <tr style=\"text-align: right;\">\n",
       "      <th></th>\n",
       "      <th>age</th>\n",
       "      <th>length</th>\n",
       "      <th>sleeping_hours</th>\n",
       "      <th>name</th>\n",
       "      <th>date</th>\n",
       "    </tr>\n",
       "  </thead>\n",
       "  <tbody>\n",
       "    <tr>\n",
       "      <th>0</th>\n",
       "      <td>15</td>\n",
       "      <td>1.70</td>\n",
       "      <td>10</td>\n",
       "      <td>hank</td>\n",
       "      <td>1-2-2020</td>\n",
       "    </tr>\n",
       "    <tr>\n",
       "      <th>1</th>\n",
       "      <td>16</td>\n",
       "      <td>1.71</td>\n",
       "      <td>10</td>\n",
       "      <td>hank</td>\n",
       "      <td>1-2-2021</td>\n",
       "    </tr>\n",
       "    <tr>\n",
       "      <th>2</th>\n",
       "      <td>17</td>\n",
       "      <td>1.72</td>\n",
       "      <td>10</td>\n",
       "      <td>hank</td>\n",
       "      <td>1-2-2022</td>\n",
       "    </tr>\n",
       "    <tr>\n",
       "      <th>3</th>\n",
       "      <td>18</td>\n",
       "      <td>1.73</td>\n",
       "      <td>10</td>\n",
       "      <td>hank</td>\n",
       "      <td>1-2-2023</td>\n",
       "    </tr>\n",
       "    <tr>\n",
       "      <th>4</th>\n",
       "      <td>20</td>\n",
       "      <td>1.80</td>\n",
       "      <td>6</td>\n",
       "      <td>george</td>\n",
       "      <td>1-2-2020</td>\n",
       "    </tr>\n",
       "  </tbody>\n",
       "</table>\n",
       "</div>"
      ],
      "text/plain": [
       "   age  length  sleeping_hours    name      date\n",
       "0   15    1.70              10    hank  1-2-2020\n",
       "1   16    1.71              10    hank  1-2-2021\n",
       "2   17    1.72              10    hank  1-2-2022\n",
       "3   18    1.73              10    hank  1-2-2023\n",
       "4   20    1.80               6  george  1-2-2020"
      ]
     },
     "execution_count": 2,
     "metadata": {},
     "output_type": "execute_result"
    }
   ],
   "source": [
    "df = pd.read_csv('dummie1.csv')\n",
    "df.to_csv('dummie1_1.csv')\n",
    "df.head()"
   ]
  },
  {
   "cell_type": "code",
   "execution_count": 3,
   "metadata": {},
   "outputs": [
    {
     "data": {
      "text/html": [
       "<div>\n",
       "<style scoped>\n",
       "    .dataframe tbody tr th:only-of-type {\n",
       "        vertical-align: middle;\n",
       "    }\n",
       "\n",
       "    .dataframe tbody tr th {\n",
       "        vertical-align: top;\n",
       "    }\n",
       "\n",
       "    .dataframe thead th {\n",
       "        text-align: right;\n",
       "    }\n",
       "</style>\n",
       "<table border=\"1\" class=\"dataframe\">\n",
       "  <thead>\n",
       "    <tr style=\"text-align: right;\">\n",
       "      <th></th>\n",
       "      <th>Unnamed: 0</th>\n",
       "      <th>age</th>\n",
       "      <th>length</th>\n",
       "      <th>sleeping_hours</th>\n",
       "      <th>name</th>\n",
       "      <th>date</th>\n",
       "    </tr>\n",
       "  </thead>\n",
       "  <tbody>\n",
       "    <tr>\n",
       "      <th>0</th>\n",
       "      <td>0</td>\n",
       "      <td>15</td>\n",
       "      <td>1.70</td>\n",
       "      <td>10</td>\n",
       "      <td>hank</td>\n",
       "      <td>1-2-2020</td>\n",
       "    </tr>\n",
       "    <tr>\n",
       "      <th>1</th>\n",
       "      <td>1</td>\n",
       "      <td>16</td>\n",
       "      <td>1.71</td>\n",
       "      <td>10</td>\n",
       "      <td>hank</td>\n",
       "      <td>1-2-2021</td>\n",
       "    </tr>\n",
       "    <tr>\n",
       "      <th>2</th>\n",
       "      <td>2</td>\n",
       "      <td>17</td>\n",
       "      <td>1.72</td>\n",
       "      <td>10</td>\n",
       "      <td>hank</td>\n",
       "      <td>1-2-2022</td>\n",
       "    </tr>\n",
       "    <tr>\n",
       "      <th>3</th>\n",
       "      <td>3</td>\n",
       "      <td>18</td>\n",
       "      <td>1.73</td>\n",
       "      <td>10</td>\n",
       "      <td>hank</td>\n",
       "      <td>1-2-2023</td>\n",
       "    </tr>\n",
       "    <tr>\n",
       "      <th>4</th>\n",
       "      <td>4</td>\n",
       "      <td>20</td>\n",
       "      <td>1.80</td>\n",
       "      <td>6</td>\n",
       "      <td>george</td>\n",
       "      <td>1-2-2020</td>\n",
       "    </tr>\n",
       "  </tbody>\n",
       "</table>\n",
       "</div>"
      ],
      "text/plain": [
       "   Unnamed: 0  age  length  sleeping_hours    name      date\n",
       "0           0   15    1.70              10    hank  1-2-2020\n",
       "1           1   16    1.71              10    hank  1-2-2021\n",
       "2           2   17    1.72              10    hank  1-2-2022\n",
       "3           3   18    1.73              10    hank  1-2-2023\n",
       "4           4   20    1.80               6  george  1-2-2020"
      ]
     },
     "execution_count": 3,
     "metadata": {},
     "output_type": "execute_result"
    }
   ],
   "source": [
    "df = pd.read_csv('dummie1_1.csv')\n",
    "df.head()"
   ]
  },
  {
   "attachments": {},
   "cell_type": "markdown",
   "metadata": {},
   "source": [
    "good way of saving"
   ]
  },
  {
   "cell_type": "code",
   "execution_count": 4,
   "metadata": {},
   "outputs": [
    {
     "data": {
      "text/html": [
       "<div>\n",
       "<style scoped>\n",
       "    .dataframe tbody tr th:only-of-type {\n",
       "        vertical-align: middle;\n",
       "    }\n",
       "\n",
       "    .dataframe tbody tr th {\n",
       "        vertical-align: top;\n",
       "    }\n",
       "\n",
       "    .dataframe thead th {\n",
       "        text-align: right;\n",
       "    }\n",
       "</style>\n",
       "<table border=\"1\" class=\"dataframe\">\n",
       "  <thead>\n",
       "    <tr style=\"text-align: right;\">\n",
       "      <th></th>\n",
       "      <th>age</th>\n",
       "      <th>length</th>\n",
       "      <th>sleeping_hours</th>\n",
       "      <th>name</th>\n",
       "      <th>date</th>\n",
       "    </tr>\n",
       "  </thead>\n",
       "  <tbody>\n",
       "    <tr>\n",
       "      <th>0</th>\n",
       "      <td>15</td>\n",
       "      <td>1.70</td>\n",
       "      <td>10</td>\n",
       "      <td>hank</td>\n",
       "      <td>1-2-2020</td>\n",
       "    </tr>\n",
       "    <tr>\n",
       "      <th>1</th>\n",
       "      <td>16</td>\n",
       "      <td>1.71</td>\n",
       "      <td>10</td>\n",
       "      <td>hank</td>\n",
       "      <td>1-2-2021</td>\n",
       "    </tr>\n",
       "    <tr>\n",
       "      <th>2</th>\n",
       "      <td>17</td>\n",
       "      <td>1.72</td>\n",
       "      <td>10</td>\n",
       "      <td>hank</td>\n",
       "      <td>1-2-2022</td>\n",
       "    </tr>\n",
       "    <tr>\n",
       "      <th>3</th>\n",
       "      <td>18</td>\n",
       "      <td>1.73</td>\n",
       "      <td>10</td>\n",
       "      <td>hank</td>\n",
       "      <td>1-2-2023</td>\n",
       "    </tr>\n",
       "    <tr>\n",
       "      <th>4</th>\n",
       "      <td>20</td>\n",
       "      <td>1.80</td>\n",
       "      <td>6</td>\n",
       "      <td>george</td>\n",
       "      <td>1-2-2020</td>\n",
       "    </tr>\n",
       "  </tbody>\n",
       "</table>\n",
       "</div>"
      ],
      "text/plain": [
       "   age  length  sleeping_hours    name      date\n",
       "0   15    1.70              10    hank  1-2-2020\n",
       "1   16    1.71              10    hank  1-2-2021\n",
       "2   17    1.72              10    hank  1-2-2022\n",
       "3   18    1.73              10    hank  1-2-2023\n",
       "4   20    1.80               6  george  1-2-2020"
      ]
     },
     "execution_count": 4,
     "metadata": {},
     "output_type": "execute_result"
    }
   ],
   "source": [
    "df = pd.read_csv('dummie1.csv')\n",
    "df.to_csv('dummie1_2.csv', index=False)\n",
    "df = pd.read_csv('dummie1_2.csv')\n",
    "df.head()"
   ]
  },
  {
   "attachments": {},
   "cell_type": "markdown",
   "metadata": {},
   "source": [
    "alternative"
   ]
  },
  {
   "cell_type": "code",
   "execution_count": 5,
   "metadata": {},
   "outputs": [
    {
     "data": {
      "text/html": [
       "<div>\n",
       "<style scoped>\n",
       "    .dataframe tbody tr th:only-of-type {\n",
       "        vertical-align: middle;\n",
       "    }\n",
       "\n",
       "    .dataframe tbody tr th {\n",
       "        vertical-align: top;\n",
       "    }\n",
       "\n",
       "    .dataframe thead th {\n",
       "        text-align: right;\n",
       "    }\n",
       "</style>\n",
       "<table border=\"1\" class=\"dataframe\">\n",
       "  <thead>\n",
       "    <tr style=\"text-align: right;\">\n",
       "      <th></th>\n",
       "      <th>age</th>\n",
       "      <th>length</th>\n",
       "      <th>sleeping_hours</th>\n",
       "      <th>name</th>\n",
       "      <th>date</th>\n",
       "    </tr>\n",
       "  </thead>\n",
       "  <tbody>\n",
       "    <tr>\n",
       "      <th>0</th>\n",
       "      <td>15</td>\n",
       "      <td>1.70</td>\n",
       "      <td>10</td>\n",
       "      <td>hank</td>\n",
       "      <td>1-2-2020</td>\n",
       "    </tr>\n",
       "    <tr>\n",
       "      <th>1</th>\n",
       "      <td>16</td>\n",
       "      <td>1.71</td>\n",
       "      <td>10</td>\n",
       "      <td>hank</td>\n",
       "      <td>1-2-2021</td>\n",
       "    </tr>\n",
       "    <tr>\n",
       "      <th>2</th>\n",
       "      <td>17</td>\n",
       "      <td>1.72</td>\n",
       "      <td>10</td>\n",
       "      <td>hank</td>\n",
       "      <td>1-2-2022</td>\n",
       "    </tr>\n",
       "    <tr>\n",
       "      <th>3</th>\n",
       "      <td>18</td>\n",
       "      <td>1.73</td>\n",
       "      <td>10</td>\n",
       "      <td>hank</td>\n",
       "      <td>1-2-2023</td>\n",
       "    </tr>\n",
       "    <tr>\n",
       "      <th>4</th>\n",
       "      <td>20</td>\n",
       "      <td>1.80</td>\n",
       "      <td>6</td>\n",
       "      <td>george</td>\n",
       "      <td>1-2-2020</td>\n",
       "    </tr>\n",
       "  </tbody>\n",
       "</table>\n",
       "</div>"
      ],
      "text/plain": [
       "   age  length  sleeping_hours    name      date\n",
       "0   15    1.70              10    hank  1-2-2020\n",
       "1   16    1.71              10    hank  1-2-2021\n",
       "2   17    1.72              10    hank  1-2-2022\n",
       "3   18    1.73              10    hank  1-2-2023\n",
       "4   20    1.80               6  george  1-2-2020"
      ]
     },
     "execution_count": 5,
     "metadata": {},
     "output_type": "execute_result"
    }
   ],
   "source": [
    "df = pd.read_csv('dummie1_1.csv', index_col=[0])\n",
    "df.head()"
   ]
  },
  {
   "attachments": {},
   "cell_type": "markdown",
   "metadata": {},
   "source": [
    "# Query method"
   ]
  },
  {
   "cell_type": "code",
   "execution_count": 6,
   "metadata": {},
   "outputs": [
    {
     "data": {
      "text/html": [
       "<div>\n",
       "<style scoped>\n",
       "    .dataframe tbody tr th:only-of-type {\n",
       "        vertical-align: middle;\n",
       "    }\n",
       "\n",
       "    .dataframe tbody tr th {\n",
       "        vertical-align: top;\n",
       "    }\n",
       "\n",
       "    .dataframe thead th {\n",
       "        text-align: right;\n",
       "    }\n",
       "</style>\n",
       "<table border=\"1\" class=\"dataframe\">\n",
       "  <thead>\n",
       "    <tr style=\"text-align: right;\">\n",
       "      <th></th>\n",
       "      <th>age</th>\n",
       "      <th>length</th>\n",
       "      <th>sleeping_hours</th>\n",
       "      <th>name</th>\n",
       "      <th>date</th>\n",
       "    </tr>\n",
       "  </thead>\n",
       "  <tbody>\n",
       "    <tr>\n",
       "      <th>1</th>\n",
       "      <td>16</td>\n",
       "      <td>1.71</td>\n",
       "      <td>10</td>\n",
       "      <td>hank</td>\n",
       "      <td>1-2-2021</td>\n",
       "    </tr>\n",
       "    <tr>\n",
       "      <th>2</th>\n",
       "      <td>17</td>\n",
       "      <td>1.72</td>\n",
       "      <td>10</td>\n",
       "      <td>hank</td>\n",
       "      <td>1-2-2022</td>\n",
       "    </tr>\n",
       "    <tr>\n",
       "      <th>3</th>\n",
       "      <td>18</td>\n",
       "      <td>1.73</td>\n",
       "      <td>10</td>\n",
       "      <td>hank</td>\n",
       "      <td>1-2-2023</td>\n",
       "    </tr>\n",
       "    <tr>\n",
       "      <th>4</th>\n",
       "      <td>20</td>\n",
       "      <td>1.80</td>\n",
       "      <td>6</td>\n",
       "      <td>george</td>\n",
       "      <td>1-2-2020</td>\n",
       "    </tr>\n",
       "    <tr>\n",
       "      <th>5</th>\n",
       "      <td>25</td>\n",
       "      <td>1.81</td>\n",
       "      <td>6</td>\n",
       "      <td>will</td>\n",
       "      <td>1-2-2020</td>\n",
       "    </tr>\n",
       "    <tr>\n",
       "      <th>6</th>\n",
       "      <td>25</td>\n",
       "      <td>1.81</td>\n",
       "      <td>7</td>\n",
       "      <td>tim</td>\n",
       "      <td>1-2-2020</td>\n",
       "    </tr>\n",
       "    <tr>\n",
       "      <th>7</th>\n",
       "      <td>26</td>\n",
       "      <td>1.81</td>\n",
       "      <td>8</td>\n",
       "      <td>suzane</td>\n",
       "      <td>1-2-2020</td>\n",
       "    </tr>\n",
       "    <tr>\n",
       "      <th>8</th>\n",
       "      <td>26</td>\n",
       "      <td>1.81</td>\n",
       "      <td>6</td>\n",
       "      <td>liza</td>\n",
       "      <td>1-2-2020</td>\n",
       "    </tr>\n",
       "    <tr>\n",
       "      <th>9</th>\n",
       "      <td>27</td>\n",
       "      <td>1.81</td>\n",
       "      <td>6</td>\n",
       "      <td>betty</td>\n",
       "      <td>1-2-2020</td>\n",
       "    </tr>\n",
       "  </tbody>\n",
       "</table>\n",
       "</div>"
      ],
      "text/plain": [
       "   age  length  sleeping_hours    name      date\n",
       "1   16    1.71              10    hank  1-2-2021\n",
       "2   17    1.72              10    hank  1-2-2022\n",
       "3   18    1.73              10    hank  1-2-2023\n",
       "4   20    1.80               6  george  1-2-2020\n",
       "5   25    1.81               6    will  1-2-2020\n",
       "6   25    1.81               7     tim  1-2-2020\n",
       "7   26    1.81               8  suzane  1-2-2020\n",
       "8   26    1.81               6    liza  1-2-2020\n",
       "9   27    1.81               6   betty  1-2-2020"
      ]
     },
     "execution_count": 6,
     "metadata": {},
     "output_type": "execute_result"
    }
   ],
   "source": [
    "df.query('length > 1.70 and age < 30')"
   ]
  },
  {
   "attachments": {},
   "cell_type": "markdown",
   "metadata": {},
   "source": [
    "# query strings with @ to easily reach variables"
   ]
  },
  {
   "attachments": {},
   "cell_type": "markdown",
   "metadata": {},
   "source": [
    "wrong way"
   ]
  },
  {
   "cell_type": "code",
   "execution_count": 7,
   "metadata": {},
   "outputs": [
    {
     "data": {
      "text/html": [
       "<div>\n",
       "<style scoped>\n",
       "    .dataframe tbody tr th:only-of-type {\n",
       "        vertical-align: middle;\n",
       "    }\n",
       "\n",
       "    .dataframe tbody tr th {\n",
       "        vertical-align: top;\n",
       "    }\n",
       "\n",
       "    .dataframe thead th {\n",
       "        text-align: right;\n",
       "    }\n",
       "</style>\n",
       "<table border=\"1\" class=\"dataframe\">\n",
       "  <thead>\n",
       "    <tr style=\"text-align: right;\">\n",
       "      <th></th>\n",
       "      <th>age</th>\n",
       "      <th>length</th>\n",
       "      <th>sleeping_hours</th>\n",
       "      <th>name</th>\n",
       "      <th>date</th>\n",
       "    </tr>\n",
       "  </thead>\n",
       "  <tbody>\n",
       "    <tr>\n",
       "      <th>1</th>\n",
       "      <td>16</td>\n",
       "      <td>1.71</td>\n",
       "      <td>10</td>\n",
       "      <td>hank</td>\n",
       "      <td>1-2-2021</td>\n",
       "    </tr>\n",
       "    <tr>\n",
       "      <th>2</th>\n",
       "      <td>17</td>\n",
       "      <td>1.72</td>\n",
       "      <td>10</td>\n",
       "      <td>hank</td>\n",
       "      <td>1-2-2022</td>\n",
       "    </tr>\n",
       "    <tr>\n",
       "      <th>3</th>\n",
       "      <td>18</td>\n",
       "      <td>1.73</td>\n",
       "      <td>10</td>\n",
       "      <td>hank</td>\n",
       "      <td>1-2-2023</td>\n",
       "    </tr>\n",
       "    <tr>\n",
       "      <th>4</th>\n",
       "      <td>20</td>\n",
       "      <td>1.80</td>\n",
       "      <td>6</td>\n",
       "      <td>george</td>\n",
       "      <td>1-2-2020</td>\n",
       "    </tr>\n",
       "    <tr>\n",
       "      <th>5</th>\n",
       "      <td>25</td>\n",
       "      <td>1.81</td>\n",
       "      <td>6</td>\n",
       "      <td>will</td>\n",
       "      <td>1-2-2020</td>\n",
       "    </tr>\n",
       "    <tr>\n",
       "      <th>6</th>\n",
       "      <td>25</td>\n",
       "      <td>1.81</td>\n",
       "      <td>7</td>\n",
       "      <td>tim</td>\n",
       "      <td>1-2-2020</td>\n",
       "    </tr>\n",
       "    <tr>\n",
       "      <th>7</th>\n",
       "      <td>26</td>\n",
       "      <td>1.81</td>\n",
       "      <td>8</td>\n",
       "      <td>suzane</td>\n",
       "      <td>1-2-2020</td>\n",
       "    </tr>\n",
       "    <tr>\n",
       "      <th>8</th>\n",
       "      <td>26</td>\n",
       "      <td>1.81</td>\n",
       "      <td>6</td>\n",
       "      <td>liza</td>\n",
       "      <td>1-2-2020</td>\n",
       "    </tr>\n",
       "    <tr>\n",
       "      <th>9</th>\n",
       "      <td>27</td>\n",
       "      <td>1.81</td>\n",
       "      <td>6</td>\n",
       "      <td>betty</td>\n",
       "      <td>1-2-2020</td>\n",
       "    </tr>\n",
       "  </tbody>\n",
       "</table>\n",
       "</div>"
      ],
      "text/plain": [
       "   age  length  sleeping_hours    name      date\n",
       "1   16    1.71              10    hank  1-2-2021\n",
       "2   17    1.72              10    hank  1-2-2022\n",
       "3   18    1.73              10    hank  1-2-2023\n",
       "4   20    1.80               6  george  1-2-2020\n",
       "5   25    1.81               6    will  1-2-2020\n",
       "6   25    1.81               7     tim  1-2-2020\n",
       "7   26    1.81               8  suzane  1-2-2020\n",
       "8   26    1.81               6    liza  1-2-2020\n",
       "9   27    1.81               6   betty  1-2-2020"
      ]
     },
     "execution_count": 7,
     "metadata": {},
     "output_type": "execute_result"
    }
   ],
   "source": [
    "min_len = 1.70\n",
    "max_age = 30\n",
    "\n",
    "df.query(\"length > \" + str(min_len) + \" and age < \" + str(max_age))"
   ]
  },
  {
   "attachments": {},
   "cell_type": "markdown",
   "metadata": {},
   "source": [
    "good way"
   ]
  },
  {
   "cell_type": "code",
   "execution_count": 8,
   "metadata": {},
   "outputs": [
    {
     "data": {
      "text/html": [
       "<div>\n",
       "<style scoped>\n",
       "    .dataframe tbody tr th:only-of-type {\n",
       "        vertical-align: middle;\n",
       "    }\n",
       "\n",
       "    .dataframe tbody tr th {\n",
       "        vertical-align: top;\n",
       "    }\n",
       "\n",
       "    .dataframe thead th {\n",
       "        text-align: right;\n",
       "    }\n",
       "</style>\n",
       "<table border=\"1\" class=\"dataframe\">\n",
       "  <thead>\n",
       "    <tr style=\"text-align: right;\">\n",
       "      <th></th>\n",
       "      <th>age</th>\n",
       "      <th>length</th>\n",
       "      <th>sleeping_hours</th>\n",
       "      <th>name</th>\n",
       "      <th>date</th>\n",
       "    </tr>\n",
       "  </thead>\n",
       "  <tbody>\n",
       "    <tr>\n",
       "      <th>1</th>\n",
       "      <td>16</td>\n",
       "      <td>1.71</td>\n",
       "      <td>10</td>\n",
       "      <td>hank</td>\n",
       "      <td>1-2-2021</td>\n",
       "    </tr>\n",
       "    <tr>\n",
       "      <th>2</th>\n",
       "      <td>17</td>\n",
       "      <td>1.72</td>\n",
       "      <td>10</td>\n",
       "      <td>hank</td>\n",
       "      <td>1-2-2022</td>\n",
       "    </tr>\n",
       "    <tr>\n",
       "      <th>3</th>\n",
       "      <td>18</td>\n",
       "      <td>1.73</td>\n",
       "      <td>10</td>\n",
       "      <td>hank</td>\n",
       "      <td>1-2-2023</td>\n",
       "    </tr>\n",
       "    <tr>\n",
       "      <th>4</th>\n",
       "      <td>20</td>\n",
       "      <td>1.80</td>\n",
       "      <td>6</td>\n",
       "      <td>george</td>\n",
       "      <td>1-2-2020</td>\n",
       "    </tr>\n",
       "    <tr>\n",
       "      <th>5</th>\n",
       "      <td>25</td>\n",
       "      <td>1.81</td>\n",
       "      <td>6</td>\n",
       "      <td>will</td>\n",
       "      <td>1-2-2020</td>\n",
       "    </tr>\n",
       "    <tr>\n",
       "      <th>6</th>\n",
       "      <td>25</td>\n",
       "      <td>1.81</td>\n",
       "      <td>7</td>\n",
       "      <td>tim</td>\n",
       "      <td>1-2-2020</td>\n",
       "    </tr>\n",
       "    <tr>\n",
       "      <th>7</th>\n",
       "      <td>26</td>\n",
       "      <td>1.81</td>\n",
       "      <td>8</td>\n",
       "      <td>suzane</td>\n",
       "      <td>1-2-2020</td>\n",
       "    </tr>\n",
       "    <tr>\n",
       "      <th>8</th>\n",
       "      <td>26</td>\n",
       "      <td>1.81</td>\n",
       "      <td>6</td>\n",
       "      <td>liza</td>\n",
       "      <td>1-2-2020</td>\n",
       "    </tr>\n",
       "    <tr>\n",
       "      <th>9</th>\n",
       "      <td>27</td>\n",
       "      <td>1.81</td>\n",
       "      <td>6</td>\n",
       "      <td>betty</td>\n",
       "      <td>1-2-2020</td>\n",
       "    </tr>\n",
       "  </tbody>\n",
       "</table>\n",
       "</div>"
      ],
      "text/plain": [
       "   age  length  sleeping_hours    name      date\n",
       "1   16    1.71              10    hank  1-2-2021\n",
       "2   17    1.72              10    hank  1-2-2022\n",
       "3   18    1.73              10    hank  1-2-2023\n",
       "4   20    1.80               6  george  1-2-2020\n",
       "5   25    1.81               6    will  1-2-2020\n",
       "6   25    1.81               7     tim  1-2-2020\n",
       "7   26    1.81               8  suzane  1-2-2020\n",
       "8   26    1.81               6    liza  1-2-2020\n",
       "9   27    1.81               6   betty  1-2-2020"
      ]
     },
     "execution_count": 8,
     "metadata": {},
     "output_type": "execute_result"
    }
   ],
   "source": [
    "df.query(\"length > @min_len and age < @max_age\")"
   ]
  },
  {
   "attachments": {},
   "cell_type": "markdown",
   "metadata": {},
   "source": [
    "# Don't use inplace = True"
   ]
  },
  {
   "attachments": {},
   "cell_type": "markdown",
   "metadata": {},
   "source": [
    "# Treating a slice of a DataFrame as if it is a new DataFrame"
   ]
  },
  {
   "attachments": {},
   "cell_type": "markdown",
   "metadata": {},
   "source": [
    "it's not."
   ]
  },
  {
   "cell_type": "code",
   "execution_count": 9,
   "metadata": {},
   "outputs": [
    {
     "name": "stderr",
     "output_type": "stream",
     "text": [
      "/tmp/ipykernel_18964/3421777998.py:2: SettingWithCopyWarning: \n",
      "A value is trying to be set on a copy of a slice from a DataFrame.\n",
      "Try using .loc[row_indexer,col_indexer] = value instead\n",
      "\n",
      "See the caveats in the documentation: https://pandas.pydata.org/pandas-docs/stable/user_guide/indexing.html#returning-a-view-versus-a-copy\n",
      "  df_slice['length'] += 1\n"
     ]
    }
   ],
   "source": [
    "df_slice = df.query(\"length > @min_len and age < @max_age\")\n",
    "df_slice['length'] += 1"
   ]
  },
  {
   "attachments": {},
   "cell_type": "markdown",
   "metadata": {},
   "source": [
    "df_slice is basically a pointer to df that just selects a piece of the df. You must ame a copy if you want a separate df."
   ]
  },
  {
   "cell_type": "code",
   "execution_count": 10,
   "metadata": {},
   "outputs": [],
   "source": [
    "df_slice = df.query(\"length > @min_len and age < @max_age\").copy()\n",
    "df_slice['length'] += 1"
   ]
  },
  {
   "attachments": {},
   "cell_type": "markdown",
   "metadata": {},
   "source": [
    "# organizing chained modifications"
   ]
  },
  {
   "attachments": {},
   "cell_type": "markdown",
   "metadata": {},
   "source": [
    "wrong way"
   ]
  },
  {
   "cell_type": "code",
   "execution_count": 11,
   "metadata": {},
   "outputs": [
    {
     "data": {
      "text/html": [
       "<div>\n",
       "<style scoped>\n",
       "    .dataframe tbody tr th:only-of-type {\n",
       "        vertical-align: middle;\n",
       "    }\n",
       "\n",
       "    .dataframe tbody tr th {\n",
       "        vertical-align: top;\n",
       "    }\n",
       "\n",
       "    .dataframe thead th {\n",
       "        text-align: right;\n",
       "    }\n",
       "</style>\n",
       "<table border=\"1\" class=\"dataframe\">\n",
       "  <thead>\n",
       "    <tr style=\"text-align: right;\">\n",
       "      <th></th>\n",
       "      <th>age</th>\n",
       "    </tr>\n",
       "    <tr>\n",
       "      <th>sleeping_hours</th>\n",
       "      <th></th>\n",
       "    </tr>\n",
       "  </thead>\n",
       "  <tbody>\n",
       "    <tr>\n",
       "      <th>10</th>\n",
       "      <td>18</td>\n",
       "    </tr>\n",
       "    <tr>\n",
       "      <th>7</th>\n",
       "      <td>25</td>\n",
       "    </tr>\n",
       "    <tr>\n",
       "      <th>8</th>\n",
       "      <td>26</td>\n",
       "    </tr>\n",
       "    <tr>\n",
       "      <th>6</th>\n",
       "      <td>27</td>\n",
       "    </tr>\n",
       "  </tbody>\n",
       "</table>\n",
       "</div>"
      ],
      "text/plain": [
       "                age\n",
       "sleeping_hours     \n",
       "10               18\n",
       "7                25\n",
       "8                26\n",
       "6                27"
      ]
     },
     "execution_count": 11,
     "metadata": {},
     "output_type": "execute_result"
    }
   ],
   "source": [
    "df = pd.read_csv('dummie1.csv')\n",
    "df1 = df.query(\"length > @min_len and age < @max_age\")\n",
    "df2 = df1.groupby('sleeping_hours')[['age']].max()\n",
    "df3 = df2.sort_values('age')\n",
    "df3"
   ]
  },
  {
   "attachments": {},
   "cell_type": "markdown",
   "metadata": {},
   "source": [
    "good way"
   ]
  },
  {
   "cell_type": "code",
   "execution_count": 12,
   "metadata": {},
   "outputs": [
    {
     "data": {
      "text/html": [
       "<div>\n",
       "<style scoped>\n",
       "    .dataframe tbody tr th:only-of-type {\n",
       "        vertical-align: middle;\n",
       "    }\n",
       "\n",
       "    .dataframe tbody tr th {\n",
       "        vertical-align: top;\n",
       "    }\n",
       "\n",
       "    .dataframe thead th {\n",
       "        text-align: right;\n",
       "    }\n",
       "</style>\n",
       "<table border=\"1\" class=\"dataframe\">\n",
       "  <thead>\n",
       "    <tr style=\"text-align: right;\">\n",
       "      <th></th>\n",
       "      <th>age</th>\n",
       "    </tr>\n",
       "    <tr>\n",
       "      <th>sleeping_hours</th>\n",
       "      <th></th>\n",
       "    </tr>\n",
       "  </thead>\n",
       "  <tbody>\n",
       "    <tr>\n",
       "      <th>10</th>\n",
       "      <td>18</td>\n",
       "    </tr>\n",
       "    <tr>\n",
       "      <th>7</th>\n",
       "      <td>25</td>\n",
       "    </tr>\n",
       "    <tr>\n",
       "      <th>8</th>\n",
       "      <td>26</td>\n",
       "    </tr>\n",
       "    <tr>\n",
       "      <th>6</th>\n",
       "      <td>27</td>\n",
       "    </tr>\n",
       "  </tbody>\n",
       "</table>\n",
       "</div>"
      ],
      "text/plain": [
       "                age\n",
       "sleeping_hours     \n",
       "10               18\n",
       "7                25\n",
       "8                26\n",
       "6                27"
      ]
     },
     "execution_count": 12,
     "metadata": {},
     "output_type": "execute_result"
    }
   ],
   "source": [
    "df_out = (df.query(\"length > @min_len and age < @max_age\")\n",
    "          .groupby('sleeping_hours')[['age']].max()\n",
    "          .sort_values('age'))\n",
    "df_out"
   ]
  },
  {
   "attachments": {},
   "cell_type": "markdown",
   "metadata": {},
   "source": [
    "# Setting column dtypes"
   ]
  },
  {
   "cell_type": "code",
   "execution_count": 13,
   "metadata": {},
   "outputs": [
    {
     "data": {
      "text/html": [
       "<div>\n",
       "<style scoped>\n",
       "    .dataframe tbody tr th:only-of-type {\n",
       "        vertical-align: middle;\n",
       "    }\n",
       "\n",
       "    .dataframe tbody tr th {\n",
       "        vertical-align: top;\n",
       "    }\n",
       "\n",
       "    .dataframe thead th {\n",
       "        text-align: right;\n",
       "    }\n",
       "</style>\n",
       "<table border=\"1\" class=\"dataframe\">\n",
       "  <thead>\n",
       "    <tr style=\"text-align: right;\">\n",
       "      <th></th>\n",
       "      <th>age</th>\n",
       "      <th>length</th>\n",
       "      <th>sleeping_hours</th>\n",
       "      <th>name</th>\n",
       "      <th>date</th>\n",
       "    </tr>\n",
       "  </thead>\n",
       "  <tbody>\n",
       "    <tr>\n",
       "      <th>0</th>\n",
       "      <td>15</td>\n",
       "      <td>1.70</td>\n",
       "      <td>10</td>\n",
       "      <td>hank</td>\n",
       "      <td>1-2-2020</td>\n",
       "    </tr>\n",
       "    <tr>\n",
       "      <th>1</th>\n",
       "      <td>16</td>\n",
       "      <td>1.71</td>\n",
       "      <td>10</td>\n",
       "      <td>hank</td>\n",
       "      <td>1-2-2021</td>\n",
       "    </tr>\n",
       "    <tr>\n",
       "      <th>2</th>\n",
       "      <td>17</td>\n",
       "      <td>1.72</td>\n",
       "      <td>10</td>\n",
       "      <td>hank</td>\n",
       "      <td>1-2-2022</td>\n",
       "    </tr>\n",
       "    <tr>\n",
       "      <th>3</th>\n",
       "      <td>18</td>\n",
       "      <td>1.73</td>\n",
       "      <td>10</td>\n",
       "      <td>hank</td>\n",
       "      <td>1-2-2023</td>\n",
       "    </tr>\n",
       "    <tr>\n",
       "      <th>4</th>\n",
       "      <td>20</td>\n",
       "      <td>1.80</td>\n",
       "      <td>6</td>\n",
       "      <td>george</td>\n",
       "      <td>1-2-2020</td>\n",
       "    </tr>\n",
       "    <tr>\n",
       "      <th>5</th>\n",
       "      <td>25</td>\n",
       "      <td>1.81</td>\n",
       "      <td>6</td>\n",
       "      <td>will</td>\n",
       "      <td>1-2-2020</td>\n",
       "    </tr>\n",
       "    <tr>\n",
       "      <th>6</th>\n",
       "      <td>25</td>\n",
       "      <td>1.81</td>\n",
       "      <td>7</td>\n",
       "      <td>tim</td>\n",
       "      <td>1-2-2020</td>\n",
       "    </tr>\n",
       "    <tr>\n",
       "      <th>7</th>\n",
       "      <td>26</td>\n",
       "      <td>1.81</td>\n",
       "      <td>8</td>\n",
       "      <td>suzane</td>\n",
       "      <td>1-2-2020</td>\n",
       "    </tr>\n",
       "    <tr>\n",
       "      <th>8</th>\n",
       "      <td>26</td>\n",
       "      <td>1.81</td>\n",
       "      <td>6</td>\n",
       "      <td>liza</td>\n",
       "      <td>1-2-2020</td>\n",
       "    </tr>\n",
       "    <tr>\n",
       "      <th>9</th>\n",
       "      <td>27</td>\n",
       "      <td>1.81</td>\n",
       "      <td>6</td>\n",
       "      <td>betty</td>\n",
       "      <td>1-2-2020</td>\n",
       "    </tr>\n",
       "    <tr>\n",
       "      <th>10</th>\n",
       "      <td>30</td>\n",
       "      <td>1.81</td>\n",
       "      <td>8</td>\n",
       "      <td>lily</td>\n",
       "      <td>1-2-2020</td>\n",
       "    </tr>\n",
       "  </tbody>\n",
       "</table>\n",
       "</div>"
      ],
      "text/plain": [
       "    age  length  sleeping_hours    name      date\n",
       "0    15    1.70              10    hank  1-2-2020\n",
       "1    16    1.71              10    hank  1-2-2021\n",
       "2    17    1.72              10    hank  1-2-2022\n",
       "3    18    1.73              10    hank  1-2-2023\n",
       "4    20    1.80               6  george  1-2-2020\n",
       "5    25    1.81               6    will  1-2-2020\n",
       "6    25    1.81               7     tim  1-2-2020\n",
       "7    26    1.81               8  suzane  1-2-2020\n",
       "8    26    1.81               6    liza  1-2-2020\n",
       "9    27    1.81               6   betty  1-2-2020\n",
       "10   30    1.81               8    lily  1-2-2020"
      ]
     },
     "execution_count": 13,
     "metadata": {},
     "output_type": "execute_result"
    }
   ],
   "source": [
    "df"
   ]
  },
  {
   "cell_type": "code",
   "execution_count": 14,
   "metadata": {},
   "outputs": [
    {
     "name": "stdout",
     "output_type": "stream",
     "text": [
      "<class 'pandas.core.frame.DataFrame'>\n",
      "RangeIndex: 11 entries, 0 to 10\n",
      "Data columns (total 5 columns):\n",
      " #   Column          Non-Null Count  Dtype  \n",
      "---  ------          --------------  -----  \n",
      " 0   age             11 non-null     int64  \n",
      " 1   length          11 non-null     float64\n",
      " 2   sleeping_hours  11 non-null     int64  \n",
      " 3   name            11 non-null     object \n",
      " 4   date            11 non-null     object \n",
      "dtypes: float64(1), int64(2), object(2)\n",
      "memory usage: 568.0+ bytes\n"
     ]
    }
   ],
   "source": [
    "df.info()"
   ]
  },
  {
   "cell_type": "code",
   "execution_count": 15,
   "metadata": {},
   "outputs": [
    {
     "name": "stdout",
     "output_type": "stream",
     "text": [
      "<class 'pandas.core.frame.DataFrame'>\n",
      "RangeIndex: 11 entries, 0 to 10\n",
      "Data columns (total 5 columns):\n",
      " #   Column          Non-Null Count  Dtype         \n",
      "---  ------          --------------  -----         \n",
      " 0   age             11 non-null     int64         \n",
      " 1   length          11 non-null     float64       \n",
      " 2   sleeping_hours  11 non-null     int64         \n",
      " 3   name            11 non-null     object        \n",
      " 4   date            11 non-null     datetime64[ns]\n",
      "dtypes: datetime64[ns](1), float64(1), int64(2), object(1)\n",
      "memory usage: 568.0+ bytes\n"
     ]
    }
   ],
   "source": [
    "df = pd.read_csv('dummie1.csv', parse_dates=['date'])\n",
    "df.info()"
   ]
  },
  {
   "attachments": {},
   "cell_type": "markdown",
   "metadata": {},
   "source": [
    "# When doing the same thing to different df's: Use functions!"
   ]
  },
  {
   "attachments": {},
   "cell_type": "markdown",
   "metadata": {},
   "source": [
    "wrong (i do this a lot)"
   ]
  },
  {
   "cell_type": "code",
   "execution_count": 16,
   "metadata": {},
   "outputs": [
    {
     "data": {
      "text/html": [
       "<div>\n",
       "<style scoped>\n",
       "    .dataframe tbody tr th:only-of-type {\n",
       "        vertical-align: middle;\n",
       "    }\n",
       "\n",
       "    .dataframe tbody tr th {\n",
       "        vertical-align: top;\n",
       "    }\n",
       "\n",
       "    .dataframe thead th {\n",
       "        text-align: right;\n",
       "    }\n",
       "</style>\n",
       "<table border=\"1\" class=\"dataframe\">\n",
       "  <thead>\n",
       "    <tr style=\"text-align: right;\">\n",
       "      <th></th>\n",
       "      <th>age</th>\n",
       "      <th>length</th>\n",
       "      <th>sleeping_hours</th>\n",
       "      <th>name</th>\n",
       "      <th>date</th>\n",
       "    </tr>\n",
       "  </thead>\n",
       "  <tbody>\n",
       "    <tr>\n",
       "      <th>0</th>\n",
       "      <td>19</td>\n",
       "      <td>1.90</td>\n",
       "      <td>11</td>\n",
       "      <td>hank</td>\n",
       "      <td>2020-01-02</td>\n",
       "    </tr>\n",
       "    <tr>\n",
       "      <th>1</th>\n",
       "      <td>20</td>\n",
       "      <td>1.91</td>\n",
       "      <td>11</td>\n",
       "      <td>hank</td>\n",
       "      <td>2021-01-02</td>\n",
       "    </tr>\n",
       "    <tr>\n",
       "      <th>2</th>\n",
       "      <td>21</td>\n",
       "      <td>1.92</td>\n",
       "      <td>11</td>\n",
       "      <td>hank</td>\n",
       "      <td>2022-01-02</td>\n",
       "    </tr>\n",
       "    <tr>\n",
       "      <th>3</th>\n",
       "      <td>22</td>\n",
       "      <td>1.93</td>\n",
       "      <td>11</td>\n",
       "      <td>hank</td>\n",
       "      <td>2023-01-02</td>\n",
       "    </tr>\n",
       "    <tr>\n",
       "      <th>4</th>\n",
       "      <td>24</td>\n",
       "      <td>2.00</td>\n",
       "      <td>7</td>\n",
       "      <td>george</td>\n",
       "      <td>2020-01-02</td>\n",
       "    </tr>\n",
       "    <tr>\n",
       "      <th>5</th>\n",
       "      <td>29</td>\n",
       "      <td>2.01</td>\n",
       "      <td>7</td>\n",
       "      <td>will</td>\n",
       "      <td>2020-01-02</td>\n",
       "    </tr>\n",
       "    <tr>\n",
       "      <th>6</th>\n",
       "      <td>29</td>\n",
       "      <td>2.01</td>\n",
       "      <td>8</td>\n",
       "      <td>tim</td>\n",
       "      <td>2020-01-02</td>\n",
       "    </tr>\n",
       "    <tr>\n",
       "      <th>7</th>\n",
       "      <td>30</td>\n",
       "      <td>2.01</td>\n",
       "      <td>9</td>\n",
       "      <td>suzane</td>\n",
       "      <td>2020-01-02</td>\n",
       "    </tr>\n",
       "    <tr>\n",
       "      <th>8</th>\n",
       "      <td>30</td>\n",
       "      <td>2.01</td>\n",
       "      <td>7</td>\n",
       "      <td>liza</td>\n",
       "      <td>2020-01-02</td>\n",
       "    </tr>\n",
       "    <tr>\n",
       "      <th>9</th>\n",
       "      <td>31</td>\n",
       "      <td>2.01</td>\n",
       "      <td>7</td>\n",
       "      <td>betty</td>\n",
       "      <td>2020-01-02</td>\n",
       "    </tr>\n",
       "    <tr>\n",
       "      <th>10</th>\n",
       "      <td>34</td>\n",
       "      <td>2.01</td>\n",
       "      <td>9</td>\n",
       "      <td>lily</td>\n",
       "      <td>2020-01-02</td>\n",
       "    </tr>\n",
       "  </tbody>\n",
       "</table>\n",
       "</div>"
      ],
      "text/plain": [
       "    age  length  sleeping_hours    name       date\n",
       "0    19    1.90              11    hank 2020-01-02\n",
       "1    20    1.91              11    hank 2021-01-02\n",
       "2    21    1.92              11    hank 2022-01-02\n",
       "3    22    1.93              11    hank 2023-01-02\n",
       "4    24    2.00               7  george 2020-01-02\n",
       "5    29    2.01               7    will 2020-01-02\n",
       "6    29    2.01               8     tim 2020-01-02\n",
       "7    30    2.01               9  suzane 2020-01-02\n",
       "8    30    2.01               7    liza 2020-01-02\n",
       "9    31    2.01               7   betty 2020-01-02\n",
       "10   34    2.01               9    lily 2020-01-02"
      ]
     },
     "execution_count": 16,
     "metadata": {},
     "output_type": "execute_result"
    }
   ],
   "source": [
    "df1 = pd.read_csv('dummie1.csv', parse_dates=['date'])\n",
    "df2 = pd.read_csv('dummie1.csv', parse_dates=['date'])\n",
    "\n",
    "df1.loc[:,'sleeping_hours'] += 1\n",
    "df2.loc[:,'sleeping_hours'] += 1\n",
    "df1.loc[:,'length'] += 0.2\n",
    "df2.loc[:,'length'] += 0.2\n",
    "df1.loc[:,'age'] += 4\n",
    "df2.loc[:,'age'] += 4\n",
    "df1\n"
   ]
  },
  {
   "attachments": {},
   "cell_type": "markdown",
   "metadata": {},
   "source": [
    "good"
   ]
  },
  {
   "cell_type": "code",
   "execution_count": 17,
   "metadata": {},
   "outputs": [],
   "source": [
    "df1 = pd.read_csv('dummie1.csv', parse_dates=['date'])\n",
    "df2 = pd.read_csv('dummie1.csv', parse_dates=['date'])\n",
    "\n",
    "def process_data(df):\n",
    "    df.loc[:,'sleeping_hours'] += 1\n",
    "    df.loc[:,'length'] += 0.2\n",
    "    df.loc[:,'age'] += 4\n",
    "    return df\n",
    "\n",
    "df1 = process_data(df1)\n",
    "df2 = process_data(df2)"
   ]
  },
  {
   "attachments": {},
   "cell_type": "markdown",
   "metadata": {},
   "source": [
    "# using loop to calculate how a value changes"
   ]
  },
  {
   "attachments": {},
   "cell_type": "markdown",
   "metadata": {},
   "source": [
    "wrong"
   ]
  },
  {
   "cell_type": "code",
   "execution_count": 18,
   "metadata": {},
   "outputs": [
    {
     "data": {
      "text/html": [
       "<div>\n",
       "<style scoped>\n",
       "    .dataframe tbody tr th:only-of-type {\n",
       "        vertical-align: middle;\n",
       "    }\n",
       "\n",
       "    .dataframe tbody tr th {\n",
       "        vertical-align: top;\n",
       "    }\n",
       "\n",
       "    .dataframe thead th {\n",
       "        text-align: right;\n",
       "    }\n",
       "</style>\n",
       "<table border=\"1\" class=\"dataframe\">\n",
       "  <thead>\n",
       "    <tr style=\"text-align: right;\">\n",
       "      <th></th>\n",
       "      <th>age</th>\n",
       "      <th>length</th>\n",
       "      <th>sleeping_hours</th>\n",
       "      <th>name</th>\n",
       "      <th>date</th>\n",
       "      <th>perc_change</th>\n",
       "      <th>diff</th>\n",
       "    </tr>\n",
       "  </thead>\n",
       "  <tbody>\n",
       "    <tr>\n",
       "      <th>0</th>\n",
       "      <td>15</td>\n",
       "      <td>1.70</td>\n",
       "      <td>10</td>\n",
       "      <td>hank</td>\n",
       "      <td>2020-01-02</td>\n",
       "      <td>NaN</td>\n",
       "      <td>NaN</td>\n",
       "    </tr>\n",
       "    <tr>\n",
       "      <th>1</th>\n",
       "      <td>16</td>\n",
       "      <td>1.71</td>\n",
       "      <td>10</td>\n",
       "      <td>hank</td>\n",
       "      <td>2021-01-02</td>\n",
       "      <td>0.005882</td>\n",
       "      <td>0.01</td>\n",
       "    </tr>\n",
       "    <tr>\n",
       "      <th>2</th>\n",
       "      <td>17</td>\n",
       "      <td>1.72</td>\n",
       "      <td>10</td>\n",
       "      <td>hank</td>\n",
       "      <td>2022-01-02</td>\n",
       "      <td>0.005848</td>\n",
       "      <td>0.01</td>\n",
       "    </tr>\n",
       "    <tr>\n",
       "      <th>3</th>\n",
       "      <td>18</td>\n",
       "      <td>1.73</td>\n",
       "      <td>10</td>\n",
       "      <td>hank</td>\n",
       "      <td>2023-01-02</td>\n",
       "      <td>0.005814</td>\n",
       "      <td>0.01</td>\n",
       "    </tr>\n",
       "  </tbody>\n",
       "</table>\n",
       "</div>"
      ],
      "text/plain": [
       "   age  length  sleeping_hours  name       date  perc_change  diff\n",
       "0   15    1.70              10  hank 2020-01-02          NaN   NaN\n",
       "1   16    1.71              10  hank 2021-01-02     0.005882  0.01\n",
       "2   17    1.72              10  hank 2022-01-02     0.005848  0.01\n",
       "3   18    1.73              10  hank 2023-01-02     0.005814  0.01"
      ]
     },
     "execution_count": 18,
     "metadata": {},
     "output_type": "execute_result"
    }
   ],
   "source": [
    "hank = df.query('name == \"hank\"').copy()\n",
    "for i in range(1,len(hank)):\n",
    "    hank.loc[i, 'perc_change'] = \\\n",
    "        (hank.loc[i].length - hank.loc[i - 1].length) / (hank.loc[i - 1].length)\n",
    "    hank.loc[i, 'diff'] = hank.loc[i].length - hank.loc[i - 1].length\n",
    "\n",
    "hank"
   ]
  },
  {
   "attachments": {},
   "cell_type": "markdown",
   "metadata": {},
   "source": [
    "good"
   ]
  },
  {
   "cell_type": "code",
   "execution_count": 19,
   "metadata": {},
   "outputs": [
    {
     "data": {
      "text/html": [
       "<div>\n",
       "<style scoped>\n",
       "    .dataframe tbody tr th:only-of-type {\n",
       "        vertical-align: middle;\n",
       "    }\n",
       "\n",
       "    .dataframe tbody tr th {\n",
       "        vertical-align: top;\n",
       "    }\n",
       "\n",
       "    .dataframe thead th {\n",
       "        text-align: right;\n",
       "    }\n",
       "</style>\n",
       "<table border=\"1\" class=\"dataframe\">\n",
       "  <thead>\n",
       "    <tr style=\"text-align: right;\">\n",
       "      <th></th>\n",
       "      <th>age</th>\n",
       "      <th>length</th>\n",
       "      <th>sleeping_hours</th>\n",
       "      <th>name</th>\n",
       "      <th>date</th>\n",
       "      <th>perc_change</th>\n",
       "      <th>change</th>\n",
       "    </tr>\n",
       "  </thead>\n",
       "  <tbody>\n",
       "    <tr>\n",
       "      <th>0</th>\n",
       "      <td>15</td>\n",
       "      <td>1.70</td>\n",
       "      <td>10</td>\n",
       "      <td>hank</td>\n",
       "      <td>2020-01-02</td>\n",
       "      <td>NaN</td>\n",
       "      <td>NaN</td>\n",
       "    </tr>\n",
       "    <tr>\n",
       "      <th>1</th>\n",
       "      <td>16</td>\n",
       "      <td>1.71</td>\n",
       "      <td>10</td>\n",
       "      <td>hank</td>\n",
       "      <td>2021-01-02</td>\n",
       "      <td>0.005882</td>\n",
       "      <td>0.01</td>\n",
       "    </tr>\n",
       "    <tr>\n",
       "      <th>2</th>\n",
       "      <td>17</td>\n",
       "      <td>1.72</td>\n",
       "      <td>10</td>\n",
       "      <td>hank</td>\n",
       "      <td>2022-01-02</td>\n",
       "      <td>0.005848</td>\n",
       "      <td>0.01</td>\n",
       "    </tr>\n",
       "    <tr>\n",
       "      <th>3</th>\n",
       "      <td>18</td>\n",
       "      <td>1.73</td>\n",
       "      <td>10</td>\n",
       "      <td>hank</td>\n",
       "      <td>2023-01-02</td>\n",
       "      <td>0.005814</td>\n",
       "      <td>0.01</td>\n",
       "    </tr>\n",
       "  </tbody>\n",
       "</table>\n",
       "</div>"
      ],
      "text/plain": [
       "   age  length  sleeping_hours  name       date  perc_change  change\n",
       "0   15    1.70              10  hank 2020-01-02          NaN     NaN\n",
       "1   16    1.71              10  hank 2021-01-02     0.005882    0.01\n",
       "2   17    1.72              10  hank 2022-01-02     0.005848    0.01\n",
       "3   18    1.73              10  hank 2023-01-02     0.005814    0.01"
      ]
     },
     "execution_count": 19,
     "metadata": {},
     "output_type": "execute_result"
    }
   ],
   "source": [
    "hank = df.query('name == \"hank\"').copy()\n",
    "hank['perc_change'] = hank['length'].pct_change()\n",
    "hank['change'] = hank['length'].diff()\n",
    "hank"
   ]
  },
  {
   "attachments": {},
   "cell_type": "markdown",
   "metadata": {},
   "source": [
    "# Don't save dataset as csv, there are more efficient ways"
   ]
  },
  {
   "attachments": {},
   "cell_type": "markdown",
   "metadata": {},
   "source": [
    "# You can format like in excell!!!!"
   ]
  },
  {
   "cell_type": "code",
   "execution_count": 20,
   "metadata": {},
   "outputs": [
    {
     "data": {
      "text/html": [
       "<style type=\"text/css\">\n",
       "#T_18396_row0_col0, #T_18396_row0_col1, #T_18396_row4_col2, #T_18396_row5_col2, #T_18396_row8_col2, #T_18396_row9_col2 {\n",
       "  background-color: #fff5f0;\n",
       "  color: #000000;\n",
       "}\n",
       "#T_18396_row0_col2, #T_18396_row1_col2, #T_18396_row2_col2, #T_18396_row3_col2, #T_18396_row5_col1, #T_18396_row6_col1, #T_18396_row7_col1, #T_18396_row8_col1, #T_18396_row9_col1, #T_18396_row10_col0, #T_18396_row10_col1 {\n",
       "  background-color: #67000d;\n",
       "  color: #f1f1f1;\n",
       "}\n",
       "#T_18396_row1_col0 {\n",
       "  background-color: #feeae0;\n",
       "  color: #000000;\n",
       "}\n",
       "#T_18396_row1_col1 {\n",
       "  background-color: #fee6da;\n",
       "  color: #000000;\n",
       "}\n",
       "#T_18396_row2_col0 {\n",
       "  background-color: #fedecf;\n",
       "  color: #000000;\n",
       "}\n",
       "#T_18396_row2_col1 {\n",
       "  background-color: #fdd0bc;\n",
       "  color: #000000;\n",
       "}\n",
       "#T_18396_row3_col0 {\n",
       "  background-color: #fdcab5;\n",
       "  color: #000000;\n",
       "}\n",
       "#T_18396_row3_col1 {\n",
       "  background-color: #fcb499;\n",
       "  color: #000000;\n",
       "}\n",
       "#T_18396_row4_col0 {\n",
       "  background-color: #fca082;\n",
       "  color: #000000;\n",
       "}\n",
       "#T_18396_row4_col1 {\n",
       "  background-color: #940b13;\n",
       "  color: #f1f1f1;\n",
       "}\n",
       "#T_18396_row5_col0, #T_18396_row6_col0 {\n",
       "  background-color: #e32f27;\n",
       "  color: #f1f1f1;\n",
       "}\n",
       "#T_18396_row6_col2 {\n",
       "  background-color: #fcbba1;\n",
       "  color: #000000;\n",
       "}\n",
       "#T_18396_row7_col0, #T_18396_row8_col0 {\n",
       "  background-color: #d01d1f;\n",
       "  color: #f1f1f1;\n",
       "}\n",
       "#T_18396_row7_col2, #T_18396_row10_col2 {\n",
       "  background-color: #fb694a;\n",
       "  color: #f1f1f1;\n",
       "}\n",
       "#T_18396_row9_col0 {\n",
       "  background-color: #bc141a;\n",
       "  color: #f1f1f1;\n",
       "}\n",
       "</style>\n",
       "<table id=\"T_18396\">\n",
       "  <thead>\n",
       "    <tr>\n",
       "      <th class=\"blank level0\" >&nbsp;</th>\n",
       "      <th id=\"T_18396_level0_col0\" class=\"col_heading level0 col0\" >age</th>\n",
       "      <th id=\"T_18396_level0_col1\" class=\"col_heading level0 col1\" >length</th>\n",
       "      <th id=\"T_18396_level0_col2\" class=\"col_heading level0 col2\" >sleeping_hours</th>\n",
       "      <th id=\"T_18396_level0_col3\" class=\"col_heading level0 col3\" >name</th>\n",
       "      <th id=\"T_18396_level0_col4\" class=\"col_heading level0 col4\" >date</th>\n",
       "    </tr>\n",
       "  </thead>\n",
       "  <tbody>\n",
       "    <tr>\n",
       "      <th id=\"T_18396_level0_row0\" class=\"row_heading level0 row0\" >0</th>\n",
       "      <td id=\"T_18396_row0_col0\" class=\"data row0 col0\" >15</td>\n",
       "      <td id=\"T_18396_row0_col1\" class=\"data row0 col1\" >1.700000</td>\n",
       "      <td id=\"T_18396_row0_col2\" class=\"data row0 col2\" >10</td>\n",
       "      <td id=\"T_18396_row0_col3\" class=\"data row0 col3\" >hank</td>\n",
       "      <td id=\"T_18396_row0_col4\" class=\"data row0 col4\" >2020-01-02 00:00:00</td>\n",
       "    </tr>\n",
       "    <tr>\n",
       "      <th id=\"T_18396_level0_row1\" class=\"row_heading level0 row1\" >1</th>\n",
       "      <td id=\"T_18396_row1_col0\" class=\"data row1 col0\" >16</td>\n",
       "      <td id=\"T_18396_row1_col1\" class=\"data row1 col1\" >1.710000</td>\n",
       "      <td id=\"T_18396_row1_col2\" class=\"data row1 col2\" >10</td>\n",
       "      <td id=\"T_18396_row1_col3\" class=\"data row1 col3\" >hank</td>\n",
       "      <td id=\"T_18396_row1_col4\" class=\"data row1 col4\" >2021-01-02 00:00:00</td>\n",
       "    </tr>\n",
       "    <tr>\n",
       "      <th id=\"T_18396_level0_row2\" class=\"row_heading level0 row2\" >2</th>\n",
       "      <td id=\"T_18396_row2_col0\" class=\"data row2 col0\" >17</td>\n",
       "      <td id=\"T_18396_row2_col1\" class=\"data row2 col1\" >1.720000</td>\n",
       "      <td id=\"T_18396_row2_col2\" class=\"data row2 col2\" >10</td>\n",
       "      <td id=\"T_18396_row2_col3\" class=\"data row2 col3\" >hank</td>\n",
       "      <td id=\"T_18396_row2_col4\" class=\"data row2 col4\" >2022-01-02 00:00:00</td>\n",
       "    </tr>\n",
       "    <tr>\n",
       "      <th id=\"T_18396_level0_row3\" class=\"row_heading level0 row3\" >3</th>\n",
       "      <td id=\"T_18396_row3_col0\" class=\"data row3 col0\" >18</td>\n",
       "      <td id=\"T_18396_row3_col1\" class=\"data row3 col1\" >1.730000</td>\n",
       "      <td id=\"T_18396_row3_col2\" class=\"data row3 col2\" >10</td>\n",
       "      <td id=\"T_18396_row3_col3\" class=\"data row3 col3\" >hank</td>\n",
       "      <td id=\"T_18396_row3_col4\" class=\"data row3 col4\" >2023-01-02 00:00:00</td>\n",
       "    </tr>\n",
       "    <tr>\n",
       "      <th id=\"T_18396_level0_row4\" class=\"row_heading level0 row4\" >4</th>\n",
       "      <td id=\"T_18396_row4_col0\" class=\"data row4 col0\" >20</td>\n",
       "      <td id=\"T_18396_row4_col1\" class=\"data row4 col1\" >1.800000</td>\n",
       "      <td id=\"T_18396_row4_col2\" class=\"data row4 col2\" >6</td>\n",
       "      <td id=\"T_18396_row4_col3\" class=\"data row4 col3\" >george</td>\n",
       "      <td id=\"T_18396_row4_col4\" class=\"data row4 col4\" >2020-01-02 00:00:00</td>\n",
       "    </tr>\n",
       "    <tr>\n",
       "      <th id=\"T_18396_level0_row5\" class=\"row_heading level0 row5\" >5</th>\n",
       "      <td id=\"T_18396_row5_col0\" class=\"data row5 col0\" >25</td>\n",
       "      <td id=\"T_18396_row5_col1\" class=\"data row5 col1\" >1.810000</td>\n",
       "      <td id=\"T_18396_row5_col2\" class=\"data row5 col2\" >6</td>\n",
       "      <td id=\"T_18396_row5_col3\" class=\"data row5 col3\" >will</td>\n",
       "      <td id=\"T_18396_row5_col4\" class=\"data row5 col4\" >2020-01-02 00:00:00</td>\n",
       "    </tr>\n",
       "    <tr>\n",
       "      <th id=\"T_18396_level0_row6\" class=\"row_heading level0 row6\" >6</th>\n",
       "      <td id=\"T_18396_row6_col0\" class=\"data row6 col0\" >25</td>\n",
       "      <td id=\"T_18396_row6_col1\" class=\"data row6 col1\" >1.810000</td>\n",
       "      <td id=\"T_18396_row6_col2\" class=\"data row6 col2\" >7</td>\n",
       "      <td id=\"T_18396_row6_col3\" class=\"data row6 col3\" >tim</td>\n",
       "      <td id=\"T_18396_row6_col4\" class=\"data row6 col4\" >2020-01-02 00:00:00</td>\n",
       "    </tr>\n",
       "    <tr>\n",
       "      <th id=\"T_18396_level0_row7\" class=\"row_heading level0 row7\" >7</th>\n",
       "      <td id=\"T_18396_row7_col0\" class=\"data row7 col0\" >26</td>\n",
       "      <td id=\"T_18396_row7_col1\" class=\"data row7 col1\" >1.810000</td>\n",
       "      <td id=\"T_18396_row7_col2\" class=\"data row7 col2\" >8</td>\n",
       "      <td id=\"T_18396_row7_col3\" class=\"data row7 col3\" >suzane</td>\n",
       "      <td id=\"T_18396_row7_col4\" class=\"data row7 col4\" >2020-01-02 00:00:00</td>\n",
       "    </tr>\n",
       "    <tr>\n",
       "      <th id=\"T_18396_level0_row8\" class=\"row_heading level0 row8\" >8</th>\n",
       "      <td id=\"T_18396_row8_col0\" class=\"data row8 col0\" >26</td>\n",
       "      <td id=\"T_18396_row8_col1\" class=\"data row8 col1\" >1.810000</td>\n",
       "      <td id=\"T_18396_row8_col2\" class=\"data row8 col2\" >6</td>\n",
       "      <td id=\"T_18396_row8_col3\" class=\"data row8 col3\" >liza</td>\n",
       "      <td id=\"T_18396_row8_col4\" class=\"data row8 col4\" >2020-01-02 00:00:00</td>\n",
       "    </tr>\n",
       "    <tr>\n",
       "      <th id=\"T_18396_level0_row9\" class=\"row_heading level0 row9\" >9</th>\n",
       "      <td id=\"T_18396_row9_col0\" class=\"data row9 col0\" >27</td>\n",
       "      <td id=\"T_18396_row9_col1\" class=\"data row9 col1\" >1.810000</td>\n",
       "      <td id=\"T_18396_row9_col2\" class=\"data row9 col2\" >6</td>\n",
       "      <td id=\"T_18396_row9_col3\" class=\"data row9 col3\" >betty</td>\n",
       "      <td id=\"T_18396_row9_col4\" class=\"data row9 col4\" >2020-01-02 00:00:00</td>\n",
       "    </tr>\n",
       "    <tr>\n",
       "      <th id=\"T_18396_level0_row10\" class=\"row_heading level0 row10\" >10</th>\n",
       "      <td id=\"T_18396_row10_col0\" class=\"data row10 col0\" >30</td>\n",
       "      <td id=\"T_18396_row10_col1\" class=\"data row10 col1\" >1.810000</td>\n",
       "      <td id=\"T_18396_row10_col2\" class=\"data row10 col2\" >8</td>\n",
       "      <td id=\"T_18396_row10_col3\" class=\"data row10 col3\" >lily</td>\n",
       "      <td id=\"T_18396_row10_col4\" class=\"data row10 col4\" >2020-01-02 00:00:00</td>\n",
       "    </tr>\n",
       "  </tbody>\n",
       "</table>\n"
      ],
      "text/plain": [
       "<pandas.io.formats.style.Styler at 0x7f7411b26410>"
      ]
     },
     "execution_count": 20,
     "metadata": {},
     "output_type": "execute_result"
    }
   ],
   "source": [
    "df.style.background_gradient(cmap='Reds')"
   ]
  },
  {
   "cell_type": "code",
   "execution_count": 21,
   "metadata": {},
   "outputs": [
    {
     "data": {
      "text/html": [
       "<style type=\"text/css\">\n",
       "#T_b07cd_row0_col0 {\n",
       "  width: 120px;\n",
       "  border-right: 1px solid black;\n",
       "  background: linear-gradient(90deg, transparent 30.0%, #fff8f8 30.0%, #fff8f8 30.7%, transparent 30.7%) no-repeat center;\n",
       "  background-size: 100% 50.0%;\n",
       "  color: #fff8f8;\n",
       "}\n",
       "#T_b07cd_row0_col1 {\n",
       "  width: 120px;\n",
       "  border-right: 1px solid black;\n",
       "  background: linear-gradient(90deg, transparent 30.0%, #fff8f8 30.0%, #fff8f8 30.9%, transparent 30.9%) no-repeat center;\n",
       "  background-size: 100% 50.0%;\n",
       "  color: #fff8f8;\n",
       "}\n",
       "#T_b07cd_row0_col2 {\n",
       "  width: 120px;\n",
       "  border-right: 1px solid black;\n",
       "  background: linear-gradient(90deg, transparent 10.5%, #5858ff 10.5%, #5858ff 30.0%, transparent 30.0%) no-repeat center;\n",
       "  background-size: 100% 50.0%;\n",
       "  color: #5858ff;\n",
       "}\n",
       "#T_b07cd_row0_col3 {\n",
       "  width: 120px;\n",
       "  border-right: 1px solid black;\n",
       "  background: linear-gradient(90deg, transparent 30.0%, #ffe2e2 30.0%, #ffe2e2 33.3%, transparent 33.3%) no-repeat center;\n",
       "  background-size: 100% 50.0%;\n",
       "  color: #ffe2e2;\n",
       "}\n",
       "#T_b07cd_row1_col0, #T_b07cd_row9_col2 {\n",
       "  width: 120px;\n",
       "  border-right: 1px solid black;\n",
       "  background: linear-gradient(90deg, transparent 18.5%, #9c9cff 18.5%, #9c9cff 30.0%, transparent 30.0%) no-repeat center;\n",
       "  background-size: 100% 50.0%;\n",
       "  color: #9c9cff;\n",
       "}\n",
       "#T_b07cd_row1_col1, #T_b07cd_row5_col2 {\n",
       "  width: 120px;\n",
       "  border-right: 1px solid black;\n",
       "  background: linear-gradient(90deg, transparent 24.3%, #ceceff 24.3%, #ceceff 30.0%, transparent 30.0%) no-repeat center;\n",
       "  background-size: 100% 50.0%;\n",
       "  color: #ceceff;\n",
       "}\n",
       "#T_b07cd_row1_col2 {\n",
       "  width: 120px;\n",
       "  border-right: 1px solid black;\n",
       "  background: linear-gradient(90deg, transparent 27.6%, #eaeaff 27.6%, #eaeaff 30.0%, transparent 30.0%) no-repeat center;\n",
       "  background-size: 100% 50.0%;\n",
       "  color: #eaeaff;\n",
       "}\n",
       "#T_b07cd_row1_col3, #T_b07cd_row4_col2 {\n",
       "  width: 120px;\n",
       "  border-right: 1px solid black;\n",
       "  background: linear-gradient(90deg, transparent 22.9%, #c2c2ff 22.9%, #c2c2ff 30.0%, transparent 30.0%) no-repeat center;\n",
       "  background-size: 100% 50.0%;\n",
       "  color: #c2c2ff;\n",
       "}\n",
       "#T_b07cd_row2_col0 {\n",
       "  width: 120px;\n",
       "  border-right: 1px solid black;\n",
       "  background: linear-gradient(90deg, transparent 10.0%, #5454ff 10.0%, #5454ff 30.0%, transparent 30.0%) no-repeat center;\n",
       "  background-size: 100% 50.0%;\n",
       "  color: #5454ff;\n",
       "}\n",
       "#T_b07cd_row2_col1 {\n",
       "  width: 120px;\n",
       "  border-right: 1px solid black;\n",
       "  background: linear-gradient(90deg, transparent 30.0%, #ff5a5a 30.0%, #ff5a5a 49.3%, transparent 49.3%) no-repeat center;\n",
       "  background-size: 100% 50.0%;\n",
       "  color: #ff5a5a;\n",
       "}\n",
       "#T_b07cd_row2_col2 {\n",
       "  width: 120px;\n",
       "  border-right: 1px solid black;\n",
       "  background: linear-gradient(90deg, transparent 17.0%, #9090ff 17.0%, #9090ff 30.0%, transparent 30.0%) no-repeat center;\n",
       "  background-size: 100% 50.0%;\n",
       "  color: #9090ff;\n",
       "}\n",
       "#T_b07cd_row2_col3 {\n",
       "  width: 120px;\n",
       "  border-right: 1px solid black;\n",
       "  background: linear-gradient(90deg, transparent 18.7%, #9e9eff 18.7%, #9e9eff 30.0%, transparent 30.0%) no-repeat center;\n",
       "  background-size: 100% 50.0%;\n",
       "  color: #9e9eff;\n",
       "}\n",
       "#T_b07cd_row3_col0 {\n",
       "  width: 120px;\n",
       "  border-right: 1px solid black;\n",
       "  background: linear-gradient(90deg, transparent 30.0%, #ffa2a2 30.0%, #ffa2a2 40.8%, transparent 40.8%) no-repeat center;\n",
       "  background-size: 100% 50.0%;\n",
       "  color: #ffa2a2;\n",
       "}\n",
       "#T_b07cd_row3_col1 {\n",
       "  width: 120px;\n",
       "  border-right: 1px solid black;\n",
       "  background: linear-gradient(90deg, transparent 30.0%, #ffd8d8 30.0%, #ffd8d8 34.6%, transparent 34.6%) no-repeat center;\n",
       "  background-size: 100% 50.0%;\n",
       "  color: #ffd8d8;\n",
       "}\n",
       "#T_b07cd_row3_col2 {\n",
       "  width: 120px;\n",
       "  border-right: 1px solid black;\n",
       "  background: linear-gradient(90deg, transparent 30.0%, #ffe4e4 30.0%, #ffe4e4 33.2%, transparent 33.2%) no-repeat center;\n",
       "  background-size: 100% 50.0%;\n",
       "  color: #ffe4e4;\n",
       "}\n",
       "#T_b07cd_row3_col3 {\n",
       "  width: 120px;\n",
       "  border-right: 1px solid black;\n",
       "  background: linear-gradient(90deg, transparent 30.0%, #ff0000 30.0%, #ff0000 60.0%, transparent 60.0%) no-repeat center;\n",
       "  background-size: 100% 50.0%;\n",
       "  color: #ff0000;\n",
       "}\n",
       "#T_b07cd_row4_col0 {\n",
       "  width: 120px;\n",
       "  border-right: 1px solid black;\n",
       "  background: linear-gradient(90deg, transparent 24.2%, #ceceff 24.2%, #ceceff 30.0%, transparent 30.0%) no-repeat center;\n",
       "  background-size: 100% 50.0%;\n",
       "  color: #ceceff;\n",
       "}\n",
       "#T_b07cd_row4_col1 {\n",
       "  width: 120px;\n",
       "  border-right: 1px solid black;\n",
       "  background: linear-gradient(90deg, transparent 14.7%, #7c7cff 14.7%, #7c7cff 30.0%, transparent 30.0%) no-repeat center;\n",
       "  background-size: 100% 50.0%;\n",
       "  color: #7c7cff;\n",
       "}\n",
       "#T_b07cd_row4_col3 {\n",
       "  width: 120px;\n",
       "  border-right: 1px solid black;\n",
       "  background: linear-gradient(90deg, transparent 30.0%, #ff5e5e 30.0%, #ff5e5e 48.9%, transparent 48.9%) no-repeat center;\n",
       "  background-size: 100% 50.0%;\n",
       "  color: #ff5e5e;\n",
       "}\n",
       "#T_b07cd_row5_col0 {\n",
       "  width: 120px;\n",
       "  border-right: 1px solid black;\n",
       "  background: linear-gradient(90deg, transparent 30.0%, #ff7272 30.0%, #ff7272 46.5%, transparent 46.5%) no-repeat center;\n",
       "  background-size: 100% 50.0%;\n",
       "  color: #ff7272;\n",
       "}\n",
       "#T_b07cd_row5_col1 {\n",
       "  width: 120px;\n",
       "  border-right: 1px solid black;\n",
       "  background: linear-gradient(90deg, transparent 30.0%, #ffc6c6 30.0%, #ffc6c6 36.8%, transparent 36.8%) no-repeat center;\n",
       "  background-size: 100% 50.0%;\n",
       "  color: #ffc6c6;\n",
       "}\n",
       "#T_b07cd_row5_col3 {\n",
       "  width: 120px;\n",
       "  border-right: 1px solid black;\n",
       "  background: linear-gradient(90deg, transparent 30.0%, #ff8686 30.0%, #ff8686 44.2%, transparent 44.2%) no-repeat center;\n",
       "  background-size: 100% 50.0%;\n",
       "  color: #ff8686;\n",
       "}\n",
       "#T_b07cd_row6_col0 {\n",
       "  width: 120px;\n",
       "  border-right: 1px solid black;\n",
       "  background: linear-gradient(90deg, transparent 22.7%, #c0c0ff 22.7%, #c0c0ff 30.0%, transparent 30.0%) no-repeat center;\n",
       "  background-size: 100% 50.0%;\n",
       "  color: #c0c0ff;\n",
       "}\n",
       "#T_b07cd_row6_col1 {\n",
       "  width: 120px;\n",
       "  border-right: 1px solid black;\n",
       "  background: linear-gradient(90deg, transparent 30.0%, #ff8888 30.0%, #ff8888 43.8%, transparent 43.8%) no-repeat center;\n",
       "  background-size: 100% 50.0%;\n",
       "  color: #ff8888;\n",
       "}\n",
       "#T_b07cd_row6_col2, #T_b07cd_row9_col1 {\n",
       "  width: 120px;\n",
       "  border-right: 1px solid black;\n",
       "  background: linear-gradient(90deg, transparent 30.0%, #ffb8b8 30.0%, #ffb8b8 38.4%, transparent 38.4%) no-repeat center;\n",
       "  background-size: 100% 50.0%;\n",
       "  color: #ffb8b8;\n",
       "}\n",
       "#T_b07cd_row6_col3 {\n",
       "  width: 120px;\n",
       "  border-right: 1px solid black;\n",
       "  background: linear-gradient(90deg, transparent 30.0%, #ffeeee 30.0%, #ffeeee 32.1%, transparent 32.1%) no-repeat center;\n",
       "  background-size: 100% 50.0%;\n",
       "  color: #ffeeee;\n",
       "}\n",
       "#T_b07cd_row7_col0 {\n",
       "  width: 120px;\n",
       "  border-right: 1px solid black;\n",
       "  background: linear-gradient(90deg, transparent 15.1%, #8080ff 15.1%, #8080ff 30.0%, transparent 30.0%) no-repeat center;\n",
       "  background-size: 100% 50.0%;\n",
       "  color: #8080ff;\n",
       "}\n",
       "#T_b07cd_row7_col1 {\n",
       "  width: 120px;\n",
       "  border-right: 1px solid black;\n",
       "  background: linear-gradient(90deg, transparent 30.0%, #ffa6a6 30.0%, #ffa6a6 40.3%, transparent 40.3%) no-repeat center;\n",
       "  background-size: 100% 50.0%;\n",
       "  color: #ffa6a6;\n",
       "}\n",
       "#T_b07cd_row7_col2 {\n",
       "  width: 120px;\n",
       "  border-right: 1px solid black;\n",
       "  background: linear-gradient(90deg, transparent 22.8%, #c2c2ff 22.8%, #c2c2ff 30.0%, transparent 30.0%) no-repeat center;\n",
       "  background-size: 100% 50.0%;\n",
       "  color: #c2c2ff;\n",
       "}\n",
       "#T_b07cd_row7_col3 {\n",
       "  width: 120px;\n",
       "  border-right: 1px solid black;\n",
       "  background: linear-gradient(90deg, transparent 30.0%, #ff8888 30.0%, #ff8888 44.0%, transparent 44.0%) no-repeat center;\n",
       "  background-size: 100% 50.0%;\n",
       "  color: #ff8888;\n",
       "}\n",
       "#T_b07cd_row8_col0 {\n",
       "  width: 120px;\n",
       "  border-right: 1px solid black;\n",
       "  background: linear-gradient(90deg, transparent 30.0%, #ffa2a2 30.0%, #ffa2a2 41.0%, transparent 41.0%) no-repeat center;\n",
       "  background-size: 100% 50.0%;\n",
       "  color: #ffa2a2;\n",
       "}\n",
       "#T_b07cd_row8_col1 {\n",
       "  width: 120px;\n",
       "  border-right: 1px solid black;\n",
       "  background: linear-gradient(90deg, transparent 17.9%, #9898ff 17.9%, #9898ff 30.0%, transparent 30.0%) no-repeat center;\n",
       "  background-size: 100% 50.0%;\n",
       "  color: #9898ff;\n",
       "}\n",
       "#T_b07cd_row8_col2 {\n",
       "  width: 120px;\n",
       "  border-right: 1px solid black;\n",
       "  background: linear-gradient(90deg, transparent 30.0%, #ffd2d2 30.0%, #ffd2d2 35.4%, transparent 35.4%) no-repeat center;\n",
       "  background-size: 100% 50.0%;\n",
       "  color: #ffd2d2;\n",
       "}\n",
       "#T_b07cd_row8_col3 {\n",
       "  width: 120px;\n",
       "  border-right: 1px solid black;\n",
       "  background: linear-gradient(90deg, transparent 25.2%, #d6d6ff 25.2%, #d6d6ff 30.0%, transparent 30.0%) no-repeat center;\n",
       "  background-size: 100% 50.0%;\n",
       "  color: #d6d6ff;\n",
       "}\n",
       "#T_b07cd_row9_col0 {\n",
       "  width: 120px;\n",
       "  border-right: 1px solid black;\n",
       "  background: linear-gradient(90deg, transparent 30.0%, #ff7c7c 30.0%, #ff7c7c 45.3%, transparent 45.3%) no-repeat center;\n",
       "  background-size: 100% 50.0%;\n",
       "  color: #ff7c7c;\n",
       "}\n",
       "#T_b07cd_row9_col3 {\n",
       "  width: 120px;\n",
       "  border-right: 1px solid black;\n",
       "  background: linear-gradient(90deg, transparent 29.7%, #fcfcff 29.7%, #fcfcff 30.0%, transparent 30.0%) no-repeat center;\n",
       "  background-size: 100% 50.0%;\n",
       "  color: #fcfcff;\n",
       "}\n",
       "</style>\n",
       "<table id=\"T_b07cd\">\n",
       "  <thead>\n",
       "    <tr>\n",
       "      <th class=\"blank level0\" >&nbsp;</th>\n",
       "      <th id=\"T_b07cd_level0_col0\" class=\"col_heading level0 col0\" >A</th>\n",
       "      <th id=\"T_b07cd_level0_col1\" class=\"col_heading level0 col1\" >B</th>\n",
       "      <th id=\"T_b07cd_level0_col2\" class=\"col_heading level0 col2\" >C</th>\n",
       "      <th id=\"T_b07cd_level0_col3\" class=\"col_heading level0 col3\" >D</th>\n",
       "    </tr>\n",
       "  </thead>\n",
       "  <tbody>\n",
       "    <tr>\n",
       "      <th id=\"T_b07cd_level0_row0\" class=\"row_heading level0 row0\" >0</th>\n",
       "      <td id=\"T_b07cd_row0_col0\" class=\"data row0 col0\" >0.061</td>\n",
       "      <td id=\"T_b07cd_row0_col1\" class=\"data row0 col1\" >0.078</td>\n",
       "      <td id=\"T_b07cd_row0_col2\" class=\"data row0 col2\" >-1.621</td>\n",
       "      <td id=\"T_b07cd_row0_col3\" class=\"data row0 col3\" >0.275</td>\n",
       "    </tr>\n",
       "    <tr>\n",
       "      <th id=\"T_b07cd_level0_row1\" class=\"row_heading level0 row1\" >1</th>\n",
       "      <td id=\"T_b07cd_row1_col0\" class=\"data row1 col0\" >-0.957</td>\n",
       "      <td id=\"T_b07cd_row1_col1\" class=\"data row1 col1\" >-0.479</td>\n",
       "      <td id=\"T_b07cd_row1_col2\" class=\"data row1 col2\" >-0.203</td>\n",
       "      <td id=\"T_b07cd_row1_col3\" class=\"data row1 col3\" >-0.589</td>\n",
       "    </tr>\n",
       "    <tr>\n",
       "      <th id=\"T_b07cd_level0_row2\" class=\"row_heading level0 row2\" >2</th>\n",
       "      <td id=\"T_b07cd_row2_col0\" class=\"data row2 col0\" >-1.664</td>\n",
       "      <td id=\"T_b07cd_row2_col1\" class=\"data row2 col1\" >1.608</td>\n",
       "      <td id=\"T_b07cd_row2_col2\" class=\"data row2 col2\" >-1.083</td>\n",
       "      <td id=\"T_b07cd_row2_col3\" class=\"data row2 col3\" >-0.940</td>\n",
       "    </tr>\n",
       "    <tr>\n",
       "      <th id=\"T_b07cd_level0_row3\" class=\"row_heading level0 row3\" >3</th>\n",
       "      <td id=\"T_b07cd_row3_col0\" class=\"data row3 col0\" >0.901</td>\n",
       "      <td id=\"T_b07cd_row3_col1\" class=\"data row3 col1\" >0.381</td>\n",
       "      <td id=\"T_b07cd_row3_col2\" class=\"data row3 col2\" >0.270</td>\n",
       "      <td id=\"T_b07cd_row3_col3\" class=\"data row3 col3\" >2.502</td>\n",
       "    </tr>\n",
       "    <tr>\n",
       "      <th id=\"T_b07cd_level0_row4\" class=\"row_heading level0 row4\" >4</th>\n",
       "      <td id=\"T_b07cd_row4_col0\" class=\"data row4 col0\" >-0.487</td>\n",
       "      <td id=\"T_b07cd_row4_col1\" class=\"data row4 col1\" >-1.275</td>\n",
       "      <td id=\"T_b07cd_row4_col2\" class=\"data row4 col2\" >-0.596</td>\n",
       "      <td id=\"T_b07cd_row4_col3\" class=\"data row4 col3\" >1.573</td>\n",
       "    </tr>\n",
       "    <tr>\n",
       "      <th id=\"T_b07cd_level0_row5\" class=\"row_heading level0 row5\" >5</th>\n",
       "      <td id=\"T_b07cd_row5_col0\" class=\"data row5 col0\" >1.377</td>\n",
       "      <td id=\"T_b07cd_row5_col1\" class=\"data row5 col1\" >0.564</td>\n",
       "      <td id=\"T_b07cd_row5_col2\" class=\"data row5 col2\" >-0.472</td>\n",
       "      <td id=\"T_b07cd_row5_col3\" class=\"data row5 col3\" >1.183</td>\n",
       "    </tr>\n",
       "    <tr>\n",
       "      <th id=\"T_b07cd_level0_row6\" class=\"row_heading level0 row6\" >6</th>\n",
       "      <td id=\"T_b07cd_row6_col0\" class=\"data row6 col0\" >-0.610</td>\n",
       "      <td id=\"T_b07cd_row6_col1\" class=\"data row6 col1\" >1.154</td>\n",
       "      <td id=\"T_b07cd_row6_col2\" class=\"data row6 col2\" >0.699</td>\n",
       "      <td id=\"T_b07cd_row6_col3\" class=\"data row6 col3\" >0.175</td>\n",
       "    </tr>\n",
       "    <tr>\n",
       "      <th id=\"T_b07cd_level0_row7\" class=\"row_heading level0 row7\" >7</th>\n",
       "      <td id=\"T_b07cd_row7_col0\" class=\"data row7 col0\" >-1.238</td>\n",
       "      <td id=\"T_b07cd_row7_col1\" class=\"data row7 col1\" >0.859</td>\n",
       "      <td id=\"T_b07cd_row7_col2\" class=\"data row7 col2\" >-0.601</td>\n",
       "      <td id=\"T_b07cd_row7_col3\" class=\"data row7 col3\" >1.167</td>\n",
       "    </tr>\n",
       "    <tr>\n",
       "      <th id=\"T_b07cd_level0_row8\" class=\"row_heading level0 row8\" >8</th>\n",
       "      <td id=\"T_b07cd_row8_col0\" class=\"data row8 col0\" >0.913</td>\n",
       "      <td id=\"T_b07cd_row8_col1\" class=\"data row8 col1\" >-1.012</td>\n",
       "      <td id=\"T_b07cd_row8_col2\" class=\"data row8 col2\" >0.449</td>\n",
       "      <td id=\"T_b07cd_row8_col3\" class=\"data row8 col3\" >-0.399</td>\n",
       "    </tr>\n",
       "    <tr>\n",
       "      <th id=\"T_b07cd_level0_row9\" class=\"row_heading level0 row9\" >9</th>\n",
       "      <td id=\"T_b07cd_row9_col0\" class=\"data row9 col0\" >1.272</td>\n",
       "      <td id=\"T_b07cd_row9_col1\" class=\"data row9 col1\" >0.696</td>\n",
       "      <td id=\"T_b07cd_row9_col2\" class=\"data row9 col2\" >-0.959</td>\n",
       "      <td id=\"T_b07cd_row9_col3\" class=\"data row9 col3\" >-0.021</td>\n",
       "    </tr>\n",
       "  </tbody>\n",
       "</table>\n"
      ],
      "text/plain": [
       "<pandas.io.formats.style.Styler at 0x7f7411b254b0>"
      ]
     },
     "execution_count": 21,
     "metadata": {},
     "output_type": "execute_result"
    }
   ],
   "source": [
    "df2 = pd.DataFrame(np.random.randn(10,4), columns=list('ABCD'))\n",
    "(df2.style.format('{:.3f}', na_rep=\"\")\n",
    " .bar(align=0, vmin=-2.5, vmax=2.5, cmap='bwr', height=50, width=60,\n",
    "      props='width: 120px; border-right: 1px solid black;')\n",
    "      .text_gradient(cmap='bwr', vmin=-2.5, vmax=2.5))"
   ]
  },
  {
   "attachments": {},
   "cell_type": "markdown",
   "metadata": {},
   "source": [
    "# Put suffixes when doing a merge"
   ]
  },
  {
   "attachments": {},
   "cell_type": "markdown",
   "metadata": {},
   "source": [
    "wrong"
   ]
  },
  {
   "cell_type": "code",
   "execution_count": 22,
   "metadata": {},
   "outputs": [
    {
     "data": {
      "text/html": [
       "<div>\n",
       "<style scoped>\n",
       "    .dataframe tbody tr th:only-of-type {\n",
       "        vertical-align: middle;\n",
       "    }\n",
       "\n",
       "    .dataframe tbody tr th {\n",
       "        vertical-align: top;\n",
       "    }\n",
       "\n",
       "    .dataframe thead th {\n",
       "        text-align: right;\n",
       "    }\n",
       "</style>\n",
       "<table border=\"1\" class=\"dataframe\">\n",
       "  <thead>\n",
       "    <tr style=\"text-align: right;\">\n",
       "      <th></th>\n",
       "      <th>A_x</th>\n",
       "      <th>B_x</th>\n",
       "      <th>owner</th>\n",
       "      <th>A_y</th>\n",
       "      <th>B_y</th>\n",
       "    </tr>\n",
       "  </thead>\n",
       "  <tbody>\n",
       "    <tr>\n",
       "      <th>0</th>\n",
       "      <td>-0.291258</td>\n",
       "      <td>-1.432996</td>\n",
       "      <td>tom</td>\n",
       "      <td>-0.189116</td>\n",
       "      <td>-1.227378</td>\n",
       "    </tr>\n",
       "    <tr>\n",
       "      <th>1</th>\n",
       "      <td>-1.925195</td>\n",
       "      <td>0.138677</td>\n",
       "      <td>jerry</td>\n",
       "      <td>-1.185295</td>\n",
       "      <td>-1.451881</td>\n",
       "    </tr>\n",
       "    <tr>\n",
       "      <th>2</th>\n",
       "      <td>-0.438172</td>\n",
       "      <td>1.787292</td>\n",
       "      <td>elenor</td>\n",
       "      <td>0.775227</td>\n",
       "      <td>0.484732</td>\n",
       "    </tr>\n",
       "  </tbody>\n",
       "</table>\n",
       "</div>"
      ],
      "text/plain": [
       "        A_x       B_x   owner       A_y       B_y\n",
       "0 -0.291258 -1.432996     tom -0.189116 -1.227378\n",
       "1 -1.925195  0.138677   jerry -1.185295 -1.451881\n",
       "2 -0.438172  1.787292  elenor  0.775227  0.484732"
      ]
     },
     "execution_count": 22,
     "metadata": {},
     "output_type": "execute_result"
    }
   ],
   "source": [
    "df2 = pd.DataFrame(np.random.randn(3,2), columns=list('AB'))\n",
    "df2[\"owner\"] = [\"tom\",'jerry','elenor']\n",
    "df3 = pd.DataFrame(np.random.randn(3,2), columns=list('AB'))\n",
    "df3[\"owner\"] = [\"tom\",'jerry','elenor']\n",
    "\n",
    "df_merged = df2.merge(df3, on=['owner'])\n",
    "df_merged"
   ]
  },
  {
   "attachments": {},
   "cell_type": "markdown",
   "metadata": {},
   "source": [
    "good"
   ]
  },
  {
   "cell_type": "code",
   "execution_count": 23,
   "metadata": {},
   "outputs": [
    {
     "data": {
      "text/html": [
       "<div>\n",
       "<style scoped>\n",
       "    .dataframe tbody tr th:only-of-type {\n",
       "        vertical-align: middle;\n",
       "    }\n",
       "\n",
       "    .dataframe tbody tr th {\n",
       "        vertical-align: top;\n",
       "    }\n",
       "\n",
       "    .dataframe thead th {\n",
       "        text-align: right;\n",
       "    }\n",
       "</style>\n",
       "<table border=\"1\" class=\"dataframe\">\n",
       "  <thead>\n",
       "    <tr style=\"text-align: right;\">\n",
       "      <th></th>\n",
       "      <th>A_df2</th>\n",
       "      <th>B_df2</th>\n",
       "      <th>owner</th>\n",
       "      <th>A_df3</th>\n",
       "      <th>B_df3</th>\n",
       "    </tr>\n",
       "  </thead>\n",
       "  <tbody>\n",
       "    <tr>\n",
       "      <th>0</th>\n",
       "      <td>-0.291258</td>\n",
       "      <td>-1.432996</td>\n",
       "      <td>tom</td>\n",
       "      <td>-0.189116</td>\n",
       "      <td>-1.227378</td>\n",
       "    </tr>\n",
       "    <tr>\n",
       "      <th>1</th>\n",
       "      <td>-1.925195</td>\n",
       "      <td>0.138677</td>\n",
       "      <td>jerry</td>\n",
       "      <td>-1.185295</td>\n",
       "      <td>-1.451881</td>\n",
       "    </tr>\n",
       "    <tr>\n",
       "      <th>2</th>\n",
       "      <td>-0.438172</td>\n",
       "      <td>1.787292</td>\n",
       "      <td>elenor</td>\n",
       "      <td>0.775227</td>\n",
       "      <td>0.484732</td>\n",
       "    </tr>\n",
       "  </tbody>\n",
       "</table>\n",
       "</div>"
      ],
      "text/plain": [
       "      A_df2     B_df2   owner     A_df3     B_df3\n",
       "0 -0.291258 -1.432996     tom -0.189116 -1.227378\n",
       "1 -1.925195  0.138677   jerry -1.185295 -1.451881\n",
       "2 -0.438172  1.787292  elenor  0.775227  0.484732"
      ]
     },
     "execution_count": 23,
     "metadata": {},
     "output_type": "execute_result"
    }
   ],
   "source": [
    "df_merged = df2.merge(df3, on=['owner'], suffixes=('_df2','_df3'))\n",
    "df_merged"
   ]
  },
  {
   "attachments": {},
   "cell_type": "markdown",
   "metadata": {},
   "source": [
    "# manualy check if merge went as expected"
   ]
  },
  {
   "attachments": {},
   "cell_type": "markdown",
   "metadata": {},
   "source": [
    "we don't want multiple 'primary keys' to excist in the dataframes when it's being merged."
   ]
  },
  {
   "attachments": {},
   "cell_type": "markdown",
   "metadata": {},
   "source": [
    "wrong way of checking this"
   ]
  },
  {
   "cell_type": "code",
   "execution_count": 24,
   "metadata": {},
   "outputs": [
    {
     "data": {
      "text/plain": [
       "False"
      ]
     },
     "execution_count": 24,
     "metadata": {},
     "output_type": "execute_result"
    }
   ],
   "source": [
    "df2 = pd.DataFrame(np.random.randn(4,2), columns=list('AB'))\n",
    "df2[\"owner\"] = [\"tom\",'jerry','elenor', 'tom']\n",
    "df3 = pd.DataFrame(np.random.randn(4,2), columns=list('AB'))\n",
    "df3[\"owner\"] = [\"tom\",'jerry','elenor', 'jerry']\n",
    "\n",
    "df_merged = df2.merge(df3, on=['owner'], suffixes=('_df2','_df3'))\n",
    "\n",
    "len(df_merged) == len(df3)"
   ]
  },
  {
   "attachments": {},
   "cell_type": "markdown",
   "metadata": {},
   "source": [
    "good way of checking"
   ]
  },
  {
   "cell_type": "code",
   "execution_count": 25,
   "metadata": {},
   "outputs": [],
   "source": [
    "# df_merged = df2.merge(df3, on=['owner'], suffixes=('_df2','_df3'), validate='1:1')"
   ]
  },
  {
   "attachments": {},
   "cell_type": "markdown",
   "metadata": {},
   "source": [
    "# Use categorical datatypes!!!"
   ]
  },
  {
   "attachments": {},
   "cell_type": "markdown",
   "metadata": {},
   "source": [
    "We're going to make the names a category!"
   ]
  },
  {
   "cell_type": "code",
   "execution_count": 26,
   "metadata": {},
   "outputs": [
    {
     "data": {
      "text/html": [
       "<div>\n",
       "<style scoped>\n",
       "    .dataframe tbody tr th:only-of-type {\n",
       "        vertical-align: middle;\n",
       "    }\n",
       "\n",
       "    .dataframe tbody tr th {\n",
       "        vertical-align: top;\n",
       "    }\n",
       "\n",
       "    .dataframe thead th {\n",
       "        text-align: right;\n",
       "    }\n",
       "</style>\n",
       "<table border=\"1\" class=\"dataframe\">\n",
       "  <thead>\n",
       "    <tr style=\"text-align: right;\">\n",
       "      <th></th>\n",
       "      <th>age</th>\n",
       "      <th>length</th>\n",
       "      <th>sleeping_hours</th>\n",
       "      <th>name</th>\n",
       "      <th>date</th>\n",
       "    </tr>\n",
       "  </thead>\n",
       "  <tbody>\n",
       "    <tr>\n",
       "      <th>0</th>\n",
       "      <td>15</td>\n",
       "      <td>1.70</td>\n",
       "      <td>10</td>\n",
       "      <td>hank</td>\n",
       "      <td>1-2-2020</td>\n",
       "    </tr>\n",
       "    <tr>\n",
       "      <th>1</th>\n",
       "      <td>16</td>\n",
       "      <td>1.71</td>\n",
       "      <td>10</td>\n",
       "      <td>hank</td>\n",
       "      <td>1-2-2021</td>\n",
       "    </tr>\n",
       "    <tr>\n",
       "      <th>2</th>\n",
       "      <td>17</td>\n",
       "      <td>1.72</td>\n",
       "      <td>10</td>\n",
       "      <td>hank</td>\n",
       "      <td>1-2-2022</td>\n",
       "    </tr>\n",
       "    <tr>\n",
       "      <th>3</th>\n",
       "      <td>18</td>\n",
       "      <td>1.73</td>\n",
       "      <td>10</td>\n",
       "      <td>hank</td>\n",
       "      <td>1-2-2023</td>\n",
       "    </tr>\n",
       "    <tr>\n",
       "      <th>4</th>\n",
       "      <td>20</td>\n",
       "      <td>1.80</td>\n",
       "      <td>6</td>\n",
       "      <td>george</td>\n",
       "      <td>1-2-2020</td>\n",
       "    </tr>\n",
       "    <tr>\n",
       "      <th>5</th>\n",
       "      <td>25</td>\n",
       "      <td>1.81</td>\n",
       "      <td>6</td>\n",
       "      <td>will</td>\n",
       "      <td>1-2-2020</td>\n",
       "    </tr>\n",
       "    <tr>\n",
       "      <th>6</th>\n",
       "      <td>25</td>\n",
       "      <td>1.81</td>\n",
       "      <td>7</td>\n",
       "      <td>tim</td>\n",
       "      <td>1-2-2020</td>\n",
       "    </tr>\n",
       "    <tr>\n",
       "      <th>7</th>\n",
       "      <td>26</td>\n",
       "      <td>1.81</td>\n",
       "      <td>8</td>\n",
       "      <td>suzane</td>\n",
       "      <td>1-2-2020</td>\n",
       "    </tr>\n",
       "    <tr>\n",
       "      <th>8</th>\n",
       "      <td>26</td>\n",
       "      <td>1.81</td>\n",
       "      <td>6</td>\n",
       "      <td>liza</td>\n",
       "      <td>1-2-2020</td>\n",
       "    </tr>\n",
       "    <tr>\n",
       "      <th>9</th>\n",
       "      <td>27</td>\n",
       "      <td>1.81</td>\n",
       "      <td>6</td>\n",
       "      <td>betty</td>\n",
       "      <td>1-2-2020</td>\n",
       "    </tr>\n",
       "    <tr>\n",
       "      <th>10</th>\n",
       "      <td>30</td>\n",
       "      <td>1.81</td>\n",
       "      <td>8</td>\n",
       "      <td>lily</td>\n",
       "      <td>1-2-2020</td>\n",
       "    </tr>\n",
       "  </tbody>\n",
       "</table>\n",
       "</div>"
      ],
      "text/plain": [
       "    age  length  sleeping_hours    name      date\n",
       "0    15    1.70              10    hank  1-2-2020\n",
       "1    16    1.71              10    hank  1-2-2021\n",
       "2    17    1.72              10    hank  1-2-2022\n",
       "3    18    1.73              10    hank  1-2-2023\n",
       "4    20    1.80               6  george  1-2-2020\n",
       "5    25    1.81               6    will  1-2-2020\n",
       "6    25    1.81               7     tim  1-2-2020\n",
       "7    26    1.81               8  suzane  1-2-2020\n",
       "8    26    1.81               6    liza  1-2-2020\n",
       "9    27    1.81               6   betty  1-2-2020\n",
       "10   30    1.81               8    lily  1-2-2020"
      ]
     },
     "execution_count": 26,
     "metadata": {},
     "output_type": "execute_result"
    }
   ],
   "source": [
    "df = pd.read_csv('dummie1.csv')\n",
    "df"
   ]
  },
  {
   "cell_type": "code",
   "execution_count": 27,
   "metadata": {},
   "outputs": [
    {
     "name": "stdout",
     "output_type": "stream",
     "text": [
      "<class 'pandas.core.frame.DataFrame'>\n",
      "RangeIndex: 11 entries, 0 to 10\n",
      "Data columns (total 5 columns):\n",
      " #   Column          Non-Null Count  Dtype  \n",
      "---  ------          --------------  -----  \n",
      " 0   age             11 non-null     int64  \n",
      " 1   length          11 non-null     float64\n",
      " 2   sleeping_hours  11 non-null     int64  \n",
      " 3   name            11 non-null     object \n",
      " 4   date            11 non-null     object \n",
      "dtypes: float64(1), int64(2), object(2)\n",
      "memory usage: 568.0+ bytes\n"
     ]
    }
   ],
   "source": [
    "df.info()"
   ]
  },
  {
   "cell_type": "code",
   "execution_count": 28,
   "metadata": {},
   "outputs": [
    {
     "name": "stdout",
     "output_type": "stream",
     "text": [
      "<class 'pandas.core.frame.DataFrame'>\n",
      "RangeIndex: 11 entries, 0 to 10\n",
      "Data columns (total 5 columns):\n",
      " #   Column          Non-Null Count  Dtype   \n",
      "---  ------          --------------  -----   \n",
      " 0   age             11 non-null     int64   \n",
      " 1   length          11 non-null     float64 \n",
      " 2   sleeping_hours  11 non-null     int64   \n",
      " 3   name            11 non-null     category\n",
      " 4   date            11 non-null     object  \n",
      "dtypes: category(1), float64(1), int64(2), object(1)\n",
      "memory usage: 855.0+ bytes\n"
     ]
    }
   ],
   "source": [
    "df.name = df.name.astype('category')\n",
    "df.info()"
   ]
  },
  {
   "attachments": {},
   "cell_type": "markdown",
   "metadata": {},
   "source": [
    "# check for duplicate columns"
   ]
  },
  {
   "attachments": {},
   "cell_type": "markdown",
   "metadata": {},
   "source": [
    "now you get a lot of duplicated columns"
   ]
  },
  {
   "cell_type": "code",
   "execution_count": 29,
   "metadata": {},
   "outputs": [
    {
     "data": {
      "text/html": [
       "<div>\n",
       "<style scoped>\n",
       "    .dataframe tbody tr th:only-of-type {\n",
       "        vertical-align: middle;\n",
       "    }\n",
       "\n",
       "    .dataframe tbody tr th {\n",
       "        vertical-align: top;\n",
       "    }\n",
       "\n",
       "    .dataframe thead th {\n",
       "        text-align: right;\n",
       "    }\n",
       "</style>\n",
       "<table border=\"1\" class=\"dataframe\">\n",
       "  <thead>\n",
       "    <tr style=\"text-align: right;\">\n",
       "      <th></th>\n",
       "      <th>age</th>\n",
       "      <th>length</th>\n",
       "      <th>sleeping_hours</th>\n",
       "      <th>name</th>\n",
       "      <th>date</th>\n",
       "      <th>age</th>\n",
       "      <th>length</th>\n",
       "      <th>sleeping_hours</th>\n",
       "      <th>name</th>\n",
       "      <th>date</th>\n",
       "    </tr>\n",
       "  </thead>\n",
       "  <tbody>\n",
       "    <tr>\n",
       "      <th>0</th>\n",
       "      <td>15</td>\n",
       "      <td>1.70</td>\n",
       "      <td>10</td>\n",
       "      <td>hank</td>\n",
       "      <td>1-2-2020</td>\n",
       "      <td>15</td>\n",
       "      <td>1.70</td>\n",
       "      <td>10</td>\n",
       "      <td>hank</td>\n",
       "      <td>1-2-2020</td>\n",
       "    </tr>\n",
       "    <tr>\n",
       "      <th>1</th>\n",
       "      <td>16</td>\n",
       "      <td>1.71</td>\n",
       "      <td>10</td>\n",
       "      <td>hank</td>\n",
       "      <td>1-2-2021</td>\n",
       "      <td>16</td>\n",
       "      <td>1.71</td>\n",
       "      <td>10</td>\n",
       "      <td>hank</td>\n",
       "      <td>1-2-2021</td>\n",
       "    </tr>\n",
       "    <tr>\n",
       "      <th>2</th>\n",
       "      <td>17</td>\n",
       "      <td>1.72</td>\n",
       "      <td>10</td>\n",
       "      <td>hank</td>\n",
       "      <td>1-2-2022</td>\n",
       "      <td>17</td>\n",
       "      <td>1.72</td>\n",
       "      <td>10</td>\n",
       "      <td>hank</td>\n",
       "      <td>1-2-2022</td>\n",
       "    </tr>\n",
       "    <tr>\n",
       "      <th>3</th>\n",
       "      <td>18</td>\n",
       "      <td>1.73</td>\n",
       "      <td>10</td>\n",
       "      <td>hank</td>\n",
       "      <td>1-2-2023</td>\n",
       "      <td>18</td>\n",
       "      <td>1.73</td>\n",
       "      <td>10</td>\n",
       "      <td>hank</td>\n",
       "      <td>1-2-2023</td>\n",
       "    </tr>\n",
       "    <tr>\n",
       "      <th>4</th>\n",
       "      <td>20</td>\n",
       "      <td>1.80</td>\n",
       "      <td>6</td>\n",
       "      <td>george</td>\n",
       "      <td>1-2-2020</td>\n",
       "      <td>20</td>\n",
       "      <td>1.80</td>\n",
       "      <td>6</td>\n",
       "      <td>george</td>\n",
       "      <td>1-2-2020</td>\n",
       "    </tr>\n",
       "    <tr>\n",
       "      <th>5</th>\n",
       "      <td>25</td>\n",
       "      <td>1.81</td>\n",
       "      <td>6</td>\n",
       "      <td>will</td>\n",
       "      <td>1-2-2020</td>\n",
       "      <td>25</td>\n",
       "      <td>1.81</td>\n",
       "      <td>6</td>\n",
       "      <td>will</td>\n",
       "      <td>1-2-2020</td>\n",
       "    </tr>\n",
       "    <tr>\n",
       "      <th>6</th>\n",
       "      <td>25</td>\n",
       "      <td>1.81</td>\n",
       "      <td>7</td>\n",
       "      <td>tim</td>\n",
       "      <td>1-2-2020</td>\n",
       "      <td>25</td>\n",
       "      <td>1.81</td>\n",
       "      <td>7</td>\n",
       "      <td>tim</td>\n",
       "      <td>1-2-2020</td>\n",
       "    </tr>\n",
       "    <tr>\n",
       "      <th>7</th>\n",
       "      <td>26</td>\n",
       "      <td>1.81</td>\n",
       "      <td>8</td>\n",
       "      <td>suzane</td>\n",
       "      <td>1-2-2020</td>\n",
       "      <td>26</td>\n",
       "      <td>1.81</td>\n",
       "      <td>8</td>\n",
       "      <td>suzane</td>\n",
       "      <td>1-2-2020</td>\n",
       "    </tr>\n",
       "    <tr>\n",
       "      <th>8</th>\n",
       "      <td>26</td>\n",
       "      <td>1.81</td>\n",
       "      <td>6</td>\n",
       "      <td>liza</td>\n",
       "      <td>1-2-2020</td>\n",
       "      <td>26</td>\n",
       "      <td>1.81</td>\n",
       "      <td>6</td>\n",
       "      <td>liza</td>\n",
       "      <td>1-2-2020</td>\n",
       "    </tr>\n",
       "    <tr>\n",
       "      <th>9</th>\n",
       "      <td>27</td>\n",
       "      <td>1.81</td>\n",
       "      <td>6</td>\n",
       "      <td>betty</td>\n",
       "      <td>1-2-2020</td>\n",
       "      <td>27</td>\n",
       "      <td>1.81</td>\n",
       "      <td>6</td>\n",
       "      <td>betty</td>\n",
       "      <td>1-2-2020</td>\n",
       "    </tr>\n",
       "    <tr>\n",
       "      <th>10</th>\n",
       "      <td>30</td>\n",
       "      <td>1.81</td>\n",
       "      <td>8</td>\n",
       "      <td>lily</td>\n",
       "      <td>1-2-2020</td>\n",
       "      <td>30</td>\n",
       "      <td>1.81</td>\n",
       "      <td>8</td>\n",
       "      <td>lily</td>\n",
       "      <td>1-2-2020</td>\n",
       "    </tr>\n",
       "  </tbody>\n",
       "</table>\n",
       "</div>"
      ],
      "text/plain": [
       "    age  length  sleeping_hours    name      date  age  length  \\\n",
       "0    15    1.70              10    hank  1-2-2020   15    1.70   \n",
       "1    16    1.71              10    hank  1-2-2021   16    1.71   \n",
       "2    17    1.72              10    hank  1-2-2022   17    1.72   \n",
       "3    18    1.73              10    hank  1-2-2023   18    1.73   \n",
       "4    20    1.80               6  george  1-2-2020   20    1.80   \n",
       "5    25    1.81               6    will  1-2-2020   25    1.81   \n",
       "6    25    1.81               7     tim  1-2-2020   25    1.81   \n",
       "7    26    1.81               8  suzane  1-2-2020   26    1.81   \n",
       "8    26    1.81               6    liza  1-2-2020   26    1.81   \n",
       "9    27    1.81               6   betty  1-2-2020   27    1.81   \n",
       "10   30    1.81               8    lily  1-2-2020   30    1.81   \n",
       "\n",
       "    sleeping_hours    name      date  \n",
       "0               10    hank  1-2-2020  \n",
       "1               10    hank  1-2-2021  \n",
       "2               10    hank  1-2-2022  \n",
       "3               10    hank  1-2-2023  \n",
       "4                6  george  1-2-2020  \n",
       "5                6    will  1-2-2020  \n",
       "6                7     tim  1-2-2020  \n",
       "7                8  suzane  1-2-2020  \n",
       "8                6    liza  1-2-2020  \n",
       "9                6   betty  1-2-2020  \n",
       "10               8    lily  1-2-2020  "
      ]
     },
     "execution_count": 29,
     "metadata": {},
     "output_type": "execute_result"
    }
   ],
   "source": [
    "df_double = pd.concat([df,df],axis=1)\n",
    "df_double"
   ]
  },
  {
   "attachments": {},
   "cell_type": "markdown",
   "metadata": {},
   "source": [
    "You can set a flag to give you a warning when this happens."
   ]
  },
  {
   "cell_type": "code",
   "execution_count": 30,
   "metadata": {},
   "outputs": [],
   "source": [
    "# df_double = pd.concat([df,df],axis=1).set_flags(allows_duplicate_labels=False)"
   ]
  },
  {
   "attachments": {},
   "cell_type": "markdown",
   "metadata": {},
   "source": [
    "check for duplicated columns and remove them"
   ]
  },
  {
   "cell_type": "code",
   "execution_count": 31,
   "metadata": {},
   "outputs": [
    {
     "data": {
      "text/html": [
       "<div>\n",
       "<style scoped>\n",
       "    .dataframe tbody tr th:only-of-type {\n",
       "        vertical-align: middle;\n",
       "    }\n",
       "\n",
       "    .dataframe tbody tr th {\n",
       "        vertical-align: top;\n",
       "    }\n",
       "\n",
       "    .dataframe thead th {\n",
       "        text-align: right;\n",
       "    }\n",
       "</style>\n",
       "<table border=\"1\" class=\"dataframe\">\n",
       "  <thead>\n",
       "    <tr style=\"text-align: right;\">\n",
       "      <th></th>\n",
       "      <th>age</th>\n",
       "      <th>length</th>\n",
       "      <th>sleeping_hours</th>\n",
       "      <th>name</th>\n",
       "      <th>date</th>\n",
       "    </tr>\n",
       "  </thead>\n",
       "  <tbody>\n",
       "    <tr>\n",
       "      <th>0</th>\n",
       "      <td>15</td>\n",
       "      <td>1.70</td>\n",
       "      <td>10</td>\n",
       "      <td>hank</td>\n",
       "      <td>1-2-2020</td>\n",
       "    </tr>\n",
       "    <tr>\n",
       "      <th>1</th>\n",
       "      <td>16</td>\n",
       "      <td>1.71</td>\n",
       "      <td>10</td>\n",
       "      <td>hank</td>\n",
       "      <td>1-2-2021</td>\n",
       "    </tr>\n",
       "    <tr>\n",
       "      <th>2</th>\n",
       "      <td>17</td>\n",
       "      <td>1.72</td>\n",
       "      <td>10</td>\n",
       "      <td>hank</td>\n",
       "      <td>1-2-2022</td>\n",
       "    </tr>\n",
       "    <tr>\n",
       "      <th>3</th>\n",
       "      <td>18</td>\n",
       "      <td>1.73</td>\n",
       "      <td>10</td>\n",
       "      <td>hank</td>\n",
       "      <td>1-2-2023</td>\n",
       "    </tr>\n",
       "    <tr>\n",
       "      <th>4</th>\n",
       "      <td>20</td>\n",
       "      <td>1.80</td>\n",
       "      <td>6</td>\n",
       "      <td>george</td>\n",
       "      <td>1-2-2020</td>\n",
       "    </tr>\n",
       "    <tr>\n",
       "      <th>5</th>\n",
       "      <td>25</td>\n",
       "      <td>1.81</td>\n",
       "      <td>6</td>\n",
       "      <td>will</td>\n",
       "      <td>1-2-2020</td>\n",
       "    </tr>\n",
       "    <tr>\n",
       "      <th>6</th>\n",
       "      <td>25</td>\n",
       "      <td>1.81</td>\n",
       "      <td>7</td>\n",
       "      <td>tim</td>\n",
       "      <td>1-2-2020</td>\n",
       "    </tr>\n",
       "    <tr>\n",
       "      <th>7</th>\n",
       "      <td>26</td>\n",
       "      <td>1.81</td>\n",
       "      <td>8</td>\n",
       "      <td>suzane</td>\n",
       "      <td>1-2-2020</td>\n",
       "    </tr>\n",
       "    <tr>\n",
       "      <th>8</th>\n",
       "      <td>26</td>\n",
       "      <td>1.81</td>\n",
       "      <td>6</td>\n",
       "      <td>liza</td>\n",
       "      <td>1-2-2020</td>\n",
       "    </tr>\n",
       "    <tr>\n",
       "      <th>9</th>\n",
       "      <td>27</td>\n",
       "      <td>1.81</td>\n",
       "      <td>6</td>\n",
       "      <td>betty</td>\n",
       "      <td>1-2-2020</td>\n",
       "    </tr>\n",
       "    <tr>\n",
       "      <th>10</th>\n",
       "      <td>30</td>\n",
       "      <td>1.81</td>\n",
       "      <td>8</td>\n",
       "      <td>lily</td>\n",
       "      <td>1-2-2020</td>\n",
       "    </tr>\n",
       "  </tbody>\n",
       "</table>\n",
       "</div>"
      ],
      "text/plain": [
       "    age  length  sleeping_hours    name      date\n",
       "0    15    1.70              10    hank  1-2-2020\n",
       "1    16    1.71              10    hank  1-2-2021\n",
       "2    17    1.72              10    hank  1-2-2022\n",
       "3    18    1.73              10    hank  1-2-2023\n",
       "4    20    1.80               6  george  1-2-2020\n",
       "5    25    1.81               6    will  1-2-2020\n",
       "6    25    1.81               7     tim  1-2-2020\n",
       "7    26    1.81               8  suzane  1-2-2020\n",
       "8    26    1.81               6    liza  1-2-2020\n",
       "9    27    1.81               6   betty  1-2-2020\n",
       "10   30    1.81               8    lily  1-2-2020"
      ]
     },
     "execution_count": 31,
     "metadata": {},
     "output_type": "execute_result"
    }
   ],
   "source": [
    "df_double = pd.concat([df,df],axis=1)\n",
    "df_double = df_double.loc[:,~df_double.columns.duplicated()].copy()\n",
    "df_double"
   ]
  },
  {
   "attachments": {},
   "cell_type": "markdown",
   "metadata": {},
   "source": [
    "# best ways to save DataFrames to disk\n",
    "## create dataset"
   ]
  },
  {
   "cell_type": "code",
   "execution_count": 3,
   "metadata": {},
   "outputs": [],
   "source": [
    "def get_dataset(size):\n",
    "    df = pd.DataFrame()\n",
    "    df['size'] = np.random.choice(['big','medium','small'], size)\n",
    "    df['age'] = np.random.randint(1, 50, size)\n",
    "    df['team'] = np.random.choice(['red','blue','yellow'], size)\n",
    "    df['win'] = np.random.choice(['yes','no'], size)\n",
    "    dates = pd.date_range('2020-01-01', '2022-12-31')\n",
    "    df['date'] = np.random.choice(dates, size)\n",
    "    df['prob'] = np.random.uniform(0,1,size)\n",
    "    return df\n",
    "\n",
    "\n",
    "def set_dtypes(df):\n",
    "    df['size'] = df['size'].astype('category')\n",
    "    df['age'] = df['age'].astype('int')\n",
    "    df['team'] = df['team'].astype('category')\n",
    "    df['win'] = df['win'].map({'yes': True, 'no': False})\n",
    "    df['prob'] = df['prob'].astype('float')\n",
    "    return df"
   ]
  },
  {
   "cell_type": "code",
   "execution_count": 33,
   "metadata": {},
   "outputs": [
    {
     "name": "stdout",
     "output_type": "stream",
     "text": [
      "<class 'pandas.core.frame.DataFrame'>\n",
      "RangeIndex: 1000000 entries, 0 to 999999\n",
      "Data columns (total 6 columns):\n",
      " #   Column  Non-Null Count    Dtype         \n",
      "---  ------  --------------    -----         \n",
      " 0   size    1000000 non-null  object        \n",
      " 1   age     1000000 non-null  int64         \n",
      " 2   team    1000000 non-null  object        \n",
      " 3   win     1000000 non-null  object        \n",
      " 4   date    1000000 non-null  datetime64[ns]\n",
      " 5   prob    1000000 non-null  float64       \n",
      "dtypes: datetime64[ns](1), float64(1), int64(1), object(3)\n",
      "memory usage: 45.8+ MB\n"
     ]
    }
   ],
   "source": [
    "df_raw = get_dataset(1_000_000)\n",
    "df_raw.info()"
   ]
  },
  {
   "cell_type": "code",
   "execution_count": 34,
   "metadata": {},
   "outputs": [
    {
     "data": {
      "text/html": [
       "<div>\n",
       "<style scoped>\n",
       "    .dataframe tbody tr th:only-of-type {\n",
       "        vertical-align: middle;\n",
       "    }\n",
       "\n",
       "    .dataframe tbody tr th {\n",
       "        vertical-align: top;\n",
       "    }\n",
       "\n",
       "    .dataframe thead th {\n",
       "        text-align: right;\n",
       "    }\n",
       "</style>\n",
       "<table border=\"1\" class=\"dataframe\">\n",
       "  <thead>\n",
       "    <tr style=\"text-align: right;\">\n",
       "      <th></th>\n",
       "      <th>size</th>\n",
       "      <th>age</th>\n",
       "      <th>team</th>\n",
       "      <th>win</th>\n",
       "      <th>date</th>\n",
       "      <th>prob</th>\n",
       "    </tr>\n",
       "  </thead>\n",
       "  <tbody>\n",
       "    <tr>\n",
       "      <th>0</th>\n",
       "      <td>medium</td>\n",
       "      <td>22</td>\n",
       "      <td>red</td>\n",
       "      <td>yes</td>\n",
       "      <td>2022-08-30</td>\n",
       "      <td>0.207074</td>\n",
       "    </tr>\n",
       "    <tr>\n",
       "      <th>1</th>\n",
       "      <td>big</td>\n",
       "      <td>2</td>\n",
       "      <td>yellow</td>\n",
       "      <td>yes</td>\n",
       "      <td>2022-09-06</td>\n",
       "      <td>0.406475</td>\n",
       "    </tr>\n",
       "    <tr>\n",
       "      <th>2</th>\n",
       "      <td>big</td>\n",
       "      <td>21</td>\n",
       "      <td>red</td>\n",
       "      <td>yes</td>\n",
       "      <td>2022-04-14</td>\n",
       "      <td>0.797266</td>\n",
       "    </tr>\n",
       "    <tr>\n",
       "      <th>3</th>\n",
       "      <td>medium</td>\n",
       "      <td>21</td>\n",
       "      <td>yellow</td>\n",
       "      <td>yes</td>\n",
       "      <td>2022-08-11</td>\n",
       "      <td>0.797641</td>\n",
       "    </tr>\n",
       "    <tr>\n",
       "      <th>4</th>\n",
       "      <td>medium</td>\n",
       "      <td>37</td>\n",
       "      <td>blue</td>\n",
       "      <td>no</td>\n",
       "      <td>2020-05-23</td>\n",
       "      <td>0.920938</td>\n",
       "    </tr>\n",
       "  </tbody>\n",
       "</table>\n",
       "</div>"
      ],
      "text/plain": [
       "     size  age    team  win       date      prob\n",
       "0  medium   22     red  yes 2022-08-30  0.207074\n",
       "1     big    2  yellow  yes 2022-09-06  0.406475\n",
       "2     big   21     red  yes 2022-04-14  0.797266\n",
       "3  medium   21  yellow  yes 2022-08-11  0.797641\n",
       "4  medium   37    blue   no 2020-05-23  0.920938"
      ]
     },
     "execution_count": 34,
     "metadata": {},
     "output_type": "execute_result"
    }
   ],
   "source": [
    "df_raw.head()"
   ]
  },
  {
   "attachments": {},
   "cell_type": "markdown",
   "metadata": {},
   "source": [
    "## write to csv"
   ]
  },
  {
   "attachments": {},
   "cell_type": "markdown",
   "metadata": {},
   "source": [
    "### no change"
   ]
  },
  {
   "cell_type": "code",
   "execution_count": 35,
   "metadata": {},
   "outputs": [],
   "source": [
    "# %%timeit\n",
    "df_raw.to_csv('test_csv_raw.csv')"
   ]
  },
  {
   "cell_type": "code",
   "execution_count": 36,
   "metadata": {},
   "outputs": [
    {
     "name": "stdout",
     "output_type": "stream",
     "text": [
      "52M -rwxrwxrwx 1 user 52M mrt  2 14:53 test_csv_raw.csv*\n"
     ]
    }
   ],
   "source": [
    "!ls -GFlash test_csv_raw.csv"
   ]
  },
  {
   "cell_type": "code",
   "execution_count": 37,
   "metadata": {},
   "outputs": [],
   "source": [
    "# %%timeit\n",
    "df_raw2 = pd.read_csv('test_csv_raw.csv')"
   ]
  },
  {
   "cell_type": "code",
   "execution_count": 38,
   "metadata": {},
   "outputs": [
    {
     "name": "stdout",
     "output_type": "stream",
     "text": [
      "<class 'pandas.core.frame.DataFrame'>\n",
      "RangeIndex: 1000000 entries, 0 to 999999\n",
      "Data columns (total 7 columns):\n",
      " #   Column      Non-Null Count    Dtype  \n",
      "---  ------      --------------    -----  \n",
      " 0   Unnamed: 0  1000000 non-null  int64  \n",
      " 1   size        1000000 non-null  object \n",
      " 2   age         1000000 non-null  int64  \n",
      " 3   team        1000000 non-null  object \n",
      " 4   win         1000000 non-null  object \n",
      " 5   date        1000000 non-null  object \n",
      " 6   prob        1000000 non-null  float64\n",
      "dtypes: float64(1), int64(2), object(4)\n",
      "memory usage: 53.4+ MB\n"
     ]
    }
   ],
   "source": [
    "df_raw2.info()"
   ]
  },
  {
   "cell_type": "code",
   "execution_count": 39,
   "metadata": {},
   "outputs": [
    {
     "data": {
      "text/html": [
       "<div>\n",
       "<style scoped>\n",
       "    .dataframe tbody tr th:only-of-type {\n",
       "        vertical-align: middle;\n",
       "    }\n",
       "\n",
       "    .dataframe tbody tr th {\n",
       "        vertical-align: top;\n",
       "    }\n",
       "\n",
       "    .dataframe thead th {\n",
       "        text-align: right;\n",
       "    }\n",
       "</style>\n",
       "<table border=\"1\" class=\"dataframe\">\n",
       "  <thead>\n",
       "    <tr style=\"text-align: right;\">\n",
       "      <th></th>\n",
       "      <th>Unnamed: 0</th>\n",
       "      <th>size</th>\n",
       "      <th>age</th>\n",
       "      <th>team</th>\n",
       "      <th>win</th>\n",
       "      <th>date</th>\n",
       "      <th>prob</th>\n",
       "    </tr>\n",
       "  </thead>\n",
       "  <tbody>\n",
       "    <tr>\n",
       "      <th>0</th>\n",
       "      <td>0</td>\n",
       "      <td>medium</td>\n",
       "      <td>22</td>\n",
       "      <td>red</td>\n",
       "      <td>yes</td>\n",
       "      <td>2022-08-30</td>\n",
       "      <td>0.207074</td>\n",
       "    </tr>\n",
       "    <tr>\n",
       "      <th>1</th>\n",
       "      <td>1</td>\n",
       "      <td>big</td>\n",
       "      <td>2</td>\n",
       "      <td>yellow</td>\n",
       "      <td>yes</td>\n",
       "      <td>2022-09-06</td>\n",
       "      <td>0.406475</td>\n",
       "    </tr>\n",
       "    <tr>\n",
       "      <th>2</th>\n",
       "      <td>2</td>\n",
       "      <td>big</td>\n",
       "      <td>21</td>\n",
       "      <td>red</td>\n",
       "      <td>yes</td>\n",
       "      <td>2022-04-14</td>\n",
       "      <td>0.797266</td>\n",
       "    </tr>\n",
       "    <tr>\n",
       "      <th>3</th>\n",
       "      <td>3</td>\n",
       "      <td>medium</td>\n",
       "      <td>21</td>\n",
       "      <td>yellow</td>\n",
       "      <td>yes</td>\n",
       "      <td>2022-08-11</td>\n",
       "      <td>0.797641</td>\n",
       "    </tr>\n",
       "    <tr>\n",
       "      <th>4</th>\n",
       "      <td>4</td>\n",
       "      <td>medium</td>\n",
       "      <td>37</td>\n",
       "      <td>blue</td>\n",
       "      <td>no</td>\n",
       "      <td>2020-05-23</td>\n",
       "      <td>0.920938</td>\n",
       "    </tr>\n",
       "  </tbody>\n",
       "</table>\n",
       "</div>"
      ],
      "text/plain": [
       "   Unnamed: 0    size  age    team  win        date      prob\n",
       "0           0  medium   22     red  yes  2022-08-30  0.207074\n",
       "1           1     big    2  yellow  yes  2022-09-06  0.406475\n",
       "2           2     big   21     red  yes  2022-04-14  0.797266\n",
       "3           3  medium   21  yellow  yes  2022-08-11  0.797641\n",
       "4           4  medium   37    blue   no  2020-05-23  0.920938"
      ]
     },
     "execution_count": 39,
     "metadata": {},
     "output_type": "execute_result"
    }
   ],
   "source": [
    "df_raw2.head()"
   ]
  },
  {
   "attachments": {},
   "cell_type": "markdown",
   "metadata": {},
   "source": [
    "### index = True"
   ]
  },
  {
   "attachments": {},
   "cell_type": "markdown",
   "metadata": {},
   "source": [
    "let's see what happens to the size if we don't put an index in it"
   ]
  },
  {
   "cell_type": "code",
   "execution_count": 40,
   "metadata": {},
   "outputs": [],
   "source": [
    "# %%timeit\n",
    "df_raw.to_csv('test_csv_raw.csv', index=True)"
   ]
  },
  {
   "cell_type": "code",
   "execution_count": 41,
   "metadata": {},
   "outputs": [
    {
     "name": "stdout",
     "output_type": "stream",
     "text": [
      "46M -rwxrwxrwx 1 user 46M mrt  2 13:32 test_csv.csv*\n"
     ]
    }
   ],
   "source": [
    "!ls -GFlash test_csv.csv"
   ]
  },
  {
   "cell_type": "code",
   "execution_count": 42,
   "metadata": {},
   "outputs": [],
   "source": [
    "# %%timeit\n",
    "df_raw2 = pd.read_csv('test_csv_raw.csv')"
   ]
  },
  {
   "cell_type": "code",
   "execution_count": 43,
   "metadata": {},
   "outputs": [
    {
     "name": "stdout",
     "output_type": "stream",
     "text": [
      "<class 'pandas.core.frame.DataFrame'>\n",
      "RangeIndex: 1000000 entries, 0 to 999999\n",
      "Data columns (total 7 columns):\n",
      " #   Column      Non-Null Count    Dtype  \n",
      "---  ------      --------------    -----  \n",
      " 0   Unnamed: 0  1000000 non-null  int64  \n",
      " 1   size        1000000 non-null  object \n",
      " 2   age         1000000 non-null  int64  \n",
      " 3   team        1000000 non-null  object \n",
      " 4   win         1000000 non-null  object \n",
      " 5   date        1000000 non-null  object \n",
      " 6   prob        1000000 non-null  float64\n",
      "dtypes: float64(1), int64(2), object(4)\n",
      "memory usage: 53.4+ MB\n"
     ]
    }
   ],
   "source": [
    "df_raw2.info()"
   ]
  },
  {
   "cell_type": "code",
   "execution_count": 44,
   "metadata": {},
   "outputs": [
    {
     "data": {
      "text/html": [
       "<div>\n",
       "<style scoped>\n",
       "    .dataframe tbody tr th:only-of-type {\n",
       "        vertical-align: middle;\n",
       "    }\n",
       "\n",
       "    .dataframe tbody tr th {\n",
       "        vertical-align: top;\n",
       "    }\n",
       "\n",
       "    .dataframe thead th {\n",
       "        text-align: right;\n",
       "    }\n",
       "</style>\n",
       "<table border=\"1\" class=\"dataframe\">\n",
       "  <thead>\n",
       "    <tr style=\"text-align: right;\">\n",
       "      <th></th>\n",
       "      <th>Unnamed: 0</th>\n",
       "      <th>size</th>\n",
       "      <th>age</th>\n",
       "      <th>team</th>\n",
       "      <th>win</th>\n",
       "      <th>date</th>\n",
       "      <th>prob</th>\n",
       "    </tr>\n",
       "  </thead>\n",
       "  <tbody>\n",
       "    <tr>\n",
       "      <th>0</th>\n",
       "      <td>0</td>\n",
       "      <td>medium</td>\n",
       "      <td>22</td>\n",
       "      <td>red</td>\n",
       "      <td>yes</td>\n",
       "      <td>2022-08-30</td>\n",
       "      <td>0.207074</td>\n",
       "    </tr>\n",
       "    <tr>\n",
       "      <th>1</th>\n",
       "      <td>1</td>\n",
       "      <td>big</td>\n",
       "      <td>2</td>\n",
       "      <td>yellow</td>\n",
       "      <td>yes</td>\n",
       "      <td>2022-09-06</td>\n",
       "      <td>0.406475</td>\n",
       "    </tr>\n",
       "    <tr>\n",
       "      <th>2</th>\n",
       "      <td>2</td>\n",
       "      <td>big</td>\n",
       "      <td>21</td>\n",
       "      <td>red</td>\n",
       "      <td>yes</td>\n",
       "      <td>2022-04-14</td>\n",
       "      <td>0.797266</td>\n",
       "    </tr>\n",
       "    <tr>\n",
       "      <th>3</th>\n",
       "      <td>3</td>\n",
       "      <td>medium</td>\n",
       "      <td>21</td>\n",
       "      <td>yellow</td>\n",
       "      <td>yes</td>\n",
       "      <td>2022-08-11</td>\n",
       "      <td>0.797641</td>\n",
       "    </tr>\n",
       "    <tr>\n",
       "      <th>4</th>\n",
       "      <td>4</td>\n",
       "      <td>medium</td>\n",
       "      <td>37</td>\n",
       "      <td>blue</td>\n",
       "      <td>no</td>\n",
       "      <td>2020-05-23</td>\n",
       "      <td>0.920938</td>\n",
       "    </tr>\n",
       "  </tbody>\n",
       "</table>\n",
       "</div>"
      ],
      "text/plain": [
       "   Unnamed: 0    size  age    team  win        date      prob\n",
       "0           0  medium   22     red  yes  2022-08-30  0.207074\n",
       "1           1     big    2  yellow  yes  2022-09-06  0.406475\n",
       "2           2     big   21     red  yes  2022-04-14  0.797266\n",
       "3           3  medium   21  yellow  yes  2022-08-11  0.797641\n",
       "4           4  medium   37    blue   no  2020-05-23  0.920938"
      ]
     },
     "execution_count": 44,
     "metadata": {},
     "output_type": "execute_result"
    }
   ],
   "source": [
    "df_raw2.head()"
   ]
  },
  {
   "attachments": {},
   "cell_type": "markdown",
   "metadata": {},
   "source": [
    "### index = false"
   ]
  },
  {
   "attachments": {},
   "cell_type": "markdown",
   "metadata": {},
   "source": [
    "You get a smaller file, that gives no index problems, and is a little bit faster in reading and writing"
   ]
  },
  {
   "cell_type": "code",
   "execution_count": 45,
   "metadata": {},
   "outputs": [],
   "source": [
    "# %%timeit\n",
    "df_raw.to_csv('test_csv_raw.csv', index=False)"
   ]
  },
  {
   "cell_type": "code",
   "execution_count": 46,
   "metadata": {},
   "outputs": [
    {
     "name": "stdout",
     "output_type": "stream",
     "text": [
      "46M -rwxrwxrwx 1 user 46M mrt  2 14:54 test_csv_raw.csv*\n"
     ]
    }
   ],
   "source": [
    "!ls -GFlash test_csv_raw.csv"
   ]
  },
  {
   "cell_type": "code",
   "execution_count": 47,
   "metadata": {},
   "outputs": [],
   "source": [
    "# %%timeit\n",
    "df_raw2 = pd.read_csv('test_csv_raw.csv')"
   ]
  },
  {
   "cell_type": "code",
   "execution_count": 48,
   "metadata": {},
   "outputs": [
    {
     "name": "stdout",
     "output_type": "stream",
     "text": [
      "<class 'pandas.core.frame.DataFrame'>\n",
      "RangeIndex: 1000000 entries, 0 to 999999\n",
      "Data columns (total 6 columns):\n",
      " #   Column  Non-Null Count    Dtype  \n",
      "---  ------  --------------    -----  \n",
      " 0   size    1000000 non-null  object \n",
      " 1   age     1000000 non-null  int64  \n",
      " 2   team    1000000 non-null  object \n",
      " 3   win     1000000 non-null  object \n",
      " 4   date    1000000 non-null  object \n",
      " 5   prob    1000000 non-null  float64\n",
      "dtypes: float64(1), int64(1), object(4)\n",
      "memory usage: 45.8+ MB\n"
     ]
    }
   ],
   "source": [
    "df_raw2.info()"
   ]
  },
  {
   "cell_type": "code",
   "execution_count": 49,
   "metadata": {},
   "outputs": [
    {
     "data": {
      "text/html": [
       "<div>\n",
       "<style scoped>\n",
       "    .dataframe tbody tr th:only-of-type {\n",
       "        vertical-align: middle;\n",
       "    }\n",
       "\n",
       "    .dataframe tbody tr th {\n",
       "        vertical-align: top;\n",
       "    }\n",
       "\n",
       "    .dataframe thead th {\n",
       "        text-align: right;\n",
       "    }\n",
       "</style>\n",
       "<table border=\"1\" class=\"dataframe\">\n",
       "  <thead>\n",
       "    <tr style=\"text-align: right;\">\n",
       "      <th></th>\n",
       "      <th>size</th>\n",
       "      <th>age</th>\n",
       "      <th>team</th>\n",
       "      <th>win</th>\n",
       "      <th>date</th>\n",
       "      <th>prob</th>\n",
       "    </tr>\n",
       "  </thead>\n",
       "  <tbody>\n",
       "    <tr>\n",
       "      <th>0</th>\n",
       "      <td>medium</td>\n",
       "      <td>22</td>\n",
       "      <td>red</td>\n",
       "      <td>yes</td>\n",
       "      <td>2022-08-30</td>\n",
       "      <td>0.207074</td>\n",
       "    </tr>\n",
       "    <tr>\n",
       "      <th>1</th>\n",
       "      <td>big</td>\n",
       "      <td>2</td>\n",
       "      <td>yellow</td>\n",
       "      <td>yes</td>\n",
       "      <td>2022-09-06</td>\n",
       "      <td>0.406475</td>\n",
       "    </tr>\n",
       "    <tr>\n",
       "      <th>2</th>\n",
       "      <td>big</td>\n",
       "      <td>21</td>\n",
       "      <td>red</td>\n",
       "      <td>yes</td>\n",
       "      <td>2022-04-14</td>\n",
       "      <td>0.797266</td>\n",
       "    </tr>\n",
       "    <tr>\n",
       "      <th>3</th>\n",
       "      <td>medium</td>\n",
       "      <td>21</td>\n",
       "      <td>yellow</td>\n",
       "      <td>yes</td>\n",
       "      <td>2022-08-11</td>\n",
       "      <td>0.797641</td>\n",
       "    </tr>\n",
       "    <tr>\n",
       "      <th>4</th>\n",
       "      <td>medium</td>\n",
       "      <td>37</td>\n",
       "      <td>blue</td>\n",
       "      <td>no</td>\n",
       "      <td>2020-05-23</td>\n",
       "      <td>0.920938</td>\n",
       "    </tr>\n",
       "  </tbody>\n",
       "</table>\n",
       "</div>"
      ],
      "text/plain": [
       "     size  age    team  win        date      prob\n",
       "0  medium   22     red  yes  2022-08-30  0.207074\n",
       "1     big    2  yellow  yes  2022-09-06  0.406475\n",
       "2     big   21     red  yes  2022-04-14  0.797266\n",
       "3  medium   21  yellow  yes  2022-08-11  0.797641\n",
       "4  medium   37    blue   no  2020-05-23  0.920938"
      ]
     },
     "execution_count": 49,
     "metadata": {},
     "output_type": "execute_result"
    }
   ],
   "source": [
    "df_raw2.head()"
   ]
  },
  {
   "attachments": {},
   "cell_type": "markdown",
   "metadata": {},
   "source": [
    "## look at the dtypes"
   ]
  },
  {
   "cell_type": "code",
   "execution_count": 50,
   "metadata": {},
   "outputs": [],
   "source": [
    "# %%timeit\n",
    "df_dtypes = get_dataset(1_000_000)"
   ]
  },
  {
   "cell_type": "code",
   "execution_count": 51,
   "metadata": {},
   "outputs": [
    {
     "name": "stdout",
     "output_type": "stream",
     "text": [
      "<class 'pandas.core.frame.DataFrame'>\n",
      "RangeIndex: 1000000 entries, 0 to 999999\n",
      "Data columns (total 6 columns):\n",
      " #   Column  Non-Null Count    Dtype         \n",
      "---  ------  --------------    -----         \n",
      " 0   size    1000000 non-null  category      \n",
      " 1   age     1000000 non-null  int64         \n",
      " 2   team    1000000 non-null  category      \n",
      " 3   win     1000000 non-null  bool          \n",
      " 4   date    1000000 non-null  datetime64[ns]\n",
      " 5   prob    1000000 non-null  float64       \n",
      "dtypes: bool(1), category(2), datetime64[ns](1), float64(1), int64(1)\n",
      "memory usage: 25.7 MB\n"
     ]
    }
   ],
   "source": [
    "df_dtypes = set_dtypes(df_dtypes)\n",
    "df_dtypes.info()"
   ]
  },
  {
   "attachments": {},
   "cell_type": "markdown",
   "metadata": {},
   "source": [
    "That's a shrinkage from ... to ..."
   ]
  },
  {
   "attachments": {},
   "cell_type": "markdown",
   "metadata": {},
   "source": [
    "writing to csv destroys the dtype metadata..."
   ]
  },
  {
   "attachments": {},
   "cell_type": "markdown",
   "metadata": {},
   "source": [
    "## Pickle"
   ]
  },
  {
   "attachments": {},
   "cell_type": "markdown",
   "metadata": {},
   "source": [
    "### without dtypes"
   ]
  },
  {
   "cell_type": "code",
   "execution_count": 52,
   "metadata": {},
   "outputs": [],
   "source": [
    "# df = get_dataset(1_000_000)\n",
    "# %%timeit df.to_pickle('test.pickle')\n",
    "# %%timeit df_pickle = pd.read_pickle('test.pickle')\n",
    "df_raw.to_pickle('test_raw.pickle')\n",
    "df_pickle_raw = pd.read_pickle('test_raw.pickle')"
   ]
  },
  {
   "cell_type": "code",
   "execution_count": 53,
   "metadata": {},
   "outputs": [
    {
     "name": "stdout",
     "output_type": "stream",
     "text": [
      "43M -rwxrwxrwx 1 user 43M mrt  2 14:54 test_raw.pickle*\n"
     ]
    }
   ],
   "source": [
    "!ls -GFlash test_raw.pickle"
   ]
  },
  {
   "cell_type": "code",
   "execution_count": 54,
   "metadata": {},
   "outputs": [
    {
     "name": "stdout",
     "output_type": "stream",
     "text": [
      "<class 'pandas.core.frame.DataFrame'>\n",
      "RangeIndex: 1000000 entries, 0 to 999999\n",
      "Data columns (total 6 columns):\n",
      " #   Column  Non-Null Count    Dtype         \n",
      "---  ------  --------------    -----         \n",
      " 0   size    1000000 non-null  object        \n",
      " 1   age     1000000 non-null  int64         \n",
      " 2   team    1000000 non-null  object        \n",
      " 3   win     1000000 non-null  object        \n",
      " 4   date    1000000 non-null  datetime64[ns]\n",
      " 5   prob    1000000 non-null  float64       \n",
      "dtypes: datetime64[ns](1), float64(1), int64(1), object(3)\n",
      "memory usage: 45.8+ MB\n"
     ]
    }
   ],
   "source": [
    "df_pickle_raw.info()"
   ]
  },
  {
   "attachments": {},
   "cell_type": "markdown",
   "metadata": {},
   "source": [
    "### with dtypes"
   ]
  },
  {
   "cell_type": "code",
   "execution_count": 55,
   "metadata": {},
   "outputs": [],
   "source": [
    "# %%timeit df.to_pickle('test.pickle')\n",
    "# %%timeit df_pickle = pd.read_pickle('test.pickle')\n",
    "# %%timeit df_dtypes.to_pickle('test_dtype.pickle')\n",
    "# %%timeit df_pickle = pd.read_pickle('test_dtype.pickle')\n",
    "df_dtypes.to_pickle('test_dtype.pickle')\n",
    "df_pickle_dtypes = pd.read_pickle('test_dtype.pickle')"
   ]
  },
  {
   "cell_type": "code",
   "execution_count": 56,
   "metadata": {},
   "outputs": [
    {
     "name": "stdout",
     "output_type": "stream",
     "text": [
      "26M -rwxrwxrwx 1 user 26M mrt  2 14:54 test_dtype.pickle*\n"
     ]
    }
   ],
   "source": [
    "!ls -GFlash test_dtype.pickle"
   ]
  },
  {
   "cell_type": "code",
   "execution_count": 57,
   "metadata": {},
   "outputs": [
    {
     "name": "stdout",
     "output_type": "stream",
     "text": [
      "<class 'pandas.core.frame.DataFrame'>\n",
      "RangeIndex: 1000000 entries, 0 to 999999\n",
      "Data columns (total 6 columns):\n",
      " #   Column  Non-Null Count    Dtype         \n",
      "---  ------  --------------    -----         \n",
      " 0   size    1000000 non-null  category      \n",
      " 1   age     1000000 non-null  int64         \n",
      " 2   team    1000000 non-null  category      \n",
      " 3   win     1000000 non-null  bool          \n",
      " 4   date    1000000 non-null  datetime64[ns]\n",
      " 5   prob    1000000 non-null  float64       \n",
      "dtypes: bool(1), category(2), datetime64[ns](1), float64(1), int64(1)\n",
      "memory usage: 25.7 MB\n"
     ]
    }
   ],
   "source": [
    "df_pickle_dtypes.info()"
   ]
  },
  {
   "attachments": {},
   "cell_type": "markdown",
   "metadata": {},
   "source": [
    "## Parquet"
   ]
  },
  {
   "attachments": {},
   "cell_type": "markdown",
   "metadata": {},
   "source": [
    "### raw"
   ]
  },
  {
   "cell_type": "code",
   "execution_count": 58,
   "metadata": {},
   "outputs": [],
   "source": [
    "# %%timeit df_raw.to_parquet('test_raw.parquet')\n",
    "# %%timeit df_parque_raw = pd.read_parquet('test_raw.parquet')\n",
    "df_raw.to_parquet('test_raw.parquet')\n",
    "df_parque_raw = pd.read_parquet('test_raw.parquet')"
   ]
  },
  {
   "cell_type": "code",
   "execution_count": 59,
   "metadata": {},
   "outputs": [
    {
     "name": "stdout",
     "output_type": "stream",
     "text": [
      "11M -rwxrwxrwx 1 user 11M mrt  2 14:54 test_raw.parquet*\n"
     ]
    }
   ],
   "source": [
    "!ls -GFlash test_raw.parquet"
   ]
  },
  {
   "cell_type": "code",
   "execution_count": 60,
   "metadata": {},
   "outputs": [
    {
     "name": "stdout",
     "output_type": "stream",
     "text": [
      "<class 'pandas.core.frame.DataFrame'>\n",
      "RangeIndex: 1000000 entries, 0 to 999999\n",
      "Data columns (total 6 columns):\n",
      " #   Column  Non-Null Count    Dtype         \n",
      "---  ------  --------------    -----         \n",
      " 0   size    1000000 non-null  object        \n",
      " 1   age     1000000 non-null  int64         \n",
      " 2   team    1000000 non-null  object        \n",
      " 3   win     1000000 non-null  object        \n",
      " 4   date    1000000 non-null  datetime64[ns]\n",
      " 5   prob    1000000 non-null  float64       \n",
      "dtypes: datetime64[ns](1), float64(1), int64(1), object(3)\n",
      "memory usage: 45.8+ MB\n"
     ]
    }
   ],
   "source": [
    "df_parque_raw.info()"
   ]
  },
  {
   "attachments": {},
   "cell_type": "markdown",
   "metadata": {},
   "source": [
    "### dtypes"
   ]
  },
  {
   "cell_type": "code",
   "execution_count": 61,
   "metadata": {},
   "outputs": [],
   "source": [
    "# %%timeit df_raw.to_parquet('test_raw.parquet')\n",
    "# %%timeit df_parque_raw = pd.read_parquet('test_raw.parquet')\n",
    "df_dtypes.to_parquet('test_dtypes.parquet')\n",
    "df_parque_dtypes = pd.read_parquet('test_dtypes.parquet')"
   ]
  },
  {
   "cell_type": "code",
   "execution_count": 62,
   "metadata": {},
   "outputs": [
    {
     "name": "stdout",
     "output_type": "stream",
     "text": [
      "11M -rwxrwxrwx 1 user 11M mrt  2 14:54 test_dtypes.parquet*\n"
     ]
    }
   ],
   "source": [
    "!ls -GFlash test_dtypes.parquet"
   ]
  },
  {
   "cell_type": "code",
   "execution_count": 63,
   "metadata": {},
   "outputs": [
    {
     "name": "stdout",
     "output_type": "stream",
     "text": [
      "<class 'pandas.core.frame.DataFrame'>\n",
      "RangeIndex: 1000000 entries, 0 to 999999\n",
      "Data columns (total 6 columns):\n",
      " #   Column  Non-Null Count    Dtype         \n",
      "---  ------  --------------    -----         \n",
      " 0   size    1000000 non-null  category      \n",
      " 1   age     1000000 non-null  int64         \n",
      " 2   team    1000000 non-null  category      \n",
      " 3   win     1000000 non-null  bool          \n",
      " 4   date    1000000 non-null  datetime64[ns]\n",
      " 5   prob    1000000 non-null  float64       \n",
      "dtypes: bool(1), category(2), datetime64[ns](1), float64(1), int64(1)\n",
      "memory usage: 25.7 MB\n"
     ]
    }
   ],
   "source": [
    "df_parque_dtypes.info()"
   ]
  },
  {
   "cell_type": "code",
   "execution_count": 64,
   "metadata": {},
   "outputs": [
    {
     "data": {
      "text/html": [
       "<div>\n",
       "<style scoped>\n",
       "    .dataframe tbody tr th:only-of-type {\n",
       "        vertical-align: middle;\n",
       "    }\n",
       "\n",
       "    .dataframe tbody tr th {\n",
       "        vertical-align: top;\n",
       "    }\n",
       "\n",
       "    .dataframe thead th {\n",
       "        text-align: right;\n",
       "    }\n",
       "</style>\n",
       "<table border=\"1\" class=\"dataframe\">\n",
       "  <thead>\n",
       "    <tr style=\"text-align: right;\">\n",
       "      <th></th>\n",
       "      <th>size</th>\n",
       "      <th>age</th>\n",
       "      <th>team</th>\n",
       "      <th>win</th>\n",
       "      <th>date</th>\n",
       "      <th>prob</th>\n",
       "    </tr>\n",
       "  </thead>\n",
       "  <tbody>\n",
       "    <tr>\n",
       "      <th>0</th>\n",
       "      <td>small</td>\n",
       "      <td>35</td>\n",
       "      <td>red</td>\n",
       "      <td>False</td>\n",
       "      <td>2020-04-07</td>\n",
       "      <td>0.038584</td>\n",
       "    </tr>\n",
       "    <tr>\n",
       "      <th>1</th>\n",
       "      <td>small</td>\n",
       "      <td>24</td>\n",
       "      <td>yellow</td>\n",
       "      <td>False</td>\n",
       "      <td>2022-08-14</td>\n",
       "      <td>0.856441</td>\n",
       "    </tr>\n",
       "    <tr>\n",
       "      <th>2</th>\n",
       "      <td>small</td>\n",
       "      <td>29</td>\n",
       "      <td>red</td>\n",
       "      <td>True</td>\n",
       "      <td>2020-11-14</td>\n",
       "      <td>0.357914</td>\n",
       "    </tr>\n",
       "    <tr>\n",
       "      <th>3</th>\n",
       "      <td>big</td>\n",
       "      <td>42</td>\n",
       "      <td>red</td>\n",
       "      <td>True</td>\n",
       "      <td>2021-10-03</td>\n",
       "      <td>0.919859</td>\n",
       "    </tr>\n",
       "    <tr>\n",
       "      <th>4</th>\n",
       "      <td>medium</td>\n",
       "      <td>42</td>\n",
       "      <td>blue</td>\n",
       "      <td>False</td>\n",
       "      <td>2020-09-15</td>\n",
       "      <td>0.211747</td>\n",
       "    </tr>\n",
       "  </tbody>\n",
       "</table>\n",
       "</div>"
      ],
      "text/plain": [
       "     size  age    team    win       date      prob\n",
       "0   small   35     red  False 2020-04-07  0.038584\n",
       "1   small   24  yellow  False 2022-08-14  0.856441\n",
       "2   small   29     red   True 2020-11-14  0.357914\n",
       "3     big   42     red   True 2021-10-03  0.919859\n",
       "4  medium   42    blue  False 2020-09-15  0.211747"
      ]
     },
     "execution_count": 64,
     "metadata": {},
     "output_type": "execute_result"
    }
   ],
   "source": [
    "df_parque_dtypes.head()"
   ]
  },
  {
   "attachments": {},
   "cell_type": "markdown",
   "metadata": {},
   "source": [
    "### You can also only read certain columns!!!!"
   ]
  },
  {
   "cell_type": "code",
   "execution_count": 65,
   "metadata": {},
   "outputs": [
    {
     "data": {
      "text/html": [
       "<div>\n",
       "<style scoped>\n",
       "    .dataframe tbody tr th:only-of-type {\n",
       "        vertical-align: middle;\n",
       "    }\n",
       "\n",
       "    .dataframe tbody tr th {\n",
       "        vertical-align: top;\n",
       "    }\n",
       "\n",
       "    .dataframe thead th {\n",
       "        text-align: right;\n",
       "    }\n",
       "</style>\n",
       "<table border=\"1\" class=\"dataframe\">\n",
       "  <thead>\n",
       "    <tr style=\"text-align: right;\">\n",
       "      <th></th>\n",
       "      <th>date</th>\n",
       "      <th>win</th>\n",
       "    </tr>\n",
       "  </thead>\n",
       "  <tbody>\n",
       "    <tr>\n",
       "      <th>0</th>\n",
       "      <td>2022-08-30</td>\n",
       "      <td>yes</td>\n",
       "    </tr>\n",
       "    <tr>\n",
       "      <th>1</th>\n",
       "      <td>2022-09-06</td>\n",
       "      <td>yes</td>\n",
       "    </tr>\n",
       "    <tr>\n",
       "      <th>2</th>\n",
       "      <td>2022-04-14</td>\n",
       "      <td>yes</td>\n",
       "    </tr>\n",
       "    <tr>\n",
       "      <th>3</th>\n",
       "      <td>2022-08-11</td>\n",
       "      <td>yes</td>\n",
       "    </tr>\n",
       "    <tr>\n",
       "      <th>4</th>\n",
       "      <td>2020-05-23</td>\n",
       "      <td>no</td>\n",
       "    </tr>\n",
       "    <tr>\n",
       "      <th>...</th>\n",
       "      <td>...</td>\n",
       "      <td>...</td>\n",
       "    </tr>\n",
       "    <tr>\n",
       "      <th>999995</th>\n",
       "      <td>2021-09-11</td>\n",
       "      <td>no</td>\n",
       "    </tr>\n",
       "    <tr>\n",
       "      <th>999996</th>\n",
       "      <td>2020-11-30</td>\n",
       "      <td>no</td>\n",
       "    </tr>\n",
       "    <tr>\n",
       "      <th>999997</th>\n",
       "      <td>2020-03-12</td>\n",
       "      <td>yes</td>\n",
       "    </tr>\n",
       "    <tr>\n",
       "      <th>999998</th>\n",
       "      <td>2021-10-22</td>\n",
       "      <td>yes</td>\n",
       "    </tr>\n",
       "    <tr>\n",
       "      <th>999999</th>\n",
       "      <td>2021-03-29</td>\n",
       "      <td>yes</td>\n",
       "    </tr>\n",
       "  </tbody>\n",
       "</table>\n",
       "<p>1000000 rows × 2 columns</p>\n",
       "</div>"
      ],
      "text/plain": [
       "             date  win\n",
       "0      2022-08-30  yes\n",
       "1      2022-09-06  yes\n",
       "2      2022-04-14  yes\n",
       "3      2022-08-11  yes\n",
       "4      2020-05-23   no\n",
       "...           ...  ...\n",
       "999995 2021-09-11   no\n",
       "999996 2020-11-30   no\n",
       "999997 2020-03-12  yes\n",
       "999998 2021-10-22  yes\n",
       "999999 2021-03-29  yes\n",
       "\n",
       "[1000000 rows x 2 columns]"
      ]
     },
     "execution_count": 65,
     "metadata": {},
     "output_type": "execute_result"
    }
   ],
   "source": [
    "test = pd.read_parquet('test_raw.parquet', columns=['date','win'])\n",
    "test"
   ]
  },
  {
   "attachments": {},
   "cell_type": "markdown",
   "metadata": {},
   "source": [
    "## feather"
   ]
  },
  {
   "attachments": {},
   "cell_type": "markdown",
   "metadata": {},
   "source": [
    "### raw"
   ]
  },
  {
   "cell_type": "code",
   "execution_count": 66,
   "metadata": {},
   "outputs": [],
   "source": [
    "# %%timeit df_raw.to_parquet('test_raw.parquet')\n",
    "# %%timeit df_parque_raw = pd.read_parquet('test_raw.parquet')\n",
    "df_raw.to_feather('test_raw.feather')\n",
    "df_feather_raw = pd.read_feather('test_raw.feather')"
   ]
  },
  {
   "cell_type": "code",
   "execution_count": 67,
   "metadata": {},
   "outputs": [
    {
     "name": "stdout",
     "output_type": "stream",
     "text": [
      "29M -rwxrwxrwx 1 user 29M mrt  2 14:54 test_raw.feather*\n"
     ]
    }
   ],
   "source": [
    "!ls -GFlash test_raw.feather"
   ]
  },
  {
   "cell_type": "code",
   "execution_count": 68,
   "metadata": {},
   "outputs": [
    {
     "name": "stdout",
     "output_type": "stream",
     "text": [
      "<class 'pandas.core.frame.DataFrame'>\n",
      "RangeIndex: 1000000 entries, 0 to 999999\n",
      "Data columns (total 6 columns):\n",
      " #   Column  Non-Null Count    Dtype         \n",
      "---  ------  --------------    -----         \n",
      " 0   size    1000000 non-null  object        \n",
      " 1   age     1000000 non-null  int64         \n",
      " 2   team    1000000 non-null  object        \n",
      " 3   win     1000000 non-null  object        \n",
      " 4   date    1000000 non-null  datetime64[ns]\n",
      " 5   prob    1000000 non-null  float64       \n",
      "dtypes: datetime64[ns](1), float64(1), int64(1), object(3)\n",
      "memory usage: 45.8+ MB\n"
     ]
    }
   ],
   "source": [
    "df_feather_raw.info()"
   ]
  },
  {
   "cell_type": "code",
   "execution_count": 69,
   "metadata": {},
   "outputs": [
    {
     "data": {
      "text/html": [
       "<div>\n",
       "<style scoped>\n",
       "    .dataframe tbody tr th:only-of-type {\n",
       "        vertical-align: middle;\n",
       "    }\n",
       "\n",
       "    .dataframe tbody tr th {\n",
       "        vertical-align: top;\n",
       "    }\n",
       "\n",
       "    .dataframe thead th {\n",
       "        text-align: right;\n",
       "    }\n",
       "</style>\n",
       "<table border=\"1\" class=\"dataframe\">\n",
       "  <thead>\n",
       "    <tr style=\"text-align: right;\">\n",
       "      <th></th>\n",
       "      <th>size</th>\n",
       "      <th>age</th>\n",
       "      <th>team</th>\n",
       "      <th>win</th>\n",
       "      <th>date</th>\n",
       "      <th>prob</th>\n",
       "    </tr>\n",
       "  </thead>\n",
       "  <tbody>\n",
       "    <tr>\n",
       "      <th>0</th>\n",
       "      <td>medium</td>\n",
       "      <td>22</td>\n",
       "      <td>red</td>\n",
       "      <td>yes</td>\n",
       "      <td>2022-08-30</td>\n",
       "      <td>0.207074</td>\n",
       "    </tr>\n",
       "    <tr>\n",
       "      <th>1</th>\n",
       "      <td>big</td>\n",
       "      <td>2</td>\n",
       "      <td>yellow</td>\n",
       "      <td>yes</td>\n",
       "      <td>2022-09-06</td>\n",
       "      <td>0.406475</td>\n",
       "    </tr>\n",
       "    <tr>\n",
       "      <th>2</th>\n",
       "      <td>big</td>\n",
       "      <td>21</td>\n",
       "      <td>red</td>\n",
       "      <td>yes</td>\n",
       "      <td>2022-04-14</td>\n",
       "      <td>0.797266</td>\n",
       "    </tr>\n",
       "    <tr>\n",
       "      <th>3</th>\n",
       "      <td>medium</td>\n",
       "      <td>21</td>\n",
       "      <td>yellow</td>\n",
       "      <td>yes</td>\n",
       "      <td>2022-08-11</td>\n",
       "      <td>0.797641</td>\n",
       "    </tr>\n",
       "    <tr>\n",
       "      <th>4</th>\n",
       "      <td>medium</td>\n",
       "      <td>37</td>\n",
       "      <td>blue</td>\n",
       "      <td>no</td>\n",
       "      <td>2020-05-23</td>\n",
       "      <td>0.920938</td>\n",
       "    </tr>\n",
       "  </tbody>\n",
       "</table>\n",
       "</div>"
      ],
      "text/plain": [
       "     size  age    team  win       date      prob\n",
       "0  medium   22     red  yes 2022-08-30  0.207074\n",
       "1     big    2  yellow  yes 2022-09-06  0.406475\n",
       "2     big   21     red  yes 2022-04-14  0.797266\n",
       "3  medium   21  yellow  yes 2022-08-11  0.797641\n",
       "4  medium   37    blue   no 2020-05-23  0.920938"
      ]
     },
     "execution_count": 69,
     "metadata": {},
     "output_type": "execute_result"
    }
   ],
   "source": [
    "df_feather_raw.head()"
   ]
  },
  {
   "attachments": {},
   "cell_type": "markdown",
   "metadata": {},
   "source": [
    "### dtypes"
   ]
  },
  {
   "cell_type": "code",
   "execution_count": 70,
   "metadata": {},
   "outputs": [],
   "source": [
    "# %%timeit df_raw.to_parquet('test_raw.parquet')\n",
    "# %%timeit df_parque_raw = pd.read_parquet('test_raw.parquet')\n",
    "df_dtypes.to_feather('test_dtypes.feather')\n",
    "df_feather_dtypes = pd.read_feather('test_dtypes.feather')"
   ]
  },
  {
   "cell_type": "code",
   "execution_count": 71,
   "metadata": {},
   "outputs": [
    {
     "name": "stdout",
     "output_type": "stream",
     "text": [
      "15M -rwxrwxrwx 1 user 15M mrt  2 14:54 test_dtypes.feather*\n"
     ]
    }
   ],
   "source": [
    "!ls -GFlash test_dtypes.feather"
   ]
  },
  {
   "cell_type": "code",
   "execution_count": 72,
   "metadata": {},
   "outputs": [
    {
     "name": "stdout",
     "output_type": "stream",
     "text": [
      "<class 'pandas.core.frame.DataFrame'>\n",
      "RangeIndex: 1000000 entries, 0 to 999999\n",
      "Data columns (total 6 columns):\n",
      " #   Column  Non-Null Count    Dtype         \n",
      "---  ------  --------------    -----         \n",
      " 0   size    1000000 non-null  category      \n",
      " 1   age     1000000 non-null  int64         \n",
      " 2   team    1000000 non-null  category      \n",
      " 3   win     1000000 non-null  bool          \n",
      " 4   date    1000000 non-null  datetime64[ns]\n",
      " 5   prob    1000000 non-null  float64       \n",
      "dtypes: bool(1), category(2), datetime64[ns](1), float64(1), int64(1)\n",
      "memory usage: 25.7 MB\n"
     ]
    }
   ],
   "source": [
    "df_feather_dtypes.info()"
   ]
  },
  {
   "cell_type": "code",
   "execution_count": 73,
   "metadata": {},
   "outputs": [
    {
     "data": {
      "text/html": [
       "<div>\n",
       "<style scoped>\n",
       "    .dataframe tbody tr th:only-of-type {\n",
       "        vertical-align: middle;\n",
       "    }\n",
       "\n",
       "    .dataframe tbody tr th {\n",
       "        vertical-align: top;\n",
       "    }\n",
       "\n",
       "    .dataframe thead th {\n",
       "        text-align: right;\n",
       "    }\n",
       "</style>\n",
       "<table border=\"1\" class=\"dataframe\">\n",
       "  <thead>\n",
       "    <tr style=\"text-align: right;\">\n",
       "      <th></th>\n",
       "      <th>size</th>\n",
       "      <th>age</th>\n",
       "      <th>team</th>\n",
       "      <th>win</th>\n",
       "      <th>date</th>\n",
       "      <th>prob</th>\n",
       "    </tr>\n",
       "  </thead>\n",
       "  <tbody>\n",
       "    <tr>\n",
       "      <th>0</th>\n",
       "      <td>small</td>\n",
       "      <td>35</td>\n",
       "      <td>red</td>\n",
       "      <td>False</td>\n",
       "      <td>2020-04-07</td>\n",
       "      <td>0.038584</td>\n",
       "    </tr>\n",
       "    <tr>\n",
       "      <th>1</th>\n",
       "      <td>small</td>\n",
       "      <td>24</td>\n",
       "      <td>yellow</td>\n",
       "      <td>False</td>\n",
       "      <td>2022-08-14</td>\n",
       "      <td>0.856441</td>\n",
       "    </tr>\n",
       "    <tr>\n",
       "      <th>2</th>\n",
       "      <td>small</td>\n",
       "      <td>29</td>\n",
       "      <td>red</td>\n",
       "      <td>True</td>\n",
       "      <td>2020-11-14</td>\n",
       "      <td>0.357914</td>\n",
       "    </tr>\n",
       "    <tr>\n",
       "      <th>3</th>\n",
       "      <td>big</td>\n",
       "      <td>42</td>\n",
       "      <td>red</td>\n",
       "      <td>True</td>\n",
       "      <td>2021-10-03</td>\n",
       "      <td>0.919859</td>\n",
       "    </tr>\n",
       "    <tr>\n",
       "      <th>4</th>\n",
       "      <td>medium</td>\n",
       "      <td>42</td>\n",
       "      <td>blue</td>\n",
       "      <td>False</td>\n",
       "      <td>2020-09-15</td>\n",
       "      <td>0.211747</td>\n",
       "    </tr>\n",
       "  </tbody>\n",
       "</table>\n",
       "</div>"
      ],
      "text/plain": [
       "     size  age    team    win       date      prob\n",
       "0   small   35     red  False 2020-04-07  0.038584\n",
       "1   small   24  yellow  False 2022-08-14  0.856441\n",
       "2   small   29     red   True 2020-11-14  0.357914\n",
       "3     big   42     red   True 2021-10-03  0.919859\n",
       "4  medium   42    blue  False 2020-09-15  0.211747"
      ]
     },
     "execution_count": 73,
     "metadata": {},
     "output_type": "execute_result"
    }
   ],
   "source": [
    "df_feather_dtypes.head()"
   ]
  },
  {
   "attachments": {},
   "cell_type": "markdown",
   "metadata": {},
   "source": [
    "## Benchmarking"
   ]
  },
  {
   "attachments": {},
   "cell_type": "markdown",
   "metadata": {},
   "source": [
    "Parquet is the way to go!"
   ]
  },
  {
   "cell_type": "code",
   "execution_count": 18,
   "metadata": {},
   "outputs": [],
   "source": [
    "df = get_dataset(3_000_000)\n",
    "# df = get_dataset(100_000)\n",
    "df_dtypes = set_dtypes(df)"
   ]
  },
  {
   "cell_type": "code",
   "execution_count": 29,
   "metadata": {},
   "outputs": [],
   "source": [
    "benchmarks = pd.DataFrame({'filetype': ['csv','csv','pickle','pickle','parquet','parquet','feather','feather','csv','csv','pickle','pickle','parquet','parquet','feather','feather', 'pickle gz l1', 'pickle gz l1', 'pickle gz l1', 'pickle gz l1'],\n",
    "              'dtype_set': [False,False,False,False,False,False,False,False,True,True,True,True,True,True,True,True, False, True, False, True],\n",
    "              'r_w': ['w','r','w','r','w','r','w','r','w','r','w','r','w','r','w','r','w','w','r','r'],\n",
    "              'time': [26.8,2.06,0.610,0.0205,0.618,0.106,0.499,0.064,29.3,2.12,0.560,0.0206,0.597,0.102,0.475,0.0662,1.93,1.91,0.383,0.374],\n",
    "              \"size\": [164,140,78,77.2,32,77.2,45,77.2,164,140.2,78,77.2,32,77.2,45,77.2,34,34,77.2,77.2]\n",
    "              })"
   ]
  },
  {
   "cell_type": "code",
   "execution_count": 30,
   "metadata": {},
   "outputs": [
    {
     "data": {
      "text/plain": [
       "<AxesSubplot:title={'center':'processing time in seconds'}, xlabel='filetype,dtype_set,r_w'>"
      ]
     },
     "execution_count": 30,
     "metadata": {},
     "output_type": "execute_result"
    },
    {
     "data": {
      "image/png": "[encoded data removed]",
      "text/plain": [
       "<Figure size 640x480 with 1 Axes>"
      ]
     },
     "metadata": {},
     "output_type": "display_data"
    }
   ],
   "source": [
    "benchmarks.groupby(['filetype','dtype_set','r_w']).time.sum().plot.bar(title='processing time in seconds')"
   ]
  },
  {
   "cell_type": "code",
   "execution_count": 33,
   "metadata": {},
   "outputs": [
    {
     "data": {
      "text/plain": [
       "<AxesSubplot:title={'center':'processing time in seconds'}, xlabel='filetype,dtype_set,r_w'>"
      ]
     },
     "execution_count": 33,
     "metadata": {},
     "output_type": "execute_result"
    },
    {
     "data": {
      "image/png": "[encoded data removed]",
      "text/plain": [
       "<Figure size 640x480 with 1 Axes>"
      ]
     },
     "metadata": {},
     "output_type": "display_data"
    }
   ],
   "source": [
    "# benchmarks.groupby(['filetype','dtype_set','r_w']).time.sum().plot.bar()\n",
    "benchmarks.query('filetype != \"csv\"').groupby(['filetype','dtype_set','r_w']).time.sum().plot.bar(title='processing time in seconds')"
   ]
  },
  {
   "cell_type": "code",
   "execution_count": 32,
   "metadata": {},
   "outputs": [
    {
     "data": {
      "text/plain": [
       "<AxesSubplot:title={'center':'file size in MB'}, xlabel='filetype,dtype_set,r_w'>"
      ]
     },
     "execution_count": 32,
     "metadata": {},
     "output_type": "execute_result"
    },
    {
     "data": {
      "image/png": "[encoded data removed]",
      "text/plain": [
       "<Figure size 640x480 with 1 Axes>"
      ]
     },
     "metadata": {},
     "output_type": "display_data"
    }
   ],
   "source": [
    "benchmarks.groupby(['filetype','dtype_set','r_w'])[\"size\"].sum().plot.bar(title='file size in MB')"
   ]
  },
  {
   "attachments": {},
   "cell_type": "markdown",
   "metadata": {},
   "source": [
    "Parquet has the smalles file size. But pickle has the fastest loading time. Plus parquet can load individual columns. parquet sound like the way to go."
   ]
  },
  {
   "attachments": {},
   "cell_type": "markdown",
   "metadata": {},
   "source": [
    "### reading and writing"
   ]
  },
  {
   "attachments": {},
   "cell_type": "markdown",
   "metadata": {},
   "source": [
    "#### no dtypes"
   ]
  },
  {
   "cell_type": "code",
   "execution_count": 218,
   "metadata": {},
   "outputs": [
    {
     "name": "stdout",
     "output_type": "stream",
     "text": [
      "26.8 s ± 1.36 s per loop (mean ± std. dev. of 7 runs, 1 loop each)\n",
      "2.06 s ± 55.2 ms per loop (mean ± std. dev. of 7 runs, 1 loop each)\n"
     ]
    }
   ],
   "source": [
    "%timeit df.to_csv(\"test.csv\")\n",
    "%timeit df2 = pd.read_csv(\"test.csv\")\n",
    "df.to_csv(\"test.csv\")\n",
    "df2 = pd.read_csv(\"test.csv\")"
   ]
  },
  {
   "cell_type": "code",
   "execution_count": 219,
   "metadata": {},
   "outputs": [
    {
     "name": "stdout",
     "output_type": "stream",
     "text": [
      "<class 'pandas.core.frame.DataFrame'>\n",
      "RangeIndex: 3000000 entries, 0 to 2999999\n",
      "Data columns (total 7 columns):\n",
      " #   Column      Dtype  \n",
      "---  ------      -----  \n",
      " 0   Unnamed: 0  int64  \n",
      " 1   size        object \n",
      " 2   age         int64  \n",
      " 3   team        object \n",
      " 4   win         bool   \n",
      " 5   date        object \n",
      " 6   prob        float64\n",
      "dtypes: bool(1), float64(1), int64(2), object(3)\n",
      "memory usage: 140.2+ MB\n"
     ]
    }
   ],
   "source": [
    "df2.info()"
   ]
  },
  {
   "cell_type": "code",
   "execution_count": 220,
   "metadata": {},
   "outputs": [
    {
     "name": "stdout",
     "output_type": "stream",
     "text": [
      "610 ms ± 48.9 ms per loop (mean ± std. dev. of 7 runs, 1 loop each)\n",
      "20.5 ms ± 1.35 ms per loop (mean ± std. dev. of 7 runs, 10 loops each)\n"
     ]
    }
   ],
   "source": [
    "%timeit df.to_pickle(\"test.pickle\")\n",
    "%timeit df2 = pd.read_pickle(\"test.pickle\")\n",
    "df.to_pickle(\"test.pickle\")\n",
    "df2 = pd.read_pickle(\"test.pickle\")"
   ]
  },
  {
   "cell_type": "code",
   "execution_count": 221,
   "metadata": {},
   "outputs": [
    {
     "name": "stdout",
     "output_type": "stream",
     "text": [
      "<class 'pandas.core.frame.DataFrame'>\n",
      "RangeIndex: 3000000 entries, 0 to 2999999\n",
      "Data columns (total 6 columns):\n",
      " #   Column  Dtype         \n",
      "---  ------  -----         \n",
      " 0   size    category      \n",
      " 1   age     int64         \n",
      " 2   team    category      \n",
      " 3   win     bool          \n",
      " 4   date    datetime64[ns]\n",
      " 5   prob    float64       \n",
      "dtypes: bool(1), category(2), datetime64[ns](1), float64(1), int64(1)\n",
      "memory usage: 77.2 MB\n"
     ]
    }
   ],
   "source": [
    "df2.info()"
   ]
  },
  {
   "cell_type": "code",
   "execution_count": 19,
   "metadata": {},
   "outputs": [
    {
     "name": "stdout",
     "output_type": "stream",
     "text": [
      "1.93 s ± 33.1 ms per loop (mean ± std. dev. of 7 runs, 1 loop each)\n",
      "383 ms ± 14.6 ms per loop (mean ± std. dev. of 7 runs, 1 loop each)\n"
     ]
    }
   ],
   "source": [
    "%timeit df.to_pickle(\"test.pickle.gz\", compression={'method': 'gzip', 'compresslevel': 1, 'mtime': 1})\n",
    "%timeit df2 = pd.read_pickle(\"test.pickle.gz\")\n",
    "df.to_pickle(\"test.pickle.gz\", compression={'method': 'gzip', 'compresslevel': 1, 'mtime': 1})\n",
    "df2 = pd.read_pickle(\"test.pickle.gz\")"
   ]
  },
  {
   "cell_type": "code",
   "execution_count": 13,
   "metadata": {},
   "outputs": [
    {
     "name": "stdout",
     "output_type": "stream",
     "text": [
      "<class 'pandas.core.frame.DataFrame'>\n",
      "RangeIndex: 3000000 entries, 0 to 2999999\n",
      "Data columns (total 6 columns):\n",
      " #   Column  Dtype         \n",
      "---  ------  -----         \n",
      " 0   size    category      \n",
      " 1   age     int64         \n",
      " 2   team    category      \n",
      " 3   win     bool          \n",
      " 4   date    datetime64[ns]\n",
      " 5   prob    float64       \n",
      "dtypes: bool(1), category(2), datetime64[ns](1), float64(1), int64(1)\n",
      "memory usage: 77.2 MB\n"
     ]
    }
   ],
   "source": [
    "df2.info()"
   ]
  },
  {
   "cell_type": "code",
   "execution_count": 236,
   "metadata": {},
   "outputs": [
    {
     "name": "stdout",
     "output_type": "stream",
     "text": [
      "618 ms ± 14.3 ms per loop (mean ± std. dev. of 7 runs, 1 loop each)\n",
      "106 ms ± 4.13 ms per loop (mean ± std. dev. of 7 runs, 10 loops each)\n"
     ]
    }
   ],
   "source": [
    "%timeit df.to_parquet(\"test.parquet\")\n",
    "%timeit df2 = pd.read_parquet(\"test.parquet\")\n",
    "df.to_parquet(\"test.parquet\")\n",
    "df2 = pd.read_parquet(\"test.parquet\")"
   ]
  },
  {
   "cell_type": "code",
   "execution_count": 223,
   "metadata": {},
   "outputs": [
    {
     "name": "stdout",
     "output_type": "stream",
     "text": [
      "<class 'pandas.core.frame.DataFrame'>\n",
      "RangeIndex: 3000000 entries, 0 to 2999999\n",
      "Data columns (total 6 columns):\n",
      " #   Column  Dtype         \n",
      "---  ------  -----         \n",
      " 0   size    category      \n",
      " 1   age     int64         \n",
      " 2   team    category      \n",
      " 3   win     bool          \n",
      " 4   date    datetime64[ns]\n",
      " 5   prob    float64       \n",
      "dtypes: bool(1), category(2), datetime64[ns](1), float64(1), int64(1)\n",
      "memory usage: 77.2 MB\n"
     ]
    }
   ],
   "source": [
    "df2.info()"
   ]
  },
  {
   "cell_type": "code",
   "execution_count": 224,
   "metadata": {},
   "outputs": [
    {
     "name": "stdout",
     "output_type": "stream",
     "text": [
      "499 ms ± 58.5 ms per loop (mean ± std. dev. of 7 runs, 1 loop each)\n",
      "64.3 ms ± 1.09 ms per loop (mean ± std. dev. of 7 runs, 10 loops each)\n"
     ]
    }
   ],
   "source": [
    "%timeit df.to_feather(\"test.feather\")\n",
    "%timeit df2 = pd.read_feather(\"test.feather\")\n",
    "df.to_feather(\"test.feather\")\n",
    "df2 = pd.read_feather(\"test.feather\")"
   ]
  },
  {
   "cell_type": "code",
   "execution_count": 225,
   "metadata": {},
   "outputs": [
    {
     "name": "stdout",
     "output_type": "stream",
     "text": [
      "<class 'pandas.core.frame.DataFrame'>\n",
      "RangeIndex: 3000000 entries, 0 to 2999999\n",
      "Data columns (total 6 columns):\n",
      " #   Column  Dtype         \n",
      "---  ------  -----         \n",
      " 0   size    category      \n",
      " 1   age     int64         \n",
      " 2   team    category      \n",
      " 3   win     bool          \n",
      " 4   date    datetime64[ns]\n",
      " 5   prob    float64       \n",
      "dtypes: bool(1), category(2), datetime64[ns](1), float64(1), int64(1)\n",
      "memory usage: 77.2 MB\n"
     ]
    }
   ],
   "source": [
    "df2.info()"
   ]
  },
  {
   "attachments": {},
   "cell_type": "markdown",
   "metadata": {},
   "source": [
    "#### dtypes"
   ]
  },
  {
   "cell_type": "code",
   "execution_count": 226,
   "metadata": {},
   "outputs": [
    {
     "name": "stdout",
     "output_type": "stream",
     "text": [
      "29.3 s ± 2.39 s per loop (mean ± std. dev. of 7 runs, 1 loop each)\n",
      "2.13 s ± 50 ms per loop (mean ± std. dev. of 7 runs, 1 loop each)\n"
     ]
    }
   ],
   "source": [
    "%timeit df_dtypes.to_csv(\"test_dt.csv\")\n",
    "%timeit df_dtypes2 = pd.read_csv(\"test_dt.csv\")\n",
    "df_dtypes.to_csv(\"test_dt.csv\")\n",
    "df_dtypes2 = pd.read_csv(\"test_dt.csv\")"
   ]
  },
  {
   "cell_type": "code",
   "execution_count": 227,
   "metadata": {},
   "outputs": [
    {
     "name": "stdout",
     "output_type": "stream",
     "text": [
      "<class 'pandas.core.frame.DataFrame'>\n",
      "RangeIndex: 3000000 entries, 0 to 2999999\n",
      "Data columns (total 7 columns):\n",
      " #   Column      Dtype  \n",
      "---  ------      -----  \n",
      " 0   Unnamed: 0  int64  \n",
      " 1   size        object \n",
      " 2   age         int64  \n",
      " 3   team        object \n",
      " 4   win         bool   \n",
      " 5   date        object \n",
      " 6   prob        float64\n",
      "dtypes: bool(1), float64(1), int64(2), object(3)\n",
      "memory usage: 140.2+ MB\n"
     ]
    }
   ],
   "source": [
    "df_dtypes2.info()"
   ]
  },
  {
   "cell_type": "code",
   "execution_count": 228,
   "metadata": {},
   "outputs": [
    {
     "name": "stdout",
     "output_type": "stream",
     "text": [
      "560 ms ± 14.5 ms per loop (mean ± std. dev. of 7 runs, 1 loop each)\n",
      "20.6 ms ± 232 µs per loop (mean ± std. dev. of 7 runs, 10 loops each)\n"
     ]
    }
   ],
   "source": [
    "%timeit df_dtypes.to_pickle(\"test_dt.pickle\")\n",
    "%timeit df_dtypes2 = pd.read_pickle(\"test_dt.pickle\")\n",
    "df_dtypes.to_pickle(\"test_dt.pickle\")\n",
    "df_dtypes2 = pd.read_pickle(\"test_dt.pickle\")"
   ]
  },
  {
   "cell_type": "code",
   "execution_count": 229,
   "metadata": {},
   "outputs": [
    {
     "name": "stdout",
     "output_type": "stream",
     "text": [
      "<class 'pandas.core.frame.DataFrame'>\n",
      "RangeIndex: 3000000 entries, 0 to 2999999\n",
      "Data columns (total 6 columns):\n",
      " #   Column  Dtype         \n",
      "---  ------  -----         \n",
      " 0   size    category      \n",
      " 1   age     int64         \n",
      " 2   team    category      \n",
      " 3   win     bool          \n",
      " 4   date    datetime64[ns]\n",
      " 5   prob    float64       \n",
      "dtypes: bool(1), category(2), datetime64[ns](1), float64(1), int64(1)\n",
      "memory usage: 77.2 MB\n"
     ]
    }
   ],
   "source": [
    "df_dtypes2.info()"
   ]
  },
  {
   "cell_type": "code",
   "execution_count": 27,
   "metadata": {},
   "outputs": [
    {
     "name": "stdout",
     "output_type": "stream",
     "text": [
      "1.98 s ± 44.4 ms per loop (mean ± std. dev. of 7 runs, 1 loop each)\n",
      "390 ms ± 17 ms per loop (mean ± std. dev. of 7 runs, 1 loop each)\n"
     ]
    }
   ],
   "source": [
    "%timeit df_dtypes.to_pickle(\"test_dt.pickle.gz\", compression={'method': 'gzip', 'compresslevel': 1, 'mtime': 1})\n",
    "%timeit df_dtypes2 = pd.read_pickle(\"test_dt.pickle.gz\")\n",
    "df_dtypes.to_pickle(\"test_dt.pickle.gz\", compression={'method': 'gzip', 'compresslevel': 1, 'mtime': 1})\n",
    "df_dtypes2 = pd.read_pickle(\"test_dt.pickle.gz\")"
   ]
  },
  {
   "cell_type": "code",
   "execution_count": 28,
   "metadata": {},
   "outputs": [
    {
     "name": "stdout",
     "output_type": "stream",
     "text": [
      "<class 'pandas.core.frame.DataFrame'>\n",
      "RangeIndex: 3000000 entries, 0 to 2999999\n",
      "Data columns (total 6 columns):\n",
      " #   Column  Dtype         \n",
      "---  ------  -----         \n",
      " 0   size    category      \n",
      " 1   age     int64         \n",
      " 2   team    category      \n",
      " 3   win     bool          \n",
      " 4   date    datetime64[ns]\n",
      " 5   prob    float64       \n",
      "dtypes: bool(1), category(2), datetime64[ns](1), float64(1), int64(1)\n",
      "memory usage: 77.2 MB\n"
     ]
    }
   ],
   "source": [
    "df_dtypes2.info()"
   ]
  },
  {
   "cell_type": "code",
   "execution_count": 230,
   "metadata": {},
   "outputs": [
    {
     "name": "stdout",
     "output_type": "stream",
     "text": [
      "597 ms ± 17.3 ms per loop (mean ± std. dev. of 7 runs, 1 loop each)\n",
      "102 ms ± 3.75 ms per loop (mean ± std. dev. of 7 runs, 10 loops each)\n"
     ]
    }
   ],
   "source": [
    "%timeit df_dtypes.to_parquet(\"test_dt.parquet\")\n",
    "%timeit df_dtypes2 = pd.read_parquet(\"test_dt.parquet\")\n",
    "df_dtypes.to_parquet(\"test_dt.parquet\")\n",
    "df_dtypes2 = pd.read_parquet(\"test_dt.parquet\")"
   ]
  },
  {
   "cell_type": "code",
   "execution_count": 231,
   "metadata": {},
   "outputs": [
    {
     "name": "stdout",
     "output_type": "stream",
     "text": [
      "<class 'pandas.core.frame.DataFrame'>\n",
      "RangeIndex: 3000000 entries, 0 to 2999999\n",
      "Data columns (total 6 columns):\n",
      " #   Column  Dtype         \n",
      "---  ------  -----         \n",
      " 0   size    category      \n",
      " 1   age     int64         \n",
      " 2   team    category      \n",
      " 3   win     bool          \n",
      " 4   date    datetime64[ns]\n",
      " 5   prob    float64       \n",
      "dtypes: bool(1), category(2), datetime64[ns](1), float64(1), int64(1)\n",
      "memory usage: 77.2 MB\n"
     ]
    }
   ],
   "source": [
    "df_dtypes2.info()"
   ]
  },
  {
   "cell_type": "code",
   "execution_count": 232,
   "metadata": {},
   "outputs": [
    {
     "name": "stdout",
     "output_type": "stream",
     "text": [
      "475 ms ± 6.2 ms per loop (mean ± std. dev. of 7 runs, 1 loop each)\n",
      "66.2 ms ± 5.67 ms per loop (mean ± std. dev. of 7 runs, 10 loops each)\n"
     ]
    }
   ],
   "source": [
    "%timeit df_dtypes.to_feather(\"test_dt.feather\")\n",
    "%timeit df_dtypes2 = pd.read_feather(\"test_dt.feather\")\n",
    "df_dtypes.to_feather(\"test_dt.feather\")\n",
    "df_dtypes2 = pd.read_feather(\"test_dt.feather\")"
   ]
  },
  {
   "cell_type": "code",
   "execution_count": 233,
   "metadata": {},
   "outputs": [
    {
     "name": "stdout",
     "output_type": "stream",
     "text": [
      "<class 'pandas.core.frame.DataFrame'>\n",
      "RangeIndex: 3000000 entries, 0 to 2999999\n",
      "Data columns (total 6 columns):\n",
      " #   Column  Dtype         \n",
      "---  ------  -----         \n",
      " 0   size    category      \n",
      " 1   age     int64         \n",
      " 2   team    category      \n",
      " 3   win     bool          \n",
      " 4   date    datetime64[ns]\n",
      " 5   prob    float64       \n",
      "dtypes: bool(1), category(2), datetime64[ns](1), float64(1), int64(1)\n",
      "memory usage: 77.2 MB\n"
     ]
    }
   ],
   "source": [
    "df_dtypes2.info()"
   ]
  },
  {
   "attachments": {},
   "cell_type": "markdown",
   "metadata": {},
   "source": [
    "### memory sizes"
   ]
  },
  {
   "cell_type": "code",
   "execution_count": 21,
   "metadata": {},
   "outputs": [
    {
     "name": "stdout",
     "output_type": "stream",
     "text": [
      "164M -rwxrwxrwx 1 user 164M mrt  2 15:48 test.csv*\n",
      " 45M -rwxrwxrwx 1 user  45M mrt  2 15:49 test.feather*\n",
      " 32M -rwxrwxrwx 1 user  32M mrt  2 16:09 test.parquet*\n",
      " 78M -rwxrwxrwx 1 user  78M mrt  2 15:48 test.pickle*\n",
      " 34M -rwxrwxrwx 1 user  34M mrt  3 12:44 test.pickle.gz*\n"
     ]
    }
   ],
   "source": [
    "!ls -GFlash test.csv test.pickle test.pickle.gz test.parquet test.feather"
   ]
  },
  {
   "cell_type": "code",
   "execution_count": 22,
   "metadata": {},
   "outputs": [
    {
     "name": "stdout",
     "output_type": "stream",
     "text": [
      "164M -rwxrwxrwx 1 user 164M mrt  2 15:53 test_dt.csv*\n",
      " 45M -rwxrwxrwx 1 user  45M mrt  2 15:54 test_dt.feather*\n",
      " 32M -rwxrwxrwx 1 user  32M mrt  2 15:54 test_dt.parquet*\n",
      " 78M -rwxrwxrwx 1 user  78M mrt  2 15:53 test_dt.pickle*\n",
      " 34M -rwxrwxrwx 1 user  34M mrt  3 12:47 test_dt.pickle.gz*\n"
     ]
    }
   ],
   "source": [
    "!ls -GFlash test_dt.csv test_dt.pickle test_dt.pickle.gz test_dt.parquet test_dt.feather"
   ]
  }
 ],
 "metadata": {
  "kernelspec": {
   "display_name": "ML",
   "language": "python",
   "name": "python3"
  },
  "language_info": {
   "codemirror_mode": {
    "name": "ipython",
    "version": 3
   },
   "file_extension": ".py",
   "mimetype": "text/x-python",
   "name": "python",
   "nbconvert_exporter": "python",
   "pygments_lexer": "ipython3",
   "version": "3.10.6"
  },
  "orig_nbformat": 4,
  "vscode": {
   "interpreter": {
    "hash": "c39b4c85bc2d9a02d0946a1a847d4c6ff09d2707df1e17d9736f60b3fc78dc0f"
   }
  }
 },
 "nbformat": 4,
 "nbformat_minor": 2
}

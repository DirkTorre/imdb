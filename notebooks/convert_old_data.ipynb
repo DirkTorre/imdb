{
 "cells": [
  {
   "cell_type": "code",
   "execution_count": 1,
   "metadata": {},
   "outputs": [],
   "source": [
    "import pandas as pd"
   ]
  },
  {
   "cell_type": "code",
   "execution_count": 18,
   "metadata": {},
   "outputs": [],
   "source": [
    "path = \"/media/user/files/code/imdb/data/sheets/films_reading.xlsx\"\n",
    "data = pd.read_excel(path)\n",
    "data = data[[\"tconst\",\"watched\",\"priority\",\"netflix\",\"prime\"]]\n",
    "data[[\"watched\",\"priority\",\"netflix\",\"prime\"]] = data[[\"watched\",\"priority\",\"netflix\",\"prime\"]].astype(pd.Int64Dtype())\n",
    "data = data.sort_values(\"tconst\").reset_index(drop=True)\n",
    "data.to_csv(\"status.csv\", index=False)"
   ]
  },
  {
   "cell_type": "code",
   "execution_count": 45,
   "metadata": {},
   "outputs": [
    {
     "data": {
      "application/vnd.microsoft.datawrangler.viewer.v0+json": {
       "columns": [
        {
         "name": "index",
         "rawType": "int64",
         "type": "integer"
        },
        {
         "name": "tconst",
         "rawType": "object",
         "type": "string"
        },
        {
         "name": "date",
         "rawType": "datetime64[ns]",
         "type": "datetime"
        },
        {
         "name": "enjoyment_score",
         "rawType": "float64",
         "type": "float"
        },
        {
         "name": "quality_score",
         "rawType": "object",
         "type": "unknown"
        }
       ],
       "conversionMethod": "pd.DataFrame",
       "ref": "8d242771-e839-4ff4-9af5-23729eac42b5",
       "rows": [
        [
         "0",
         "tt0108052",
         null,
         null,
         null
        ],
        [
         "1",
         "tt0103064",
         null,
         null,
         null
        ],
        [
         "2",
         "tt0245429",
         null,
         null,
         null
        ],
        [
         "3",
         "tt0114814",
         null,
         null,
         null
        ],
        [
         "4",
         "tt0120586",
         null,
         null,
         null
        ],
        [
         "5",
         "tt0172495",
         null,
         null,
         null
        ],
        [
         "6",
         "tt0047396",
         null,
         null,
         null
        ],
        [
         "7",
         "tt0034583",
         null,
         null,
         null
        ],
        [
         "8",
         "tt2582802",
         null,
         null,
         null
        ],
        [
         "9",
         "tt0078748",
         null,
         null,
         null
        ],
        [
         "10",
         "tt4633694",
         null,
         null,
         null
        ],
        [
         "11",
         "tt0057565",
         null,
         null,
         null
        ],
        [
         "12",
         "tt0090605",
         null,
         null,
         null
        ],
        [
         "13",
         "tt0050825",
         null,
         null,
         null
        ],
        [
         "14",
         "tt8267604",
         null,
         null,
         null
        ],
        [
         "15",
         "tt0405094",
         null,
         null,
         null
        ],
        [
         "16",
         "tt14230458",
         null,
         null,
         null
        ],
        [
         "17",
         "tt0051201",
         null,
         null,
         null
        ],
        [
         "18",
         "tt1187043",
         null,
         null,
         null
        ],
        [
         "19",
         "tt0091251",
         null,
         null,
         null
        ],
        [
         "20",
         "tt0211915",
         null,
         null,
         null
        ],
        [
         "21",
         "tt0056172",
         null,
         null,
         null
        ],
        [
         "22",
         "tt23289160",
         null,
         null,
         null
        ],
        [
         "23",
         "tt0033467",
         null,
         null,
         null
        ],
        [
         "24",
         "tt0040522",
         null,
         null,
         null
        ],
        [
         "25",
         "tt0180093",
         null,
         null,
         null
        ],
        [
         "26",
         "tt0056592",
         null,
         null,
         null
        ],
        [
         "27",
         "tt18335752",
         null,
         null,
         null
        ],
        [
         "28",
         "tt0055031",
         null,
         null,
         null
        ],
        [
         "29",
         "tt0053604",
         null,
         null,
         null
        ],
        [
         "30",
         "tt0044741",
         null,
         null,
         null
        ],
        [
         "31",
         "tt0053125",
         null,
         null,
         null
        ],
        [
         "32",
         "tt0070735",
         null,
         null,
         null
        ],
        [
         "33",
         "tt0457430",
         null,
         null,
         null
        ],
        [
         "34",
         "tt0477348",
         null,
         null,
         null
        ],
        [
         "35",
         "tt0434409",
         null,
         null,
         null
        ],
        [
         "36",
         "tt0476735",
         null,
         null,
         null
        ],
        [
         "37",
         "tt0167404",
         null,
         null,
         null
        ],
        [
         "38",
         "tt0071411",
         null,
         null,
         null
        ],
        [
         "39",
         "tt10872600",
         null,
         null,
         null
        ],
        [
         "40",
         "tt7189380",
         null,
         null,
         null
        ],
        [
         "41",
         "tt0015324",
         null,
         null,
         null
        ],
        [
         "42",
         "tt23329452",
         null,
         null,
         null
        ],
        [
         "43",
         "tt0363163",
         null,
         null,
         null
        ],
        [
         "44",
         "tt0031381",
         null,
         null,
         null
        ],
        [
         "45",
         "tt0120382",
         null,
         null,
         null
        ],
        [
         "46",
         "tt0042876",
         null,
         null,
         null
        ],
        [
         "47",
         "tt0046268",
         null,
         null,
         null
        ],
        [
         "48",
         "tt0046912",
         null,
         null,
         null
        ],
        [
         "49",
         "tt0053291",
         null,
         null,
         null
        ]
       ],
       "shape": {
        "columns": 4,
        "rows": 969
       }
      },
      "text/html": [
       "<div>\n",
       "<style scoped>\n",
       "    .dataframe tbody tr th:only-of-type {\n",
       "        vertical-align: middle;\n",
       "    }\n",
       "\n",
       "    .dataframe tbody tr th {\n",
       "        vertical-align: top;\n",
       "    }\n",
       "\n",
       "    .dataframe thead th {\n",
       "        text-align: right;\n",
       "    }\n",
       "</style>\n",
       "<table border=\"1\" class=\"dataframe\">\n",
       "  <thead>\n",
       "    <tr style=\"text-align: right;\">\n",
       "      <th></th>\n",
       "      <th>tconst</th>\n",
       "      <th>date</th>\n",
       "      <th>enjoyment_score</th>\n",
       "      <th>quality_score</th>\n",
       "    </tr>\n",
       "  </thead>\n",
       "  <tbody>\n",
       "    <tr>\n",
       "      <th>0</th>\n",
       "      <td>tt0108052</td>\n",
       "      <td>NaT</td>\n",
       "      <td>NaN</td>\n",
       "      <td>NaN</td>\n",
       "    </tr>\n",
       "    <tr>\n",
       "      <th>1</th>\n",
       "      <td>tt0103064</td>\n",
       "      <td>NaT</td>\n",
       "      <td>NaN</td>\n",
       "      <td>NaN</td>\n",
       "    </tr>\n",
       "    <tr>\n",
       "      <th>2</th>\n",
       "      <td>tt0245429</td>\n",
       "      <td>NaT</td>\n",
       "      <td>NaN</td>\n",
       "      <td>NaN</td>\n",
       "    </tr>\n",
       "    <tr>\n",
       "      <th>3</th>\n",
       "      <td>tt0114814</td>\n",
       "      <td>NaT</td>\n",
       "      <td>NaN</td>\n",
       "      <td>NaN</td>\n",
       "    </tr>\n",
       "    <tr>\n",
       "      <th>4</th>\n",
       "      <td>tt0120586</td>\n",
       "      <td>NaT</td>\n",
       "      <td>NaN</td>\n",
       "      <td>NaN</td>\n",
       "    </tr>\n",
       "    <tr>\n",
       "      <th>...</th>\n",
       "      <td>...</td>\n",
       "      <td>...</td>\n",
       "      <td>...</td>\n",
       "      <td>...</td>\n",
       "    </tr>\n",
       "    <tr>\n",
       "      <th>964</th>\n",
       "      <td>tt0255798</td>\n",
       "      <td>NaT</td>\n",
       "      <td>NaN</td>\n",
       "      <td>NaN</td>\n",
       "    </tr>\n",
       "    <tr>\n",
       "      <th>965</th>\n",
       "      <td>tt0240515</td>\n",
       "      <td>NaT</td>\n",
       "      <td>NaN</td>\n",
       "      <td>NaN</td>\n",
       "    </tr>\n",
       "    <tr>\n",
       "      <th>966</th>\n",
       "      <td>tt0329774</td>\n",
       "      <td>NaT</td>\n",
       "      <td>NaN</td>\n",
       "      <td>NaN</td>\n",
       "    </tr>\n",
       "    <tr>\n",
       "      <th>967</th>\n",
       "      <td>tt0368226</td>\n",
       "      <td>NaT</td>\n",
       "      <td>NaN</td>\n",
       "      <td>NaN</td>\n",
       "    </tr>\n",
       "    <tr>\n",
       "      <th>968</th>\n",
       "      <td>tt0327554</td>\n",
       "      <td>NaT</td>\n",
       "      <td>NaN</td>\n",
       "      <td>NaN</td>\n",
       "    </tr>\n",
       "  </tbody>\n",
       "</table>\n",
       "<p>969 rows × 4 columns</p>\n",
       "</div>"
      ],
      "text/plain": [
       "        tconst date  enjoyment_score quality_score\n",
       "0    tt0108052  NaT              NaN           NaN\n",
       "1    tt0103064  NaT              NaN           NaN\n",
       "2    tt0245429  NaT              NaN           NaN\n",
       "3    tt0114814  NaT              NaN           NaN\n",
       "4    tt0120586  NaT              NaN           NaN\n",
       "..         ...  ...              ...           ...\n",
       "964  tt0255798  NaT              NaN           NaN\n",
       "965  tt0240515  NaT              NaN           NaN\n",
       "966  tt0329774  NaT              NaN           NaN\n",
       "967  tt0368226  NaT              NaN           NaN\n",
       "968  tt0327554  NaT              NaN           NaN\n",
       "\n",
       "[969 rows x 4 columns]"
      ]
     },
     "execution_count": 45,
     "metadata": {},
     "output_type": "execute_result"
    }
   ],
   "source": [
    "path = \"/media/user/files/code/imdb/data/sheets/films_reading.xlsx\"\n",
    "data = pd.read_excel(path)\n",
    "data = data[[\"tconst\", \"watched_date\", \"enjoyment\"]].rename(columns={\"watched_date\": \"date\", \"enjoyment\": \"enjoyment_score\"})\n",
    "data[\"quality_score\"] = pd.Series()\n",
    "data"
   ]
  },
  {
   "cell_type": "code",
   "execution_count": 46,
   "metadata": {},
   "outputs": [
    {
     "data": {
      "application/vnd.microsoft.datawrangler.viewer.v0+json": {
       "columns": [
        {
         "name": "index",
         "rawType": "int64",
         "type": "integer"
        },
        {
         "name": "tconst",
         "rawType": "object",
         "type": "string"
        },
        {
         "name": "date",
         "rawType": "datetime64[ns]",
         "type": "datetime"
        },
        {
         "name": "enjoyment_score",
         "rawType": "float64",
         "type": "float"
        },
        {
         "name": "quality_score",
         "rawType": "object",
         "type": "unknown"
        }
       ],
       "conversionMethod": "pd.DataFrame",
       "ref": "aaa31cb3-dbab-4582-bde4-51123dae85cb",
       "rows": [
        [
         "409",
         "tt0160009",
         "2024-01-09 00:00:00",
         "1.5",
         null
        ],
        [
         "410",
         "tt1340138",
         "2024-01-08 00:00:00",
         "0.0",
         null
        ],
        [
         "411",
         "tt6718170",
         "2024-01-01 00:00:00",
         "2.0",
         null
        ],
        [
         "412",
         "tt12261776",
         "2023-12-31 00:00:00",
         "2.0",
         null
        ],
        [
         "413",
         "tt19883634",
         "2023-12-27 00:00:00",
         "1.0",
         null
        ],
        [
         "414",
         "tt8337264",
         "2023-12-26 00:00:00",
         "2.0",
         null
        ],
        [
         "415",
         "tt0119698",
         "2023-12-26 00:00:00",
         "3.5",
         null
        ],
        [
         "416",
         "tt13651794",
         "2023-12-12 00:00:00",
         "0.0",
         null
        ],
        [
         "417",
         "tt13238346",
         "2023-12-12 00:00:00",
         "3.0",
         null
        ],
        [
         "418",
         "tt21113540",
         "2023-12-09 00:00:00",
         "3.0",
         null
        ],
        [
         "419",
         "tt10640346",
         "2023-12-09 00:00:00",
         "3.0",
         null
        ],
        [
         "420",
         "tt0057012",
         "2023-12-02 00:00:00",
         "4.0",
         null
        ],
        [
         "421",
         "tt13287846",
         "2023-11-26 00:00:00",
         "3.0",
         null
        ],
        [
         "422",
         "tt0800325",
         "2023-11-12 00:00:00",
         "2.5",
         null
        ],
        [
         "423",
         "tt14781036",
         "2023-11-05 00:00:00",
         "3.0",
         null
        ],
        [
         "424",
         "tt0862467",
         "2023-11-02 00:00:00",
         "3.0",
         null
        ],
        [
         "425",
         "tt5537002",
         "2023-10-27 00:00:00",
         "4.0",
         null
        ],
        [
         "426",
         "tt13110998",
         "2023-10-25 00:00:00",
         "3.0",
         null
        ],
        [
         "427",
         "tt8019518",
         "2023-10-20 00:00:00",
         "2.0",
         null
        ],
        [
         "428",
         "tt3228774",
         "2023-10-14 00:00:00",
         "3.0",
         null
        ],
        [
         "429",
         "tt0887883",
         "2023-10-13 00:00:00",
         "3.5",
         null
        ],
        [
         "430",
         "tt11858890",
         "2023-10-07 00:00:00",
         "3.0",
         null
        ],
        [
         "431",
         "tt1034314",
         "2023-10-06 00:00:00",
         "2.5",
         null
        ],
        [
         "432",
         "tt0339291",
         "2023-09-30 00:00:00",
         "2.0",
         null
        ],
        [
         "433",
         "tt1517268",
         "2023-09-26 00:00:00",
         "3.0",
         null
        ],
        [
         "434",
         "tt1912398",
         "2023-09-23 00:00:00",
         "2.5",
         null
        ],
        [
         "435",
         "tt22687790",
         "2023-09-17 00:00:00",
         "2.0",
         null
        ],
        [
         "436",
         "tt9335794",
         "2023-09-15 00:00:00",
         "4.0",
         null
        ],
        [
         "437",
         "tt17024450",
         "2023-09-10 00:00:00",
         "3.0",
         null
        ],
        [
         "438",
         "tt9603212",
         "2023-09-05 00:00:00",
         "2.0",
         null
        ],
        [
         "439",
         "tt10638522",
         "2023-08-27 00:00:00",
         "3.0",
         null
        ],
        [
         "440",
         "tt20465746",
         "2023-08-14 00:00:00",
         "2.0",
         null
        ],
        [
         "441",
         "tt17309864",
         "2023-07-30 00:00:00",
         "2.0",
         null
        ],
        [
         "442",
         "tt0120669",
         "2023-07-26 00:00:00",
         "4.0",
         null
        ],
        [
         "443",
         "tt0075314",
         "2023-07-25 00:00:00",
         "4.0",
         null
        ],
        [
         "444",
         "tt15398776",
         "2023-07-23 00:00:00",
         "3.5",
         null
        ],
        [
         "445",
         "tt1462764",
         "2023-07-15 00:00:00",
         "2.5",
         null
        ],
        [
         "446",
         "tt0105236",
         "2023-07-09 00:00:00",
         "3.0",
         null
        ],
        [
         "447",
         "tt14230388",
         "2023-07-09 00:00:00",
         "3.0",
         null
        ],
        [
         "448",
         "tt3427252",
         "2023-07-05 00:00:00",
         "2.0",
         null
        ],
        [
         "449",
         "tt19719904",
         "2023-06-20 00:00:00",
         "2.5",
         null
        ],
        [
         "450",
         "tt8649344",
         "2023-06-10 00:00:00",
         "3.0",
         null
        ],
        [
         "451",
         "tt9362722",
         "2023-06-02 00:00:00",
         "4.0",
         null
        ],
        [
         "452",
         "tt0022100",
         "2023-05-31 00:00:00",
         "3.0",
         null
        ],
        [
         "453",
         "tt13521006",
         "2023-05-23 00:00:00",
         "4.0",
         null
        ],
        [
         "454",
         "tt0117951",
         "2023-05-20 00:00:00",
         "2.5",
         null
        ],
        [
         "455",
         "tt15452062",
         "2023-05-06 00:00:00",
         "2.0",
         null
        ],
        [
         "456",
         "tt16419074",
         "2023-04-28 00:00:00",
         "3.0",
         null
        ],
        [
         "457",
         "tt10366206",
         "2023-04-24 00:00:00",
         "3.0",
         null
        ],
        [
         "458",
         "tt6146586",
         "2023-04-17 00:00:00",
         "3.0",
         null
        ]
       ],
       "shape": {
        "columns": 4,
        "rows": 89
       }
      },
      "text/html": [
       "<div>\n",
       "<style scoped>\n",
       "    .dataframe tbody tr th:only-of-type {\n",
       "        vertical-align: middle;\n",
       "    }\n",
       "\n",
       "    .dataframe tbody tr th {\n",
       "        vertical-align: top;\n",
       "    }\n",
       "\n",
       "    .dataframe thead th {\n",
       "        text-align: right;\n",
       "    }\n",
       "</style>\n",
       "<table border=\"1\" class=\"dataframe\">\n",
       "  <thead>\n",
       "    <tr style=\"text-align: right;\">\n",
       "      <th></th>\n",
       "      <th>tconst</th>\n",
       "      <th>date</th>\n",
       "      <th>enjoyment_score</th>\n",
       "      <th>quality_score</th>\n",
       "    </tr>\n",
       "  </thead>\n",
       "  <tbody>\n",
       "    <tr>\n",
       "      <th>409</th>\n",
       "      <td>tt0160009</td>\n",
       "      <td>2024-01-09</td>\n",
       "      <td>1.5</td>\n",
       "      <td>NaN</td>\n",
       "    </tr>\n",
       "    <tr>\n",
       "      <th>410</th>\n",
       "      <td>tt1340138</td>\n",
       "      <td>2024-01-08</td>\n",
       "      <td>0.0</td>\n",
       "      <td>NaN</td>\n",
       "    </tr>\n",
       "    <tr>\n",
       "      <th>411</th>\n",
       "      <td>tt6718170</td>\n",
       "      <td>2024-01-01</td>\n",
       "      <td>2.0</td>\n",
       "      <td>NaN</td>\n",
       "    </tr>\n",
       "    <tr>\n",
       "      <th>412</th>\n",
       "      <td>tt12261776</td>\n",
       "      <td>2023-12-31</td>\n",
       "      <td>2.0</td>\n",
       "      <td>NaN</td>\n",
       "    </tr>\n",
       "    <tr>\n",
       "      <th>413</th>\n",
       "      <td>tt19883634</td>\n",
       "      <td>2023-12-27</td>\n",
       "      <td>1.0</td>\n",
       "      <td>NaN</td>\n",
       "    </tr>\n",
       "    <tr>\n",
       "      <th>...</th>\n",
       "      <td>...</td>\n",
       "      <td>...</td>\n",
       "      <td>...</td>\n",
       "      <td>...</td>\n",
       "    </tr>\n",
       "    <tr>\n",
       "      <th>493</th>\n",
       "      <td>tt11214590</td>\n",
       "      <td>2021-12-15</td>\n",
       "      <td>3.0</td>\n",
       "      <td>NaN</td>\n",
       "    </tr>\n",
       "    <tr>\n",
       "      <th>494</th>\n",
       "      <td>tt8847712</td>\n",
       "      <td>2021-12-03</td>\n",
       "      <td>NaN</td>\n",
       "      <td>NaN</td>\n",
       "    </tr>\n",
       "    <tr>\n",
       "      <th>495</th>\n",
       "      <td>tt11003218</td>\n",
       "      <td>2021-11-25</td>\n",
       "      <td>3.0</td>\n",
       "      <td>NaN</td>\n",
       "    </tr>\n",
       "    <tr>\n",
       "      <th>496</th>\n",
       "      <td>tt7097896</td>\n",
       "      <td>2021-10-25</td>\n",
       "      <td>2.0</td>\n",
       "      <td>NaN</td>\n",
       "    </tr>\n",
       "    <tr>\n",
       "      <th>497</th>\n",
       "      <td>tt10288566</td>\n",
       "      <td>2021-10-24</td>\n",
       "      <td>4.0</td>\n",
       "      <td>NaN</td>\n",
       "    </tr>\n",
       "  </tbody>\n",
       "</table>\n",
       "<p>89 rows × 4 columns</p>\n",
       "</div>"
      ],
      "text/plain": [
       "         tconst       date  enjoyment_score quality_score\n",
       "409   tt0160009 2024-01-09              1.5           NaN\n",
       "410   tt1340138 2024-01-08              0.0           NaN\n",
       "411   tt6718170 2024-01-01              2.0           NaN\n",
       "412  tt12261776 2023-12-31              2.0           NaN\n",
       "413  tt19883634 2023-12-27              1.0           NaN\n",
       "..          ...        ...              ...           ...\n",
       "493  tt11214590 2021-12-15              3.0           NaN\n",
       "494   tt8847712 2021-12-03              NaN           NaN\n",
       "495  tt11003218 2021-11-25              3.0           NaN\n",
       "496   tt7097896 2021-10-25              2.0           NaN\n",
       "497  tt10288566 2021-10-24              4.0           NaN\n",
       "\n",
       "[89 rows x 4 columns]"
      ]
     },
     "execution_count": 46,
     "metadata": {},
     "output_type": "execute_result"
    }
   ],
   "source": [
    "datums = data[pd.notnull(data[\"date\"])]\n",
    "datums.loc[:,\"date\"] = datums[\"date\"].dt.date\n",
    "datums"
   ]
  },
  {
   "cell_type": "code",
   "execution_count": 58,
   "metadata": {},
   "outputs": [],
   "source": [
    "data[pd.notnull(data[\"enjoyment_score\"]) | pd.notnull(data[\"date\"])].sort_values(\"date\", ascending=False).reset_index(drop=True).to_csv(\"date_scores.csv\", index=False)"
   ]
  }
 ],
 "metadata": {
  "kernelspec": {
   "display_name": ".venv",
   "language": "python",
   "name": "python3"
  },
  "language_info": {
   "codemirror_mode": {
    "name": "ipython",
    "version": 3
   },
   "file_extension": ".py",
   "mimetype": "text/x-python",
   "name": "python",
   "nbconvert_exporter": "python",
   "pygments_lexer": "ipython3",
   "version": "3.12.9"
  }
 },
 "nbformat": 4,
 "nbformat_minor": 2
}
